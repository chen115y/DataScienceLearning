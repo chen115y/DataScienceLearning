{
 "cells": [
  {
   "cell_type": "markdown",
   "metadata": {},
   "source": [
    "# Introduction"
   ]
  },
  {
   "cell_type": "markdown",
   "metadata": {},
   "source": [
    "In this section, I will demonstrate how to use association rule mining to produce some useful information from some transactional data set."
   ]
  },
  {
   "cell_type": "markdown",
   "metadata": {},
   "source": [
    "## Business objectives\n",
    "One interesting business problem is to find any associated jobs that people are willing to take. \n",
    "\n",
    "Association rule mining (ARM) is a technique used to discover relationships among a large set of variables in a data set. It has been applied to a variety of industry settings and disciplines."
   ]
  },
  {
   "cell_type": "markdown",
   "metadata": {},
   "source": [
    "## Setup evaluation metrics\n",
    "Setup measure so that the model can use to testify the association rule:"
   ]
  },
  {
   "cell_type": "markdown",
   "metadata": {},
   "source": [
    "![ar_formula](./ar_formula.png)"
   ]
  },
  {
   "cell_type": "markdown",
   "metadata": {},
   "source": [
    "# Experimental Environment Setup"
   ]
  },
  {
   "cell_type": "markdown",
   "metadata": {},
   "source": [
    "## Common Configuration"
   ]
  },
  {
   "cell_type": "code",
   "execution_count": 1,
   "metadata": {
    "ExecuteTime": {
     "end_time": "2020-04-02T00:28:05.357505Z",
     "start_time": "2020-04-02T00:28:03.685731Z"
    }
   },
   "outputs": [],
   "source": [
    "# Python ≥3.5 is required\n",
    "import sys\n",
    "assert sys.version_info >= (3, 5)\n",
    "\n",
    "# Scikit-Learn ≥0.20 is required\n",
    "import sklearn\n",
    "assert sklearn.__version__ >= \"0.20\"\n",
    "\n",
    "# Common imports\n",
    "import numpy as np\n",
    "import os\n",
    "# Make the random numbers predictable\n",
    "np.random.seed(42)\n",
    "import multiprocessing\n",
    "cpu_count = multiprocessing.cpu_count()\n",
    "\n",
    "# To plot pretty figures\n",
    "%matplotlib inline\n",
    "import matplotlib as mpl\n",
    "import matplotlib.pyplot as plt\n",
    "import seaborn as sns\n",
    "mpl.rc('axes', labelsize=14)\n",
    "mpl.rc('xtick', labelsize=12)\n",
    "mpl.rc('ytick', labelsize=12)\n",
    "\n",
    "# Set up some constant values about root directory and where to save the figures\n",
    "PROJECT_ROOT_DIR = \".\"\n",
    "IMAGES_PATH = os.path.join(PROJECT_ROOT_DIR, \"images\")\n",
    "os.makedirs(IMAGES_PATH, exist_ok=True)\n",
    "\n",
    "# define a common-used fuction to save a plot figure\n",
    "def save_fig(fig_id, tight_layout=True, fig_extension=\"png\", resolution=300):\n",
    "    path = os.path.join(IMAGES_PATH, fig_id + \".\" + fig_extension)\n",
    "    print(\"Saving figure\", fig_id)\n",
    "    if tight_layout:\n",
    "        plt.tight_layout()\n",
    "    plt.savefig(path, format=fig_extension, dpi=resolution)\n",
    "\n",
    "# only logging error information\n",
    "import logging\n",
    "logging.getLogger().setLevel(logging.ERROR)\n",
    "# disable warning message show-ip\n",
    "import warnings\n",
    "warnings.filterwarnings(\"ignore\")\n",
    "\n",
    "# Allow multiple output/display from one cell\n",
    "from IPython.core.interactiveshell import InteractiveShell\n",
    "InteractiveShell.ast_node_interactivity = \"all\""
   ]
  },
  {
   "cell_type": "markdown",
   "metadata": {},
   "source": [
    "## Python Library Import"
   ]
  },
  {
   "cell_type": "code",
   "execution_count": 2,
   "metadata": {
    "ExecuteTime": {
     "end_time": "2020-04-02T00:28:06.221208Z",
     "start_time": "2020-04-02T00:28:05.360505Z"
    }
   },
   "outputs": [],
   "source": [
    "import numpy as np\n",
    "import matplotlib.pyplot as plt\n",
    "import pandas as pd\n",
    "import pandas_profiling"
   ]
  },
  {
   "cell_type": "markdown",
   "metadata": {},
   "source": [
    "# Collecting the Data"
   ]
  },
  {
   "cell_type": "markdown",
   "metadata": {},
   "source": [
    "## Load the data"
   ]
  },
  {
   "cell_type": "code",
   "execution_count": 3,
   "metadata": {
    "ExecuteTime": {
     "end_time": "2020-04-02T00:28:06.253794Z",
     "start_time": "2020-04-02T00:28:06.221208Z"
    }
   },
   "outputs": [
    {
     "name": "stdout",
     "output_type": "stream",
     "text": [
      "<class 'pandas.core.frame.DataFrame'>\n",
      "RangeIndex: 39 entries, 0 to 38\n",
      "Data columns (total 2 columns):\n",
      "job1    39 non-null object\n",
      "job2    39 non-null object\n",
      "dtypes: object(2)\n",
      "memory usage: 752.0+ bytes\n"
     ]
    },
    {
     "data": {
      "text/html": [
       "<div>\n",
       "<style scoped>\n",
       "    .dataframe tbody tr th:only-of-type {\n",
       "        vertical-align: middle;\n",
       "    }\n",
       "\n",
       "    .dataframe tbody tr th {\n",
       "        vertical-align: top;\n",
       "    }\n",
       "\n",
       "    .dataframe thead th {\n",
       "        text-align: right;\n",
       "    }\n",
       "</style>\n",
       "<table border=\"1\" class=\"dataframe\">\n",
       "  <thead>\n",
       "    <tr style=\"text-align: right;\">\n",
       "      <th></th>\n",
       "      <th>job1</th>\n",
       "      <th>job2</th>\n",
       "    </tr>\n",
       "  </thead>\n",
       "  <tbody>\n",
       "    <tr>\n",
       "      <th>0</th>\n",
       "      <td>15-230 PC Technician</td>\n",
       "      <td>47-120 Electrician</td>\n",
       "    </tr>\n",
       "    <tr>\n",
       "      <th>1</th>\n",
       "      <td>15-230 PC Technician</td>\n",
       "      <td>19-140 Field Technician</td>\n",
       "    </tr>\n",
       "    <tr>\n",
       "      <th>2</th>\n",
       "      <td>18-300 Maintenance Tech/Mechanic</td>\n",
       "      <td>51-100 General Laborer/Production</td>\n",
       "    </tr>\n",
       "    <tr>\n",
       "      <th>3</th>\n",
       "      <td>18-560 Electronics Technician</td>\n",
       "      <td>51-140 Assembler - Light</td>\n",
       "    </tr>\n",
       "    <tr>\n",
       "      <th>4</th>\n",
       "      <td>18-560 Electronics Technician</td>\n",
       "      <td>51-210 Forklift/Heavy Machine Operator</td>\n",
       "    </tr>\n",
       "  </tbody>\n",
       "</table>\n",
       "</div>"
      ],
      "text/plain": [
       "                               job1                                    job2\n",
       "0              15-230 PC Technician                      47-120 Electrician\n",
       "1              15-230 PC Technician                 19-140 Field Technician\n",
       "2  18-300 Maintenance Tech/Mechanic       51-100 General Laborer/Production\n",
       "3     18-560 Electronics Technician                51-140 Assembler - Light\n",
       "4     18-560 Electronics Technician  51-210 Forklift/Heavy Machine Operator"
      ]
     },
     "execution_count": 3,
     "metadata": {},
     "output_type": "execute_result"
    }
   ],
   "source": [
    "df = pd.read_csv('dummy2.csv', header=\"infer\")   \n",
    "df.info()\n",
    "df.head()"
   ]
  },
  {
   "cell_type": "markdown",
   "metadata": {},
   "source": [
    "## Convert the records to list"
   ]
  },
  {
   "cell_type": "code",
   "execution_count": 4,
   "metadata": {
    "ExecuteTime": {
     "end_time": "2020-04-02T00:28:06.264794Z",
     "start_time": "2020-04-02T00:28:06.256795Z"
    }
   },
   "outputs": [],
   "source": [
    "#convert the records to list\n",
    "records = []\n",
    "for i in range(0,len(df)-1):\n",
    "    records.append([str(df.values[i,j]) for j in range(0,2)])"
   ]
  },
  {
   "cell_type": "code",
   "execution_count": 5,
   "metadata": {
    "ExecuteTime": {
     "end_time": "2020-04-02T00:28:06.275796Z",
     "start_time": "2020-04-02T00:28:06.267794Z"
    }
   },
   "outputs": [
    {
     "data": {
      "text/plain": [
       "[['15-230 PC Technician', '47-120 Electrician'],\n",
       " ['15-230 PC Technician', '19-140 Field Technician'],\n",
       " ['18-300 Maintenance Tech/Mechanic', '51-100 General Laborer/Production'],\n",
       " ['18-560 Electronics Technician', '51-140 Assembler - Light'],\n",
       " ['18-560 Electronics Technician', '51-210 Forklift/Heavy Machine Operator'],\n",
       " ['19-140 Field Technician', '47-120 Electrician'],\n",
       " ['19-140 Field Technician', '51-210 Forklift/Heavy Machine Operator'],\n",
       " ['47-120 Electrician', '19-140 Field Technician'],\n",
       " ['47-150 Drywall Finisher/Carpenter', '51-100 General Laborer/Production'],\n",
       " ['47-150 Drywall Finisher/Carpenter', '51-200 Machine Operator'],\n",
       " ['47-150 Drywall Finisher/Carpenter', '51-130 Material Handler/Packer'],\n",
       " ['51-100 General Laborer/Production', '51-200 Machine Operator'],\n",
       " ['51-100 General Laborer/Production', '51-130 Material Handler/Packer'],\n",
       " ['51-100 General Laborer/Production', '51-300 Machinist'],\n",
       " ['51-100 General Laborer/Production', '51-240 QA Technician/Inspector'],\n",
       " ['51-100 General Laborer/Production', '51-120 Warehouse Worker'],\n",
       " ['51-100 General Laborer/Production', '51-250 Shipping/Receiving Clerk'],\n",
       " ['51-100 General Laborer/Production', '51-140 Assembler - Light'],\n",
       " ['51-120 Warehouse Worker', '51-130 Material Handler/Packer'],\n",
       " ['51-120 Warehouse Worker', '51-100 General Laborer/Production'],\n",
       " ['51-120 Warehouse Worker', '51-140 Assembler - Light'],\n",
       " ['51-120 Warehouse Worker', '51-340 Painter-Industrial'],\n",
       " ['51-130 Material Handler/Packer', '19-140 Field Technician'],\n",
       " ['51-130 Material Handler/Packer', '51-210 Forklift/Heavy Machine Operator'],\n",
       " ['51-130 Material Handler/Packer', '51-120 Warehouse Worker'],\n",
       " ['51-140 Assembler - Light', '51-210 Forklift/Heavy Machine Operator'],\n",
       " ['51-140 Assembler - Light', '51-100 General Laborer/Production'],\n",
       " ['51-140 Assembler - Light', '51-130 Material Handler/Packer'],\n",
       " ['51-140 Assembler - Light', '18-300 Maintenance Tech/Mechanic'],\n",
       " ['51-140 Assembler - Light', '51-120 Warehouse Worker'],\n",
       " ['51-140 Assembler - Light', '51-340 Painter-Industrial'],\n",
       " ['51-200 Machine Operator', '51-100 General Laborer/Production'],\n",
       " ['51-200 Machine Operator', '51-130 Material Handler/Packer'],\n",
       " ['51-220 Janitor', '51-130 Material Handler/Packer'],\n",
       " ['51-220 Janitor', '51-120 Warehouse Worker'],\n",
       " ['51-250 Shipping/Receiving Clerk', '51-130 Material Handler/Packer'],\n",
       " ['51-300 Machinist', '51-240 QA Technician/Inspector'],\n",
       " ['51-300 Machinist', '51-120 Warehouse Worker']]"
      ]
     },
     "execution_count": 5,
     "metadata": {},
     "output_type": "execute_result"
    }
   ],
   "source": [
    "records"
   ]
  },
  {
   "cell_type": "markdown",
   "metadata": {},
   "source": [
    "# Association Rule Mining - apyori"
   ]
  },
  {
   "cell_type": "code",
   "execution_count": 6,
   "metadata": {
    "ExecuteTime": {
     "end_time": "2020-04-02T00:28:06.283797Z",
     "start_time": "2020-04-02T00:28:06.277794Z"
    }
   },
   "outputs": [],
   "source": [
    "# use a small python package for apriori algorithm\n",
    "from apyori import apriori"
   ]
  },
  {
   "cell_type": "code",
   "execution_count": 7,
   "metadata": {
    "ExecuteTime": {
     "end_time": "2020-04-02T00:28:06.294796Z",
     "start_time": "2020-04-02T00:28:06.286795Z"
    },
    "scrolled": false
   },
   "outputs": [],
   "source": [
    "def display_rules(association_results):\n",
    "    for item in association_results:\n",
    "        # first index of the inner list\n",
    "        # Contains base item and add item\n",
    "        item_sets = item[0] \n",
    "        items = [x for x in item_sets]\n",
    "        if len(items) > 1:\n",
    "            # filter out any NaN items\n",
    "            if (str(items[0]).lower()!= 'nan') and (str(items[1]).lower()!= 'nan'):\n",
    "                print(\"Rule: \" + items[0] + \" -> \" + items[1])\n",
    "\n",
    "                #second index of the inner list\n",
    "                print(\"Support: \" + str(item[1]))\n",
    "\n",
    "                #third index of the list located at 0th\n",
    "                #of the third index of the inner list\n",
    "\n",
    "                print(\"Confidence: \" + str(item[2][0][2]))\n",
    "                print(\"Lift: \" + str(item[2][0][3]))\n",
    "                print(\"=====================================\")"
   ]
  },
  {
   "cell_type": "code",
   "execution_count": 8,
   "metadata": {
    "ExecuteTime": {
     "end_time": "2020-04-02T00:28:06.304800Z",
     "start_time": "2020-04-02T00:28:06.297795Z"
    }
   },
   "outputs": [],
   "source": [
    "association_rules = apriori(records, min_support=0.005, min_confidence=0.25, max_length=2)\n",
    "# find all two-item rules\n",
    "association_results = [x for x in list(association_rules) if len(x[0]) > 1]"
   ]
  },
  {
   "cell_type": "code",
   "execution_count": 9,
   "metadata": {
    "ExecuteTime": {
     "end_time": "2020-04-02T00:28:06.313798Z",
     "start_time": "2020-04-02T00:28:06.307798Z"
    }
   },
   "outputs": [
    {
     "name": "stdout",
     "output_type": "stream",
     "text": [
      "25\n"
     ]
    }
   ],
   "source": [
    "print(len(association_results))"
   ]
  },
  {
   "cell_type": "code",
   "execution_count": 10,
   "metadata": {
    "ExecuteTime": {
     "end_time": "2020-04-02T00:28:06.322799Z",
     "start_time": "2020-04-02T00:28:06.316798Z"
    }
   },
   "outputs": [
    {
     "name": "stdout",
     "output_type": "stream",
     "text": [
      "RelationRecord(items=frozenset({'19-140 Field Technician', '15-230 PC Technician'}), support=0.02631578947368421, ordered_statistics=[OrderedStatistic(items_base=frozenset({'15-230 PC Technician'}), items_add=frozenset({'19-140 Field Technician'}), confidence=0.5, lift=3.8000000000000003)])\n"
     ]
    }
   ],
   "source": [
    "print(association_results[0])"
   ]
  },
  {
   "cell_type": "code",
   "execution_count": 11,
   "metadata": {
    "ExecuteTime": {
     "end_time": "2020-04-02T00:28:06.333798Z",
     "start_time": "2020-04-02T00:28:06.325799Z"
    }
   },
   "outputs": [
    {
     "name": "stdout",
     "output_type": "stream",
     "text": [
      "Rule: 19-140 Field Technician -> 15-230 PC Technician\n",
      "Support: 0.02631578947368421\n",
      "Confidence: 0.5\n",
      "Lift: 3.8000000000000003\n",
      "=====================================\n",
      "Rule: 47-120 Electrician -> 15-230 PC Technician\n",
      "Support: 0.02631578947368421\n",
      "Confidence: 0.5\n",
      "Lift: 6.333333333333334\n",
      "=====================================\n",
      "Rule: 51-100 General Laborer/Production -> 18-300 Maintenance Tech/Mechanic\n",
      "Support: 0.02631578947368421\n",
      "Confidence: 0.5\n",
      "Lift: 1.5833333333333335\n",
      "=====================================\n",
      "Rule: 51-140 Assembler - Light -> 18-300 Maintenance Tech/Mechanic\n",
      "Support: 0.02631578947368421\n",
      "Confidence: 0.5\n",
      "Lift: 2.111111111111111\n",
      "=====================================\n",
      "Rule: 51-140 Assembler - Light -> 18-560 Electronics Technician\n",
      "Support: 0.02631578947368421\n",
      "Confidence: 0.5\n",
      "Lift: 2.111111111111111\n",
      "=====================================\n",
      "Rule: 51-210 Forklift/Heavy Machine Operator -> 18-560 Electronics Technician\n",
      "Support: 0.02631578947368421\n",
      "Confidence: 0.5\n",
      "Lift: 4.75\n",
      "=====================================\n",
      "Rule: 47-120 Electrician -> 19-140 Field Technician\n",
      "Support: 0.05263157894736842\n",
      "Confidence: 0.4\n",
      "Lift: 5.066666666666667\n",
      "=====================================\n",
      "Rule: 51-210 Forklift/Heavy Machine Operator -> 19-140 Field Technician\n",
      "Support: 0.02631578947368421\n",
      "Confidence: 0.25\n",
      "Lift: 1.9000000000000001\n",
      "=====================================\n",
      "Rule: 47-150 Drywall Finisher/Carpenter -> 51-100 General Laborer/Production\n",
      "Support: 0.02631578947368421\n",
      "Confidence: 0.3333333333333333\n",
      "Lift: 1.0555555555555556\n",
      "=====================================\n",
      "Rule: 47-150 Drywall Finisher/Carpenter -> 51-130 Material Handler/Packer\n",
      "Support: 0.02631578947368421\n",
      "Confidence: 0.3333333333333333\n",
      "Lift: 1.2666666666666666\n",
      "=====================================\n",
      "Rule: 47-150 Drywall Finisher/Carpenter -> 51-200 Machine Operator\n",
      "Support: 0.02631578947368421\n",
      "Confidence: 0.3333333333333333\n",
      "Lift: 3.1666666666666665\n",
      "=====================================\n",
      "Rule: 51-200 Machine Operator -> 51-100 General Laborer/Production\n",
      "Support: 0.05263157894736842\n",
      "Confidence: 0.5\n",
      "Lift: 1.5833333333333335\n",
      "=====================================\n",
      "Rule: 51-240 QA Technician/Inspector -> 51-100 General Laborer/Production\n",
      "Support: 0.02631578947368421\n",
      "Confidence: 0.5\n",
      "Lift: 1.5833333333333335\n",
      "=====================================\n",
      "Rule: 51-100 General Laborer/Production -> 51-250 Shipping/Receiving Clerk\n",
      "Support: 0.02631578947368421\n",
      "Confidence: 0.5\n",
      "Lift: 1.5833333333333335\n",
      "=====================================\n",
      "Rule: 51-300 Machinist -> 51-100 General Laborer/Production\n",
      "Support: 0.02631578947368421\n",
      "Confidence: 0.3333333333333333\n",
      "Lift: 1.0555555555555556\n",
      "=====================================\n",
      "Rule: 51-220 Janitor -> 51-120 Warehouse Worker\n",
      "Support: 0.02631578947368421\n",
      "Confidence: 0.5\n",
      "Lift: 2.111111111111111\n",
      "=====================================\n",
      "Rule: 51-300 Machinist -> 51-120 Warehouse Worker\n",
      "Support: 0.02631578947368421\n",
      "Confidence: 0.3333333333333333\n",
      "Lift: 1.4074074074074074\n",
      "=====================================\n",
      "Rule: 51-120 Warehouse Worker -> 51-340 Painter-Industrial\n",
      "Support: 0.02631578947368421\n",
      "Confidence: 0.5\n",
      "Lift: 2.111111111111111\n",
      "=====================================\n",
      "Rule: 51-200 Machine Operator -> 51-130 Material Handler/Packer\n",
      "Support: 0.02631578947368421\n",
      "Confidence: 0.25\n",
      "Lift: 0.9500000000000001\n",
      "=====================================\n",
      "Rule: 51-210 Forklift/Heavy Machine Operator -> 51-130 Material Handler/Packer\n",
      "Support: 0.02631578947368421\n",
      "Confidence: 0.25\n",
      "Lift: 0.9500000000000001\n",
      "=====================================\n",
      "Rule: 51-220 Janitor -> 51-130 Material Handler/Packer\n",
      "Support: 0.02631578947368421\n",
      "Confidence: 0.5\n",
      "Lift: 1.9000000000000001\n",
      "=====================================\n",
      "Rule: 51-250 Shipping/Receiving Clerk -> 51-130 Material Handler/Packer\n",
      "Support: 0.02631578947368421\n",
      "Confidence: 0.5\n",
      "Lift: 1.9000000000000001\n",
      "=====================================\n",
      "Rule: 51-140 Assembler - Light -> 51-210 Forklift/Heavy Machine Operator\n",
      "Support: 0.02631578947368421\n",
      "Confidence: 0.25\n",
      "Lift: 1.0555555555555556\n",
      "=====================================\n",
      "Rule: 51-140 Assembler - Light -> 51-340 Painter-Industrial\n",
      "Support: 0.02631578947368421\n",
      "Confidence: 0.5\n",
      "Lift: 2.111111111111111\n",
      "=====================================\n",
      "Rule: 51-240 QA Technician/Inspector -> 51-300 Machinist\n",
      "Support: 0.02631578947368421\n",
      "Confidence: 0.5\n",
      "Lift: 6.333333333333334\n",
      "=====================================\n"
     ]
    }
   ],
   "source": [
    "display_rules(association_results)"
   ]
  },
  {
   "cell_type": "code",
   "execution_count": 12,
   "metadata": {
    "ExecuteTime": {
     "end_time": "2020-04-02T00:28:06.340799Z",
     "start_time": "2020-04-02T00:28:06.335799Z"
    }
   },
   "outputs": [],
   "source": [
    "# increase min support threshold so that the rule searching/mining can be faster and produce less rule results\n",
    "association_rules = apriori(records, min_support=0.05, min_confidence=0.25,max_length=2)\n",
    "# find all two-item rules\n",
    "association_results = [x for x in list(association_rules) if len(x[0]) > 1]"
   ]
  },
  {
   "cell_type": "code",
   "execution_count": 13,
   "metadata": {
    "ExecuteTime": {
     "end_time": "2020-04-02T00:28:06.350801Z",
     "start_time": "2020-04-02T00:28:06.343800Z"
    }
   },
   "outputs": [
    {
     "name": "stdout",
     "output_type": "stream",
     "text": [
      "2\n"
     ]
    }
   ],
   "source": [
    "print(len(association_results))"
   ]
  },
  {
   "cell_type": "code",
   "execution_count": 14,
   "metadata": {
    "ExecuteTime": {
     "end_time": "2020-04-02T00:28:06.358802Z",
     "start_time": "2020-04-02T00:28:06.352800Z"
    }
   },
   "outputs": [
    {
     "name": "stdout",
     "output_type": "stream",
     "text": [
      "Rule: 47-120 Electrician -> 19-140 Field Technician\n",
      "Support: 0.05263157894736842\n",
      "Confidence: 0.4\n",
      "Lift: 5.066666666666667\n",
      "=====================================\n",
      "Rule: 51-200 Machine Operator -> 51-100 General Laborer/Production\n",
      "Support: 0.05263157894736842\n",
      "Confidence: 0.5\n",
      "Lift: 1.5833333333333335\n",
      "=====================================\n"
     ]
    }
   ],
   "source": [
    "display_rules(association_results)"
   ]
  },
  {
   "cell_type": "code",
   "execution_count": 15,
   "metadata": {
    "ExecuteTime": {
     "end_time": "2020-04-02T00:28:06.366802Z",
     "start_time": "2020-04-02T00:28:06.361800Z"
    }
   },
   "outputs": [],
   "source": [
    "# increase min support threshold so that the rule searching/mining can be faster and produce less rule results\n",
    "association_rules = apriori(records, min_support=0.005, min_confidence=0.5,min_lift=3, max_length=2)\n",
    "# find all two-item rules\n",
    "association_results = [x for x in list(association_rules) if len(x[0]) > 1]"
   ]
  },
  {
   "cell_type": "code",
   "execution_count": 16,
   "metadata": {
    "ExecuteTime": {
     "end_time": "2020-04-02T00:28:06.375803Z",
     "start_time": "2020-04-02T00:28:06.368802Z"
    }
   },
   "outputs": [
    {
     "name": "stdout",
     "output_type": "stream",
     "text": [
      "5\n"
     ]
    }
   ],
   "source": [
    "print(len(association_results))"
   ]
  },
  {
   "cell_type": "code",
   "execution_count": 17,
   "metadata": {
    "ExecuteTime": {
     "end_time": "2020-04-02T00:28:06.383804Z",
     "start_time": "2020-04-02T00:28:06.377804Z"
    }
   },
   "outputs": [
    {
     "name": "stdout",
     "output_type": "stream",
     "text": [
      "Rule: 19-140 Field Technician -> 15-230 PC Technician\n",
      "Support: 0.02631578947368421\n",
      "Confidence: 0.5\n",
      "Lift: 3.8000000000000003\n",
      "=====================================\n",
      "Rule: 47-120 Electrician -> 15-230 PC Technician\n",
      "Support: 0.02631578947368421\n",
      "Confidence: 0.5\n",
      "Lift: 6.333333333333334\n",
      "=====================================\n",
      "Rule: 51-210 Forklift/Heavy Machine Operator -> 18-560 Electronics Technician\n",
      "Support: 0.02631578947368421\n",
      "Confidence: 0.5\n",
      "Lift: 4.75\n",
      "=====================================\n",
      "Rule: 47-120 Electrician -> 19-140 Field Technician\n",
      "Support: 0.05263157894736842\n",
      "Confidence: 0.6666666666666666\n",
      "Lift: 5.066666666666666\n",
      "=====================================\n",
      "Rule: 51-240 QA Technician/Inspector -> 51-300 Machinist\n",
      "Support: 0.02631578947368421\n",
      "Confidence: 0.5\n",
      "Lift: 6.333333333333334\n",
      "=====================================\n"
     ]
    }
   ],
   "source": [
    "display_rules(association_results)"
   ]
  }
 ],
 "metadata": {
  "kernelspec": {
   "display_name": "Python 3",
   "language": "python",
   "name": "python3"
  },
  "language_info": {
   "codemirror_mode": {
    "name": "ipython",
    "version": 3
   },
   "file_extension": ".py",
   "mimetype": "text/x-python",
   "name": "python",
   "nbconvert_exporter": "python",
   "pygments_lexer": "ipython3",
   "version": "3.7.6"
  },
  "toc": {
   "base_numbering": 1,
   "nav_menu": {},
   "number_sections": true,
   "sideBar": true,
   "skip_h1_title": false,
   "title_cell": "Table of Contents",
   "title_sidebar": "Contents",
   "toc_cell": false,
   "toc_position": {},
   "toc_section_display": true,
   "toc_window_display": true
  }
 },
 "nbformat": 4,
 "nbformat_minor": 2
}
