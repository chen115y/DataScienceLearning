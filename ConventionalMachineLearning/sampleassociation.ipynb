{
 "cells": [
  {
   "cell_type": "code",
   "execution_count": 9,
   "metadata": {},
   "outputs": [],
   "source": [
    "import numpy as np\n",
    "import matplotlib.pyplot as plt\n",
    "import pandas as pd\n",
    "from apyori import apriori"
   ]
  },
  {
   "cell_type": "code",
   "execution_count": 10,
   "metadata": {},
   "outputs": [
    {
     "data": {
      "text/html": [
       "<div>\n",
       "<style scoped>\n",
       "    .dataframe tbody tr th:only-of-type {\n",
       "        vertical-align: middle;\n",
       "    }\n",
       "\n",
       "    .dataframe tbody tr th {\n",
       "        vertical-align: top;\n",
       "    }\n",
       "\n",
       "    .dataframe thead th {\n",
       "        text-align: right;\n",
       "    }\n",
       "</style>\n",
       "<table border=\"1\" class=\"dataframe\">\n",
       "  <thead>\n",
       "    <tr style=\"text-align: right;\">\n",
       "      <th></th>\n",
       "      <th>0</th>\n",
       "      <th>1</th>\n",
       "      <th>2</th>\n",
       "      <th>3</th>\n",
       "      <th>4</th>\n",
       "    </tr>\n",
       "  </thead>\n",
       "  <tbody>\n",
       "    <tr>\n",
       "      <th>0</th>\n",
       "      <td>hcs1</td>\n",
       "      <td>hcs2</td>\n",
       "      <td>hcs3</td>\n",
       "      <td>hcs4</td>\n",
       "      <td>hcs5</td>\n",
       "    </tr>\n",
       "    <tr>\n",
       "      <th>1</th>\n",
       "      <td>51-100 General Laborer/Production</td>\n",
       "      <td>51-300 Machinist</td>\n",
       "      <td>51-240 QA Technician/Inspector</td>\n",
       "      <td>NaN</td>\n",
       "      <td>NaN</td>\n",
       "    </tr>\n",
       "    <tr>\n",
       "      <th>2</th>\n",
       "      <td>15-230 PC Technician</td>\n",
       "      <td>47-120 Electrician</td>\n",
       "      <td>19-140 Field Technician</td>\n",
       "      <td>19-140 Field Technician</td>\n",
       "      <td>47-120 Electrician</td>\n",
       "    </tr>\n",
       "    <tr>\n",
       "      <th>3</th>\n",
       "      <td>51-140 Assembler - Light</td>\n",
       "      <td>51-100 General Laborer/Production</td>\n",
       "      <td>51-130 Material Handler/Packer</td>\n",
       "      <td>NaN</td>\n",
       "      <td>NaN</td>\n",
       "    </tr>\n",
       "    <tr>\n",
       "      <th>4</th>\n",
       "      <td>51-140 Assembler - Light</td>\n",
       "      <td>18-300 Maintenance Tech/Mechanic</td>\n",
       "      <td>51-100 General Laborer/Production</td>\n",
       "      <td>NaN</td>\n",
       "      <td>NaN</td>\n",
       "    </tr>\n",
       "  </tbody>\n",
       "</table>\n",
       "</div>"
      ],
      "text/plain": [
       "                                   0                                  1  \\\n",
       "0                               hcs1                               hcs2   \n",
       "1  51-100 General Laborer/Production                   51-300 Machinist   \n",
       "2               15-230 PC Technician                 47-120 Electrician   \n",
       "3           51-140 Assembler - Light  51-100 General Laborer/Production   \n",
       "4           51-140 Assembler - Light   18-300 Maintenance Tech/Mechanic   \n",
       "\n",
       "                                   2                        3  \\\n",
       "0                               hcs3                     hcs4   \n",
       "1     51-240 QA Technician/Inspector                      NaN   \n",
       "2            19-140 Field Technician  19-140 Field Technician   \n",
       "3     51-130 Material Handler/Packer                      NaN   \n",
       "4  51-100 General Laborer/Production                      NaN   \n",
       "\n",
       "                    4  \n",
       "0                hcs5  \n",
       "1                 NaN  \n",
       "2  47-120 Electrician  \n",
       "3                 NaN  \n",
       "4                 NaN  "
      ]
     },
     "execution_count": 10,
     "metadata": {},
     "output_type": "execute_result"
    }
   ],
   "source": [
    "aa = pd.read_csv('dummy.csv', header=None)   \n",
    "aa.head()"
   ]
  },
  {
   "cell_type": "code",
   "execution_count": 11,
   "metadata": {},
   "outputs": [
    {
     "data": {
      "text/html": [
       "<div>\n",
       "<style scoped>\n",
       "    .dataframe tbody tr th:only-of-type {\n",
       "        vertical-align: middle;\n",
       "    }\n",
       "\n",
       "    .dataframe tbody tr th {\n",
       "        vertical-align: top;\n",
       "    }\n",
       "\n",
       "    .dataframe thead th {\n",
       "        text-align: right;\n",
       "    }\n",
       "</style>\n",
       "<table border=\"1\" class=\"dataframe\">\n",
       "  <thead>\n",
       "    <tr style=\"text-align: right;\">\n",
       "      <th></th>\n",
       "      <th>0</th>\n",
       "      <th>1</th>\n",
       "      <th>2</th>\n",
       "      <th>3</th>\n",
       "      <th>4</th>\n",
       "    </tr>\n",
       "  </thead>\n",
       "  <tbody>\n",
       "    <tr>\n",
       "      <th>0</th>\n",
       "      <td>hcs1</td>\n",
       "      <td>hcs2</td>\n",
       "      <td>hcs3</td>\n",
       "      <td>hcs4</td>\n",
       "      <td>hcs5</td>\n",
       "    </tr>\n",
       "    <tr>\n",
       "      <th>1</th>\n",
       "      <td>51-100 General Laborer/Production</td>\n",
       "      <td>51-300 Machinist</td>\n",
       "      <td>51-240 QA Technician/Inspector</td>\n",
       "      <td>NaN</td>\n",
       "      <td>NaN</td>\n",
       "    </tr>\n",
       "    <tr>\n",
       "      <th>2</th>\n",
       "      <td>15-230 PC Technician</td>\n",
       "      <td>47-120 Electrician</td>\n",
       "      <td>19-140 Field Technician</td>\n",
       "      <td>19-140 Field Technician</td>\n",
       "      <td>47-120 Electrician</td>\n",
       "    </tr>\n",
       "    <tr>\n",
       "      <th>3</th>\n",
       "      <td>51-140 Assembler - Light</td>\n",
       "      <td>51-100 General Laborer/Production</td>\n",
       "      <td>51-130 Material Handler/Packer</td>\n",
       "      <td>NaN</td>\n",
       "      <td>NaN</td>\n",
       "    </tr>\n",
       "    <tr>\n",
       "      <th>4</th>\n",
       "      <td>51-140 Assembler - Light</td>\n",
       "      <td>18-300 Maintenance Tech/Mechanic</td>\n",
       "      <td>51-100 General Laborer/Production</td>\n",
       "      <td>NaN</td>\n",
       "      <td>NaN</td>\n",
       "    </tr>\n",
       "    <tr>\n",
       "      <th>5</th>\n",
       "      <td>47-150 Drywall Finisher/Carpenter</td>\n",
       "      <td>51-100 General Laborer/Production</td>\n",
       "      <td>51-200 Machine Operator</td>\n",
       "      <td>51-100 General Laborer/Production</td>\n",
       "      <td>51-130 Material Handler/Packer</td>\n",
       "    </tr>\n",
       "    <tr>\n",
       "      <th>6</th>\n",
       "      <td>51-120 Warehouse Worker</td>\n",
       "      <td>51-100 General Laborer/Production</td>\n",
       "      <td>51-140 Assembler - Light</td>\n",
       "      <td>NaN</td>\n",
       "      <td>NaN</td>\n",
       "    </tr>\n",
       "    <tr>\n",
       "      <th>7</th>\n",
       "      <td>18-560 Electronics Technician</td>\n",
       "      <td>51-140 Assembler - Light</td>\n",
       "      <td>51-210 Forklift/Heavy Machine Operator</td>\n",
       "      <td>NaN</td>\n",
       "      <td>NaN</td>\n",
       "    </tr>\n",
       "    <tr>\n",
       "      <th>8</th>\n",
       "      <td>51-130 Material Handler/Packer</td>\n",
       "      <td>51-130 Material Handler/Packer</td>\n",
       "      <td>19-140 Field Technician</td>\n",
       "      <td>51-210 Forklift/Heavy Machine Operator</td>\n",
       "      <td>NaN</td>\n",
       "    </tr>\n",
       "    <tr>\n",
       "      <th>9</th>\n",
       "      <td>51-220 Janitor</td>\n",
       "      <td>51-130 Material Handler/Packer</td>\n",
       "      <td>51-120 Warehouse Worker</td>\n",
       "      <td>NaN</td>\n",
       "      <td>NaN</td>\n",
       "    </tr>\n",
       "    <tr>\n",
       "      <th>10</th>\n",
       "      <td>51-100 General Laborer/Production</td>\n",
       "      <td>51-120 Warehouse Worker</td>\n",
       "      <td>51-130 Material Handler/Packer</td>\n",
       "      <td>NaN</td>\n",
       "      <td>NaN</td>\n",
       "    </tr>\n",
       "    <tr>\n",
       "      <th>11</th>\n",
       "      <td>51-100 General Laborer/Production</td>\n",
       "      <td>51-250 Shipping/Receiving Clerk</td>\n",
       "      <td>51-250 Shipping/Receiving Clerk</td>\n",
       "      <td>51-130 Material Handler/Packer</td>\n",
       "      <td>NaN</td>\n",
       "    </tr>\n",
       "    <tr>\n",
       "      <th>12</th>\n",
       "      <td>51-300 Machinist</td>\n",
       "      <td>51-120 Warehouse Worker</td>\n",
       "      <td>51-120 Warehouse Worker</td>\n",
       "      <td>51-100 General Laborer/Production</td>\n",
       "      <td>NaN</td>\n",
       "    </tr>\n",
       "    <tr>\n",
       "      <th>13</th>\n",
       "      <td>51-140 Assembler - Light</td>\n",
       "      <td>51-120 Warehouse Worker</td>\n",
       "      <td>51-340 Painter-Industrial</td>\n",
       "      <td>NaN</td>\n",
       "      <td>NaN</td>\n",
       "    </tr>\n",
       "  </tbody>\n",
       "</table>\n",
       "</div>"
      ],
      "text/plain": [
       "                                    0                                  1  \\\n",
       "0                                hcs1                               hcs2   \n",
       "1   51-100 General Laborer/Production                   51-300 Machinist   \n",
       "2                15-230 PC Technician                 47-120 Electrician   \n",
       "3            51-140 Assembler - Light  51-100 General Laborer/Production   \n",
       "4            51-140 Assembler - Light   18-300 Maintenance Tech/Mechanic   \n",
       "5   47-150 Drywall Finisher/Carpenter  51-100 General Laborer/Production   \n",
       "6             51-120 Warehouse Worker  51-100 General Laborer/Production   \n",
       "7       18-560 Electronics Technician           51-140 Assembler - Light   \n",
       "8      51-130 Material Handler/Packer     51-130 Material Handler/Packer   \n",
       "9                      51-220 Janitor     51-130 Material Handler/Packer   \n",
       "10  51-100 General Laborer/Production            51-120 Warehouse Worker   \n",
       "11  51-100 General Laborer/Production    51-250 Shipping/Receiving Clerk   \n",
       "12                   51-300 Machinist            51-120 Warehouse Worker   \n",
       "13           51-140 Assembler - Light            51-120 Warehouse Worker   \n",
       "\n",
       "                                         2  \\\n",
       "0                                     hcs3   \n",
       "1           51-240 QA Technician/Inspector   \n",
       "2                  19-140 Field Technician   \n",
       "3           51-130 Material Handler/Packer   \n",
       "4        51-100 General Laborer/Production   \n",
       "5                  51-200 Machine Operator   \n",
       "6                 51-140 Assembler - Light   \n",
       "7   51-210 Forklift/Heavy Machine Operator   \n",
       "8                  19-140 Field Technician   \n",
       "9                  51-120 Warehouse Worker   \n",
       "10          51-130 Material Handler/Packer   \n",
       "11         51-250 Shipping/Receiving Clerk   \n",
       "12                 51-120 Warehouse Worker   \n",
       "13               51-340 Painter-Industrial   \n",
       "\n",
       "                                         3                               4  \n",
       "0                                     hcs4                            hcs5  \n",
       "1                                      NaN                             NaN  \n",
       "2                  19-140 Field Technician              47-120 Electrician  \n",
       "3                                      NaN                             NaN  \n",
       "4                                      NaN                             NaN  \n",
       "5        51-100 General Laborer/Production  51-130 Material Handler/Packer  \n",
       "6                                      NaN                             NaN  \n",
       "7                                      NaN                             NaN  \n",
       "8   51-210 Forklift/Heavy Machine Operator                             NaN  \n",
       "9                                      NaN                             NaN  \n",
       "10                                     NaN                             NaN  \n",
       "11          51-130 Material Handler/Packer                             NaN  \n",
       "12       51-100 General Laborer/Production                             NaN  \n",
       "13                                     NaN                             NaN  "
      ]
     },
     "execution_count": 11,
     "metadata": {},
     "output_type": "execute_result"
    }
   ],
   "source": [
    "aa"
   ]
  },
  {
   "cell_type": "code",
   "execution_count": 12,
   "metadata": {},
   "outputs": [],
   "source": [
    "#convert the records to list\n",
    "records = []\n",
    "for i in range(0,13):\n",
    "    records.append([str(aa.values[i,j]) for j in range(0,5)])"
   ]
  },
  {
   "cell_type": "code",
   "execution_count": 13,
   "metadata": {},
   "outputs": [
    {
     "data": {
      "text/plain": [
       "[['hcs1', 'hcs2', 'hcs3', 'hcs4', 'hcs5'],\n",
       " ['51-100 General Laborer/Production',\n",
       "  '51-300 Machinist',\n",
       "  '51-240 QA Technician/Inspector',\n",
       "  'nan',\n",
       "  'nan'],\n",
       " ['15-230 PC Technician',\n",
       "  '47-120 Electrician',\n",
       "  '19-140 Field Technician',\n",
       "  '19-140 Field Technician',\n",
       "  '47-120 Electrician'],\n",
       " ['51-140 Assembler - Light',\n",
       "  '51-100 General Laborer/Production',\n",
       "  '51-130 Material Handler/Packer',\n",
       "  'nan',\n",
       "  'nan'],\n",
       " ['51-140 Assembler - Light',\n",
       "  '18-300 Maintenance Tech/Mechanic',\n",
       "  '51-100 General Laborer/Production',\n",
       "  'nan',\n",
       "  'nan'],\n",
       " ['47-150 Drywall Finisher/Carpenter',\n",
       "  '51-100 General Laborer/Production',\n",
       "  '51-200 Machine Operator',\n",
       "  '51-100 General Laborer/Production',\n",
       "  '51-130 Material Handler/Packer'],\n",
       " ['51-120 Warehouse Worker',\n",
       "  '51-100 General Laborer/Production',\n",
       "  '51-140 Assembler - Light',\n",
       "  'nan',\n",
       "  'nan'],\n",
       " ['18-560 Electronics Technician',\n",
       "  '51-140 Assembler - Light',\n",
       "  '51-210 Forklift/Heavy Machine Operator',\n",
       "  'nan',\n",
       "  'nan'],\n",
       " ['51-130 Material Handler/Packer',\n",
       "  '51-130 Material Handler/Packer',\n",
       "  '19-140 Field Technician',\n",
       "  '51-210 Forklift/Heavy Machine Operator',\n",
       "  'nan'],\n",
       " ['51-220 Janitor',\n",
       "  '51-130 Material Handler/Packer',\n",
       "  '51-120 Warehouse Worker',\n",
       "  'nan',\n",
       "  'nan'],\n",
       " ['51-100 General Laborer/Production',\n",
       "  '51-120 Warehouse Worker',\n",
       "  '51-130 Material Handler/Packer',\n",
       "  'nan',\n",
       "  'nan'],\n",
       " ['51-100 General Laborer/Production',\n",
       "  '51-250 Shipping/Receiving Clerk',\n",
       "  '51-250 Shipping/Receiving Clerk',\n",
       "  '51-130 Material Handler/Packer',\n",
       "  'nan'],\n",
       " ['51-300 Machinist',\n",
       "  '51-120 Warehouse Worker',\n",
       "  '51-120 Warehouse Worker',\n",
       "  '51-100 General Laborer/Production',\n",
       "  'nan']]"
      ]
     },
     "execution_count": 13,
     "metadata": {},
     "output_type": "execute_result"
    }
   ],
   "source": [
    "records"
   ]
  },
  {
   "cell_type": "markdown",
   "metadata": {},
   "source": [
    "Understanding the metrics:\n",
    "Support\n",
    "\n",
    "for eg:Support(51-100) = (number of transactions where 51-100 appears /Total number of transactions)\n",
    "\n",
    "Support(51-100) =  8/13 = 0.61\n",
    "\n",
    "Support (51-100,51-140,51-120) = 1/13 = 0.077"
   ]
  },
  {
   "cell_type": "markdown",
   "metadata": {},
   "source": [
    "confidence:\n",
    "\n",
    "Confidence (x => y) signifies the likelihood of the item y being purchased when the item x is purchased.\n",
    "\n",
    "This method takes into account the popularity of the item x.\n",
    "\n",
    "for eg: conf(51-100,51-140) => 51-120 = support (51-100,51-140,51-120) / support(51-100,51-140)\n",
    "\n",
    "so lets calculate the confidence value : confidence (51-100,51-140,51-120) = 1/13 /3/13 = 0.23\n",
    "\n"
   ]
  },
  {
   "cell_type": "markdown",
   "metadata": {},
   "source": [
    "lift\n",
    "\n",
    "Lift (x => y) is nothing but the ‘interestingness’ or the likelihood of the item y being purchased when the item x is sold. \n",
    "Unlike confidence (x => y), this method takes into account the popularity of the item y.\n",
    "\n",
    "for eg:lift((51-100,51-140) => 51-120) = support (51-100,51-140,51-120) / support(51-100,51-140) * support(51-120) \n",
    "= confidence((51-100,51-140) => 51-120) / support(51-120) \n",
    "\n",
    "so lets calculate the lift value : 1/3 / 5/13 = 0.2 (thus is very unlikely that all 3 shall occur together)\n"
   ]
  },
  {
   "cell_type": "markdown",
   "metadata": {},
   "source": [
    "Lift (x => y) = 1 means that there is no correlation within the itemset.\n",
    "Lift (x => y) > 1 means that there is a positive correlation within the itemset, i.e., products in the itemset, x and y, are more likely to be bought together.\n",
    "Lift (x => y) < 1 means that there is a negative correlation within the itemset, i.e., products in itemset, x and y, are unlikely to be bought together."
   ]
  },
  {
   "cell_type": "markdown",
   "metadata": {},
   "source": [
    "![ar_formula](./ar_formula.png)"
   ]
  },
  {
   "cell_type": "code",
   "execution_count": 18,
   "metadata": {},
   "outputs": [],
   "source": [
    "association_rules = apriori(records, min_support=0.0045, min_confidence=0.39, min_lift=1.2, min_length=2)\n",
    "association_results = list(association_rules)"
   ]
  },
  {
   "cell_type": "code",
   "execution_count": 19,
   "metadata": {},
   "outputs": [
    {
     "name": "stdout",
     "output_type": "stream",
     "text": [
      "105\n"
     ]
    }
   ],
   "source": [
    "print(len(association_results))"
   ]
  },
  {
   "cell_type": "code",
   "execution_count": 20,
   "metadata": {},
   "outputs": [
    {
     "name": "stdout",
     "output_type": "stream",
     "text": [
      "RelationRecord(items=frozenset({'15-230 PC Technician', '19-140 Field Technician'}), support=0.07692307692307693, ordered_statistics=[OrderedStatistic(items_base=frozenset({'15-230 PC Technician'}), items_add=frozenset({'19-140 Field Technician'}), confidence=1.0, lift=6.5), OrderedStatistic(items_base=frozenset({'19-140 Field Technician'}), items_add=frozenset({'15-230 PC Technician'}), confidence=0.5, lift=6.5)])\n"
     ]
    }
   ],
   "source": [
    "print(association_results[0])"
   ]
  },
  {
   "cell_type": "code",
   "execution_count": 21,
   "metadata": {},
   "outputs": [
    {
     "name": "stdout",
     "output_type": "stream",
     "text": [
      "RelationRecord(items=frozenset({'47-120 Electrician', '15-230 PC Technician'}), support=0.07692307692307693, ordered_statistics=[OrderedStatistic(items_base=frozenset({'15-230 PC Technician'}), items_add=frozenset({'47-120 Electrician'}), confidence=1.0, lift=13.0), OrderedStatistic(items_base=frozenset({'47-120 Electrician'}), items_add=frozenset({'15-230 PC Technician'}), confidence=1.0, lift=13.0)])\n"
     ]
    }
   ],
   "source": [
    "print(association_results[1])"
   ]
  },
  {
   "cell_type": "code",
   "execution_count": 24,
   "metadata": {},
   "outputs": [],
   "source": [
    "association_rules = apriori(records, min_support=0.5, min_confidence=0.39, min_lift=1.2, min_length=2)\n",
    "association_results = list(association_rules)"
   ]
  },
  {
   "cell_type": "code",
   "execution_count": 25,
   "metadata": {},
   "outputs": [
    {
     "name": "stdout",
     "output_type": "stream",
     "text": [
      "0\n"
     ]
    }
   ],
   "source": [
    "print(len(association_results))"
   ]
  },
  {
   "cell_type": "code",
   "execution_count": null,
   "metadata": {},
   "outputs": [],
   "source": [
    "association_rules = apriori(records, min_support=0.5, min_confidence=0.39, min_lift=1.2, min_length=2)\n",
    "association_results = list(association_rules)"
   ]
  }
 ],
 "metadata": {
  "kernelspec": {
   "display_name": "Python 3",
   "language": "python",
   "name": "python3"
  },
  "language_info": {
   "codemirror_mode": {
    "name": "ipython",
    "version": 3
   },
   "file_extension": ".py",
   "mimetype": "text/x-python",
   "name": "python",
   "nbconvert_exporter": "python",
   "pygments_lexer": "ipython3",
   "version": "3.7.6"
  },
  "toc": {
   "base_numbering": 1,
   "nav_menu": {},
   "number_sections": true,
   "sideBar": true,
   "skip_h1_title": false,
   "title_cell": "Table of Contents",
   "title_sidebar": "Contents",
   "toc_cell": false,
   "toc_position": {},
   "toc_section_display": true,
   "toc_window_display": false
  }
 },
 "nbformat": 4,
 "nbformat_minor": 2
}
