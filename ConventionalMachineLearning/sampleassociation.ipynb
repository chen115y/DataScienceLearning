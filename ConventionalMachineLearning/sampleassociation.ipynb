{
 "cells": [
  {
   "cell_type": "markdown",
   "metadata": {},
   "source": [
    "# Introduction"
   ]
  },
  {
   "cell_type": "markdown",
   "metadata": {},
   "source": [
    "In this section, I will demonstrate how to use association rule mining to produce some useful information from some transactional data set."
   ]
  },
  {
   "cell_type": "markdown",
   "metadata": {},
   "source": [
    "## Business objectives\n",
    "One interesting business problem is to find any associated jobs that people are willing to take. \n",
    "\n",
    "Association rule mining (ARM) is a technique used to discover relationships among a large set of variables in a data set. It has been applied to a variety of industry settings and disciplines."
   ]
  },
  {
   "cell_type": "markdown",
   "metadata": {},
   "source": [
    "## Setup evaluation metrics\n",
    "Setup measure so that the model can use to testify the association rule:"
   ]
  },
  {
   "cell_type": "markdown",
   "metadata": {},
   "source": [
    "![ar_formula](./ar_formula.png)"
   ]
  },
  {
   "cell_type": "markdown",
   "metadata": {},
   "source": [
    "# Experimental Environment Setup"
   ]
  },
  {
   "cell_type": "markdown",
   "metadata": {},
   "source": [
    "## Common Configuration"
   ]
  },
  {
   "cell_type": "code",
   "execution_count": 1,
   "metadata": {
    "ExecuteTime": {
     "end_time": "2020-03-20T21:14:34.103353Z",
     "start_time": "2020-03-20T21:14:32.072057Z"
    }
   },
   "outputs": [],
   "source": [
    "# Python ≥3.5 is required\n",
    "import sys\n",
    "assert sys.version_info >= (3, 5)\n",
    "\n",
    "# Scikit-Learn ≥0.20 is required\n",
    "import sklearn\n",
    "assert sklearn.__version__ >= \"0.20\"\n",
    "\n",
    "# Common imports\n",
    "import numpy as np\n",
    "import os\n",
    "# Make the random numbers predictable\n",
    "np.random.seed(42)\n",
    "import multiprocessing\n",
    "cpu_count = multiprocessing.cpu_count()\n",
    "\n",
    "# To plot pretty figures\n",
    "%matplotlib inline\n",
    "import matplotlib as mpl\n",
    "import matplotlib.pyplot as plt\n",
    "import seaborn as sns\n",
    "mpl.rc('axes', labelsize=14)\n",
    "mpl.rc('xtick', labelsize=12)\n",
    "mpl.rc('ytick', labelsize=12)\n",
    "\n",
    "# Set up some constant values about root directory and where to save the figures\n",
    "PROJECT_ROOT_DIR = \".\"\n",
    "IMAGES_PATH = os.path.join(PROJECT_ROOT_DIR, \"images\")\n",
    "os.makedirs(IMAGES_PATH, exist_ok=True)\n",
    "\n",
    "# define a common-used fuction to save a plot figure\n",
    "def save_fig(fig_id, tight_layout=True, fig_extension=\"png\", resolution=300):\n",
    "    path = os.path.join(IMAGES_PATH, fig_id + \".\" + fig_extension)\n",
    "    print(\"Saving figure\", fig_id)\n",
    "    if tight_layout:\n",
    "        plt.tight_layout()\n",
    "    plt.savefig(path, format=fig_extension, dpi=resolution)\n",
    "\n",
    "# only logging error information\n",
    "import logging\n",
    "logging.getLogger().setLevel(logging.ERROR)\n",
    "# disable warning message show-ip\n",
    "import warnings\n",
    "warnings.filterwarnings(\"ignore\")\n",
    "\n",
    "# Allow multiple output/display from one cell\n",
    "from IPython.core.interactiveshell import InteractiveShell\n",
    "InteractiveShell.ast_node_interactivity = \"all\""
   ]
  },
  {
   "cell_type": "markdown",
   "metadata": {},
   "source": [
    "## Python Library Import"
   ]
  },
  {
   "cell_type": "code",
   "execution_count": 2,
   "metadata": {
    "ExecuteTime": {
     "end_time": "2020-03-20T21:14:34.846621Z",
     "start_time": "2020-03-20T21:14:34.106370Z"
    }
   },
   "outputs": [],
   "source": [
    "import numpy as np\n",
    "import matplotlib.pyplot as plt\n",
    "import pandas as pd\n",
    "import pandas_profiling\n",
    "# use a small python package for apriori algorithm\n",
    "from apyori import apriori\n",
    "# or use mlxtend package\n",
    "# from mlxtend.frequent_patterns import apriori, association_rules"
   ]
  },
  {
   "cell_type": "markdown",
   "metadata": {},
   "source": [
    "# Collecting the Data"
   ]
  },
  {
   "cell_type": "markdown",
   "metadata": {},
   "source": [
    "## Load the data"
   ]
  },
  {
   "cell_type": "code",
   "execution_count": 3,
   "metadata": {
    "ExecuteTime": {
     "end_time": "2020-03-20T21:14:34.876272Z",
     "start_time": "2020-03-20T21:14:34.849636Z"
    }
   },
   "outputs": [
    {
     "name": "stdout",
     "output_type": "stream",
     "text": [
      "<class 'pandas.core.frame.DataFrame'>\n",
      "RangeIndex: 39 entries, 0 to 38\n",
      "Data columns (total 2 columns):\n",
      "job1    39 non-null object\n",
      "job2    39 non-null object\n",
      "dtypes: object(2)\n",
      "memory usage: 752.0+ bytes\n"
     ]
    },
    {
     "data": {
      "text/html": [
       "<div>\n",
       "<style scoped>\n",
       "    .dataframe tbody tr th:only-of-type {\n",
       "        vertical-align: middle;\n",
       "    }\n",
       "\n",
       "    .dataframe tbody tr th {\n",
       "        vertical-align: top;\n",
       "    }\n",
       "\n",
       "    .dataframe thead th {\n",
       "        text-align: right;\n",
       "    }\n",
       "</style>\n",
       "<table border=\"1\" class=\"dataframe\">\n",
       "  <thead>\n",
       "    <tr style=\"text-align: right;\">\n",
       "      <th></th>\n",
       "      <th>job1</th>\n",
       "      <th>job2</th>\n",
       "    </tr>\n",
       "  </thead>\n",
       "  <tbody>\n",
       "    <tr>\n",
       "      <th>0</th>\n",
       "      <td>15-230 PC Technician</td>\n",
       "      <td>47-120 Electrician</td>\n",
       "    </tr>\n",
       "    <tr>\n",
       "      <th>1</th>\n",
       "      <td>15-230 PC Technician</td>\n",
       "      <td>19-140 Field Technician</td>\n",
       "    </tr>\n",
       "    <tr>\n",
       "      <th>2</th>\n",
       "      <td>18-300 Maintenance Tech/Mechanic</td>\n",
       "      <td>51-100 General Laborer/Production</td>\n",
       "    </tr>\n",
       "    <tr>\n",
       "      <th>3</th>\n",
       "      <td>18-560 Electronics Technician</td>\n",
       "      <td>51-140 Assembler - Light</td>\n",
       "    </tr>\n",
       "    <tr>\n",
       "      <th>4</th>\n",
       "      <td>18-560 Electronics Technician</td>\n",
       "      <td>51-210 Forklift/Heavy Machine Operator</td>\n",
       "    </tr>\n",
       "  </tbody>\n",
       "</table>\n",
       "</div>"
      ],
      "text/plain": [
       "                               job1                                    job2\n",
       "0              15-230 PC Technician                      47-120 Electrician\n",
       "1              15-230 PC Technician                 19-140 Field Technician\n",
       "2  18-300 Maintenance Tech/Mechanic       51-100 General Laborer/Production\n",
       "3     18-560 Electronics Technician                51-140 Assembler - Light\n",
       "4     18-560 Electronics Technician  51-210 Forklift/Heavy Machine Operator"
      ]
     },
     "execution_count": 3,
     "metadata": {},
     "output_type": "execute_result"
    }
   ],
   "source": [
    "aa = pd.read_csv('dummy2.csv', header=\"infer\")   \n",
    "aa.info()\n",
    "aa.head()"
   ]
  },
  {
   "cell_type": "code",
   "execution_count": 4,
   "metadata": {
    "ExecuteTime": {
     "end_time": "2020-03-20T21:14:34.884315Z",
     "start_time": "2020-03-20T21:14:34.878788Z"
    }
   },
   "outputs": [],
   "source": [
    "#convert the records to list\n",
    "records = []\n",
    "for i in range(0,39):\n",
    "    records.append([str(aa.values[i,j]) for j in range(0,2)])"
   ]
  },
  {
   "cell_type": "code",
   "execution_count": 5,
   "metadata": {
    "ExecuteTime": {
     "end_time": "2020-03-20T21:14:34.899393Z",
     "start_time": "2020-03-20T21:14:34.888337Z"
    }
   },
   "outputs": [
    {
     "data": {
      "text/plain": [
       "[['15-230 PC Technician', '47-120 Electrician'],\n",
       " ['15-230 PC Technician', '19-140 Field Technician'],\n",
       " ['18-300 Maintenance Tech/Mechanic', '51-100 General Laborer/Production'],\n",
       " ['18-560 Electronics Technician', '51-140 Assembler - Light'],\n",
       " ['18-560 Electronics Technician', '51-210 Forklift/Heavy Machine Operator'],\n",
       " ['19-140 Field Technician', '47-120 Electrician'],\n",
       " ['19-140 Field Technician', '51-210 Forklift/Heavy Machine Operator'],\n",
       " ['47-120 Electrician', '19-140 Field Technician'],\n",
       " ['47-150 Drywall Finisher/Carpenter', '51-100 General Laborer/Production'],\n",
       " ['47-150 Drywall Finisher/Carpenter', '51-200 Machine Operator'],\n",
       " ['47-150 Drywall Finisher/Carpenter', '51-130 Material Handler/Packer'],\n",
       " ['51-100 General Laborer/Production', '51-200 Machine Operator'],\n",
       " ['51-100 General Laborer/Production', '51-130 Material Handler/Packer'],\n",
       " ['51-100 General Laborer/Production', '51-300 Machinist'],\n",
       " ['51-100 General Laborer/Production', '51-240 QA Technician/Inspector'],\n",
       " ['51-100 General Laborer/Production', '51-120 Warehouse Worker'],\n",
       " ['51-100 General Laborer/Production', '51-250 Shipping/Receiving Clerk'],\n",
       " ['51-100 General Laborer/Production', '51-140 Assembler - Light'],\n",
       " ['51-120 Warehouse Worker', '51-130 Material Handler/Packer'],\n",
       " ['51-120 Warehouse Worker', '51-100 General Laborer/Production'],\n",
       " ['51-120 Warehouse Worker', '51-140 Assembler - Light'],\n",
       " ['51-120 Warehouse Worker', '51-340 Painter-Industrial'],\n",
       " ['51-130 Material Handler/Packer', '19-140 Field Technician'],\n",
       " ['51-130 Material Handler/Packer', '51-210 Forklift/Heavy Machine Operator'],\n",
       " ['51-130 Material Handler/Packer', '51-120 Warehouse Worker'],\n",
       " ['51-140 Assembler - Light', '51-210 Forklift/Heavy Machine Operator'],\n",
       " ['51-140 Assembler - Light', '51-100 General Laborer/Production'],\n",
       " ['51-140 Assembler - Light', '51-130 Material Handler/Packer'],\n",
       " ['51-140 Assembler - Light', '18-300 Maintenance Tech/Mechanic'],\n",
       " ['51-140 Assembler - Light', '51-120 Warehouse Worker'],\n",
       " ['51-140 Assembler - Light', '51-340 Painter-Industrial'],\n",
       " ['51-200 Machine Operator', '51-100 General Laborer/Production'],\n",
       " ['51-200 Machine Operator', '51-130 Material Handler/Packer'],\n",
       " ['51-220 Janitor', '51-130 Material Handler/Packer'],\n",
       " ['51-220 Janitor', '51-120 Warehouse Worker'],\n",
       " ['51-250 Shipping/Receiving Clerk', '51-130 Material Handler/Packer'],\n",
       " ['51-300 Machinist', '51-240 QA Technician/Inspector'],\n",
       " ['51-300 Machinist', '51-120 Warehouse Worker'],\n",
       " ['51-300 Machinist', '51-100 General Laborer/Production']]"
      ]
     },
     "execution_count": 5,
     "metadata": {},
     "output_type": "execute_result"
    }
   ],
   "source": [
    "records"
   ]
  },
  {
   "cell_type": "markdown",
   "metadata": {},
   "source": [
    "# Association Rule Mining"
   ]
  },
  {
   "cell_type": "code",
   "execution_count": 6,
   "metadata": {
    "ExecuteTime": {
     "end_time": "2020-03-20T21:14:34.910445Z",
     "start_time": "2020-03-20T21:14:34.902404Z"
    },
    "scrolled": false
   },
   "outputs": [],
   "source": [
    "def display_rules(association_results):\n",
    "    for item in association_results:\n",
    "\n",
    "        # first index of the inner list\n",
    "        # Contains base item and add item\n",
    "        item_sets = item[0] \n",
    "        items = [x for x in item_sets]\n",
    "        # filter out any NaN items\n",
    "        if (str(items[0]).lower()!= 'nan') and (str(items[1]).lower()!= 'nan'):\n",
    "            print(\"Rule: \" + items[0] + \" -> \" + items[1])\n",
    "\n",
    "            #second index of the inner list\n",
    "            print(\"Support: \" + str(item[1]))\n",
    "\n",
    "            #third index of the list located at 0th\n",
    "            #of the third index of the inner list\n",
    "\n",
    "            print(\"Confidence: \" + str(item[2][0][2]))\n",
    "            print(\"Lift: \" + str(item[2][0][3]))\n",
    "            print(\"=====================================\")"
   ]
  },
  {
   "cell_type": "code",
   "execution_count": 7,
   "metadata": {
    "ExecuteTime": {
     "end_time": "2020-03-20T21:14:34.922506Z",
     "start_time": "2020-03-20T21:14:34.913962Z"
    }
   },
   "outputs": [],
   "source": [
    "association_rules = apriori(records, min_support=0.0045, min_confidence=0.39, min_lift=1.2, min_length=2)\n",
    "association_results = list(association_rules)"
   ]
  },
  {
   "cell_type": "code",
   "execution_count": 8,
   "metadata": {
    "ExecuteTime": {
     "end_time": "2020-03-20T21:14:34.933562Z",
     "start_time": "2020-03-20T21:14:34.927531Z"
    }
   },
   "outputs": [
    {
     "name": "stdout",
     "output_type": "stream",
     "text": [
      "17\n"
     ]
    }
   ],
   "source": [
    "print(len(association_results))"
   ]
  },
  {
   "cell_type": "code",
   "execution_count": 9,
   "metadata": {
    "ExecuteTime": {
     "end_time": "2020-03-20T21:14:34.944118Z",
     "start_time": "2020-03-20T21:14:34.937583Z"
    }
   },
   "outputs": [
    {
     "name": "stdout",
     "output_type": "stream",
     "text": [
      "RelationRecord(items=frozenset({'19-140 Field Technician', '15-230 PC Technician'}), support=0.02564102564102564, ordered_statistics=[OrderedStatistic(items_base=frozenset({'15-230 PC Technician'}), items_add=frozenset({'19-140 Field Technician'}), confidence=0.5, lift=3.9000000000000004)])\n"
     ]
    }
   ],
   "source": [
    "print(association_results[0])"
   ]
  },
  {
   "cell_type": "code",
   "execution_count": 10,
   "metadata": {
    "ExecuteTime": {
     "end_time": "2020-03-20T21:14:34.958186Z",
     "start_time": "2020-03-20T21:14:34.948638Z"
    }
   },
   "outputs": [
    {
     "name": "stdout",
     "output_type": "stream",
     "text": [
      "Rule: 19-140 Field Technician -> 15-230 PC Technician\n",
      "Support: 0.02564102564102564\n",
      "Confidence: 0.5\n",
      "Lift: 3.9000000000000004\n",
      "=====================================\n",
      "Rule: 15-230 PC Technician -> 47-120 Electrician\n",
      "Support: 0.02564102564102564\n",
      "Confidence: 0.5\n",
      "Lift: 6.5\n",
      "=====================================\n",
      "Rule: 18-300 Maintenance Tech/Mechanic -> 51-100 General Laborer/Production\n",
      "Support: 0.02564102564102564\n",
      "Confidence: 0.5\n",
      "Lift: 1.5\n",
      "=====================================\n",
      "Rule: 51-140 Assembler - Light -> 18-300 Maintenance Tech/Mechanic\n",
      "Support: 0.02564102564102564\n",
      "Confidence: 0.5\n",
      "Lift: 2.1666666666666665\n",
      "=====================================\n",
      "Rule: 51-140 Assembler - Light -> 18-560 Electronics Technician\n",
      "Support: 0.02564102564102564\n",
      "Confidence: 0.5\n",
      "Lift: 2.1666666666666665\n",
      "=====================================\n",
      "Rule: 51-210 Forklift/Heavy Machine Operator -> 18-560 Electronics Technician\n",
      "Support: 0.02564102564102564\n",
      "Confidence: 0.5\n",
      "Lift: 4.875\n",
      "=====================================\n",
      "Rule: 19-140 Field Technician -> 47-120 Electrician\n",
      "Support: 0.05128205128205128\n",
      "Confidence: 0.4\n",
      "Lift: 5.2\n",
      "=====================================\n",
      "Rule: 51-200 Machine Operator -> 51-100 General Laborer/Production\n",
      "Support: 0.05128205128205128\n",
      "Confidence: 0.5\n",
      "Lift: 1.5\n",
      "=====================================\n",
      "Rule: 51-240 QA Technician/Inspector -> 51-100 General Laborer/Production\n",
      "Support: 0.02564102564102564\n",
      "Confidence: 0.5\n",
      "Lift: 1.5\n",
      "=====================================\n",
      "Rule: 51-250 Shipping/Receiving Clerk -> 51-100 General Laborer/Production\n",
      "Support: 0.02564102564102564\n",
      "Confidence: 0.5\n",
      "Lift: 1.5\n",
      "=====================================\n",
      "Rule: 51-300 Machinist -> 51-100 General Laborer/Production\n",
      "Support: 0.05128205128205128\n",
      "Confidence: 0.5\n",
      "Lift: 1.5\n",
      "=====================================\n",
      "Rule: 51-120 Warehouse Worker -> 51-220 Janitor\n",
      "Support: 0.02564102564102564\n",
      "Confidence: 0.5\n",
      "Lift: 2.1666666666666665\n",
      "=====================================\n",
      "Rule: 51-120 Warehouse Worker -> 51-340 Painter-Industrial\n",
      "Support: 0.02564102564102564\n",
      "Confidence: 0.5\n",
      "Lift: 2.1666666666666665\n",
      "=====================================\n",
      "Rule: 51-130 Material Handler/Packer -> 51-220 Janitor\n",
      "Support: 0.02564102564102564\n",
      "Confidence: 0.5\n",
      "Lift: 1.9500000000000002\n",
      "=====================================\n",
      "Rule: 51-250 Shipping/Receiving Clerk -> 51-130 Material Handler/Packer\n",
      "Support: 0.02564102564102564\n",
      "Confidence: 0.5\n",
      "Lift: 1.9500000000000002\n",
      "=====================================\n",
      "Rule: 51-140 Assembler - Light -> 51-340 Painter-Industrial\n",
      "Support: 0.02564102564102564\n",
      "Confidence: 0.5\n",
      "Lift: 2.1666666666666665\n",
      "=====================================\n",
      "Rule: 51-300 Machinist -> 51-240 QA Technician/Inspector\n",
      "Support: 0.02564102564102564\n",
      "Confidence: 0.5\n",
      "Lift: 4.875\n",
      "=====================================\n"
     ]
    }
   ],
   "source": [
    "display_rules(association_results)"
   ]
  },
  {
   "cell_type": "code",
   "execution_count": 11,
   "metadata": {
    "ExecuteTime": {
     "end_time": "2020-03-20T21:14:34.969748Z",
     "start_time": "2020-03-20T21:14:34.961201Z"
    }
   },
   "outputs": [],
   "source": [
    "# increase min support threshold so that the rule searching/mining can be faster and produce less rule results\n",
    "association_rules = apriori(records, min_support=0.05, min_confidence=0.39, min_lift=1.2, min_length=2)\n",
    "association_results = list(association_rules)"
   ]
  },
  {
   "cell_type": "code",
   "execution_count": 12,
   "metadata": {
    "ExecuteTime": {
     "end_time": "2020-03-20T21:14:34.982309Z",
     "start_time": "2020-03-20T21:14:34.973766Z"
    }
   },
   "outputs": [
    {
     "name": "stdout",
     "output_type": "stream",
     "text": [
      "3\n"
     ]
    }
   ],
   "source": [
    "print(len(association_results))"
   ]
  },
  {
   "cell_type": "code",
   "execution_count": 13,
   "metadata": {
    "ExecuteTime": {
     "end_time": "2020-03-20T21:14:34.990351Z",
     "start_time": "2020-03-20T21:14:34.984822Z"
    }
   },
   "outputs": [
    {
     "name": "stdout",
     "output_type": "stream",
     "text": [
      "Rule: 19-140 Field Technician -> 47-120 Electrician\n",
      "Support: 0.05128205128205128\n",
      "Confidence: 0.4\n",
      "Lift: 5.2\n",
      "=====================================\n",
      "Rule: 51-200 Machine Operator -> 51-100 General Laborer/Production\n",
      "Support: 0.05128205128205128\n",
      "Confidence: 0.5\n",
      "Lift: 1.5\n",
      "=====================================\n",
      "Rule: 51-300 Machinist -> 51-100 General Laborer/Production\n",
      "Support: 0.05128205128205128\n",
      "Confidence: 0.5\n",
      "Lift: 1.5\n",
      "=====================================\n"
     ]
    }
   ],
   "source": [
    "display_rules(association_results)"
   ]
  }
 ],
 "metadata": {
  "kernelspec": {
   "display_name": "Python 3",
   "language": "python",
   "name": "python3"
  },
  "language_info": {
   "codemirror_mode": {
    "name": "ipython",
    "version": 3
   },
   "file_extension": ".py",
   "mimetype": "text/x-python",
   "name": "python",
   "nbconvert_exporter": "python",
   "pygments_lexer": "ipython3",
   "version": "3.7.6"
  },
  "toc": {
   "base_numbering": 1,
   "nav_menu": {},
   "number_sections": true,
   "sideBar": true,
   "skip_h1_title": false,
   "title_cell": "Table of Contents",
   "title_sidebar": "Contents",
   "toc_cell": false,
   "toc_position": {},
   "toc_section_display": true,
   "toc_window_display": true
  }
 },
 "nbformat": 4,
 "nbformat_minor": 2
}
