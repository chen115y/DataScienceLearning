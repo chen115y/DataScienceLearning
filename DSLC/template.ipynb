{
 "cells": [
  {
   "cell_type": "markdown",
   "metadata": {
    "toc": true
   },
   "source": [
    "<h1>Table of Contents<span class=\"tocSkip\"></span></h1>\n",
    "<div class=\"toc\"><ul class=\"toc-item\"><li><span><a href=\"#Introduction\" data-toc-modified-id=\"Introduction-1\"><span class=\"toc-item-num\">1&nbsp;&nbsp;</span>Introduction</a></span><ul class=\"toc-item\"><li><span><a href=\"#Business-objectives\" data-toc-modified-id=\"Business-objectives-1.1\"><span class=\"toc-item-num\">1.1&nbsp;&nbsp;</span>Business objectives</a></span></li><li><span><a href=\"#Setup-evaluation-metrics\" data-toc-modified-id=\"Setup-evaluation-metrics-1.2\"><span class=\"toc-item-num\">1.2&nbsp;&nbsp;</span>Setup evaluation metrics</a></span></li></ul></li><li><span><a href=\"#Experimental-Environment-Setup\" data-toc-modified-id=\"Experimental-Environment-Setup-2\"><span class=\"toc-item-num\">2&nbsp;&nbsp;</span>Experimental Environment Setup</a></span><ul class=\"toc-item\"><li><span><a href=\"#Common-Configuration\" data-toc-modified-id=\"Common-Configuration-2.1\"><span class=\"toc-item-num\">2.1&nbsp;&nbsp;</span>Common Configuration</a></span></li><li><span><a href=\"#Common-Python-Library-Import\" data-toc-modified-id=\"Common-Python-Library-Import-2.2\"><span class=\"toc-item-num\">2.2&nbsp;&nbsp;</span>Common Python Library Import</a></span></li></ul></li><li><span><a href=\"#Collecting-the-Data\" data-toc-modified-id=\"Collecting-the-Data-3\"><span class=\"toc-item-num\">3&nbsp;&nbsp;</span>Collecting the Data</a></span><ul class=\"toc-item\"><li><span><a href=\"#Load-the-data\" data-toc-modified-id=\"Load-the-data-3.1\"><span class=\"toc-item-num\">3.1&nbsp;&nbsp;</span>Load the data</a></span></li><li><span><a href=\"#Data-profiling\" data-toc-modified-id=\"Data-profiling-3.2\"><span class=\"toc-item-num\">3.2&nbsp;&nbsp;</span>Data profiling</a></span></li><li><span><a href=\"#Prepare-training-and-testing-datasets\" data-toc-modified-id=\"Prepare-training-and-testing-datasets-3.3\"><span class=\"toc-item-num\">3.3&nbsp;&nbsp;</span>Prepare training and testing datasets</a></span></li></ul></li><li><span><a href=\"#Visualize-the-Data-to-Gain-Insights\" data-toc-modified-id=\"Visualize-the-Data-to-Gain-Insights-4\"><span class=\"toc-item-num\">4&nbsp;&nbsp;</span>Visualize the Data to Gain Insights</a></span></li><li><span><a href=\"#Data-Engineering\" data-toc-modified-id=\"Data-Engineering-5\"><span class=\"toc-item-num\">5&nbsp;&nbsp;</span>Data Engineering</a></span><ul class=\"toc-item\"><li><span><a href=\"#Data-cleaning\" data-toc-modified-id=\"Data-cleaning-5.1\"><span class=\"toc-item-num\">5.1&nbsp;&nbsp;</span>Data cleaning</a></span></li><li><span><a href=\"#Handling-categorical-attributes\" data-toc-modified-id=\"Handling-categorical-attributes-5.2\"><span class=\"toc-item-num\">5.2&nbsp;&nbsp;</span>Handling categorical attributes</a></span></li><li><span><a href=\"#Data-transformation\" data-toc-modified-id=\"Data-transformation-5.3\"><span class=\"toc-item-num\">5.3&nbsp;&nbsp;</span>Data transformation</a></span></li><li><span><a href=\"#Data-scaling\" data-toc-modified-id=\"Data-scaling-5.4\"><span class=\"toc-item-num\">5.4&nbsp;&nbsp;</span>Data scaling</a></span></li><li><span><a href=\"#Data-pipeline\" data-toc-modified-id=\"Data-pipeline-5.5\"><span class=\"toc-item-num\">5.5&nbsp;&nbsp;</span>Data pipeline</a></span></li></ul></li><li><span><a href=\"#Select-and-Train-a-model\" data-toc-modified-id=\"Select-and-Train-a-model-6\"><span class=\"toc-item-num\">6&nbsp;&nbsp;</span>Select and Train a model</a></span><ul class=\"toc-item\"><li><span><a href=\"#Select-and-define-Model\" data-toc-modified-id=\"Select-and-define-Model-6.1\"><span class=\"toc-item-num\">6.1&nbsp;&nbsp;</span>Select and define Model</a></span></li><li><span><a href=\"#Training-model\" data-toc-modified-id=\"Training-model-6.2\"><span class=\"toc-item-num\">6.2&nbsp;&nbsp;</span>Training model</a></span></li><li><span><a href=\"#Evaluating-on-the-training-Set\" data-toc-modified-id=\"Evaluating-on-the-training-Set-6.3\"><span class=\"toc-item-num\">6.3&nbsp;&nbsp;</span>Evaluating on the training Set</a></span></li><li><span><a href=\"#Better-evaluation-using-cross-validation\" data-toc-modified-id=\"Better-evaluation-using-cross-validation-6.4\"><span class=\"toc-item-num\">6.4&nbsp;&nbsp;</span>Better evaluation using cross-validation</a></span></li><li><span><a href=\"#Fine-tune-model\" data-toc-modified-id=\"Fine-tune-model-6.5\"><span class=\"toc-item-num\">6.5&nbsp;&nbsp;</span>Fine-tune model</a></span></li><li><span><a href=\"#Evaluate-on-the-test-set\" data-toc-modified-id=\"Evaluate-on-the-test-set-6.6\"><span class=\"toc-item-num\">6.6&nbsp;&nbsp;</span>Evaluate on the test set</a></span></li></ul></li><li><span><a href=\"#Productionalization\" data-toc-modified-id=\"Productionalization-7\"><span class=\"toc-item-num\">7&nbsp;&nbsp;</span>Productionalization</a></span><ul class=\"toc-item\"><li><span><a href=\"#Pipelines-with-predictor\" data-toc-modified-id=\"Pipelines-with-predictor-7.1\"><span class=\"toc-item-num\">7.1&nbsp;&nbsp;</span>Pipelines with predictor</a></span></li><li><span><a href=\"#Model-persistence-using-joblib\" data-toc-modified-id=\"Model-persistence-using-joblib-7.2\"><span class=\"toc-item-num\">7.2&nbsp;&nbsp;</span>Model persistence using joblib</a></span></li></ul></li></ul></div>"
   ]
  },
  {
   "cell_type": "markdown",
   "metadata": {},
   "source": [
    "# Introduction"
   ]
  },
  {
   "cell_type": "markdown",
   "metadata": {},
   "source": [
    "In this section, you should provide executive summary or background introduction about what business problems you are trying to solve, the motivations, and overall high-level approach."
   ]
  },
  {
   "cell_type": "markdown",
   "metadata": {},
   "source": [
    "## Business objectives\n",
    "Summarize the business objectives on this project. One interesting and important question to be answered here is: what do you do next after data science team develops a perfect model? "
   ]
  },
  {
   "cell_type": "markdown",
   "metadata": {},
   "source": [
    "## Setup evaluation metrics\n",
    "Setup a performance measure so that the models or whole approach can be evaluated properly. For example:"
   ]
  },
  {
   "cell_type": "markdown",
   "metadata": {},
   "source": [
    "* __Mean Absolute Error (MAE)__: is an interpretable & scale-dependent accuracy measure of difference between two continuous variables and is average vertical distance between each point and the identity line. Computing the sum of absolutes (MAE) corresponds to the _Manhattan norm_. The formula is given as:\n",
    "\n",
    "\\begin{align}\n",
    "\\frac{1}{n} \\sum_{i}{|(y_{i} - \\hat{y_{i}|})}\n",
    "\\end{align}\n",
    "* $\\hat{y_{i}}$ - this is predicted value for the ith data point\n",
    "* $y_{i}$ - this is actual value for the ith data point\n",
    "* $n$ - the number of data points\n",
    "\n",
    "\n",
    "* __Root Mean Squared Error (RMSE)__: is a frequently used & scale-dependent measure of the differences between values (sample or population values) predicted by a model or an estimator and the values observed. It represents the square root of the second sample moment of the differences between predicted values and observed values or the quadratic mean of these differences. RMSE is always non-negative, and a value of 0 (almost never achieved in practice) would indicate a perfect fit to the data. In general, a lower RMSE is better than a higher one. It gives an idea of how much error the system typically makes in its predictions, with a higher weight for large errors. Computing the root of a sum of squares (RMSE) corresponds to the _Euclidean norm_. The formula is given as: \n",
    "\n",
    "\\begin{align}\n",
    "\\sqrt{\\frac{1}{n} \\sum_{i}{(y_{i} - \\hat{y_{i}})^2}}\n",
    "\\end{align}\n",
    "* $\\hat{y_{i}}$ - this is predicted value for the ith data point\n",
    "* $y_{i}$ - this is actual value for the ith data point\n",
    "* $n$ - the number of data points"
   ]
  },
  {
   "cell_type": "markdown",
   "metadata": {},
   "source": [
    "The metrics for a classification (supervised learning) problem include usually accuracy percentage, precision, recall and f-score. The following diagram shows useful information of precision and recall."
   ]
  },
  {
   "cell_type": "markdown",
   "metadata": {},
   "source": [
    "![accuracy](./classification_accuracy.png)"
   ]
  },
  {
   "cell_type": "markdown",
   "metadata": {},
   "source": [
    "Those metrics will be provided via scikit-learn library as\n",
    "\n",
    "```python \n",
    "from sklearn.metrics import accuracy_score, classification_report, mean_squared_error, mean_absolute_error, median_absolute_error\n",
    "```"
   ]
  },
  {
   "cell_type": "markdown",
   "metadata": {},
   "source": [
    "# Experimental Environment Setup"
   ]
  },
  {
   "cell_type": "markdown",
   "metadata": {},
   "source": [
    "## Common Configuration"
   ]
  },
  {
   "cell_type": "markdown",
   "metadata": {},
   "source": [
    "Import Python libraries, ensure MatplotLib plots figures inline and prepare a function to save the figures. Also check that Python 3.5 or later is installed (although Python 2.x may work, it is deprecated so we strongly recommend you use Python 3 instead), as well as Scikit-Learn ≥0.20. The following codes are recommended to setup your Python data science (experimental) environment setup."
   ]
  },
  {
   "cell_type": "code",
   "execution_count": 2,
   "metadata": {
    "ExecuteTime": {
     "end_time": "2020-03-06T01:49:47.145061Z",
     "start_time": "2020-03-06T01:49:47.098957Z"
    }
   },
   "outputs": [],
   "source": [
    "# Python ≥3.5 is required\n",
    "import sys\n",
    "assert sys.version_info >= (3, 5)\n",
    "\n",
    "# Scikit-Learn ≥0.20 is required\n",
    "import sklearn\n",
    "assert sklearn.__version__ >= \"0.20\"\n",
    "\n",
    "# Common imports\n",
    "import numpy as np\n",
    "import os\n",
    "# Make the random numbers predictable\n",
    "np.random.seed(42)\n",
    "import multiprocessing\n",
    "cpu_count = multiprocessing.cpu_count()\n",
    "\n",
    "# To plot pretty figures\n",
    "%matplotlib inline\n",
    "import matplotlib as mpl\n",
    "import matplotlib.pyplot as plt\n",
    "import seaborn as sns\n",
    "mpl.rc('axes', labelsize=14)\n",
    "mpl.rc('xtick', labelsize=12)\n",
    "mpl.rc('ytick', labelsize=12)\n",
    "\n",
    "# Set up some constant values about root directory and where to save the figures\n",
    "PROJECT_ROOT_DIR = \".\"\n",
    "IMAGES_PATH = os.path.join(PROJECT_ROOT_DIR, \"images\")\n",
    "os.makedirs(IMAGES_PATH, exist_ok=True)\n",
    "\n",
    "# define a common-used fuction to save a plot figure\n",
    "def save_fig(fig_id, tight_layout=True, fig_extension=\"png\", resolution=300):\n",
    "    path = os.path.join(IMAGES_PATH, fig_id + \".\" + fig_extension)\n",
    "    print(\"Saving figure\", fig_id)\n",
    "    if tight_layout:\n",
    "        plt.tight_layout()\n",
    "    plt.savefig(path, format=fig_extension, dpi=resolution)\n",
    "\n",
    "# only logging error information\n",
    "import logging\n",
    "logging.getLogger().setLevel(logging.ERROR)\n",
    "# disable warning message show-ip\n",
    "import warnings\n",
    "warnings.filterwarnings(\"ignore\")\n",
    "\n",
    "# Allow multiple output/display from one cell\n",
    "from IPython.core.interactiveshell import InteractiveShell\n",
    "InteractiveShell.ast_node_interactivity = \"all\""
   ]
  },
  {
   "cell_type": "markdown",
   "metadata": {},
   "source": [
    "## Common Python Library Import\n",
    "Import all the python libraries here on the top of this notebook so that the other people can easily identify the dependency of those python libraries and technologies involved in this project."
   ]
  },
  {
   "cell_type": "code",
   "execution_count": 3,
   "metadata": {
    "ExecuteTime": {
     "end_time": "2020-03-06T01:50:01.323031Z",
     "start_time": "2020-03-06T01:50:00.192995Z"
    }
   },
   "outputs": [],
   "source": [
    "# common used python libraries\n",
    "import os\n",
    "import pandas as pd\n",
    "import numpy as np\n",
    "import pandas_profiling\n",
    "from sklearn.model_selection import GridSearchCV\n",
    "from sklearn.model_selection import RandomizedSearchCV\n",
    "from sklearn.model_selection import train_test_split, cross_val_score\n",
    "from sklearn.preprocessing import StandardScaler, OneHotEncoder, LabelEncoder, MinMaxScaler, OrdinalEncoder \n",
    "from sklearn.impute import SimpleImputer\n",
    "from sklearn.compose import ColumnTransformer\n",
    "from sklearn.pipeline import Pipeline\n",
    "from sklearn.metrics import accuracy_score, classification_report, mean_squared_error, mean_absolute_error, median_absolute_error\n",
    "import joblib\n",
    "import scipy\n",
    "from scipy import stats\n",
    "from scipy.stats import randint"
   ]
  },
  {
   "cell_type": "code",
   "execution_count": 4,
   "metadata": {
    "ExecuteTime": {
     "end_time": "2020-03-06T01:50:02.401800Z",
     "start_time": "2020-03-06T01:50:01.323031Z"
    }
   },
   "outputs": [],
   "source": [
    "# special python libraries, for example, for NLP problems\n",
    "# add any libraries when needed\n",
    "from gensim.models import Word2Vec\n",
    "from gensim import models\n",
    "import nltk\n",
    "# Stop Word Removal\n",
    "from nltk.corpus import stopwords\n",
    "# from nltk.tokenize import word_tokenize\n",
    "from nltk.stem import WordNetLemmatizer\n",
    "from nltk.corpus import wordnet"
   ]
  },
  {
   "cell_type": "code",
   "execution_count": 5,
   "metadata": {
    "ExecuteTime": {
     "end_time": "2020-03-06T01:50:02.487331Z",
     "start_time": "2020-03-06T01:50:02.401800Z"
    }
   },
   "outputs": [],
   "source": [
    "# model algorithms\n",
    "# add any algorithms when needed\n",
    "from sklearn.linear_model import LinearRegression\n",
    "from sklearn.ensemble import RandomForestRegressor"
   ]
  },
  {
   "cell_type": "markdown",
   "metadata": {},
   "source": [
    "# Collecting the Data"
   ]
  },
  {
   "cell_type": "markdown",
   "metadata": {},
   "source": [
    "After you got ideas about your solution, the next step is to collect the data."
   ]
  },
  {
   "cell_type": "markdown",
   "metadata": {},
   "source": [
    "## Load the data"
   ]
  },
  {
   "cell_type": "code",
   "execution_count": 6,
   "metadata": {
    "ExecuteTime": {
     "end_time": "2020-03-06T01:50:02.507338Z",
     "start_time": "2020-03-06T01:50:02.487331Z"
    }
   },
   "outputs": [],
   "source": [
    "csv_path = \"./test.csv\"\n",
    "df = pd.read_csv(csv_path)"
   ]
  },
  {
   "cell_type": "code",
   "execution_count": 7,
   "metadata": {
    "ExecuteTime": {
     "end_time": "2020-03-06T01:50:02.551340Z",
     "start_time": "2020-03-06T01:50:02.511336Z"
    }
   },
   "outputs": [
    {
     "data": {
      "text/html": [
       "<div>\n",
       "<style scoped>\n",
       "    .dataframe tbody tr th:only-of-type {\n",
       "        vertical-align: middle;\n",
       "    }\n",
       "\n",
       "    .dataframe tbody tr th {\n",
       "        vertical-align: top;\n",
       "    }\n",
       "\n",
       "    .dataframe thead th {\n",
       "        text-align: right;\n",
       "    }\n",
       "</style>\n",
       "<table border=\"1\" class=\"dataframe\">\n",
       "  <thead>\n",
       "    <tr style=\"text-align: right;\">\n",
       "      <th></th>\n",
       "      <th>ID</th>\n",
       "      <th>Date</th>\n",
       "      <th>Country</th>\n",
       "      <th>VehID</th>\n",
       "      <th>Destination</th>\n",
       "      <th>KmInit</th>\n",
       "      <th>KmFinal</th>\n",
       "      <th>FuelBought</th>\n",
       "      <th>AmountFuel</th>\n",
       "      <th>CashFuel</th>\n",
       "      <th>AmountCash</th>\n",
       "      <th>FuelKm</th>\n",
       "      <th>DriverID</th>\n",
       "    </tr>\n",
       "  </thead>\n",
       "  <tbody>\n",
       "    <tr>\n",
       "      <th>0</th>\n",
       "      <td>30</td>\n",
       "      <td>1/11/2008</td>\n",
       "      <td>1.0</td>\n",
       "      <td>12</td>\n",
       "      <td>NaN</td>\n",
       "      <td>67029</td>\n",
       "      <td>67429</td>\n",
       "      <td>0.0</td>\n",
       "      <td>0</td>\n",
       "      <td>0</td>\n",
       "      <td>0</td>\n",
       "      <td>0</td>\n",
       "      <td>1</td>\n",
       "    </tr>\n",
       "    <tr>\n",
       "      <th>1</th>\n",
       "      <td>31</td>\n",
       "      <td>1/14/2008</td>\n",
       "      <td>1.0</td>\n",
       "      <td>12</td>\n",
       "      <td>NaN</td>\n",
       "      <td>67429</td>\n",
       "      <td>67848</td>\n",
       "      <td>0.0</td>\n",
       "      <td>0</td>\n",
       "      <td>0</td>\n",
       "      <td>0</td>\n",
       "      <td>0</td>\n",
       "      <td>1</td>\n",
       "    </tr>\n",
       "    <tr>\n",
       "      <th>2</th>\n",
       "      <td>32</td>\n",
       "      <td>1/14/2008</td>\n",
       "      <td>1.0</td>\n",
       "      <td>12</td>\n",
       "      <td>NaN</td>\n",
       "      <td>67848</td>\n",
       "      <td>67850</td>\n",
       "      <td>0.0</td>\n",
       "      <td>0</td>\n",
       "      <td>0</td>\n",
       "      <td>0</td>\n",
       "      <td>0</td>\n",
       "      <td>1</td>\n",
       "    </tr>\n",
       "    <tr>\n",
       "      <th>3</th>\n",
       "      <td>33</td>\n",
       "      <td>1/17/2008</td>\n",
       "      <td>1.0</td>\n",
       "      <td>12</td>\n",
       "      <td>NaN</td>\n",
       "      <td>67850</td>\n",
       "      <td>68072</td>\n",
       "      <td>0.0</td>\n",
       "      <td>0</td>\n",
       "      <td>0</td>\n",
       "      <td>0</td>\n",
       "      <td>0</td>\n",
       "      <td>1</td>\n",
       "    </tr>\n",
       "    <tr>\n",
       "      <th>4</th>\n",
       "      <td>34</td>\n",
       "      <td>1/19/2008</td>\n",
       "      <td>1.0</td>\n",
       "      <td>12</td>\n",
       "      <td>NaN</td>\n",
       "      <td>68072</td>\n",
       "      <td>68186</td>\n",
       "      <td>0.0</td>\n",
       "      <td>0</td>\n",
       "      <td>0</td>\n",
       "      <td>0</td>\n",
       "      <td>0</td>\n",
       "      <td>1</td>\n",
       "    </tr>\n",
       "  </tbody>\n",
       "</table>\n",
       "</div>"
      ],
      "text/plain": [
       "   ID       Date  Country  VehID Destination  KmInit  KmFinal  FuelBought  \\\n",
       "0  30  1/11/2008      1.0     12         NaN   67029    67429         0.0   \n",
       "1  31  1/14/2008      1.0     12         NaN   67429    67848         0.0   \n",
       "2  32  1/14/2008      1.0     12         NaN   67848    67850         0.0   \n",
       "3  33  1/17/2008      1.0     12         NaN   67850    68072         0.0   \n",
       "4  34  1/19/2008      1.0     12         NaN   68072    68186         0.0   \n",
       "\n",
       "   AmountFuel  CashFuel  AmountCash  FuelKm  DriverID  \n",
       "0           0         0           0       0         1  \n",
       "1           0         0           0       0         1  \n",
       "2           0         0           0       0         1  \n",
       "3           0         0           0       0         1  \n",
       "4           0         0           0       0         1  "
      ]
     },
     "execution_count": 7,
     "metadata": {},
     "output_type": "execute_result"
    }
   ],
   "source": [
    "df.head()"
   ]
  },
  {
   "cell_type": "markdown",
   "metadata": {},
   "source": [
    "## Data profiling"
   ]
  },
  {
   "cell_type": "code",
   "execution_count": 8,
   "metadata": {
    "ExecuteTime": {
     "end_time": "2020-03-06T01:50:02.571338Z",
     "start_time": "2020-03-06T01:50:02.551340Z"
    }
   },
   "outputs": [
    {
     "name": "stdout",
     "output_type": "stream",
     "text": [
      "<class 'pandas.core.frame.DataFrame'>\n",
      "RangeIndex: 10 entries, 0 to 9\n",
      "Data columns (total 13 columns):\n",
      "ID             10 non-null int64\n",
      "Date           10 non-null object\n",
      "Country        9 non-null float64\n",
      "VehID          10 non-null int64\n",
      "Destination    3 non-null object\n",
      "KmInit         10 non-null int64\n",
      "KmFinal        10 non-null int64\n",
      "FuelBought     10 non-null float64\n",
      "AmountFuel     10 non-null int64\n",
      "CashFuel       10 non-null int64\n",
      "AmountCash     10 non-null int64\n",
      "FuelKm         10 non-null int64\n",
      "DriverID       10 non-null int64\n",
      "dtypes: float64(2), int64(9), object(2)\n",
      "memory usage: 1.1+ KB\n"
     ]
    }
   ],
   "source": [
    "df.info()"
   ]
  },
  {
   "cell_type": "code",
   "execution_count": 9,
   "metadata": {
    "ExecuteTime": {
     "end_time": "2020-03-06T01:50:02.651385Z",
     "start_time": "2020-03-06T01:50:02.575344Z"
    }
   },
   "outputs": [
    {
     "data": {
      "text/html": [
       "<div>\n",
       "<style scoped>\n",
       "    .dataframe tbody tr th:only-of-type {\n",
       "        vertical-align: middle;\n",
       "    }\n",
       "\n",
       "    .dataframe tbody tr th {\n",
       "        vertical-align: top;\n",
       "    }\n",
       "\n",
       "    .dataframe thead th {\n",
       "        text-align: right;\n",
       "    }\n",
       "</style>\n",
       "<table border=\"1\" class=\"dataframe\">\n",
       "  <thead>\n",
       "    <tr style=\"text-align: right;\">\n",
       "      <th></th>\n",
       "      <th>ID</th>\n",
       "      <th>Country</th>\n",
       "      <th>VehID</th>\n",
       "      <th>KmInit</th>\n",
       "      <th>KmFinal</th>\n",
       "      <th>FuelBought</th>\n",
       "      <th>AmountFuel</th>\n",
       "      <th>CashFuel</th>\n",
       "      <th>AmountCash</th>\n",
       "      <th>FuelKm</th>\n",
       "      <th>DriverID</th>\n",
       "    </tr>\n",
       "  </thead>\n",
       "  <tbody>\n",
       "    <tr>\n",
       "      <th>count</th>\n",
       "      <td>10.000000</td>\n",
       "      <td>9.0</td>\n",
       "      <td>10.000000</td>\n",
       "      <td>10.000000</td>\n",
       "      <td>10.000000</td>\n",
       "      <td>10.000000</td>\n",
       "      <td>10.000000</td>\n",
       "      <td>10.0</td>\n",
       "      <td>10.0</td>\n",
       "      <td>10.000000</td>\n",
       "      <td>10.000000</td>\n",
       "    </tr>\n",
       "    <tr>\n",
       "      <th>mean</th>\n",
       "      <td>38.400000</td>\n",
       "      <td>1.0</td>\n",
       "      <td>14.300000</td>\n",
       "      <td>66125.000000</td>\n",
       "      <td>66364.900000</td>\n",
       "      <td>14.460000</td>\n",
       "      <td>1151.500000</td>\n",
       "      <td>0.0</td>\n",
       "      <td>0.0</td>\n",
       "      <td>11739.000000</td>\n",
       "      <td>21.100000</td>\n",
       "    </tr>\n",
       "    <tr>\n",
       "      <th>std</th>\n",
       "      <td>12.868566</td>\n",
       "      <td>0.0</td>\n",
       "      <td>7.273239</td>\n",
       "      <td>5975.499142</td>\n",
       "      <td>6048.875753</td>\n",
       "      <td>35.338863</td>\n",
       "      <td>2750.367703</td>\n",
       "      <td>0.0</td>\n",
       "      <td>0.0</td>\n",
       "      <td>25149.497212</td>\n",
       "      <td>63.561781</td>\n",
       "    </tr>\n",
       "    <tr>\n",
       "      <th>min</th>\n",
       "      <td>30.000000</td>\n",
       "      <td>1.0</td>\n",
       "      <td>12.000000</td>\n",
       "      <td>49180.000000</td>\n",
       "      <td>49219.000000</td>\n",
       "      <td>0.000000</td>\n",
       "      <td>0.000000</td>\n",
       "      <td>0.0</td>\n",
       "      <td>0.0</td>\n",
       "      <td>0.000000</td>\n",
       "      <td>1.000000</td>\n",
       "    </tr>\n",
       "    <tr>\n",
       "      <th>25%</th>\n",
       "      <td>32.250000</td>\n",
       "      <td>1.0</td>\n",
       "      <td>12.000000</td>\n",
       "      <td>67533.750000</td>\n",
       "      <td>67848.500000</td>\n",
       "      <td>0.000000</td>\n",
       "      <td>0.000000</td>\n",
       "      <td>0.0</td>\n",
       "      <td>0.0</td>\n",
       "      <td>0.000000</td>\n",
       "      <td>1.000000</td>\n",
       "    </tr>\n",
       "    <tr>\n",
       "      <th>50%</th>\n",
       "      <td>35.000000</td>\n",
       "      <td>1.0</td>\n",
       "      <td>12.000000</td>\n",
       "      <td>67961.000000</td>\n",
       "      <td>68129.000000</td>\n",
       "      <td>0.000000</td>\n",
       "      <td>0.000000</td>\n",
       "      <td>0.0</td>\n",
       "      <td>0.0</td>\n",
       "      <td>0.000000</td>\n",
       "      <td>1.000000</td>\n",
       "    </tr>\n",
       "    <tr>\n",
       "      <th>75%</th>\n",
       "      <td>37.750000</td>\n",
       "      <td>1.0</td>\n",
       "      <td>12.000000</td>\n",
       "      <td>68360.000000</td>\n",
       "      <td>68480.250000</td>\n",
       "      <td>0.000000</td>\n",
       "      <td>0.000000</td>\n",
       "      <td>0.0</td>\n",
       "      <td>0.0</td>\n",
       "      <td>0.000000</td>\n",
       "      <td>1.000000</td>\n",
       "    </tr>\n",
       "    <tr>\n",
       "      <th>max</th>\n",
       "      <td>74.000000</td>\n",
       "      <td>1.0</td>\n",
       "      <td>35.000000</td>\n",
       "      <td>68737.000000</td>\n",
       "      <td>69389.000000</td>\n",
       "      <td>110.220001</td>\n",
       "      <td>8500.000000</td>\n",
       "      <td>0.0</td>\n",
       "      <td>0.0</td>\n",
       "      <td>68190.000000</td>\n",
       "      <td>202.000000</td>\n",
       "    </tr>\n",
       "  </tbody>\n",
       "</table>\n",
       "</div>"
      ],
      "text/plain": [
       "              ID  Country      VehID        KmInit       KmFinal  FuelBought  \\\n",
       "count  10.000000      9.0  10.000000     10.000000     10.000000   10.000000   \n",
       "mean   38.400000      1.0  14.300000  66125.000000  66364.900000   14.460000   \n",
       "std    12.868566      0.0   7.273239   5975.499142   6048.875753   35.338863   \n",
       "min    30.000000      1.0  12.000000  49180.000000  49219.000000    0.000000   \n",
       "25%    32.250000      1.0  12.000000  67533.750000  67848.500000    0.000000   \n",
       "50%    35.000000      1.0  12.000000  67961.000000  68129.000000    0.000000   \n",
       "75%    37.750000      1.0  12.000000  68360.000000  68480.250000    0.000000   \n",
       "max    74.000000      1.0  35.000000  68737.000000  69389.000000  110.220001   \n",
       "\n",
       "        AmountFuel  CashFuel  AmountCash        FuelKm    DriverID  \n",
       "count    10.000000      10.0        10.0     10.000000   10.000000  \n",
       "mean   1151.500000       0.0         0.0  11739.000000   21.100000  \n",
       "std    2750.367703       0.0         0.0  25149.497212   63.561781  \n",
       "min       0.000000       0.0         0.0      0.000000    1.000000  \n",
       "25%       0.000000       0.0         0.0      0.000000    1.000000  \n",
       "50%       0.000000       0.0         0.0      0.000000    1.000000  \n",
       "75%       0.000000       0.0         0.0      0.000000    1.000000  \n",
       "max    8500.000000       0.0         0.0  68190.000000  202.000000  "
      ]
     },
     "execution_count": 9,
     "metadata": {},
     "output_type": "execute_result"
    }
   ],
   "source": [
    "df.describe()"
   ]
  },
  {
   "cell_type": "code",
   "execution_count": 10,
   "metadata": {
    "ExecuteTime": {
     "end_time": "2020-03-06T01:50:05.516815Z",
     "start_time": "2020-03-06T01:50:02.655370Z"
    }
   },
   "outputs": [
    {
     "data": {
      "text/plain": [
       "array([[<matplotlib.axes._subplots.AxesSubplot object at 0x000002797F709448>,\n",
       "        <matplotlib.axes._subplots.AxesSubplot object at 0x000002797F76A4C8>,\n",
       "        <matplotlib.axes._subplots.AxesSubplot object at 0x000002797F7A1E48>],\n",
       "       [<matplotlib.axes._subplots.AxesSubplot object at 0x000002797F7D7788>,\n",
       "        <matplotlib.axes._subplots.AxesSubplot object at 0x000002797F80F888>,\n",
       "        <matplotlib.axes._subplots.AxesSubplot object at 0x000002797F848988>],\n",
       "       [<matplotlib.axes._subplots.AxesSubplot object at 0x000002797F87F948>,\n",
       "        <matplotlib.axes._subplots.AxesSubplot object at 0x000002797F8B7A48>,\n",
       "        <matplotlib.axes._subplots.AxesSubplot object at 0x000002797F8C4648>],\n",
       "       [<matplotlib.axes._subplots.AxesSubplot object at 0x000002797F8FB808>,\n",
       "        <matplotlib.axes._subplots.AxesSubplot object at 0x000002797F95FD88>,\n",
       "        <matplotlib.axes._subplots.AxesSubplot object at 0x000002797F997E48>]],\n",
       "      dtype=object)"
      ]
     },
     "execution_count": 10,
     "metadata": {},
     "output_type": "execute_result"
    },
    {
     "data": {
      "image/png": "[encoded data removed]",
      "text/plain": [
       "<Figure size 1440x1080 with 12 Axes>"
      ]
     },
     "metadata": {
      "needs_background": "light"
     },
     "output_type": "display_data"
    }
   ],
   "source": [
    "%matplotlib inline\n",
    "df.hist(bins=50, figsize=(20,15))\n",
    "plt.show()"
   ]
  },
  {
   "cell_type": "code",
   "execution_count": 11,
   "metadata": {
    "ExecuteTime": {
     "end_time": "2020-03-06T01:50:10.558040Z",
     "start_time": "2020-03-06T01:50:05.520810Z"
    },
    "scrolled": false
   },
   "outputs": [
    {
     "data": {
      "text/html": [
       "<meta charset=\"UTF-8\">\n",
       "\n",
       "<style>\n",
       "\n",
       "        .variablerow {\n",
       "            border: 1px solid #e1e1e8;\n",
       "            border-top: hidden;\n",
       "            padding-top: 2em;\n",
       "            padding-bottom: 2em;\n",
       "            padding-left: 1em;\n",
       "            padding-right: 1em;\n",
       "        }\n",
       "\n",
       "        .headerrow {\n",
       "            border: 1px solid #e1e1e8;\n",
       "            background-color: #f5f5f5;\n",
       "            padding: 2em;\n",
       "        }\n",
       "        .namecol {\n",
       "            margin-top: -1em;\n",
       "            overflow-x: auto;\n",
       "        }\n",
       "\n",
       "        .dl-horizontal dt {\n",
       "            text-align: left;\n",
       "            padding-right: 1em;\n",
       "            white-space: normal;\n",
       "        }\n",
       "\n",
       "        .dl-horizontal dd {\n",
       "            margin-left: 0;\n",
       "        }\n",
       "\n",
       "        .ignore {\n",
       "            opacity: 0.4;\n",
       "        }\n",
       "\n",
       "        .container.pandas-profiling {\n",
       "            max-width:975px;\n",
       "        }\n",
       "\n",
       "        .col-md-12 {\n",
       "            padding-left: 2em;\n",
       "        }\n",
       "\n",
       "        .indent {\n",
       "            margin-left: 1em;\n",
       "        }\n",
       "\n",
       "        .center-img {\n",
       "            margin-left: auto !important;\n",
       "            margin-right: auto !important;\n",
       "            display: block;\n",
       "        }\n",
       "\n",
       "        /* Table example_values */\n",
       "            table.example_values {\n",
       "                border: 0;\n",
       "            }\n",
       "\n",
       "            .example_values th {\n",
       "                border: 0;\n",
       "                padding: 0 ;\n",
       "                color: #555;\n",
       "                font-weight: 600;\n",
       "            }\n",
       "\n",
       "            .example_values tr, .example_values td{\n",
       "                border: 0;\n",
       "                padding: 0;\n",
       "                color: #555;\n",
       "            }\n",
       "\n",
       "        /* STATS */\n",
       "            table.stats {\n",
       "                border: 0;\n",
       "            }\n",
       "\n",
       "            .stats th {\n",
       "                border: 0;\n",
       "                padding: 0 2em 0 0;\n",
       "                color: #555;\n",
       "                font-weight: 600;\n",
       "            }\n",
       "\n",
       "            .stats tr {\n",
       "                border: 0;\n",
       "            }\n",
       "\n",
       "            .stats td{\n",
       "                color: #555;\n",
       "                padding: 1px;\n",
       "                border: 0;\n",
       "            }\n",
       "\n",
       "\n",
       "        /* Sample table */\n",
       "            table.sample {\n",
       "                border: 0;\n",
       "                margin-bottom: 2em;\n",
       "                margin-left:1em;\n",
       "            }\n",
       "            .sample tr {\n",
       "                border:0;\n",
       "            }\n",
       "            .sample td, .sample th{\n",
       "                padding: 0.5em;\n",
       "                white-space: nowrap;\n",
       "                border: none;\n",
       "\n",
       "            }\n",
       "\n",
       "            .sample thead {\n",
       "                border-top: 0;\n",
       "                border-bottom: 2px solid #ddd;\n",
       "            }\n",
       "\n",
       "            .sample td {\n",
       "                width:100%;\n",
       "            }\n",
       "\n",
       "\n",
       "        /* There is no good solution available to make the divs equal height and then center ... */\n",
       "            .histogram {\n",
       "                margin-top: 3em;\n",
       "            }\n",
       "        /* Freq table */\n",
       "\n",
       "            table.freq {\n",
       "                margin-bottom: 2em;\n",
       "                border: 0;\n",
       "            }\n",
       "            table.freq th, table.freq tr, table.freq td {\n",
       "                border: 0;\n",
       "                padding: 0;\n",
       "            }\n",
       "\n",
       "            .freq thead {\n",
       "                font-weight: 600;\n",
       "                white-space: nowrap;\n",
       "                overflow: hidden;\n",
       "                text-overflow: ellipsis;\n",
       "\n",
       "            }\n",
       "\n",
       "            td.fillremaining{\n",
       "                width:auto;\n",
       "                max-width: none;\n",
       "            }\n",
       "\n",
       "            td.number, th.number {\n",
       "                text-align:right ;\n",
       "            }\n",
       "\n",
       "        /* Freq mini */\n",
       "            .freq.mini td{\n",
       "                width: 50%;\n",
       "                padding: 1px;\n",
       "                font-size: 12px;\n",
       "\n",
       "            }\n",
       "            table.freq.mini {\n",
       "                 width:100%;\n",
       "            }\n",
       "            .freq.mini th {\n",
       "                overflow: hidden;\n",
       "                text-overflow: ellipsis;\n",
       "                white-space: nowrap;\n",
       "                max-width: 5em;\n",
       "                font-weight: 400;\n",
       "                text-align:right;\n",
       "                padding-right: 0.5em;\n",
       "            }\n",
       "\n",
       "            .missing {\n",
       "                color: #a94442;\n",
       "            }\n",
       "            .alert, .alert > th, .alert > td {\n",
       "                color: #a94442;\n",
       "            }\n",
       "\n",
       "\n",
       "        /* Bars in tables */\n",
       "            .freq .bar{\n",
       "                float: left;\n",
       "                width: 0;\n",
       "                height: 100%;\n",
       "                line-height: 20px;\n",
       "                color: #fff;\n",
       "                text-align: center;\n",
       "                background-color: #337ab7;\n",
       "                border-radius: 3px;\n",
       "                margin-right: 4px;\n",
       "            }\n",
       "            .other .bar {\n",
       "                background-color: #999;\n",
       "            }\n",
       "            .missing .bar{\n",
       "                background-color: #a94442;\n",
       "            }\n",
       "            .tooltip-inner {\n",
       "                width: 100%;\n",
       "                white-space: nowrap;\n",
       "                text-align:left;\n",
       "            }\n",
       "\n",
       "            .extrapadding{\n",
       "                padding: 2em;\n",
       "            }\n",
       "\n",
       "            .pp-anchor{\n",
       "\n",
       "            }\n",
       "\n",
       "</style>\n",
       "\n",
       "<div class=\"container pandas-profiling\">\n",
       "    <div class=\"row headerrow highlight\">\n",
       "        <h1>Overview</h1>\n",
       "    </div>\n",
       "    <div class=\"row variablerow\">\n",
       "    <div class=\"col-md-6 namecol\">\n",
       "        <p class=\"h4\">Dataset info</p>\n",
       "        <table class=\"stats\" style=\"margin-left: 1em;\">\n",
       "            <tbody>\n",
       "            <tr>\n",
       "                <th>Number of variables</th>\n",
       "                <td>13 </td>\n",
       "            </tr>\n",
       "            <tr>\n",
       "                <th>Number of observations</th>\n",
       "                <td>10 </td>\n",
       "            </tr>\n",
       "            <tr>\n",
       "                <th>Total Missing (%)</th>\n",
       "                <td>6.2% </td>\n",
       "            </tr>\n",
       "            <tr>\n",
       "                <th>Total size in memory</th>\n",
       "                <td>1.1 KiB </td>\n",
       "            </tr>\n",
       "            <tr>\n",
       "                <th>Average record size in memory</th>\n",
       "                <td>116.8 B </td>\n",
       "            </tr>\n",
       "            </tbody>\n",
       "        </table>\n",
       "    </div>\n",
       "    <div class=\"col-md-6 namecol\">\n",
       "        <p class=\"h4\">Variables types</p>\n",
       "        <table class=\"stats\" style=\"margin-left: 1em;\">\n",
       "            <tbody>\n",
       "            <tr>\n",
       "                <th>Numeric</th>\n",
       "                <td>3 </td>\n",
       "            </tr>\n",
       "            <tr>\n",
       "                <th>Categorical</th>\n",
       "                <td>2 </td>\n",
       "            </tr>\n",
       "            <tr>\n",
       "                <th>Boolean</th>\n",
       "                <td>1 </td>\n",
       "            </tr>\n",
       "            <tr>\n",
       "                <th>Date</th>\n",
       "                <td>0 </td>\n",
       "            </tr>\n",
       "            <tr>\n",
       "                <th>Text (Unique)</th>\n",
       "                <td>0 </td>\n",
       "            </tr>\n",
       "            <tr>\n",
       "                <th>Rejected</th>\n",
       "                <td>7 </td>\n",
       "            </tr>\n",
       "            <tr>\n",
       "                <th>Unsupported</th>\n",
       "                <td>0 </td>\n",
       "            </tr>\n",
       "            </tbody>\n",
       "        </table>\n",
       "    </div>\n",
       "    <div class=\"col-md-12\" style=\"padding-left: 1em;\">\n",
       "        \n",
       "        <p class=\"h4\">Warnings</p>\n",
       "        <ul class=\"list-unstyled\"><li><a href=\"#pp_var_Country\"><code>Country</code></a> has 1 / 10.0% missing values <span class=\"label label-default\">Missing</span></li><li><a href=\"#pp_var_VehID\"><code>VehID</code></a> is highly correlated with <a href=\"#pp_var_ID\"><code>ID</code></a> (ρ = 0.97202) <span class=\"label label-primary\">Rejected</span></li><li><a href=\"#pp_var_Destination\"><code>Destination</code></a> has 7 / 70.0% missing values <span class=\"label label-default\">Missing</span></li><li><a href=\"#pp_var_KmFinal\"><code>KmFinal</code></a> is highly correlated with <a href=\"#pp_var_KmInit\"><code>KmInit</code></a> (ρ = 0.99951) <span class=\"label label-primary\">Rejected</span></li><li><a href=\"#pp_var_FuelBought\"><code>FuelBought</code></a> has 8 / 80.0% zeros <span class=\"label label-info\">Zeros</span></li><li><a href=\"#pp_var_AmountFuel\"><code>AmountFuel</code></a> is highly correlated with <a href=\"#pp_var_FuelBought\"><code>FuelBought</code></a> (ρ = 0.99916) <span class=\"label label-primary\">Rejected</span></li><li><a href=\"#pp_var_CashFuel\"><code>CashFuel</code></a> has constant value 0 <span class=\"label label-primary\">Rejected</span></li><li><a href=\"#pp_var_AmountCash\"><code>AmountCash</code></a> has constant value 0 <span class=\"label label-primary\">Rejected</span></li><li><a href=\"#pp_var_FuelKm\"><code>FuelKm</code></a> is highly correlated with <a href=\"#pp_var_AmountFuel\"><code>AmountFuel</code></a> (ρ = 0.9522) <span class=\"label label-primary\">Rejected</span></li><li><a href=\"#pp_var_DriverID\"><code>DriverID</code></a> is highly correlated with <a href=\"#pp_var_VehID\"><code>VehID</code></a> (ρ = 1) <span class=\"label label-primary\">Rejected</span></li> </ul>\n",
       "    </div>\n",
       "</div>\n",
       "    <div class=\"row headerrow highlight\">\n",
       "        <h1>Variables</h1>\n",
       "    </div>\n",
       "    <div class=\"row variablerow\">\n",
       "    <div class=\"col-md-3 namecol\">\n",
       "        <p class=\"h4 pp-anchor\" id=\"pp_var_ID\">ID<br/>\n",
       "            <small>Numeric</small>\n",
       "        </p>\n",
       "    </div><div class=\"col-md-6\">\n",
       "    <div class=\"row\">\n",
       "        <div class=\"col-sm-6\">\n",
       "            <table class=\"stats \">\n",
       "                <tr>\n",
       "                    <th>Distinct count</th>\n",
       "                    <td>10</td>\n",
       "                </tr>\n",
       "                <tr>\n",
       "                    <th>Unique (%)</th>\n",
       "                    <td>100.0%</td>\n",
       "                </tr>\n",
       "                <tr class=\"ignore\">\n",
       "                    <th>Missing (%)</th>\n",
       "                    <td>0.0%</td>\n",
       "                </tr>\n",
       "                <tr class=\"ignore\">\n",
       "                    <th>Missing (n)</th>\n",
       "                    <td>0</td>\n",
       "                </tr>\n",
       "                <tr class=\"ignore\">\n",
       "                    <th>Infinite (%)</th>\n",
       "                    <td>0.0%</td>\n",
       "                </tr>\n",
       "                <tr class=\"ignore\">\n",
       "                    <th>Infinite (n)</th>\n",
       "                    <td>0</td>\n",
       "                </tr>\n",
       "            </table>\n",
       "\n",
       "        </div>\n",
       "        <div class=\"col-sm-6\">\n",
       "            <table class=\"stats \">\n",
       "\n",
       "                <tr>\n",
       "                    <th>Mean</th>\n",
       "                    <td>38.4</td>\n",
       "                </tr>\n",
       "                <tr>\n",
       "                    <th>Minimum</th>\n",
       "                    <td>30</td>\n",
       "                </tr>\n",
       "                <tr>\n",
       "                    <th>Maximum</th>\n",
       "                    <td>74</td>\n",
       "                </tr>\n",
       "                <tr class=\"ignore\">\n",
       "                    <th>Zeros (%)</th>\n",
       "                    <td>0.0%</td>\n",
       "                </tr>\n",
       "            </table>\n",
       "        </div>\n",
       "    </div>\n",
       "</div>\n",
       "<div class=\"col-md-3 collapse in\" id=\"minihistogram-4786758854203751184\">\n",
       "    <img src=\"data:image/png;base64,iVBORw0KGgoAAAANSUhEUgAAAMgAAABLCAYAAAA1fMjoAAAABHNCSVQICAgIfAhkiAAAAAlwSFlzAAAPYQAAD2EBqD%2BnaQAAADh0RVh0U29mdHdhcmUAbWF0cGxvdGxpYiB2ZXJzaW9uMy4xLjIsIGh0dHA6Ly9tYXRwbG90bGliLm9yZy8li6FKAAABsElEQVR4nO3bQW7TUBSG0euIqb2AyN5FF8GeGLMnFsEubGUBjjpgQMwAwqTlF1TtM67OGSZS7ovzPllW9Lpt27ZqbFmWmqap9VgObp7nGsex6cwPTaf90vd9Vf38wsMw7LEEDmRd15qm6fe%2BaWmXQLquq6qqYRieBPLw6cs/f97Xzx9fZV383%2B77pqVT84lwIAKBQCAQCAQCgUAgEAgEAoFAIBAIBAKBQCAQCAQCgUAgEAgEAoFAIBAIBAKBYJcjt6/NMV3eijsIBAKBQCAQCAQCgUAgEAgEAoFAIBAIBAKBQCAQCAQCgUAgEAgEAoFAIBAIBO/iROFLOIX49t7DNXYHgUAgEAgEAoFAIBAIBAKBQCAQCAS7/FG4bVtVVa3r%2BuS9798eWy/nrz23Xv7sJb/lc9f4/tp937TUbTtMXZalpmlqPZaDm%2Be5xnFsOnOXQG63W10ul%2Br7vrquaz2eg9m2ra7Xa53P5zqd2j4V7BIIHIWHdAgEAoFAIBAIBAKBQCAQCAQCgUAgEAgEAoFAIBAIBAKBQCAQCAQCgUAgEAgEAoFAIBAIBAKBQCAQCASCHyjiUl1Pe4NMAAAAAElFTkSuQmCC\">\n",
       "\n",
       "</div>\n",
       "<div class=\"col-md-12 text-right\">\n",
       "    <a role=\"button\" data-toggle=\"collapse\" data-target=\"#descriptives-4786758854203751184,#minihistogram-4786758854203751184\"\n",
       "       aria-expanded=\"false\" aria-controls=\"collapseExample\">\n",
       "        Toggle details\n",
       "    </a>\n",
       "</div>\n",
       "<div class=\"row collapse col-md-12\" id=\"descriptives-4786758854203751184\">\n",
       "    <ul class=\"nav nav-tabs\" role=\"tablist\">\n",
       "        <li role=\"presentation\" class=\"active\"><a href=\"#quantiles-4786758854203751184\"\n",
       "                                                  aria-controls=\"quantiles-4786758854203751184\" role=\"tab\"\n",
       "                                                  data-toggle=\"tab\">Statistics</a></li>\n",
       "        <li role=\"presentation\"><a href=\"#histogram-4786758854203751184\" aria-controls=\"histogram-4786758854203751184\"\n",
       "                                   role=\"tab\" data-toggle=\"tab\">Histogram</a></li>\n",
       "        <li role=\"presentation\"><a href=\"#common-4786758854203751184\" aria-controls=\"common-4786758854203751184\"\n",
       "                                   role=\"tab\" data-toggle=\"tab\">Common Values</a></li>\n",
       "        <li role=\"presentation\"><a href=\"#extreme-4786758854203751184\" aria-controls=\"extreme-4786758854203751184\"\n",
       "                                   role=\"tab\" data-toggle=\"tab\">Extreme Values</a></li>\n",
       "\n",
       "    </ul>\n",
       "\n",
       "    <div class=\"tab-content\">\n",
       "        <div role=\"tabpanel\" class=\"tab-pane active row\" id=\"quantiles-4786758854203751184\">\n",
       "            <div class=\"col-md-4 col-md-offset-1\">\n",
       "                <p class=\"h4\">Quantile statistics</p>\n",
       "                <table class=\"stats indent\">\n",
       "                    <tr>\n",
       "                        <th>Minimum</th>\n",
       "                        <td>30</td>\n",
       "                    </tr>\n",
       "                    <tr>\n",
       "                        <th>5-th percentile</th>\n",
       "                        <td>30.45</td>\n",
       "                    </tr>\n",
       "                    <tr>\n",
       "                        <th>Q1</th>\n",
       "                        <td>32.25</td>\n",
       "                    </tr>\n",
       "                    <tr>\n",
       "                        <th>Median</th>\n",
       "                        <td>35</td>\n",
       "                    </tr>\n",
       "                    <tr>\n",
       "                        <th>Q3</th>\n",
       "                        <td>37.75</td>\n",
       "                    </tr>\n",
       "                    <tr>\n",
       "                        <th>95-th percentile</th>\n",
       "                        <td>58.25</td>\n",
       "                    </tr>\n",
       "                    <tr>\n",
       "                        <th>Maximum</th>\n",
       "                        <td>74</td>\n",
       "                    </tr>\n",
       "                    <tr>\n",
       "                        <th>Range</th>\n",
       "                        <td>44</td>\n",
       "                    </tr>\n",
       "                    <tr>\n",
       "                        <th>Interquartile range</th>\n",
       "                        <td>5.5</td>\n",
       "                    </tr>\n",
       "                </table>\n",
       "            </div>\n",
       "            <div class=\"col-md-4 col-md-offset-2\">\n",
       "                <p class=\"h4\">Descriptive statistics</p>\n",
       "                <table class=\"stats indent\">\n",
       "                    <tr>\n",
       "                        <th>Standard deviation</th>\n",
       "                        <td>12.869</td>\n",
       "                    </tr>\n",
       "                    <tr>\n",
       "                        <th>Coef of variation</th>\n",
       "                        <td>0.33512</td>\n",
       "                    </tr>\n",
       "                    <tr>\n",
       "                        <th>Kurtosis</th>\n",
       "                        <td>8.5309</td>\n",
       "                    </tr>\n",
       "                    <tr>\n",
       "                        <th>Mean</th>\n",
       "                        <td>38.4</td>\n",
       "                    </tr>\n",
       "                    <tr>\n",
       "                        <th>MAD</th>\n",
       "                        <td>7.24</td>\n",
       "                    </tr>\n",
       "                    <tr class=\"\">\n",
       "                        <th>Skewness</th>\n",
       "                        <td>2.8415</td>\n",
       "                    </tr>\n",
       "                    <tr>\n",
       "                        <th>Sum</th>\n",
       "                        <td>384</td>\n",
       "                    </tr>\n",
       "                    <tr>\n",
       "                        <th>Variance</th>\n",
       "                        <td>165.6</td>\n",
       "                    </tr>\n",
       "                    <tr>\n",
       "                        <th>Memory size</th>\n",
       "                        <td>208.0 B</td>\n",
       "                    </tr>\n",
       "                </table>\n",
       "            </div>\n",
       "        </div>\n",
       "        <div role=\"tabpanel\" class=\"tab-pane col-md-8 col-md-offset-2\" id=\"histogram-4786758854203751184\">\n",
       "            <img src=\"data:image/png;base64,iVBORw0KGgoAAAANSUhEUgAAAlgAAAGQCAYAAAByNR6YAAAABHNCSVQICAgIfAhkiAAAAAlwSFlzAAAPYQAAD2EBqD%2BnaQAAADh0RVh0U29mdHdhcmUAbWF0cGxvdGxpYiB2ZXJzaW9uMy4xLjIsIGh0dHA6Ly9tYXRwbG90bGliLm9yZy8li6FKAAAcWklEQVR4nO3df5BV9Xn48Wdl4aLIroji7gZit0SiglADTly0hqChJZqkdZKJ8UcgxjRkCJEQqyLTCNPKMjam0aGhgUSjNS2aabRmGkHJVKBDibBKJWgNDSasCgKpssDIRdnz/aPjne9mSVj1s3uWs6/XzJ3xnnP28MRPuPv23LN3q7IsywIAgGSOy3sAAICiEVgAAIkJLACAxAQWAEBiAgsAIDGBBQCQmMACAEhMYAEAJCawAAASE1gAAIkJLACAxAQWAEBiAgsAIDGBBQCQmMACAEhMYAEAJCawAAASE1gAAIkJLACAxAQWAEBiAgsAIDGBBQCQmMACAEhMYAEAJCawAAASE1gAAIkJLACAxAQWAEBiAgsAIDGBBQCQmMACAEhMYAEAJCawAAASE1gAAIkJLACAxAQWAEBiAgsAIDGBBQCQWHXeA/QF7e3t8fLLL8fgwYOjqqoq73EAoE/Isiz27dsXDQ0NcdxxPXtNSWD1gJdffjlGjBiR9xgA0Ce1trbG8OHDe/TPFFg9YPDgwRHxfwtcU1OT8zQA0De0tbXFiBEjKt%2BHe5LA6gFvvS1YU1MjsACgh%2BVxe46b3AEAEhNYAACJCSwAgMQEFgBAYgILACAxgQUAkJjAAgBITGABACQmsI5i/vz5UVVV1eFRV1eX91gAQC/mk9y7YPTo0bFq1arK8379%2BuU4DQDQ2wmsLqiurnbVCgDoMm8RdsHWrVujoaEhGhsb44orroht27b93uPL5XK0tbV1eAAAfYcrWEfxwQ9%2BMO67774YNWpUvPLKK/E3f/M3MXHixNiyZUsMHTr0iF/T3NwcCxYs6JH5Jsxb0SN/Tgobb/vTvEcAgB5RlWVZlvcQx5IDBw7EyJEj48Ybb4w5c%2BYc8ZhyuRzlcrnyvK2tLUaMGBF79%2B6NmpqapPMILAA4sra2tqitre2W779H4wrW2zRo0KA455xzYuvWrb/zmFKpFKVSqQenAgB6E/dgvU3lcjmee%2B65qK%2Bvz3sUAKCXElhHccMNN8Tq1avjhRdeiJ/97GfxyU9%2BMtra2mLatGl5jwYA9FLeIjyKF198MT7zmc/Enj174tRTT43zzz8/1q9fH6effnreowEAvZTAOorly5fnPQIAcIzxFiEAQGICCwAgMYEFAJCYwAIASExgAQAkJrAAABITWAAAiQksAIDEBBYAQGICCwAgMYEFAJCYwAIASExgAQAkJrAAABITWAAAiQksAIDEBBYAQGICCwAgMYEFAJCYwAIASExgAQAkJrAAABITWAAAiQksAIDEBBYAQGICCwAgMYEFAJCYwAIASExgAQAkJrAAABITWAAAiQksAIDEBBYAQGICCwAgMYEFAJCYwAIASExgAQAkJrAAABITWAAAiQksAIDEBBYAQGICCwAgMYEFAJCYwAIASExgAQAkJrAAABITWAAAiQksAIDEBBYAQGICCwAgMYH1NjU3N0dVVVXMnj0771EAgF5KYL0NGzZsiKVLl8bYsWPzHgUA6MUEVhft378/rrrqqli2bFkMGTIk73EAgF5MYHXRzJkz49JLL41LLrnkqMeWy%2BVoa2vr8AAA%2Bo7qvAc4FixfvjxaWlpi48aNXTq%2Bubk5FixY0M1TAQC9lStYR9Ha2hrXX399/OAHP4iBAwd26Wvmzp0be/furTxaW1u7eUoAoDdxBesoWlpaYteuXTF%2B/PjKtsOHD8eaNWti8eLFUS6Xo1%2B/fh2%2BplQqRalU6ulRAYBeQmAdxcUXXxybN2/usO1zn/tcnHnmmXHTTTd1iisAAIF1FIMHD44xY8Z02DZo0KAYOnRop%2B0AABHuwQIASM4VrHfgiSeeyHsEAKAXcwULACAxgQUAkJjAAgBITGABACQmsAAAEhNYAACJCSwAgMQEFgBAYgILACAxgQUAkJjAAgBITGABACQmsAAAEhNYAACJCSwAgMQEFgBAYgILACAxgQUAkJjAAgBITGABACQmsAAAEhNYAACJCSwAgMQEFgBAYgILACAxgQUAkJjAAgBITGABACQmsAAAEhNYAACJCSwAgMQEFgBAYgILACAxgQUAkJjAAgBITGABACQmsAAAEhNYAACJCSwAgMQEFgBAYgILACAxgQUAkJjAAgBIrNCBdf/998fBgwfzHgMA6GMKHVhz5syJurq6%2BOIXvxhPPvlk3uMAAH1EoQPr5Zdfjrvvvjt27NgRF154YYwePTruuOOO2L17d96jAQAFVujAqq6ujssvvzweeeSR2L59e0ybNi3uvvvuGD58eFx%2B%2BeXxb//2b5FlWd5jAgAFU%2BjA%2Bv/V1dXFxRdfHJMmTYqqqqrYuHFjXHnllXHGGWfE2rVr8x4PACiQwgfWnj174lvf%2BlaMGzcuLrjggti1a1c8/PDD8etf/zpeeumluOyyy%2BKzn/1s3mMCAAVSnfcA3enP//zP4yc/%2BUk0NjbGddddF9OmTYtTTz21sv/EE0%2BMG2%2B8Me66664cpwQAiqbQV7Bqampi1apV8d///d9xww03dIirt9TX18fWrVt/73mWLFkSY8eOjZqamqipqYmmpqZ49NFHu2tsAOAYV%2BgrWPfee%2B9Rj6mqqoqRI0f%2B3mOGDx8eixYtive9732V837iE5%2BIp59%2BOkaPHp1kVgCgOAp9BeurX/1qLF68uNP2v//7v4%2Bvfe1rXT7Pxz72sfjoRz8ao0aNilGjRsVtt90WJ554Yqxfvz7luABAQRQ6sH74wx/G%2Beef32l7U1NTPPDAA%2B/onIcPH47ly5fHgQMHoqmp6YjHlMvlaGtr6/AAAPqOQr9FuGfPnhgyZEin7TU1NbFnz563da7NmzdHU1NTHDx4ME488cR46KGH4uyzzz7isc3NzbFgwYJ3NHORTZi3Iu8R3paNt/1p3iMAcIwq9BWskSNHxsqVKzttX7lyZTQ2Nr6tc73//e%2BPTZs2xfr16%2BNLX/pSTJs2LZ599tkjHjt37tzYu3dv5dHa2vqO5gcAjk2FvoI1e/bsmD17dvzmN7%2BJyZMnR0TET3/607j99tvjG9/4xts614ABAyo3uU%2BYMCE2bNgQd955Z3znO9/pdGypVIpSqfTu/wcAAMekQgfWF77whTh48GAsXLgwbr311oj4v58IvOuuu%2BLaa699V%2BfOsizK5XKKMQGAgil0YEVEzJo1K2bNmhU7duyI448/Pk466aS3fY5bbrklpk6dGiNGjIh9%2B/bF8uXL44knnogVK46te4oAgJ5R%2BMB6S319/Tv%2B2ldeeSWuueaa2LFjR9TW1sbYsWNjxYoV8ZGPfCThhABAURQ6sHbv3h033nhj/PSnP41du3ZFe3t7h/2HDh3q0nm%2B973vdcd4AEBBFTqwpk%2BfHr/85S/jL//yL6O%2Bvj6qqqryHgkA6AMKHVhr1qyJNWvWxLnnnpv3KABAH1Loz8EaPny4q1YAQI8rdGD93d/9XcydOzdefPHFvEcBAPqQQr9FeM0118S%2Bffvi9NNPj5qamujfv3%2BH/bt27cppMgCgyAodWIsWLcp7BACgDyp0YH3%2B85/PewQAoA8q9D1YERG/%2BtWvYv78%2BXHNNddU3hJ87LHH4rnnnst5MgCgqAodWGvXro3Ro0fH6tWr48EHH4z9%2B/dHRMRTTz0VX//613OeDgAoqkIH1k033RTz58%2BPf//3f48BAwZUtk%2BePDnWr1%2Bf42QAQJEVOrCeeeaZ%2BOQnP9lp%2B7Bhw2L37t05TAQA9AWFDqyTTjopdu7c2Wn7pk2b4j3veU8OEwEAfUGhA%2BuKK66Im2%2B%2BOXbv3l35RPef/exnccMNN8TVV1%2Bd83QAQFEVOrAWLlwYdXV1UV9fH/v374%2Bzzz47Jk6cGOedd1781V/9Vd7jAQAFVejPwRowYEA88MAD8Ytf/CKeeuqpaG9vjw984ANx5pln5j0aAFBghQ6st4waNSpGjRqV9xgAQB9R6MD6i7/4i9%2B7f%2BnSpT00CQDQlxQ6sHbs2NHh%2BRtvvBFbtmyJffv2xUUXXZTTVABA0RU6sH784x932vbmm2/Gl770pTjrrLNymAgA6AsK/VOER1JdXR033HBD/O3f/m3eowAABdXnAisiYtu2bfHGG2/kPQYAUFCFfovwxhtv7PA8y7LYsWNHPPLII3HVVVflNBUAUHSFDqz//M//7PD8uOOOi1NPPTUWLVoUX/jCF3KaCgAoukIH1tq1a/MeAQDog/rkPVgAAN2p0FewzjvvvMoveT6aJ598spunAQD6ikIH1oc//OH4zne%2BE6NGjYqmpqaIiFi/fn08//zz8cUvfjFKpVLOEwIARVTowHrttddi5syZsXDhwg7b582bF6%2B88kp897vfzWkyAKDICn0P1oMPPhif%2B9znOm2fPn16/PCHP8xhIgCgLyh0YJVKpVi3bl2n7evWrfP2IADQbQr9FuFXvvKVmDFjRjz99NNx/vnnR8T/3YO1bNmyuOWWW3KeDgAoqkIH1rx586KxsTHuvPPOuPvuuyMi4qyzzoply5bFlVdemfN0AEBRFTqwIiKuvPJKMQUA9KhC34MVEdHW1hbf//734%2Btf/3q8%2BuqrERHxX//1X7Fjx46cJwMAiqrQV7B%2B/vOfxyWXXBInnHBCtLa2xvTp02PIkCHx4IMPxosvvhj33ntv3iMCAAVU6CtYX/3qV%2BPKK6%2BMX/7ylzFw4MDK9ksvvTTWrFmT42QAQJEV%2BgrWhg0bYsmSJZ1%2BXc573vMebxECAN2m0FewBgwYEPv37%2B%2B0fevWrXHKKafkMBEA0BcUOrA%2B/vGPx1//9V/Hm2%2B%2BGRERVVVV8dJLL8XNN98cl19%2Bec7TAQBFVejAuuOOO%2BLll1%2BOurq6eP3112Py5Mnxh3/4hzFw4MBOv58QACCVQt%2BDVVtbG%2BvWrYvHH388nnrqqWhvb48PfOAD8Sd/8ied7ssCAEilsIH1xhtvxEc/%2BtH49re/HVOmTIkpU6bkPRIA0EcU9i3C/v37x9NPP%2B1KFQDQ4wobWBERV199ddxzzz15jwEA9DGFfYvwLYsXL45Vq1bFhAkTYtCgQR323X777TlNBQAUWaEDq6WlJcaOHRsREc8880yHfd46BAC6SyEDa9u2bdHY2Bhr167NexQAoA8q5D1YZ5xxRuzevbvy/NOf/nS88sorOU4EAPQlhQysLMs6PP/JT34SBw4cyGkaAKCvKWRgAQDkqZCBVVVV1ekm9ndzU3tzc3Ocd955MXjw4Bg2bFj82Z/9WTz//PPvdkwAoKAKeZN7lmUxffr0KJVKERFx8ODBmDFjRqePafjRj37UpfOtXr06Zs6cGeedd168%2BeabMW/evJgyZUo8%2B%2Byznc4JAFDIwJo2bVqH51dfffW7Ot%2BKFSs6PL/nnnti2LBh0dLSEhdddNG7OjcAUDyFDKzu/vT2vXv3RkTEySeffMT95XI5yuVy5XlbW1u3zgMA9C6FvAerO2VZFnPmzIkLL7wwxowZc8Rjmpubo7a2tvIYMWJED08JAORJYL1NX/7yl%2BOZZ56Jf/7nf/6dx8ydOzf27t1bebS2tvbghABA3gr5FmF3mTVrVjzyyCOxZs2aGD58%2BO88rlQqVW6wBwD6HoHVBVmWxaxZs%2BKhhx6KJ554IhobG/MeCQDoxQRWF8ycOTP%2B6Z/%2BKf71X/81Bg8eHDt37oyIiNra2jj%2B%2BONzng4A6G3cg9UFS5Ysib1798akSZOivr6%2B8njggQfyHg0A6IVcweqC3/7dhgAAv48rWAAAiQksAIDEBBYAQGICCwAgMYEFAJCYwAIASExgAQAkJrAAABITWAAAiQksAIDEBBYAQGICCwAgMYEFAJCYwAIASExgAQAkJrAAABITWAAAiQksAIDEBBYAQGICCwAgMYEFAJCYwAIASExgAQAkJrAAABITWAAAiQksAIDEBBYAQGICCwAgMYEFAJCYwAIASExgAQAkJrAAABITWAAAiQksAIDEBBYAQGICCwAgMYEFAJCYwAIASExgAQAkJrAAABITWAAAiQksAIDEBBYAQGICCwAgMYEFAJCYwAIASExgAQAkJrAAABITWAAAiQksAIDEBFYXrFmzJj72sY9FQ0NDVFVVxcMPP5z3SABALyawuuDAgQMxbty4WLx4cd6jAADHgOq8BzgWTJ06NaZOnZr3GADAMUJgdYNyuRzlcrnyvK2tLcdpAICeJrC6QXNzcyxYsCDvMXiXJsxbkfcIb8vG2/407xGAXuZYeh0r2muYe7C6wdy5c2Pv3r2VR2tra94jAQA9yBWsblAqlaJUKuU9BgCQE1ewAAAScwWrC/bv3x//8z//U3n%2BwgsvxKZNm%2BLkk0%2BO9773vTlOBgD0RgKrCzZu3Bgf/vCHK8/nzJkTERHTpk2L73//%2BzlNBQD0VgKrCyZNmhRZluU9BgBwjHAPFgBAYgILACAxgQUAkJjAAgBITGABACQmsAAAEhNYAACJCSwAgMQEFgBAYgILACAxgQUAkJjAAgBITGABACQmsAAAEhNYAACJCSwAgMQEFgBAYgILACAxgQUAkJjAAgBITGABACQmsAAAEhNYAACJCSwAgMQEFgBAYgILACAxgQUAkJjAAgBITGABACQmsAAAEhNYAACJCSwAgMQEFgBAYgILACAxgQUAkJjAAgBITGABACQmsAAAEhNYAACJCSwAgMQEFgBAYgILACAxgQUAkJjAAgBITGABACQmsAAAEhNYAACJCSwAgMQEFgBAYgILACAxgdVF3/72t6OxsTEGDhwY48ePj7Vr1%2BY9EgDQSwmsLnjggQdi9uzZMW/evHj66afjj//4j2Pq1Kmxffv2vEcDAHohgdUF3/zmN%2BPzn/98XHfddXHWWWfFt771rRgxYkQsWbIk79EAgF6oOu8BertDhw5FS0tL3HzzzR22T5kyJdatW3fErymXy1EulyvP9%2B7dGxERbW1tyec7XD6Q/Jwcm7rj/1/Ase1Y%2Bh7RHa9hb50zy7Lk5z4agXUUe/bsicOHD8dpp53WYftpp50WO3fuPOLXNDc3x4IFCzptHzFiRLfMCBERtXfkPQHAO9edr2H79u2L2tra7vsDjkBgdVFVVVWH51mWddr2lrlz58acOXMqz9vb2%2BN///d/Y%2BjQob/za96Jtra2GDFiRLS2tkZNTU2y8/L2WYvew1r0Htaid%2BmL65FlWezbty8aGhp6/M8WWEdxyimnRL9%2B/Tpdrdq1a1enq1pvKZVKUSqVOmw76aSTum3GmpqaPvOXpbezFr2Hteg9rEXv0tfWo6evXL3FTe5HMWDAgBg/fnw8/vjjHbY//vjjMXHixJymAgB6M1ewumDOnDlxzTXXxIQJE6KpqSmWLl0a27dvjxkzZuQ9GgDQC/WbP3/%2B/LyH6O3GjBkTQ4cOjYULF8Y3vvGNeP311%2BMf//EfY9y4cXmPFv369YtJkyZFdbVWzpu16D2sRe9hLXoX69FzqrI8fnYRAKDA3IMFAJCYwAIASExgAQAkJrAAABITWL3ckiVLYuzYsZUPhmtqaopHH320sr9cLsesWbPilFNOiUGDBsXHP/7xePHFF3OcuO9obm6OqqqqmD17dmWb9egZ8%2BfPj6qqqg6Purq6yv4sy2L%2B/PnR0NAQxx9/fEyaNCm2bNmS48TF99JLL8XVV18dQ4cOjRNOOCH%2B6I/%2BKFpaWir7rUnP%2BIM/%2BINOfzeqqqpi5syZEeE1qicJrF5u%2BPDhsWjRoti4cWNs3LgxJk%2BeHJ/4xCcqL0yzZ8%2BOhx56KJYvXx7/8R//Efv374/LLrssDh8%2BnPPkxbZhw4ZYunRpjB07tsN269FzRo8eHTt27Kg8Nm/eXNl3%2B%2B23xze/%2Bc1YvHhxbNiwIerq6uIjH/lI7Nu3L8eJi%2BvVV1%2BNCy64IPr37x%2BPPvpoPPvss3HHHXd0%2BA0W1qRnbNiwocPfi7c%2BJPtTn/pURHiN6lEZx5whQ4Zk3/3ud7PXXnst69%2B/f7Z8%2BfLKvpdeeik77rjjshUrVuQ4YbHt27cvO%2BOMM7LHH388%2B9CHPpRdf/31WZZl1qMH3Xrrrdm4ceOOuK%2B9vT2rq6vLFi1aVNl28ODBrLa2NvuHf/iHnhqxT7npppuyCy%2B88Hfutyb5uf7667ORI0dm7e3tXqN6mCtYx5DDhw/H8uXL48CBA9HU1BQtLS3xxhtvxJQpUyrHNDQ0xJgxY2LdunU5TlpsM2fOjEsvvTQuueSSDtutR8/aunVrNDQ0RGNjY1xxxRWxbdu2iIh44YUXYufOnR3WoVQqxYc%2B9CHr0E0eeeSRmDBhQnzqU5%2BKYcOGxbnnnhvLli2r7Lcm%2BTh06FDcf//9ce2110ZVVZXXqB4msI4BmzdvjhNPPDFKpVLMmDEjHnrooTj77LNj586dMWDAgBgyZEiH40877bROv5yaNJYvXx4tLS3R3NzcaZ/16Dkf/OAH47777ouVK1fGsmXLYufOnTFx4sT4zW9%2BU/l3/du/jN06dJ9t27bFkiVL4owzzoiVK1fGjBkz4itf%2BUrcd999ERHWJCcPP/xwvPbaazF9%2BvSI8BrV03xW/jHg/e9/f2zatClee%2B21%2BJd/%2BZeYNm1arF69%2Bncen2VZVFVV9eCEfUNra2tcf/318dhjj8XAgQO7/HXWI72pU6dW/vmcc86JpqamGDlyZNx7771x/vnnR0R0%2BnduHbpPe3t7TJgwIRYuXBgREeeee25s2bIllixZEp/97Gcrx1mTnvW9730vpk6dGg0NDb/3OOvQPVzBOgYMGDAg3ve%2B98WECROiubk5xo0bF3feeWfU1dXFoUOH4tVXX%2B1w/K5duzr9lyLvXktLS%2BzatSvGjx8f1dXVUV1dHatXr4677rorqqur47TTTrMeORk0aFCcc845sXXr1spPE/72f5Fbh%2B5TX18fZ599dodtZ511Vmzfvj0iwprk4Ne//nWsWrUqrrvuuso23zN6lsA6BmVZFuVyOcaPHx/9%2B/ev/JRIRMSOHTvi5z//eUycODHHCYvp4osvjs2bN8emTZsqjwkTJsRVV11V%2BWfrkY9yuRzPPfdc1NfXR2NjY9TV1XVYh0OHDsXq1autQze54IIL4vnnn%2B%2Bw7Re/%2BEWcfvrpERHWJAf33HNPDBs2LC699NLKNt8zelied9hzdHPnzs3WrFmTvfDCC9kzzzyT3XLLLdlxxx2XPfbYY1mWZdmMGTOy4cOHZ6tWrcqeeuqpbPLkydm4ceOyN998M%2BfJ%2B4b//6cIs8x69JSvfe1r2RNPPJFt27YtW79%2BfXbZZZdlgwcPzn71q19lWZZlixYtympra7Mf/ehH2ebNm7PPfOYzWX19fdbW1pbz5MX05JNPZtXV1dltt92Wbd26NfvBD36QnXDCCdn9999fOcaa9JzDhw9n733ve7Obbrqp0z6vUT1HYPVy1157bXb66adnAwYMyE499dTs4osvrsRVlmXZ66%2B/nn35y1/OTj755Oz444/PLrvssmz79u05Tty3/HZgWY%2Be8elPfzqrr6/P%2BvfvnzU0NGSXX355tmXLlsr%2B9vb27NZbb83q6uqyUqmUXXTRRdnmzZtznLj4fvzjH2djxozJSqVSduaZZ2ZLly7tsN%2Ba9JyVK1dmEZE9//zznfZ5jeo5VVmWZXlfRQMAKBL3YAEAJCawAAASE1gAAIkJLACAxAQWAEBiAgsAIDGBBQCQmMACAEhMYAEAJCawAAASE1gAAIkJLACAxAQWAEBiAgsAIDGBBQCQmMACAEhMYAEAJCawAAAS%2B39V3LeGr%2Bc6xQAAAABJRU5ErkJggg%3D%3D\"/>\n",
       "        </div>\n",
       "        <div role=\"tabpanel\" class=\"tab-pane col-md-12\" id=\"common-4786758854203751184\">\n",
       "            \n",
       "<table class=\"freq table table-hover\">\n",
       "    <thead>\n",
       "    <tr>\n",
       "        <td class=\"fillremaining\">Value</td>\n",
       "        <td class=\"number\">Count</td>\n",
       "        <td class=\"number\">Frequency (%)</td>\n",
       "        <td style=\"min-width:200px\">&nbsp;</td>\n",
       "    </tr>\n",
       "    </thead>\n",
       "    <tr class=\"\">\n",
       "        <td class=\"fillremaining\">31</td>\n",
       "        <td class=\"number\">1</td>\n",
       "        <td class=\"number\">10.0%</td>\n",
       "        <td>\n",
       "            <div class=\"bar\" style=\"width:100%\">&nbsp;</div>\n",
       "        </td>\n",
       "</tr><tr class=\"\">\n",
       "        <td class=\"fillremaining\">30</td>\n",
       "        <td class=\"number\">1</td>\n",
       "        <td class=\"number\">10.0%</td>\n",
       "        <td>\n",
       "            <div class=\"bar\" style=\"width:100%\">&nbsp;</div>\n",
       "        </td>\n",
       "</tr><tr class=\"\">\n",
       "        <td class=\"fillremaining\">74</td>\n",
       "        <td class=\"number\">1</td>\n",
       "        <td class=\"number\">10.0%</td>\n",
       "        <td>\n",
       "            <div class=\"bar\" style=\"width:100%\">&nbsp;</div>\n",
       "        </td>\n",
       "</tr><tr class=\"\">\n",
       "        <td class=\"fillremaining\">39</td>\n",
       "        <td class=\"number\">1</td>\n",
       "        <td class=\"number\">10.0%</td>\n",
       "        <td>\n",
       "            <div class=\"bar\" style=\"width:100%\">&nbsp;</div>\n",
       "        </td>\n",
       "</tr><tr class=\"\">\n",
       "        <td class=\"fillremaining\">38</td>\n",
       "        <td class=\"number\">1</td>\n",
       "        <td class=\"number\">10.0%</td>\n",
       "        <td>\n",
       "            <div class=\"bar\" style=\"width:100%\">&nbsp;</div>\n",
       "        </td>\n",
       "</tr><tr class=\"\">\n",
       "        <td class=\"fillremaining\">37</td>\n",
       "        <td class=\"number\">1</td>\n",
       "        <td class=\"number\">10.0%</td>\n",
       "        <td>\n",
       "            <div class=\"bar\" style=\"width:100%\">&nbsp;</div>\n",
       "        </td>\n",
       "</tr><tr class=\"\">\n",
       "        <td class=\"fillremaining\">36</td>\n",
       "        <td class=\"number\">1</td>\n",
       "        <td class=\"number\">10.0%</td>\n",
       "        <td>\n",
       "            <div class=\"bar\" style=\"width:100%\">&nbsp;</div>\n",
       "        </td>\n",
       "</tr><tr class=\"\">\n",
       "        <td class=\"fillremaining\">34</td>\n",
       "        <td class=\"number\">1</td>\n",
       "        <td class=\"number\">10.0%</td>\n",
       "        <td>\n",
       "            <div class=\"bar\" style=\"width:100%\">&nbsp;</div>\n",
       "        </td>\n",
       "</tr><tr class=\"\">\n",
       "        <td class=\"fillremaining\">33</td>\n",
       "        <td class=\"number\">1</td>\n",
       "        <td class=\"number\">10.0%</td>\n",
       "        <td>\n",
       "            <div class=\"bar\" style=\"width:100%\">&nbsp;</div>\n",
       "        </td>\n",
       "</tr><tr class=\"\">\n",
       "        <td class=\"fillremaining\">32</td>\n",
       "        <td class=\"number\">1</td>\n",
       "        <td class=\"number\">10.0%</td>\n",
       "        <td>\n",
       "            <div class=\"bar\" style=\"width:100%\">&nbsp;</div>\n",
       "        </td>\n",
       "</tr>\n",
       "</table>\n",
       "        </div>\n",
       "        <div role=\"tabpanel\" class=\"tab-pane col-md-12\"  id=\"extreme-4786758854203751184\">\n",
       "            <p class=\"h4\">Minimum 5 values</p>\n",
       "            \n",
       "<table class=\"freq table table-hover\">\n",
       "    <thead>\n",
       "    <tr>\n",
       "        <td class=\"fillremaining\">Value</td>\n",
       "        <td class=\"number\">Count</td>\n",
       "        <td class=\"number\">Frequency (%)</td>\n",
       "        <td style=\"min-width:200px\">&nbsp;</td>\n",
       "    </tr>\n",
       "    </thead>\n",
       "    <tr class=\"\">\n",
       "        <td class=\"fillremaining\">30</td>\n",
       "        <td class=\"number\">1</td>\n",
       "        <td class=\"number\">10.0%</td>\n",
       "        <td>\n",
       "            <div class=\"bar\" style=\"width:100%\">&nbsp;</div>\n",
       "        </td>\n",
       "</tr><tr class=\"\">\n",
       "        <td class=\"fillremaining\">31</td>\n",
       "        <td class=\"number\">1</td>\n",
       "        <td class=\"number\">10.0%</td>\n",
       "        <td>\n",
       "            <div class=\"bar\" style=\"width:100%\">&nbsp;</div>\n",
       "        </td>\n",
       "</tr><tr class=\"\">\n",
       "        <td class=\"fillremaining\">32</td>\n",
       "        <td class=\"number\">1</td>\n",
       "        <td class=\"number\">10.0%</td>\n",
       "        <td>\n",
       "            <div class=\"bar\" style=\"width:100%\">&nbsp;</div>\n",
       "        </td>\n",
       "</tr><tr class=\"\">\n",
       "        <td class=\"fillremaining\">33</td>\n",
       "        <td class=\"number\">1</td>\n",
       "        <td class=\"number\">10.0%</td>\n",
       "        <td>\n",
       "            <div class=\"bar\" style=\"width:100%\">&nbsp;</div>\n",
       "        </td>\n",
       "</tr><tr class=\"\">\n",
       "        <td class=\"fillremaining\">34</td>\n",
       "        <td class=\"number\">1</td>\n",
       "        <td class=\"number\">10.0%</td>\n",
       "        <td>\n",
       "            <div class=\"bar\" style=\"width:100%\">&nbsp;</div>\n",
       "        </td>\n",
       "</tr>\n",
       "</table>\n",
       "            <p class=\"h4\">Maximum 5 values</p>\n",
       "            \n",
       "<table class=\"freq table table-hover\">\n",
       "    <thead>\n",
       "    <tr>\n",
       "        <td class=\"fillremaining\">Value</td>\n",
       "        <td class=\"number\">Count</td>\n",
       "        <td class=\"number\">Frequency (%)</td>\n",
       "        <td style=\"min-width:200px\">&nbsp;</td>\n",
       "    </tr>\n",
       "    </thead>\n",
       "    <tr class=\"\">\n",
       "        <td class=\"fillremaining\">36</td>\n",
       "        <td class=\"number\">1</td>\n",
       "        <td class=\"number\">10.0%</td>\n",
       "        <td>\n",
       "            <div class=\"bar\" style=\"width:100%\">&nbsp;</div>\n",
       "        </td>\n",
       "</tr><tr class=\"\">\n",
       "        <td class=\"fillremaining\">37</td>\n",
       "        <td class=\"number\">1</td>\n",
       "        <td class=\"number\">10.0%</td>\n",
       "        <td>\n",
       "            <div class=\"bar\" style=\"width:100%\">&nbsp;</div>\n",
       "        </td>\n",
       "</tr><tr class=\"\">\n",
       "        <td class=\"fillremaining\">38</td>\n",
       "        <td class=\"number\">1</td>\n",
       "        <td class=\"number\">10.0%</td>\n",
       "        <td>\n",
       "            <div class=\"bar\" style=\"width:100%\">&nbsp;</div>\n",
       "        </td>\n",
       "</tr><tr class=\"\">\n",
       "        <td class=\"fillremaining\">39</td>\n",
       "        <td class=\"number\">1</td>\n",
       "        <td class=\"number\">10.0%</td>\n",
       "        <td>\n",
       "            <div class=\"bar\" style=\"width:100%\">&nbsp;</div>\n",
       "        </td>\n",
       "</tr><tr class=\"\">\n",
       "        <td class=\"fillremaining\">74</td>\n",
       "        <td class=\"number\">1</td>\n",
       "        <td class=\"number\">10.0%</td>\n",
       "        <td>\n",
       "            <div class=\"bar\" style=\"width:100%\">&nbsp;</div>\n",
       "        </td>\n",
       "</tr>\n",
       "</table>\n",
       "        </div>\n",
       "    </div>\n",
       "</div>\n",
       "</div><div class=\"row variablerow\">\n",
       "    <div class=\"col-md-3 namecol\">\n",
       "        <p class=\"h4 pp-anchor\" id=\"pp_var_Date\">Date<br/>\n",
       "            <small>Categorical</small>\n",
       "        </p>\n",
       "    </div><div class=\"col-md-3\">\n",
       "    <table class=\"stats \">\n",
       "        <tr class=\"\">\n",
       "            <th>Distinct count</th>\n",
       "            <td>9</td>\n",
       "        </tr>\n",
       "        <tr>\n",
       "            <th>Unique (%)</th>\n",
       "            <td>90.0%</td>\n",
       "        </tr>\n",
       "        <tr class=\"ignore\">\n",
       "            <th>Missing (%)</th>\n",
       "            <td>0.0%</td>\n",
       "        </tr>\n",
       "        <tr class=\"ignore\">\n",
       "            <th>Missing (n)</th>\n",
       "            <td>0</td>\n",
       "        </tr>\n",
       "    </table>\n",
       "</div>\n",
       "<div class=\"col-md-6 collapse in\" id=\"minifreqtable-280213040816980069\">\n",
       "    <table class=\"mini freq\">\n",
       "        <tr class=\"\">\n",
       "    <th>1/14/2008</th>\n",
       "    <td>\n",
       "        <div class=\"bar\" style=\"width:34%\" data-toggle=\"tooltip\" data-placement=\"right\" data-html=\"true\"\n",
       "             data-delay=500 title=\"Percentage: 20.0%\">\n",
       "            2\n",
       "        </div>\n",
       "        \n",
       "    </td>\n",
       "</tr><tr class=\"\">\n",
       "    <th>1/17/2008</th>\n",
       "    <td>\n",
       "        <div class=\"bar\" style=\"width:17%\" data-toggle=\"tooltip\" data-placement=\"right\" data-html=\"true\"\n",
       "             data-delay=500 title=\"Percentage: 10.0%\">\n",
       "            &nbsp;\n",
       "        </div>\n",
       "        1\n",
       "    </td>\n",
       "</tr><tr class=\"\">\n",
       "    <th>1/24/2008</th>\n",
       "    <td>\n",
       "        <div class=\"bar\" style=\"width:17%\" data-toggle=\"tooltip\" data-placement=\"right\" data-html=\"true\"\n",
       "             data-delay=500 title=\"Percentage: 10.0%\">\n",
       "            &nbsp;\n",
       "        </div>\n",
       "        1\n",
       "    </td>\n",
       "</tr><tr class=\"other\">\n",
       "    <th>Other values (6)</th>\n",
       "    <td>\n",
       "        <div class=\"bar\" style=\"width:100%\" data-toggle=\"tooltip\" data-placement=\"right\" data-html=\"true\"\n",
       "             data-delay=500 title=\"Percentage: 60.0%\">\n",
       "            6\n",
       "        </div>\n",
       "        \n",
       "    </td>\n",
       "</tr>\n",
       "    </table>\n",
       "</div>\n",
       "<div class=\"col-md-12 text-right\">\n",
       "    <a role=\"button\" data-toggle=\"collapse\" data-target=\"#freqtable-280213040816980069, #minifreqtable-280213040816980069\"\n",
       "       aria-expanded=\"true\" aria-controls=\"collapseExample\">\n",
       "        Toggle details\n",
       "    </a>\n",
       "</div>\n",
       "<div class=\"col-md-12 extrapadding collapse\" id=\"freqtable-280213040816980069\">\n",
       "    \n",
       "<table class=\"freq table table-hover\">\n",
       "    <thead>\n",
       "    <tr>\n",
       "        <td class=\"fillremaining\">Value</td>\n",
       "        <td class=\"number\">Count</td>\n",
       "        <td class=\"number\">Frequency (%)</td>\n",
       "        <td style=\"min-width:200px\">&nbsp;</td>\n",
       "    </tr>\n",
       "    </thead>\n",
       "    <tr class=\"\">\n",
       "        <td class=\"fillremaining\">1/14/2008</td>\n",
       "        <td class=\"number\">2</td>\n",
       "        <td class=\"number\">20.0%</td>\n",
       "        <td>\n",
       "            <div class=\"bar\" style=\"width:100%\">&nbsp;</div>\n",
       "        </td>\n",
       "</tr><tr class=\"\">\n",
       "        <td class=\"fillremaining\">1/17/2008</td>\n",
       "        <td class=\"number\">1</td>\n",
       "        <td class=\"number\">10.0%</td>\n",
       "        <td>\n",
       "            <div class=\"bar\" style=\"width:50%\">&nbsp;</div>\n",
       "        </td>\n",
       "</tr><tr class=\"\">\n",
       "        <td class=\"fillremaining\">1/24/2008</td>\n",
       "        <td class=\"number\">1</td>\n",
       "        <td class=\"number\">10.0%</td>\n",
       "        <td>\n",
       "            <div class=\"bar\" style=\"width:50%\">&nbsp;</div>\n",
       "        </td>\n",
       "</tr><tr class=\"\">\n",
       "        <td class=\"fillremaining\">1/19/2008</td>\n",
       "        <td class=\"number\">1</td>\n",
       "        <td class=\"number\">10.0%</td>\n",
       "        <td>\n",
       "            <div class=\"bar\" style=\"width:50%\">&nbsp;</div>\n",
       "        </td>\n",
       "</tr><tr class=\"\">\n",
       "        <td class=\"fillremaining\">1/23/2008</td>\n",
       "        <td class=\"number\">1</td>\n",
       "        <td class=\"number\">10.0%</td>\n",
       "        <td>\n",
       "            <div class=\"bar\" style=\"width:50%\">&nbsp;</div>\n",
       "        </td>\n",
       "</tr><tr class=\"\">\n",
       "        <td class=\"fillremaining\">1/26/2008</td>\n",
       "        <td class=\"number\">1</td>\n",
       "        <td class=\"number\">10.0%</td>\n",
       "        <td>\n",
       "            <div class=\"bar\" style=\"width:50%\">&nbsp;</div>\n",
       "        </td>\n",
       "</tr><tr class=\"\">\n",
       "        <td class=\"fillremaining\">1/11/2008</td>\n",
       "        <td class=\"number\">1</td>\n",
       "        <td class=\"number\">10.0%</td>\n",
       "        <td>\n",
       "            <div class=\"bar\" style=\"width:50%\">&nbsp;</div>\n",
       "        </td>\n",
       "</tr><tr class=\"\">\n",
       "        <td class=\"fillremaining\">1/6/2008</td>\n",
       "        <td class=\"number\">1</td>\n",
       "        <td class=\"number\">10.0%</td>\n",
       "        <td>\n",
       "            <div class=\"bar\" style=\"width:50%\">&nbsp;</div>\n",
       "        </td>\n",
       "</tr><tr class=\"\">\n",
       "        <td class=\"fillremaining\">1/22/2008</td>\n",
       "        <td class=\"number\">1</td>\n",
       "        <td class=\"number\">10.0%</td>\n",
       "        <td>\n",
       "            <div class=\"bar\" style=\"width:50%\">&nbsp;</div>\n",
       "        </td>\n",
       "</tr>\n",
       "</table>\n",
       "</div>\n",
       "</div><div class=\"row variablerow\">\n",
       "    <div class=\"col-md-3 namecol\">\n",
       "        <p class=\"h4 pp-anchor\" id=\"pp_var_Country\">Country<br/>\n",
       "            <small>Boolean</small>\n",
       "        </p>\n",
       "    </div><div class=\"col-md-6\">\n",
       "    <div class=\"row\">\n",
       "        <div class=\"col-sm-6\">\n",
       "            <table class=\"stats \">\n",
       "                <tr class=\"\">\n",
       "                    <th>Distinct count</th>\n",
       "                    <td>2</td>\n",
       "                </tr>\n",
       "                <tr>\n",
       "                    <th>Unique (%)</th>\n",
       "                    <td>20.0%</td>\n",
       "                </tr>\n",
       "                <tr class=\"alert\">\n",
       "                    <th>Missing (%)</th>\n",
       "                    <td>10.0%</td>\n",
       "                </tr>\n",
       "                <tr class=\"alert\">\n",
       "                    <th>Missing (n)</th>\n",
       "                    <td>1</td>\n",
       "                </tr>\n",
       "            </table>\n",
       "        </div>\n",
       "        <div class=\"col-sm-6\">\n",
       "            <table class=\"stats \">\n",
       "                <tr>\n",
       "                    <th>Mean</th>\n",
       "                    <td>1</td>\n",
       "                </tr>\n",
       "            </table>\n",
       "        </div>\n",
       "    </div>\n",
       "</div>\n",
       "<div class=\"col-md-3 collapse in\" id=\"minifreqtable-3230714139620899983\">\n",
       "    <table class=\"mini freq\">\n",
       "        <tr class=\"\">\n",
       "    <th>1.0</th>\n",
       "    <td>\n",
       "        <div class=\"bar\" style=\"width:100%\" data-toggle=\"tooltip\" data-placement=\"right\" data-html=\"true\"\n",
       "             data-delay=500 title=\"Percentage: 90.0%\">\n",
       "            9\n",
       "        </div>\n",
       "        \n",
       "    </td>\n",
       "</tr><tr class=\"missing\">\n",
       "    <th>(Missing)</th>\n",
       "    <td>\n",
       "        <div class=\"bar\" style=\"width:12%\" data-toggle=\"tooltip\" data-placement=\"right\" data-html=\"true\"\n",
       "             data-delay=500 title=\"Percentage: 10.0%\">\n",
       "            &nbsp;\n",
       "        </div>\n",
       "        1\n",
       "    </td>\n",
       "</tr>\n",
       "    </table>\n",
       "</div>\n",
       "<div class=\"col-md-12 text-right\">\n",
       "    <a role=\"button\" data-toggle=\"collapse\" data-target=\"#freqtable-3230714139620899983, #minifreqtable-3230714139620899983\"\n",
       "        aria-expanded=\"true\" aria-controls=\"collapseExample\">\n",
       "        Toggle details\n",
       "    </a>\n",
       "</div>\n",
       "<div class=\"col-md-12 extrapadding collapse\" id=\"freqtable-3230714139620899983\">\n",
       "    \n",
       "<table class=\"freq table table-hover\">\n",
       "    <thead>\n",
       "    <tr>\n",
       "        <td class=\"fillremaining\">Value</td>\n",
       "        <td class=\"number\">Count</td>\n",
       "        <td class=\"number\">Frequency (%)</td>\n",
       "        <td style=\"min-width:200px\">&nbsp;</td>\n",
       "    </tr>\n",
       "    </thead>\n",
       "    <tr class=\"\">\n",
       "        <td class=\"fillremaining\">1.0</td>\n",
       "        <td class=\"number\">9</td>\n",
       "        <td class=\"number\">90.0%</td>\n",
       "        <td>\n",
       "            <div class=\"bar\" style=\"width:100%\">&nbsp;</div>\n",
       "        </td>\n",
       "</tr><tr class=\"missing\">\n",
       "        <td class=\"fillremaining\">(Missing)</td>\n",
       "        <td class=\"number\">1</td>\n",
       "        <td class=\"number\">10.0%</td>\n",
       "        <td>\n",
       "            <div class=\"bar\" style=\"width:12%\">&nbsp;</div>\n",
       "        </td>\n",
       "</tr>\n",
       "</table>\n",
       "</div>\n",
       "</div><div class=\"row variablerow ignore\">\n",
       "    <div class=\"col-md-3 namecol\">\n",
       "        <p class=\"h4 pp-anchor\" id=\"pp_var_VehID\"><s>VehID</s><br/>\n",
       "            <small>Highly correlated</small>\n",
       "        </p>\n",
       "    </div><div class=\"col-md-3\">\n",
       "    <p><em>This variable is highly correlated with <a href=\"#pp_var_ID\"><code>ID</code></a> and should be ignored for analysis</em></p>\n",
       "</div>\n",
       "<div class=\"col-md-6\">\n",
       "    <table class=\"stats \">\n",
       "        <tr>\n",
       "            <th>Correlation</th>\n",
       "            <td>0.97202</td>\n",
       "        </tr>\n",
       "    </table>\n",
       "</div>\n",
       "</div><div class=\"row variablerow\">\n",
       "    <div class=\"col-md-3 namecol\">\n",
       "        <p class=\"h4 pp-anchor\" id=\"pp_var_Destination\">Destination<br/>\n",
       "            <small>Categorical</small>\n",
       "        </p>\n",
       "    </div><div class=\"col-md-3\">\n",
       "    <table class=\"stats \">\n",
       "        <tr class=\"\">\n",
       "            <th>Distinct count</th>\n",
       "            <td>4</td>\n",
       "        </tr>\n",
       "        <tr>\n",
       "            <th>Unique (%)</th>\n",
       "            <td>40.0%</td>\n",
       "        </tr>\n",
       "        <tr class=\"alert\">\n",
       "            <th>Missing (%)</th>\n",
       "            <td>70.0%</td>\n",
       "        </tr>\n",
       "        <tr class=\"alert\">\n",
       "            <th>Missing (n)</th>\n",
       "            <td>7</td>\n",
       "        </tr>\n",
       "    </table>\n",
       "</div>\n",
       "<div class=\"col-md-6 collapse in\" id=\"minifreqtable-4956779200187597759\">\n",
       "    <table class=\"mini freq\">\n",
       "        <tr class=\"\">\n",
       "    <th>Kakuru - Within Town</th>\n",
       "    <td>\n",
       "        <div class=\"bar\" style=\"width:15%\" data-toggle=\"tooltip\" data-placement=\"right\" data-html=\"true\"\n",
       "             data-delay=500 title=\"Percentage: 10.0%\">\n",
       "            &nbsp;\n",
       "        </div>\n",
       "        1\n",
       "    </td>\n",
       "</tr><tr class=\"\">\n",
       "    <th>Nakuru - Mogotio - Nakuru</th>\n",
       "    <td>\n",
       "        <div class=\"bar\" style=\"width:15%\" data-toggle=\"tooltip\" data-placement=\"right\" data-html=\"true\"\n",
       "             data-delay=500 title=\"Percentage: 10.0%\">\n",
       "            &nbsp;\n",
       "        </div>\n",
       "        1\n",
       "    </td>\n",
       "</tr><tr class=\"\">\n",
       "    <th>Nakuru - IDP Camps within  Nakuru</th>\n",
       "    <td>\n",
       "        <div class=\"bar\" style=\"width:15%\" data-toggle=\"tooltip\" data-placement=\"right\" data-html=\"true\"\n",
       "             data-delay=500 title=\"Percentage: 10.0%\">\n",
       "            &nbsp;\n",
       "        </div>\n",
       "        1\n",
       "    </td>\n",
       "</tr><tr class=\"missing\">\n",
       "    <th>(Missing)</th>\n",
       "    <td>\n",
       "        <div class=\"bar\" style=\"width:100%\" data-toggle=\"tooltip\" data-placement=\"right\" data-html=\"true\"\n",
       "             data-delay=500 title=\"Percentage: 70.0%\">\n",
       "            7\n",
       "        </div>\n",
       "        \n",
       "    </td>\n",
       "</tr>\n",
       "    </table>\n",
       "</div>\n",
       "<div class=\"col-md-12 text-right\">\n",
       "    <a role=\"button\" data-toggle=\"collapse\" data-target=\"#freqtable-4956779200187597759, #minifreqtable-4956779200187597759\"\n",
       "       aria-expanded=\"true\" aria-controls=\"collapseExample\">\n",
       "        Toggle details\n",
       "    </a>\n",
       "</div>\n",
       "<div class=\"col-md-12 extrapadding collapse\" id=\"freqtable-4956779200187597759\">\n",
       "    \n",
       "<table class=\"freq table table-hover\">\n",
       "    <thead>\n",
       "    <tr>\n",
       "        <td class=\"fillremaining\">Value</td>\n",
       "        <td class=\"number\">Count</td>\n",
       "        <td class=\"number\">Frequency (%)</td>\n",
       "        <td style=\"min-width:200px\">&nbsp;</td>\n",
       "    </tr>\n",
       "    </thead>\n",
       "    <tr class=\"\">\n",
       "        <td class=\"fillremaining\">Kakuru - Within Town</td>\n",
       "        <td class=\"number\">1</td>\n",
       "        <td class=\"number\">10.0%</td>\n",
       "        <td>\n",
       "            <div class=\"bar\" style=\"width:15%\">&nbsp;</div>\n",
       "        </td>\n",
       "</tr><tr class=\"\">\n",
       "        <td class=\"fillremaining\">Nakuru - Mogotio - Nakuru</td>\n",
       "        <td class=\"number\">1</td>\n",
       "        <td class=\"number\">10.0%</td>\n",
       "        <td>\n",
       "            <div class=\"bar\" style=\"width:15%\">&nbsp;</div>\n",
       "        </td>\n",
       "</tr><tr class=\"\">\n",
       "        <td class=\"fillremaining\">Nakuru - IDP Camps within  Nakuru</td>\n",
       "        <td class=\"number\">1</td>\n",
       "        <td class=\"number\">10.0%</td>\n",
       "        <td>\n",
       "            <div class=\"bar\" style=\"width:15%\">&nbsp;</div>\n",
       "        </td>\n",
       "</tr><tr class=\"missing\">\n",
       "        <td class=\"fillremaining\">(Missing)</td>\n",
       "        <td class=\"number\">7</td>\n",
       "        <td class=\"number\">70.0%</td>\n",
       "        <td>\n",
       "            <div class=\"bar\" style=\"width:100%\">&nbsp;</div>\n",
       "        </td>\n",
       "</tr>\n",
       "</table>\n",
       "</div>\n",
       "</div><div class=\"row variablerow\">\n",
       "    <div class=\"col-md-3 namecol\">\n",
       "        <p class=\"h4 pp-anchor\" id=\"pp_var_KmInit\">KmInit<br/>\n",
       "            <small>Numeric</small>\n",
       "        </p>\n",
       "    </div><div class=\"col-md-6\">\n",
       "    <div class=\"row\">\n",
       "        <div class=\"col-sm-6\">\n",
       "            <table class=\"stats \">\n",
       "                <tr>\n",
       "                    <th>Distinct count</th>\n",
       "                    <td>10</td>\n",
       "                </tr>\n",
       "                <tr>\n",
       "                    <th>Unique (%)</th>\n",
       "                    <td>100.0%</td>\n",
       "                </tr>\n",
       "                <tr class=\"ignore\">\n",
       "                    <th>Missing (%)</th>\n",
       "                    <td>0.0%</td>\n",
       "                </tr>\n",
       "                <tr class=\"ignore\">\n",
       "                    <th>Missing (n)</th>\n",
       "                    <td>0</td>\n",
       "                </tr>\n",
       "                <tr class=\"ignore\">\n",
       "                    <th>Infinite (%)</th>\n",
       "                    <td>0.0%</td>\n",
       "                </tr>\n",
       "                <tr class=\"ignore\">\n",
       "                    <th>Infinite (n)</th>\n",
       "                    <td>0</td>\n",
       "                </tr>\n",
       "            </table>\n",
       "\n",
       "        </div>\n",
       "        <div class=\"col-sm-6\">\n",
       "            <table class=\"stats \">\n",
       "\n",
       "                <tr>\n",
       "                    <th>Mean</th>\n",
       "                    <td>66125</td>\n",
       "                </tr>\n",
       "                <tr>\n",
       "                    <th>Minimum</th>\n",
       "                    <td>49180</td>\n",
       "                </tr>\n",
       "                <tr>\n",
       "                    <th>Maximum</th>\n",
       "                    <td>68737</td>\n",
       "                </tr>\n",
       "                <tr class=\"ignore\">\n",
       "                    <th>Zeros (%)</th>\n",
       "                    <td>0.0%</td>\n",
       "                </tr>\n",
       "            </table>\n",
       "        </div>\n",
       "    </div>\n",
       "</div>\n",
       "<div class=\"col-md-3 collapse in\" id=\"minihistogram7344943653517527785\">\n",
       "    <img src=\"data:image/png;base64,iVBORw0KGgoAAAANSUhEUgAAAMgAAABLCAYAAAA1fMjoAAAABHNCSVQICAgIfAhkiAAAAAlwSFlzAAAPYQAAD2EBqD%2BnaQAAADh0RVh0U29mdHdhcmUAbWF0cGxvdGxpYiB2ZXJzaW9uMy4xLjIsIGh0dHA6Ly9tYXRwbG90bGliLm9yZy8li6FKAAABpUlEQVR4nO3XzY2bUBSG4YM1WyjAgi6miOlp1tPTFDFdgFwAVhZZxGSROIv8fJKl5CKi51mC4FzL9xW63bZtWzW2LEtN09R6LAc3z3ON49h05lPTad/1fV9V337wMAx7LIEDWde1pmn6sW9a2iWQruuqqmoYBoH8x55f3x9%2B5uPt5Y/37vumpVPziXAgAoFAIBAIBAKBQCAQCAQCgUAgEAgEAoFAIBAIBAKBQCAQCAQCgUAgEAgEAoFAIBAIBAKBQCAQCAQCgUAgEAgEAoFAIBAIBAKBQCAQCAQCgUAgEAgEAoFAIBAIBAKBQCAQCAQCgUAgEAgET3sv4GfPr%2B8PP/Px9vIPVgK%2BIBAJBAKBQLDLGWTbtqqqWtf1l3tfPn96%2BH2/ew/7%2B1v/5f3afd%2B01G07TF2WpaZpaj2Wg5vnucZxbDpzl0But1tdLpfq%2B766rms9noPZtq2u12udz%2Bc6ndqeCnYJBI7CIR0CgUAgEAgEAoFAIBAIBAKBQCAQCAQCgUAgEAgEAoFAIBAIBAKBQCAQCAQCgUAgEAgEAoFAIBAIBAKB4CvTy0xbKox44gAAAABJRU5ErkJggg%3D%3D\">\n",
       "\n",
       "</div>\n",
       "<div class=\"col-md-12 text-right\">\n",
       "    <a role=\"button\" data-toggle=\"collapse\" data-target=\"#descriptives7344943653517527785,#minihistogram7344943653517527785\"\n",
       "       aria-expanded=\"false\" aria-controls=\"collapseExample\">\n",
       "        Toggle details\n",
       "    </a>\n",
       "</div>\n",
       "<div class=\"row collapse col-md-12\" id=\"descriptives7344943653517527785\">\n",
       "    <ul class=\"nav nav-tabs\" role=\"tablist\">\n",
       "        <li role=\"presentation\" class=\"active\"><a href=\"#quantiles7344943653517527785\"\n",
       "                                                  aria-controls=\"quantiles7344943653517527785\" role=\"tab\"\n",
       "                                                  data-toggle=\"tab\">Statistics</a></li>\n",
       "        <li role=\"presentation\"><a href=\"#histogram7344943653517527785\" aria-controls=\"histogram7344943653517527785\"\n",
       "                                   role=\"tab\" data-toggle=\"tab\">Histogram</a></li>\n",
       "        <li role=\"presentation\"><a href=\"#common7344943653517527785\" aria-controls=\"common7344943653517527785\"\n",
       "                                   role=\"tab\" data-toggle=\"tab\">Common Values</a></li>\n",
       "        <li role=\"presentation\"><a href=\"#extreme7344943653517527785\" aria-controls=\"extreme7344943653517527785\"\n",
       "                                   role=\"tab\" data-toggle=\"tab\">Extreme Values</a></li>\n",
       "\n",
       "    </ul>\n",
       "\n",
       "    <div class=\"tab-content\">\n",
       "        <div role=\"tabpanel\" class=\"tab-pane active row\" id=\"quantiles7344943653517527785\">\n",
       "            <div class=\"col-md-4 col-md-offset-1\">\n",
       "                <p class=\"h4\">Quantile statistics</p>\n",
       "                <table class=\"stats indent\">\n",
       "                    <tr>\n",
       "                        <th>Minimum</th>\n",
       "                        <td>49180</td>\n",
       "                    </tr>\n",
       "                    <tr>\n",
       "                        <th>5-th percentile</th>\n",
       "                        <td>57212</td>\n",
       "                    </tr>\n",
       "                    <tr>\n",
       "                        <th>Q1</th>\n",
       "                        <td>67534</td>\n",
       "                    </tr>\n",
       "                    <tr>\n",
       "                        <th>Median</th>\n",
       "                        <td>67961</td>\n",
       "                    </tr>\n",
       "                    <tr>\n",
       "                        <th>Q3</th>\n",
       "                        <td>68360</td>\n",
       "                    </tr>\n",
       "                    <tr>\n",
       "                        <th>95-th percentile</th>\n",
       "                        <td>68631</td>\n",
       "                    </tr>\n",
       "                    <tr>\n",
       "                        <th>Maximum</th>\n",
       "                        <td>68737</td>\n",
       "                    </tr>\n",
       "                    <tr>\n",
       "                        <th>Range</th>\n",
       "                        <td>19557</td>\n",
       "                    </tr>\n",
       "                    <tr>\n",
       "                        <th>Interquartile range</th>\n",
       "                        <td>826.25</td>\n",
       "                    </tr>\n",
       "                </table>\n",
       "            </div>\n",
       "            <div class=\"col-md-4 col-md-offset-2\">\n",
       "                <p class=\"h4\">Descriptive statistics</p>\n",
       "                <table class=\"stats indent\">\n",
       "                    <tr>\n",
       "                        <th>Standard deviation</th>\n",
       "                        <td>5975.5</td>\n",
       "                    </tr>\n",
       "                    <tr>\n",
       "                        <th>Coef of variation</th>\n",
       "                        <td>0.090367</td>\n",
       "                    </tr>\n",
       "                    <tr>\n",
       "                        <th>Kurtosis</th>\n",
       "                        <td>9.8015</td>\n",
       "                    </tr>\n",
       "                    <tr>\n",
       "                        <th>Mean</th>\n",
       "                        <td>66125</td>\n",
       "                    </tr>\n",
       "                    <tr>\n",
       "                        <th>MAD</th>\n",
       "                        <td>3389</td>\n",
       "                    </tr>\n",
       "                    <tr class=\"\">\n",
       "                        <th>Skewness</th>\n",
       "                        <td>-3.1199</td>\n",
       "                    </tr>\n",
       "                    <tr>\n",
       "                        <th>Sum</th>\n",
       "                        <td>661250</td>\n",
       "                    </tr>\n",
       "                    <tr>\n",
       "                        <th>Variance</th>\n",
       "                        <td>35707000</td>\n",
       "                    </tr>\n",
       "                    <tr>\n",
       "                        <th>Memory size</th>\n",
       "                        <td>208.0 B</td>\n",
       "                    </tr>\n",
       "                </table>\n",
       "            </div>\n",
       "        </div>\n",
       "        <div role=\"tabpanel\" class=\"tab-pane col-md-8 col-md-offset-2\" id=\"histogram7344943653517527785\">\n",
       "            <img src=\"data:image/png;base64,iVBORw0KGgoAAAANSUhEUgAAAlgAAAGQCAYAAAByNR6YAAAABHNCSVQICAgIfAhkiAAAAAlwSFlzAAAPYQAAD2EBqD%2BnaQAAADh0RVh0U29mdHdhcmUAbWF0cGxvdGxpYiB2ZXJzaW9uMy4xLjIsIGh0dHA6Ly9tYXRwbG90bGliLm9yZy8li6FKAAAgAElEQVR4nO3de1RVdf7/8RcCHtEBNA0BMaSW5gUzA5fXSq2llmYzri7m3S6jk3e7qOOUWkuw0nKaRksnHZvKrLFmbNVk2HibATPB0szUxJQURU1BKxHj8/tjfpxvR9CD9YF9zub5WIu1Yu999nl/Om17ei4QYowxAgAAgDW1nB4AAADAbQgsAAAAywgsAAAAywgsAAAAywgsAAAAywgsAAAAywgsAAAAywgsAAAAywgsAAAAywgsAAAAywgsAAAAywgsAAAAywgsAAAAywgsAAAAywgsAAAAywgsAAAAywgsAAAAywgsAAAAywgsAAAAywgsAAAAywgsAAAAywgsAAAAywgsAAAAywgsAAAAywgsAAAAywgsAAAAywgsAAAAywgsAAAAywgsAAAAywgsAAAAywgsAAAAywgsAAAAywgsAAAAywgsAAAAywgsAAAAywgsAAAAywgsAAAAywgsAAAAy8KcHqAmKC0t1aFDhxQZGamQkBCnxwEAoEYwxujUqVOKj49XrVrV%2B5wSgVUNDh06pKZNmzo9BgAANVJeXp4SEhKq9T4JrGoQGRkp6X8PcFRUlMPTAABQMxQVFalp06be/w9XJwKrGpS9LBgVFUVgAQBQzZx4ew5vcgcAALCMwAIAALCMwAIAALCMwAIAALCMwAIAALCMwAIAALCMwAIAALCMwAIAALCMwAIAALCMwAIAALCMwAIAALCMwAIAALCMX/YMAIBLpU7/wOkRKm3L7D5Oj2AVz2ABAABYRmABAABYRmABAABYRmABAABYRmABAABYRmABAABYRmABAABYRmABAABYRmABAABYRmABAABYRmABAABYRmABAABYRmABAABYRmABAABYRmABAABYRmABAABYRmABAABYRmABAABYRmABAABYRmABAABYRmABAABYRmABAABYRmABAABYRmABAABYRmABAABYRmABAABYRmABAABYRmABAABYRmABAABYRmD5ce7cOf3hD39QUlKSIiIidOWVV%2BqJJ55QaWmp06MBAIAAFeb0AIHuqaee0osvvqhly5apTZs22rJli0aOHKno6GhNmDDB6fEAAEAAIrD8yMrK0u23366%2BfftKkpo1a6bly5dry5YtDk8GAAACFS8R%2BtGtWzd99NFH2r17tyTps88%2B03/%2B8x/deuutF7xNcXGxioqKfL4AAEDNwTNYfkyZMkWFhYVq2bKlQkND9eOPP2r27Nm65557Lnib9PR0zZo1qxqnBAAAgYRnsPxYsWKFXn31Vb3%2B%2BuvKycnRsmXLNHfuXC1btuyCt5k2bZoKCwu9X3l5edU4MQAAcBrPYPnxyCOPaOrUqRo4cKAkqW3bttq/f7/S09M1fPjwCm/j8Xjk8Xiqc0wAABBAeAbLj%2B%2B//161avn%2BawoNDeXHNAAAgAviGSw/brvtNs2ePVtXXHGF2rRpo61bt%2BrZZ5/Vvffe6/RoAAAgQBFYfvzpT3/SY489pgcffFAFBQWKj4/XqFGj9Pjjjzs9GgAACFAElh%2BRkZGaP3%2B%2B5s%2Bf7/QoAAAgSPAeLAAAAMsILAAAAMsILAAAAMsILAAAAMsILAAAAMsILAAAAMsILAAAAMsILAAAAMsILAAAAMsILAAAAMsILAAAAMsILAAAAMsILAAAAMsILAAAAMsILAAAAMsILAAAAMsILAAAAMsILAAAAMsILAAAAMsILAAAAMsILAAAAMsILAAAAMsILAAAAMsILAAAAMsILAAAAMsILAAAAMsILAAAAMsILAAAAMsILAAAAMsILAAAAMsILAAAAMsILAAAAMsILAAAAMsILAAAAMsILAAAAMsILAAAAMsILAAAAMsILAAAAMsILAAAAMsILAAAAMsILAAAAMsILAAAAMsILAAAAMsILAAAAMsILAAAAMsILAAAAMsILAAAAMsILAAAAMsILAAAAMsILAAAAMsILAAAAMsILAAAAMsILAAAAMsILAAAAMsILAAAAMsILAAAAMsIrEo4ePCghgwZooYNG6pu3bq69tprlZ2d7fRYAAAgQIU5PUCgO3HihLp27aoePXroX//6l2JiYrR3717Vr1/f6dEAAECAIrD8eOqpp9S0aVMtXbrUu61Zs2bODQQAAAIeLxH6sWrVKqWmpurOO%2B9UTEyM2rdvr8WLFzs9FgAACGAElh%2B5ublauHChmjdvrtWrV2v06NEaP368XnnllQvepri4WEVFRT5fAACg5uAlQj9KS0uVmpqqtLQ0SVL79u21Y8cOLVy4UMOGDavwNunp6Zo1a1Z1jgkAAAIIz2D5ERcXp9atW/tsa9WqlQ4cOHDB20ybNk2FhYXer7y8vKoeEwAABBCewfKja9eu2rVrl8%2B23bt3KzEx8YK38Xg88ng8VT0aAAAIUDyD5cekSZO0adMmpaWl6auvvtLrr7%2BuRYsWacyYMU6PBgAAAhSB5UeHDh30zjvvaPny5UpOTtaTTz6p%2BfPna/DgwU6PBgAAAhQvEVZCv3791K9fP6fHAAAAQYJnsAAAACwjsAAAACwjsAAAACxzdWC9%2BuqrOnPmjNNjAACAGsbVgTV58mTFxsZq1KhR2rx5s9PjAACAGsLVgXXo0CEtWbJE%2Bfn56tatm9q0aaN58%2Bbp6NGjTo8GAABczNWBFRYWpgEDBmjVqlU6cOCAhg8friVLlighIUEDBgzQe%2B%2B9J2OM02MCAACXcXVg/VRsbKxuuukmde/eXSEhIdqyZYsGDRqk5s2ba%2BPGjU6PBwAAXMT1gXXs2DHNnz9f7dq1U9euXVVQUKB//OMf2r9/vw4ePKh%2B/fpp2LBhTo8JAABcxNU/yf03v/mN3n//fSUlJen%2B%2B%2B/X8OHDdfnll3v3/%2BpXv9Kjjz6q559/3sEpAQCA27g6sKKiorRmzRpdf/31FzwmLi5Oe/bsqcapAACA27k6sJYtW%2Bb3mJCQEF111VXVMA0AAKgpXP0erEmTJumFF14ot/3Pf/6zHnroIQcmAgAANYGrA%2Butt95Sp06dym3v3LmzVqxY4cBEAACgJnB1YB07dkwNGjQotz0qKkrHjh1zYCIAAFATuDqwrrrqKq1evbrc9tWrVyspKcmBiQAAQE3g6je5T5w4URMnTtTx48fVs2dPSdJHH32kp59%2BWnPnznV4OgAA4FauDqwHHnhAZ86cUVpammbMmCFJSkhI0PPPP697773X4ekAAIBbuTqwJGncuHEaN26c8vPzFRERofr16zs9EgAAcDnXB1aZuLg4p0cAAAA1hKvf5H706FGNHDlSV1xxherUqaPatWv7fAEAAFQFVz%2BDNWLECO3du1ePPPKI4uLiFBIS4vRIAACgBnB1YG3YsEEbNmxQ%2B/btnR4FAADUIK5%2BiTAhIYFnrQAAQLVzdWA999xzmjZtmr755hunRwEAADWIq18iHDp0qE6dOqXExERFRUUpPDzcZ39BQYFDkwEAADdzdWDNmTPH6REAAEAN5OrAuu%2B%2B%2B5weAQAA1ECufg%2BWJH399deaOXOmhg4d6n1J8MMPP9TOnTsdngwAALiVqwNr48aNatOmjdavX68333xTp0%2BfliTl5OTo8ccfd3g6AADgVq4OrClTpmjmzJlau3atz09u79mzpzZt2uTgZAAAwM1cHVjbtm3THXfcUW57TEyMjh496sBEAACgJnB1YNWvX1%2BHDx8ut/3TTz9VkyZNHJgIAADUBK4OrIEDB2rq1Kk6evSo9ye6f/zxx3r44Yc1ZMgQh6cDAABu5erASktLU2xsrOLi4nT69Gm1bt1aXbp0UYcOHfTYY485PR4AAHApV/8crNq1a2vFihXavXu3cnJyVFpaquuuu04tW7Z0ejQAAOBirg6sMi1atFCLFi2cHgMAANQQrg6s3/72txfdv2jRomqaBAAA1CSuDqz8/Hyf70tKSrRjxw6dOnVKN9xwg0NTAQAAt3N1YL377rvltp07d06/%2B93v1KpVKwcmAgAANYGrP0VYkbCwMD388MN65plnnB4FAAC4VI0LLEnKzc1VSUmJ02MAAACXcvVLhI8%2B%2BqjP98YY5efna9WqVRo8eLBDUwEAALdzdWBlZWX5fF%2BrVi1dfvnlmjNnjh544AGHpgIAAG7n6sDauHGj0yMAAIAaqEa%2BBwsAAKAqufoZrA4dOnh/ybM/mzdvruJpAABATeHqwOrRo4deeukltWjRQp07d5Ykbdq0Sbt27dKoUaPk8XgcnhAAALiRqwPr5MmTGjNmjNLS0ny2T58%2BXUeOHNFf/vIXhyYDAABu5ur3YL355psaOXJkue0jRozQW2%2B95cBEAACgJnB1YHk8HmVmZpbbnpmZycuDAACgyrj6JcLx48dr9OjR2rp1qzp16iTpf%2B/BWrx4sX7/%2B987PB0AAHArVwfW9OnTlZSUpD/%2B8Y9asmSJJKlVq1ZavHixBg0a5PB0AADArVwdWJI0aNAgYgoAAFQrV78HS5KKior017/%2BVY8//rhOnDghSfrss8%2BUn5/v8GQAAMCtXP0M1ueff66bb75ZdevWVV5enkaMGKEGDRrozTff1DfffKNly5Y5PSIAAHAhVz%2BDNWnSJA0aNEh79%2B5VnTp1vNv79u2rDRs2ODgZAABwM1cH1ieffKIHH3yw3K/LadKkyc9%2BiTA9PV0hISGaOHGijREBAIALuTqwateurdOnT5fbvmfPHjVq1OiSz/fJJ59o0aJFuuaaa2yMBwAAXMrVgdW/f389%2BeSTOnfunCQpJCREBw8e1NSpUzVgwIBLOtfp06c1ePBgLV68WA0aNKiKcQEAgEu4OrDmzZunQ4cOKTY2Vj/88IN69uypK6%2B8UnXq1Cn3%2Bwn9GTNmjPr27aubb765iqYFAABu4epPEUZHRyszM1MZGRnKyclRaWmprrvuOvXu3bvc%2B7Iu5o033lB2dra2bNlSqeOLi4tVXFzs/b6oqOiSZwcAAMHLtYFVUlKiW2%2B9VQsWLFCvXr3Uq1evn3WevLw8TZgwQR9%2B%2BKHPJxEvJj09XbNmzfpZ9wcAAIKfa18iDA8P19atWy/pmaqKZGdnq6CgQCkpKQoLC1NYWJjWr1%2Bv559/XmFhYfrxxx/L3WbatGkqLCz0fuXl5f2iGQAAQHBx7TNYkjRkyBAtXbpUs2fP/tnnuOmmm7R9%2B3afbSNHjlTLli01ZcoUhYaGlruNx%2BORx%2BP52fcJAACCm6sDS5JeeOEFrVmzRqmpqapXr57Pvqefftrv7SMjI5WcnOyzrV69emrYsGG57QAAAJLLAys7O9v7M6u2bdvms%2B%2BXvnQIAABwIa4MrNzcXCUlJWnjxo1Vcv5169ZVyXkBAIA7uPJN7s2bN9fRo0e939999906cuSIgxMBAICaxJWBZYzx%2Bf7999/Xd99959A0AACgpnFlYAEAADjJlYEVEhJS7k3svKkdAABUF1e%2Byd0YoxEjRnh/FtWZM2c0evTocj%2Bm4e2333ZiPAAA4HKuDKzhw4f7fD9kyBCHJgEAADWRKwNr6dKlTo8AAABqMFe%2BBwsAAMBJBBYAAIBlBBYAAIBlBBYAAIBlBBYAAIBlBBYAAIBlBBYAAIBlBBYAAIBlBBYAAIBlBBYAAIBlBBYAAIBlBBYAAIBlBBYAAIBlBBYAAIBlBBYAAIBlBBYAAIBlBBYAAIBlBBYAAIBlBBYAAIBlBBYAAIBlBBYAAIBlBBYAAIBlBBYAAIBlBBYAAIBlBBYAAIBlBBYAAIBlBBYAAIBlBBYAAIBlBBYAAIBlBBYAAIBlBBYAAIBlBBYAAIBlBBYAAIBlBBYAAIBlBBYAAIBlBBYAAIBlBBYAAIBlBBYAAIBlBBYAAIBlBBYAAIBlBBYAAIBlBBYAAIBlBBYAAIBlBBYAAIBlBBYAAIBlBBYAAIBlBBYAAIBlBBYAAIBlBBYAAIBlBBYAAIBlBFYlpKenq0OHDoqMjFRMTIx%2B/etfa9euXU6PBQAAAhSBVQnr16/XmDFjtGnTJmVkZOjcuXPq1auXvvvuO6dHAwAAASjM6QGCwQcffODz/dKlSxUTE6Ps7GzdcMMNDk0FAAACFYH1MxQWFkqSLrvssgr3FxcXq7i42Pt9UVFRtcwFAAACAy8RXiJjjCZPnqxu3bopOTm5wmPS09MVHR3t/WratGk1TwkAAJxEYF2isWPHatu2bVq%2BfPkFj5k2bZoKCwu9X3l5edU4IQAAcBovEV6CcePGadWqVdqwYYMSEhIueJzH45HH46nGyQAAQCAhsCrBGKNx48bpnXfe0bp165SUlOT0SAAAIIARWJUwZswYvf766/rnP/%2BpyMhIHT58WJIUHR2tiIgIh6cDAACBhvdgVcLChQtVWFio7t27Ky4uzvu1YsUKp0cDAAABiGewKsEY4/QIAAAgiPAMFgAAgGUEFgAAgGUEFgAAgGUEFgAAgGUEFgAAgGUEFgAAgGUEFgAAgGUEFgAAgGUEFgAAgGUEFgAAgGUEFgAAgGUEFgAAgGUEFgAAgGUEFgAAgGUEFgAAgGUEFgAAgGUEFgAAgGUEFgAAgGUEFgAAgGUEFgAAgGUEFgAAgGUEFgAAgGUEFgAAgGUEFgAAgGUEFgAAgGUEFgAAgGUEFgAAgGVhTg%2BAXyZ1%2BgdOj1BpW2b3cXoEAACqBc9gAQAAWEZgAQAAWEZgAQAAWEZgAQAAWEZgAQAAWEZgAQAAWEZgAQAAWEZgAQAAWEZgAQAAWEZgAQAAWEZgAQAAWEZgAQAAWEZgAQAAWEZgAQAAWEZgAQAAWEZgAQAAWEZgAQAAWEZgAQAAWEZgAQAAWEZgAQAAWEZgAQAAWEZgAQAAWEZgAQAAWEZgAQAAWEZgAQAAWEZgAQAAWEZgAQAAWEZgAQAAWEZgAQAAWEZgVdKCBQuUlJSkOnXqKCUlRRs3bnR6JAAAEKAIrEpYsWKFJk6cqOnTp2vr1q26/vrrdcstt%2BjAgQNOjwYAAAIQgVUJzz77rO677z7df//9atWqlebPn6%2BmTZtq4cKFTo8GAAACUJjTAwS6s2fPKjs7W1OnTvXZ3qtXL2VmZlZ4m%2BLiYhUXF3u/LywslCQVFRVZn%2B/H4u%2Bsn7OqVMX6AQAXVtP/H1F2TmOM9XP7Q2D5cezYMf34449q3Lixz/bGjRvr8OHDFd4mPT1ds2bNKre9adOmVTJjsIie5/QEAIBAVZX/jzh16pSio6Or7g4qQGBVUkhIiM/3xphy28pMmzZNkydP9n5fWlqqb7/9Vg0bNrzgbZxUVFSkpk2bKi8vT1FRUU6PYx3rC15uXpvE%2BoId6wt8xhidOnVK8fHx1X7fBJYfjRo1UmhoaLlnqwoKCso9q1XG4/HI4/H4bKtfv36VzWhLVFRU0F5ElcH6gpeb1yaxvmDH%2BgJbdT9zVYY3uftRu3ZtpaSkKCMjw2d7RkaGunTp4tBUAAAgkPEMViVMnjxZQ4cOVWpqqjp37qxFixbpwIEDGj16tNOjAQCAABQ6c%2BbMmU4PEeiSk5PVsGFDpaWlae7cufrhhx/0t7/9Te3atXN6NGtCQ0PVvXt3hYW5s7lZX/By89ok1hfsWB8uJMQ48dlFAAAAF%2BM9WAAAAJYRWAAAAJYRWAAAAJYRWAAAAJYRWEFo5syZCgkJ8fmKjY317jfGaObMmYqPj1dERIS6d%2B%2BuHTt2%2BJzjxIkTGjp0qKKjoxUdHa2hQ4fq5MmTPsds375dN954oyIiItSkSRM98cQT5X6f08qVK9W6dWt5PB61bt1a77zzTpWur6SkRFOmTFHbtm1Vr149xcfHa9iwYTp06JDPOZo1a1buHOf/PskDBw7otttuU7169dSoUSONHz9eZ8%2Be9Tlm/fr1SklJUZ06dXTllVfqxRdfrNL1SdKIESPK7e/UqZPPOYqLizVu3Dg1atRI9erVU//%2B/fXNN98ExfrO31f29cwzz3iPCeTH7%2BDBgxoyZIgaNmyounXr6tprr1V2drZ3f7BffxdbnxuuP3%2BPX7Bff/7WF%2BzXX1AxCDozZswwbdq0Mfn5%2Bd6vgoIC7/45c%2BaYyMhIs3LlSrN9%2B3Zz9913m7i4OFNUVOQ9pk%2BfPiY5OdlkZmaazMxMk5ycbPr16%2BfdX1hYaBo3bmwGDhxotm/fblauXGkiIyPN3LlzvcdkZmaa0NBQk5aWZnbu3GnS0tJMWFiY2bRpU5Wt7%2BTJk%2Bbmm282K1asMF9%2B%2BaXJysoyHTt2NCkpKT7nSExMNE888YTPOU6dOuXdf%2B7cOZOcnGx69OhhcnJyTEZGhomPjzdjx471HpObm2vq1q1rJkyYYL744guzePFiEx4ebv7%2B979X2fqMMWb48OGmT58%2BPvuPHz/uc47Ro0ebJk2amIyMDJOTk2N69Ohh2rVrZ86dOxfw6/vp9vz8fLNkyRITEhJi9u7d6z0mUB%2B/b7/91iQmJpoRI0aYjz/%2B2Ozbt8%2BsWbPGfPXVV95jgvn687e%2BYL/%2BKvP4BfP1V5n1BfP1F2wIrCA0Y8YM065duwr3lZaWmtjYWDNnzhzvtjNnzpjo6Gjz4osvGmOM%2BeKLL4wknz%2BIs7KyjCTz5ZdfGmOMWbBggYmOjjZnzpzxHpOenm7i4%2BNNaWmpMcaYu%2B66y/Tp08fn/nv37m0GDhxYZeuryObNm40ks3//fu%2B2xMRE89xzz13wNu%2B//76pVauWOXjwoHfb8uXLjcfjMYWFhcYYYx599FHTsmVLn9uNGjXKdOrUqdKzVcTf%2BoYPH25uv/32C%2B4/efKkCQ8PN2%2B88YZ328GDB02tWrXMBx98YIwJ7PWd7/bbbzc9e/b02Raoj9%2BUKVNMt27dLrg/2K8/f%2BurSDBdf5VZXzBffz/n8Qum6y/Y8BJhkNqzZ4/i4%2BOVlJSkgQMHKjc3V5K0b98%2BHT58WL169fIe6/F4dOONNyozM1OSlJWVpejoaHXs2NF7TKdOnRQdHe1zzI033ujzOxV79%2B6tQ4cO6euvv/Ye89P7KTum7BxVsb6KFBYWKiQkpNzve3zqqafUsGFDXXvttZo9e7bP09dZWVlKTk72%2BQWgvXv3VnFxsffp9Autb8uWLSopKanS9a1bt04xMTFq0aKFHnjgARUUFHj3ZWdnq6SkxGe2%2BPh4JScn%2Bzx%2Bgby%2BMkeOHNF7772n%2B%2B67r9y%2BQHz8Vq1apdTUVN15552KiYlR%2B/bttXjxYu/%2BYL/%2B/K2vIsF0/VV2fcF6/V3q4xds11%2BwIbCCUMeOHfXKK69o9erVWrx4sQ4fPqwuXbro%2BPHj3l9Kff4vom7cuLF33%2BHDhxUTE1PuvDExMT7HVHSOsn0XO%2Bb8X4xtc33nO3PmjKZOnapBgwb5/DLSCRMm6I033tDatWs1duxYzZ8/Xw8%2B%2BKB3f0WzN2jQQLVr1/a7vnPnzunYsWNVtr5bbrlFr732mv79739r3rx5%2BuSTT9SzZ08VFxd756pdu7YaNGhQbraLzR4o6/upZcuWKTIyUgMGDPDZHqiPX25urhYuXKjmzZtr9erVGj16tMaPH69XXnnFe59l93P%2B/QbD9edvfecLtuuvMusL5uvvUh%2B/YLv%2Bgg0/%2Bz4I3XLLLd5/btu2rTp37qyrrrpKy5Yt874ZMyQkxOc2xhifbefvr8wx5v%2B/wdbfMRWd%2B1JcbH2TJ0/27ispKdHAgQNVWlqqBQsW%2BJxj0qRJ3n%2B%2B5ppr1KBBA91xxx3ev5VVNHtF81fm34Ht9d19993e/cnJyUpNTVViYqLee%2B%2B9cn8QXsrslTmmOtb3U0uWLNHgwYNVp04dn%2B2B%2BviVlpYqNTVVaWlpkqT27dtrx44dWrhwoYYNG3bR%2Bw2G66%2By65OC8/qrzPqC%2Bfq7lMdPCr7rL9jwDJYL1KtXT23bttWePXu8n9Y6/2%2BxBQUF3r9NxMbG6siRI%2BXOc/ToUZ9jKjqHJL/HnP%2B3ll/qp%2BsrU1JSorvuukv79u1TRkaGz9%2BeK1IWnl999dUFZz9x4oRKSkr8ri8sLMz7h4wNFa3vp%2BLi4pSYmOjdHxsbq7Nnz%2BrEiRPlZrvY7IG2vo0bN2rXrl26//77/Z4jUB6/uLg4tW7d2mdbq1atdODAAe99SsF7/flbX5lgvf4qu77zbxMs19%2BlrC8Yr79gQ2C5QHFxsXbu3Km4uDglJSUpNjZWGRkZ3v1nz57V%2BvXr1aVLF0lS586dVVhYqM2bN3uP%2Bfjjj1VYWOhzzIYNG3xed//www8VHx%2BvZs2aeY/56f2UHVN2jqpYn/R/f7jv2bNHa9asqdTFunXrVknynqNz5876/PPPlZ%2Bf7zO7x%2BNRSkqK95iK1peamqrw8HAra5PKr%2B98x48fV15ennd/SkqKwsPDfWbLz8/X559/7vP4Bfr6Xn75ZaWkpFTql6YHyuPXtWtX7dq1y2fb7t27lZiYKElBf/35W58U3NdfZdZ3vmC6/i5lfcF4/QWd6nxHPex46KGHzLp160xubq7ZtGmT6devn4mMjDRff/21MeZ/HxOPjo42b7/9ttm%2Bfbu55557KvyY%2BDXXXGOysrJMVlaWadu2rc/HxE%2BePGkaN25s7rnnHrN9%2B3bz9ttvm6ioKJ%2BPif/3v/81oaGhZs6cOWbnzp1mzpw5Vn5Mw8XWV1JSYvr3728SEhLMp59%2B6vMx4uLiYmPM/z6%2B/uyzz5qtW7ea3Nxcs2LFChMfH2/69%2B/vvY%2ByjxnfdNNNJicnx6xZs8YkJCRU%2BDHjSZMmmS%2B%2B%2BMK8/PLLVj5mfLH1nTp1yjz00EMmMzPT7Nu3z6xdu9Z07tzZNGnSxOfxGz16tElISDBr1qwxOTk5pmfPnhV%2BTDzQ1lemsLDQ1K1b1yxcuLDc7QP58du8ebMJCwszs2fPNnv27DGvvfaaqVu3rnn11Ve9xwTz9edvfcF%2B/flbX7Bff5X579OY4L3%2Bgg2BFYTKfq5OeHi4iY%2BPNwMGDDA7duzw7i8tLTUzZswwsbGxxuPxmBtuuMFs377d5xzHjx83gwcPNpGRkSYyMtIMHjzYnDhxwueYbdu2meuvv954PB4TGxtrZs6c6f2IeJm33tYQeDsAAAFkSURBVHrLXH311SY8PNy0bNnSrFy5skrXt2/fPiOpwq%2B1a9caY4zJzs42HTt2NNHR0aZOnTrm6quvNjNmzDDfffedz/3s37/f9O3b10RERJjLLrvMjB071udj8cYYs27dOtO%2BfXtTu3Zt06xZswr/QLK5vu%2B//9706tXLXH755SY8PNxcccUVZvjw4ebAgQM%2B5/jhhx/M2LFjzWWXXWYiIiJMv379yh0TiOsr89JLL5mIiAhz8uTJcrcP9Mfv3XffNcnJycbj8ZiWLVuaRYsW%2BewP9uvvYutzw/V3sfW54frz99%2BnMcF9/QWTEGPO%2B9HAAAAA%2BEV4DxYAAIBlBBYAAIBlBBYAAIBlBBYAAIBlBBYAAIBlBBYAAIBlBBYAAIBlBBYAAIBlBBYAAIBlBBYAAIBlBBYAAIBlBBYAAIBlBBYAAIBlBBYAAIBlBBYAAIBlBBYAAIBlBBYAAIBlBBYAAIBl/w9nBmIO4E1bwgAAAABJRU5ErkJggg%3D%3D\"/>\n",
       "        </div>\n",
       "        <div role=\"tabpanel\" class=\"tab-pane col-md-12\" id=\"common7344943653517527785\">\n",
       "            \n",
       "<table class=\"freq table table-hover\">\n",
       "    <thead>\n",
       "    <tr>\n",
       "        <td class=\"fillremaining\">Value</td>\n",
       "        <td class=\"number\">Count</td>\n",
       "        <td class=\"number\">Frequency (%)</td>\n",
       "        <td style=\"min-width:200px\">&nbsp;</td>\n",
       "    </tr>\n",
       "    </thead>\n",
       "    <tr class=\"\">\n",
       "        <td class=\"fillremaining\">49180</td>\n",
       "        <td class=\"number\">1</td>\n",
       "        <td class=\"number\">10.0%</td>\n",
       "        <td>\n",
       "            <div class=\"bar\" style=\"width:100%\">&nbsp;</div>\n",
       "        </td>\n",
       "</tr><tr class=\"\">\n",
       "        <td class=\"fillremaining\">67850</td>\n",
       "        <td class=\"number\">1</td>\n",
       "        <td class=\"number\">10.0%</td>\n",
       "        <td>\n",
       "            <div class=\"bar\" style=\"width:100%\">&nbsp;</div>\n",
       "        </td>\n",
       "</tr><tr class=\"\">\n",
       "        <td class=\"fillremaining\">67429</td>\n",
       "        <td class=\"number\">1</td>\n",
       "        <td class=\"number\">10.0%</td>\n",
       "        <td>\n",
       "            <div class=\"bar\" style=\"width:100%\">&nbsp;</div>\n",
       "        </td>\n",
       "</tr><tr class=\"\">\n",
       "        <td class=\"fillremaining\">67848</td>\n",
       "        <td class=\"number\">1</td>\n",
       "        <td class=\"number\">10.0%</td>\n",
       "        <td>\n",
       "            <div class=\"bar\" style=\"width:100%\">&nbsp;</div>\n",
       "        </td>\n",
       "</tr><tr class=\"\">\n",
       "        <td class=\"fillremaining\">68501</td>\n",
       "        <td class=\"number\">1</td>\n",
       "        <td class=\"number\">10.0%</td>\n",
       "        <td>\n",
       "            <div class=\"bar\" style=\"width:100%\">&nbsp;</div>\n",
       "        </td>\n",
       "</tr><tr class=\"\">\n",
       "        <td class=\"fillremaining\">67029</td>\n",
       "        <td class=\"number\">1</td>\n",
       "        <td class=\"number\">10.0%</td>\n",
       "        <td>\n",
       "            <div class=\"bar\" style=\"width:100%\">&nbsp;</div>\n",
       "        </td>\n",
       "</tr><tr class=\"\">\n",
       "        <td class=\"fillremaining\">68418</td>\n",
       "        <td class=\"number\">1</td>\n",
       "        <td class=\"number\">10.0%</td>\n",
       "        <td>\n",
       "            <div class=\"bar\" style=\"width:100%\">&nbsp;</div>\n",
       "        </td>\n",
       "</tr><tr class=\"\">\n",
       "        <td class=\"fillremaining\">68072</td>\n",
       "        <td class=\"number\">1</td>\n",
       "        <td class=\"number\">10.0%</td>\n",
       "        <td>\n",
       "            <div class=\"bar\" style=\"width:100%\">&nbsp;</div>\n",
       "        </td>\n",
       "</tr><tr class=\"\">\n",
       "        <td class=\"fillremaining\">68737</td>\n",
       "        <td class=\"number\">1</td>\n",
       "        <td class=\"number\">10.0%</td>\n",
       "        <td>\n",
       "            <div class=\"bar\" style=\"width:100%\">&nbsp;</div>\n",
       "        </td>\n",
       "</tr><tr class=\"\">\n",
       "        <td class=\"fillremaining\">68186</td>\n",
       "        <td class=\"number\">1</td>\n",
       "        <td class=\"number\">10.0%</td>\n",
       "        <td>\n",
       "            <div class=\"bar\" style=\"width:100%\">&nbsp;</div>\n",
       "        </td>\n",
       "</tr>\n",
       "</table>\n",
       "        </div>\n",
       "        <div role=\"tabpanel\" class=\"tab-pane col-md-12\"  id=\"extreme7344943653517527785\">\n",
       "            <p class=\"h4\">Minimum 5 values</p>\n",
       "            \n",
       "<table class=\"freq table table-hover\">\n",
       "    <thead>\n",
       "    <tr>\n",
       "        <td class=\"fillremaining\">Value</td>\n",
       "        <td class=\"number\">Count</td>\n",
       "        <td class=\"number\">Frequency (%)</td>\n",
       "        <td style=\"min-width:200px\">&nbsp;</td>\n",
       "    </tr>\n",
       "    </thead>\n",
       "    <tr class=\"\">\n",
       "        <td class=\"fillremaining\">49180</td>\n",
       "        <td class=\"number\">1</td>\n",
       "        <td class=\"number\">10.0%</td>\n",
       "        <td>\n",
       "            <div class=\"bar\" style=\"width:100%\">&nbsp;</div>\n",
       "        </td>\n",
       "</tr><tr class=\"\">\n",
       "        <td class=\"fillremaining\">67029</td>\n",
       "        <td class=\"number\">1</td>\n",
       "        <td class=\"number\">10.0%</td>\n",
       "        <td>\n",
       "            <div class=\"bar\" style=\"width:100%\">&nbsp;</div>\n",
       "        </td>\n",
       "</tr><tr class=\"\">\n",
       "        <td class=\"fillremaining\">67429</td>\n",
       "        <td class=\"number\">1</td>\n",
       "        <td class=\"number\">10.0%</td>\n",
       "        <td>\n",
       "            <div class=\"bar\" style=\"width:100%\">&nbsp;</div>\n",
       "        </td>\n",
       "</tr><tr class=\"\">\n",
       "        <td class=\"fillremaining\">67848</td>\n",
       "        <td class=\"number\">1</td>\n",
       "        <td class=\"number\">10.0%</td>\n",
       "        <td>\n",
       "            <div class=\"bar\" style=\"width:100%\">&nbsp;</div>\n",
       "        </td>\n",
       "</tr><tr class=\"\">\n",
       "        <td class=\"fillremaining\">67850</td>\n",
       "        <td class=\"number\">1</td>\n",
       "        <td class=\"number\">10.0%</td>\n",
       "        <td>\n",
       "            <div class=\"bar\" style=\"width:100%\">&nbsp;</div>\n",
       "        </td>\n",
       "</tr>\n",
       "</table>\n",
       "            <p class=\"h4\">Maximum 5 values</p>\n",
       "            \n",
       "<table class=\"freq table table-hover\">\n",
       "    <thead>\n",
       "    <tr>\n",
       "        <td class=\"fillremaining\">Value</td>\n",
       "        <td class=\"number\">Count</td>\n",
       "        <td class=\"number\">Frequency (%)</td>\n",
       "        <td style=\"min-width:200px\">&nbsp;</td>\n",
       "    </tr>\n",
       "    </thead>\n",
       "    <tr class=\"\">\n",
       "        <td class=\"fillremaining\">68072</td>\n",
       "        <td class=\"number\">1</td>\n",
       "        <td class=\"number\">10.0%</td>\n",
       "        <td>\n",
       "            <div class=\"bar\" style=\"width:100%\">&nbsp;</div>\n",
       "        </td>\n",
       "</tr><tr class=\"\">\n",
       "        <td class=\"fillremaining\">68186</td>\n",
       "        <td class=\"number\">1</td>\n",
       "        <td class=\"number\">10.0%</td>\n",
       "        <td>\n",
       "            <div class=\"bar\" style=\"width:100%\">&nbsp;</div>\n",
       "        </td>\n",
       "</tr><tr class=\"\">\n",
       "        <td class=\"fillremaining\">68418</td>\n",
       "        <td class=\"number\">1</td>\n",
       "        <td class=\"number\">10.0%</td>\n",
       "        <td>\n",
       "            <div class=\"bar\" style=\"width:100%\">&nbsp;</div>\n",
       "        </td>\n",
       "</tr><tr class=\"\">\n",
       "        <td class=\"fillremaining\">68501</td>\n",
       "        <td class=\"number\">1</td>\n",
       "        <td class=\"number\">10.0%</td>\n",
       "        <td>\n",
       "            <div class=\"bar\" style=\"width:100%\">&nbsp;</div>\n",
       "        </td>\n",
       "</tr><tr class=\"\">\n",
       "        <td class=\"fillremaining\">68737</td>\n",
       "        <td class=\"number\">1</td>\n",
       "        <td class=\"number\">10.0%</td>\n",
       "        <td>\n",
       "            <div class=\"bar\" style=\"width:100%\">&nbsp;</div>\n",
       "        </td>\n",
       "</tr>\n",
       "</table>\n",
       "        </div>\n",
       "    </div>\n",
       "</div>\n",
       "</div><div class=\"row variablerow ignore\">\n",
       "    <div class=\"col-md-3 namecol\">\n",
       "        <p class=\"h4 pp-anchor\" id=\"pp_var_KmFinal\"><s>KmFinal</s><br/>\n",
       "            <small>Highly correlated</small>\n",
       "        </p>\n",
       "    </div><div class=\"col-md-3\">\n",
       "    <p><em>This variable is highly correlated with <a href=\"#pp_var_KmInit\"><code>KmInit</code></a> and should be ignored for analysis</em></p>\n",
       "</div>\n",
       "<div class=\"col-md-6\">\n",
       "    <table class=\"stats \">\n",
       "        <tr>\n",
       "            <th>Correlation</th>\n",
       "            <td>0.99951</td>\n",
       "        </tr>\n",
       "    </table>\n",
       "</div>\n",
       "</div><div class=\"row variablerow\">\n",
       "    <div class=\"col-md-3 namecol\">\n",
       "        <p class=\"h4 pp-anchor\" id=\"pp_var_FuelBought\">FuelBought<br/>\n",
       "            <small>Numeric</small>\n",
       "        </p>\n",
       "    </div><div class=\"col-md-6\">\n",
       "    <div class=\"row\">\n",
       "        <div class=\"col-sm-6\">\n",
       "            <table class=\"stats \">\n",
       "                <tr>\n",
       "                    <th>Distinct count</th>\n",
       "                    <td>3</td>\n",
       "                </tr>\n",
       "                <tr>\n",
       "                    <th>Unique (%)</th>\n",
       "                    <td>30.0%</td>\n",
       "                </tr>\n",
       "                <tr class=\"ignore\">\n",
       "                    <th>Missing (%)</th>\n",
       "                    <td>0.0%</td>\n",
       "                </tr>\n",
       "                <tr class=\"ignore\">\n",
       "                    <th>Missing (n)</th>\n",
       "                    <td>0</td>\n",
       "                </tr>\n",
       "                <tr class=\"ignore\">\n",
       "                    <th>Infinite (%)</th>\n",
       "                    <td>0.0%</td>\n",
       "                </tr>\n",
       "                <tr class=\"ignore\">\n",
       "                    <th>Infinite (n)</th>\n",
       "                    <td>0</td>\n",
       "                </tr>\n",
       "            </table>\n",
       "\n",
       "        </div>\n",
       "        <div class=\"col-sm-6\">\n",
       "            <table class=\"stats \">\n",
       "\n",
       "                <tr>\n",
       "                    <th>Mean</th>\n",
       "                    <td>14.46</td>\n",
       "                </tr>\n",
       "                <tr>\n",
       "                    <th>Minimum</th>\n",
       "                    <td>0</td>\n",
       "                </tr>\n",
       "                <tr>\n",
       "                    <th>Maximum</th>\n",
       "                    <td>110.22</td>\n",
       "                </tr>\n",
       "                <tr class=\"alert\">\n",
       "                    <th>Zeros (%)</th>\n",
       "                    <td>80.0%</td>\n",
       "                </tr>\n",
       "            </table>\n",
       "        </div>\n",
       "    </div>\n",
       "</div>\n",
       "<div class=\"col-md-3 collapse in\" id=\"minihistogram784815113023958591\">\n",
       "    <img src=\"data:image/png;base64,iVBORw0KGgoAAAANSUhEUgAAAMgAAABLCAYAAAA1fMjoAAAABHNCSVQICAgIfAhkiAAAAAlwSFlzAAAPYQAAD2EBqD%2BnaQAAADh0RVh0U29mdHdhcmUAbWF0cGxvdGxpYiB2ZXJzaW9uMy4xLjIsIGh0dHA6Ly9tYXRwbG90bGliLm9yZy8li6FKAAABtklEQVR4nO3XsW3bQBiG4Z%2BCW3IAgdzCQ3gn197JQ3gLERqAQooUEVMkSuPgAwTYRxF4nlIS7j9R90K4bl3XtRqb57mmaWo9lp07nU41jmPTmU9Np/3V931V/fnCwzBssQV2ZFmWmqbp37lpaZNAuq6rqqphGD4F8vz6fvd6H28vX7IvHtvt3LR0aD4RdkQgEAgEAoFAIBAIBAKBQCAQCAQCgUAgEAgEAoFAIBAIBAKBQCAQCAQCgUAgEAgEAoFAIBAIBAKBQCAQCAQCgUAgEAgEAoFAIBAIBAKBQCAQCAQCgUAgEAgEAoFAIBAIBAKBQCAQCARPW29gT55f3%2B/6/MfbyzftZB/ufV5Vj/fM/INAIBAIBAKBQCDY5JK%2BrmtVVS3L8um9Xz9/3L3e/9b5DvfurdW%2BHtVX/Za3127npqVu3WDqPM81TVPrsezc6XSqcRybztwkkOv1Wufzufq%2Br67rWo9nZ9Z1rcvlUsfjsQ6HtreCTQKBvXBJh0AgEAgEAoFAIBAIBAKBQCAQCAQCgUAgEAgEAoFAIBAIBAKBQCAQCAQCgUAgEAgEAoFAIBAIBAKBQCD4DbpRVRy/eczgAAAAAElFTkSuQmCC\">\n",
       "\n",
       "</div>\n",
       "<div class=\"col-md-12 text-right\">\n",
       "    <a role=\"button\" data-toggle=\"collapse\" data-target=\"#descriptives784815113023958591,#minihistogram784815113023958591\"\n",
       "       aria-expanded=\"false\" aria-controls=\"collapseExample\">\n",
       "        Toggle details\n",
       "    </a>\n",
       "</div>\n",
       "<div class=\"row collapse col-md-12\" id=\"descriptives784815113023958591\">\n",
       "    <ul class=\"nav nav-tabs\" role=\"tablist\">\n",
       "        <li role=\"presentation\" class=\"active\"><a href=\"#quantiles784815113023958591\"\n",
       "                                                  aria-controls=\"quantiles784815113023958591\" role=\"tab\"\n",
       "                                                  data-toggle=\"tab\">Statistics</a></li>\n",
       "        <li role=\"presentation\"><a href=\"#histogram784815113023958591\" aria-controls=\"histogram784815113023958591\"\n",
       "                                   role=\"tab\" data-toggle=\"tab\">Histogram</a></li>\n",
       "        <li role=\"presentation\"><a href=\"#common784815113023958591\" aria-controls=\"common784815113023958591\"\n",
       "                                   role=\"tab\" data-toggle=\"tab\">Common Values</a></li>\n",
       "        <li role=\"presentation\"><a href=\"#extreme784815113023958591\" aria-controls=\"extreme784815113023958591\"\n",
       "                                   role=\"tab\" data-toggle=\"tab\">Extreme Values</a></li>\n",
       "\n",
       "    </ul>\n",
       "\n",
       "    <div class=\"tab-content\">\n",
       "        <div role=\"tabpanel\" class=\"tab-pane active row\" id=\"quantiles784815113023958591\">\n",
       "            <div class=\"col-md-4 col-md-offset-1\">\n",
       "                <p class=\"h4\">Quantile statistics</p>\n",
       "                <table class=\"stats indent\">\n",
       "                    <tr>\n",
       "                        <th>Minimum</th>\n",
       "                        <td>0</td>\n",
       "                    </tr>\n",
       "                    <tr>\n",
       "                        <th>5-th percentile</th>\n",
       "                        <td>0</td>\n",
       "                    </tr>\n",
       "                    <tr>\n",
       "                        <th>Q1</th>\n",
       "                        <td>0</td>\n",
       "                    </tr>\n",
       "                    <tr>\n",
       "                        <th>Median</th>\n",
       "                        <td>0</td>\n",
       "                    </tr>\n",
       "                    <tr>\n",
       "                        <th>Q3</th>\n",
       "                        <td>0</td>\n",
       "                    </tr>\n",
       "                    <tr>\n",
       "                        <th>95-th percentile</th>\n",
       "                        <td>76.092</td>\n",
       "                    </tr>\n",
       "                    <tr>\n",
       "                        <th>Maximum</th>\n",
       "                        <td>110.22</td>\n",
       "                    </tr>\n",
       "                    <tr>\n",
       "                        <th>Range</th>\n",
       "                        <td>110.22</td>\n",
       "                    </tr>\n",
       "                    <tr>\n",
       "                        <th>Interquartile range</th>\n",
       "                        <td>0</td>\n",
       "                    </tr>\n",
       "                </table>\n",
       "            </div>\n",
       "            <div class=\"col-md-4 col-md-offset-2\">\n",
       "                <p class=\"h4\">Descriptive statistics</p>\n",
       "                <table class=\"stats indent\">\n",
       "                    <tr>\n",
       "                        <th>Standard deviation</th>\n",
       "                        <td>35.339</td>\n",
       "                    </tr>\n",
       "                    <tr>\n",
       "                        <th>Coef of variation</th>\n",
       "                        <td>2.4439</td>\n",
       "                    </tr>\n",
       "                    <tr>\n",
       "                        <th>Kurtosis</th>\n",
       "                        <td>7.4993</td>\n",
       "                    </tr>\n",
       "                    <tr>\n",
       "                        <th>Mean</th>\n",
       "                        <td>14.46</td>\n",
       "                    </tr>\n",
       "                    <tr>\n",
       "                        <th>MAD</th>\n",
       "                        <td>23.136</td>\n",
       "                    </tr>\n",
       "                    <tr class=\"\">\n",
       "                        <th>Skewness</th>\n",
       "                        <td>2.7123</td>\n",
       "                    </tr>\n",
       "                    <tr>\n",
       "                        <th>Sum</th>\n",
       "                        <td>144.6</td>\n",
       "                    </tr>\n",
       "                    <tr>\n",
       "                        <th>Variance</th>\n",
       "                        <td>1248.8</td>\n",
       "                    </tr>\n",
       "                    <tr>\n",
       "                        <th>Memory size</th>\n",
       "                        <td>208.0 B</td>\n",
       "                    </tr>\n",
       "                </table>\n",
       "            </div>\n",
       "        </div>\n",
       "        <div role=\"tabpanel\" class=\"tab-pane col-md-8 col-md-offset-2\" id=\"histogram784815113023958591\">\n",
       "            <img src=\"data:image/png;base64,iVBORw0KGgoAAAANSUhEUgAAAlgAAAGQCAYAAAByNR6YAAAABHNCSVQICAgIfAhkiAAAAAlwSFlzAAAPYQAAD2EBqD%2BnaQAAADh0RVh0U29mdHdhcmUAbWF0cGxvdGxpYiB2ZXJzaW9uMy4xLjIsIGh0dHA6Ly9tYXRwbG90bGliLm9yZy8li6FKAAAgAElEQVR4nO3deXAUdf7/8deQkOEwGeQISSRgoHC5EQkrl4qIWRHwYNdaTgOoK244QkoFxAMPCKKwrKIorCIuImgVsLgqGFzOgggJIAguoCgECAT8wkxAGSDp3x/%2BnN3ZABnwk/Sk83xUdZXd0zO881HgaU9n4rIsyxIAAACMqWL3AAAAAE5DYAEAABhGYAEAABhGYAEAABhGYAEAABhGYAEAABhGYAEAABhGYAEAABhGYAEAABhGYAEAABhGYAEAABhGYAEAABhGYAEAABhGYAEAABhGYAEAABhGYAEAABhGYAEAABhGYAEAABhGYAEAABhGYAEAABhGYAEAABhGYAEAABhGYAEAABhGYAEAABhGYAEAABhGYAEAABhGYAEAABhGYAEAABhGYAEAABhGYAEAABhGYAEAABhGYAEAABhGYAEAABhGYAEAABhGYAEAABhGYAEAABhGYAEAABhGYAEAABgWafcAlUFxcbEOHz6s6OhouVwuu8cBAKBSsCxLhYWFSkhIUJUq5XtNicAqB4cPH1ZiYqLdYwAAUCnl5eWpQYMG5fprEljlIDo6WtLP/4JjYmJsngYAgMrB5/MpMTEx8PdweSKwysEvbwvGxMQQWAAAlDM7bs/hJncAAADDCCwAAADDCCwAAADDCCwAAADDCCwAAADDCCwAAADDCCwAAADDCCwAAADDCKxSnD9/Xk8%2B%2BaSSkpJUvXp1NW7cWM8995yKi4vtHg0AAIQpPsm9FC%2B%2B%2BKLeeOMNzZs3Ty1btlROTo6GDh0qj8ej0aNH2z0eAAAIQwRWKTZu3Ki7775bvXr1kiRde%2B21ev/995WTk2PzZAAAIFzxFmEpunbtqs8//1x79uyRJH355Zdav3697rzzzos%2Bx%2B/3y%2BfzBW0AAKDy4ApWKcaOHSuv16tmzZopIiJCRUVFmjRpkvr373/R52RmZurZZ58tl/mSJywvl1/HhJxJd9g9AgAA5YIrWKVYtGiR5s%2BfrwULFmjLli2aN2%2BeXn75Zc2bN%2B%2Bizxk/fry8Xm9gy8vLK8eJAQCA3biCVYrHHntM48aNU79%2B/SRJrVu31v79%2B5WZmanU1NQLPsftdsvtdpfnmAAAIIxwBasUP/74o6pUCV6miIgIPqYBAABcFFewStGnTx9NmjRJDRs2VMuWLbV161ZNnz5dw4YNs3s0AAAQpgisUrz66qt66qmn9Oc//1kFBQVKSEjQww8/rKefftru0QAAQJgisEoRHR2tGTNmaMaMGXaPAgAAKgjuwQIAADCMwAIAADCMwAIAADCMwAIAADCMwAIAADCMwAIAADCMwAIAADCMwAIAADCMwAIAADCMwAIAADCMwAIAADCMwAIAADCMwAIAADCMwAIAADCMwAIAADCMwAIAADCMwAIAADCMwAIAADCMwAIAADCMwAIAADCMwAIAADCMwAIAADCMwAIAADCMwAIAADCMwAIAADCMwAIAADCMwAIAADCMwArBtddeK5fLVWJLS0uzezQAABCGIu0eoCLYvHmzioqKAvtfffWVbr/9dt133302TgUAAMIVgRWCevXqBe1PmTJFTZo00S233GLTRAAAIJwRWJfp7Nmzmj9/vjIyMuRyuS54jt/vl9/vD%2Bz7fL7yGg8AAIQB7sG6TEuXLtXJkyc1ZMiQi56TmZkpj8cT2BITE8tvQAAAYDsC6zK99dZb6tmzpxISEi56zvjx4%2BX1egNbXl5eOU4IAADsxluEl2H//v1auXKlFi9efMnz3G633G53OU0FAADCDVewLsPcuXMVGxurXr162T0KAAAIYwRWiIqLizV37lylpqYqMpILfwAA4OIIrBCtXLlSBw4c0LBhw%2BweBQAAhDkuxYQoJSVFlmXZPQYAAKgAuIIFAABgGIEFAABgGIEFAABgGIEFAABgGIEFAABgGIEFAABgGIEFAABgGIEFAABgGIEFAABgGIEFAABgGIEFAABgGIEFAABgGIEFAABgGIEFAABgGIEFAABgGIEFAABgGIEFAABgGIEFAABgGIEFAABgGIEFAABgGIEFAABgGIEFAABgGIEFAABgGIEFAABgGIEFAABgGIEFAABgGIEFAABgGIEVgkOHDmnQoEGqU6eOatSooeuvv165ubl2jwUAAMJUpN0DhLsTJ06oS5cuuvXWW/Xpp58qNjZW3377rWrVqmX3aAAAIEwRWKV48cUXlZiYqLlz5waOXXvttfYNBAAAwh5vEZZi2bJlSk5O1n333afY2Fi1a9dOc%2BbMueRz/H6/fD5f0AYAACoPAqsU%2B/bt06xZs9S0aVOtWLFCw4cP16hRo/Tuu%2B9e9DmZmZnyeDyBLTExsRwnBgAAdnNZlmXZPUQ4i4qKUnJysjZs2BA4NmrUKG3evFkbN2684HP8fr/8fn9g3%2BfzKTExUV6vVzExMUbnS56w3OjrlaWcSXfYPQIAoBLx%2BXzyeDxl8vdvabiCVYr4%2BHi1aNEi6Fjz5s114MCBiz7H7XYrJiYmaAMAAJUHgVWKLl26aPfu3UHH9uzZo0aNGtk0EQAACHcEVinGjBmj7OxsTZ48Wd98840WLFig2bNnKy0tze7RAABAmCKwStGhQwctWbJE77//vlq1aqXnn39eM2bM0MCBA%2B0eDQAAhCk%2BBysEvXv3Vu/eve0eAwAAVBBcwQIAADCMwAIAADCMwAIAADCMwAIAADCMwAIAADCMwAIAADCMwAIAADCMwAIAADCMwAIAADCMwAIAADCMwAIAADCMwAIAADCMwAIAADCMwAIAADCMwAIAADCMwAIAADCMwAIAADCMwAIAADCMwAIAADCMwAIAADCMwAIAADCMwAIAADCMwAIAADCMwAIAADCMwAIAADCMwAIAADCMwAIAADCMwCrFxIkT5XK5gra4uDi7xwIAAGHM0YE1f/58nTlz5le/TsuWLZWfnx/YduzYYWA6AADgVI4OrIyMDMXFxenhhx/Wpk2brvh1IiMjFRcXF9jq1atncEoAAOA0jg6sw4cP6%2B2331Z%2Bfr66du2qli1batq0aTp27Nhlvc7evXuVkJCgpKQk9evXT/v27SujiQEAgBM4OrAiIyPVt29fLVu2TAcOHFBqaqrefvttNWjQQH379tXHH38sy7Iu%2BRo33nij3n33Xa1YsUJz5szRkSNH1LlzZ/3www8XfY7f75fP5wvaAABA5eHowPpvcXFxuu2229StWze5XC7l5ORowIABatq0qdatW3fR5/Xs2VO///3v1bp1a/Xo0UMff/yxJGnevHkXfU5mZqY8Hk9gS0xMNP71AACA8OX4wDp%2B/LhmzJihtm3bqkuXLiooKNDSpUu1f/9%2BHTp0SL1799b9998f8uvVrFlTrVu31t69ey96zvjx4%2BX1egNbXl6eiS8FAABUEJF2D1CW7r33Xn3yySdKSkrSgw8%2BqNTU1KAb1K%2B66io9/vjjeuWVV0J%2BTb/fr6%2B//lo33XTTRc9xu91yu92/anYAAFBxOTqwYmJitHLlykvGUHx8/CWvRj366KPq06ePGjZsqIKCAr3wwgvy%2BXxKTU0ti5EBAIADODqwLnWf1C9cLpeaNGly0ccPHjyo/v376/jx46pXr546duyo7OxsNWrUyOSoAADAQRwdWGPGjFGTJk00YsSIoOOvvfaa9u3bp2nTppX6GgsXLiyr8QAAgEM5%2Bib3Dz/8UB07dixxvFOnTlq0aJENEwEAgMrA0YF1/PhxXX311SWOx8TE6Pjx4zZMBAAAKgNHB1aTJk20YsWKEsdXrFihpKQkGyYCAACVgaPvwUpPT1d6erp%2B%2BOEHde/eXZL0%2Beefa%2BrUqXr55Zdtng4AADiVowProYce0pkzZzR58mQ988wzkqQGDRrolVde0bBhw2yeDgAAOJWjA0uSRo4cqZEjRyo/P1/Vq1dXrVq17B4JAAA4nOMD6xfx8fF2jwAAACoJR9/kfuzYMQ0dOlQNGzZUtWrVFBUVFbQBAACUBUdfwRoyZIi%2B/fZbPfbYY4qPj5fL5bJ7JAAAUAk4OrDWrl2rtWvXql27dnaPAgAAKhFHv0XYoEEDrloBAIBy5%2BjA%2Bstf/qLx48fr4MGDdo8CAAAqEUe/RTh48GAVFhaqUaNGiomJUdWqVYMeLygosGkyAADgZI4OrClTptg9AgAAqIQcHVgPPPCA3SMAAIBKyNH3YEnS999/r4kTJ2rw4MGBtwQ/%2B%2Bwzff311zZPBgAAnMrRgbVu3Tq1bNlSa9as0QcffKBTp05JkrZs2aKnn37a5ukAAIBTOTqwxo4dq4kTJ2rVqlVBn9zevXt3ZWdn2zgZAABwMkcH1vbt2/WHP/yhxPHY2FgdO3bMhokAAEBl4OjAqlWrlo4cOVLi%2BLZt23TNNdfYMBEAAKgMHB1Y/fr107hx43Ts2LHAJ7p/8cUXevTRRzVo0CCbpwMAAE7l6MCaPHmy4uLiFB8fr1OnTqlFixbq3LmzOnTooKeeesru8QAAgEM5%2BnOwoqKitGjRIu3Zs0dbtmxRcXGxbrjhBjVr1szu0QAAgIM5OrB%2Bcd111%2Bm6666zewwAAFBJODqw/vSnP13y8dmzZ5fTJAAAoDJxdGDl5%2BcH7Z87d047d%2B5UYWGhbr75ZpumAgAATufowProo49KHDt//rweeeQRNW/e3IaJAABAZeDo7yK8kMjISD366KN66aWXruj5mZmZcrlcSk9PNzwZAABwikoXWJK0b98%2BnTt37rKft3nzZs2ePVtt2rQpg6kAAIBTOPotwscffzxo37Is5efna9myZRo4cOBlvdapU6c0cOBAzZkzRy%2B88ILJMQEAgMM4OrA2btwYtF%2BlShXVq1dPU6ZM0UMPPXRZr5WWlqZevXqpR48eBBYAALgkRwfWunXrjLzOwoULlZubq5ycnJDO9/v98vv9gX2fz2dkDgAAUDFUynuwLkdeXp5Gjx6t9957T9WqVQvpOZmZmfJ4PIEtMTGxjKcEAADhxGVZlmX3EGWlQ4cOgR/yXJpNmzZd8PjSpUt17733KiIiInCsqKhILpdLVapUkd/vD3pMuvAVrMTERHm9XsXExFzBV3JxyROWG329spQz6Q67RwAAVCI%2Bn08ej6dM/v4tjaPfIrz11lv15ptv6rrrrlOnTp0kSdnZ2dq9e7cefvhhud3uUl/jtttu044dO4KODR06VM2aNdPYsWNLxJUkud3ukF4bAAA4k6MD6%2BTJk0pLS9PkyZODjk%2BYMEFHjx7V3/72t1JfIzo6Wq1atQo6VrNmTdWpU6fEcQAAAMnh92B98MEHGjp0aInjQ4YM0YcffmjDRAAAoDJw9BUst9utDRs2qGnTpkHHN2zY8Kvewlu9evWvnAwAADiZowNr1KhRGj58uLZu3aqOHTtK%2BvkerDlz5uiJJ56weToAAOBUjg6sCRMmKCkpSX/961/19ttvS5KaN2%2BuOXPmaMCAATZPBwAAnMrRgSVJAwYMIKYAAEC5cvRN7tLPn4Hxzjvv6Omnn9aJEyckSV9%2B%2BaXy8/NtngwAADiVo69gffXVV%2BrRo4dq1KihvLw8DRkyRFdffbU%2B%2BOADHTx4UPPmzbN7RAAA4ECOvoI1ZswYDRgwQN9%2B%2B23Qj7np1auX1q5da%2BNkAADAyRx9BWvz5s2aNWtWiR%2BXc8011/AWIQAAKDOOvoIVFRWlU6dOlTi%2Bd%2B9e1a1b14aJAABAZeDowLrrrrv0/PPP6/z585Ikl8ulQ4cOady4cerbt6/N0wEAAKdydGBNmzZNhw8fVlxcnH766Sd1795djRs3VrVq1Ur8fEIAAABTHH0Plsfj0YYNG5SVlaUtW7aouLhYN9xwg373u9%2BVuC8LAADAFMcG1rlz53TnnXfq9ddfV0pKilJSUuweCQAAVBKOfYuwatWq2rp1K1eqAABAuXNsYEnSoEGDNHfuXLvHAAAAlYxj3yL8xcyZM7Vy5UolJyerZs2aQY9NnTrVpqkAAICTOTqwcnNz1aZNG0nS9u3bgx7jrUMAAFBWHBlY%2B/btU1JSktatW2f3KAAAoBJy5D1YTZs21bFjxwL7f/zjH3X06FEbJwIAAJWJIwPLsqyg/U8%2B%2BUSnT5%2B2aRoAAFDZODKwAAAA7OTIwHK5XCVuYuemdgAAUF4ceZO7ZVkaMmSI3G63JOnMmTMaPnx4iY9pWLx4sR3jAQAAh3NkYKWmpgbtDxo0yKZJAABAZeTIwOLT2wEAgJ0ceQ8WAACAnQgsAAAAwwgsAAAAwwisEMyaNUtt2rRRTEyMYmJi1KlTJ3366ad2jwUAAMIUgRWCBg0aaMqUKcrJyVFOTo66d%2B%2Buu%2B%2B%2BWzt37rR7NAAAEIYc%2BV2EpvXp0ydof9KkSZo1a5ays7PVsmVLm6YCAADhisC6TEVFRfrwww91%2BvRpderUye5xAABAGCKwQrRjxw516tRJZ86c0VVXXaUlS5aoRYsWFzzX7/fL7/cH9n0%2BX3mNCQAAwgD3YIXoN7/5jbZt26bs7Gw98sgjSk1N1a5duy54bmZmpjweT2BLTEws52kBAICdXJZlWXYPURH16NFDTZo00ZtvvlnisQtdwUpMTJTX61VMTIzROZInLDf6emUpZ9Iddo8AAKhEfD6fPB5Pmfz9WxreIrxClmUFRdR/c7vdgR80DQAAKh8CKwRPPPGEevbsqcTERBUWFmrhwoVavXq1li%2BvOFePAABA%2BSGwQnD06FENHjxY%2Bfn58ng8atOmjZYvX67bb7/d7tEAAEAYIrBC8NZbb9k9AgAAqED4LkIAAADDCCwAAADDCCwAAADDCCwAAADDCCwAAADDCCwAAADDCCwAAADDCCwAAADDCCwAAADDCCwAAADDCCwAAADDCCwAAADDCCwAAADDCCwAAADDCCwAAADDCCwAAADDCCwAAADDCCwAAADDCCwAAADDCCwAAADDCCwAAADDCCwAAADDCCwAAADDCCwAAADDCCwAAADDCCwAAADDCCwAAADDCKwQZGZmqkOHDoqOjlZsbKzuuece7d692%2B6xAABAmCKwQrBmzRqlpaUpOztbWVlZOn/%2BvFJSUnT69Gm7RwMAAGEo0u4BKoLly5cH7c%2BdO1exsbHKzc3VzTffbNNUAAAgXHEF6wp4vV5JUu3atW2eBAAAhCOuYF0my7KUkZGhrl27qlWrVhc8x%2B/3y%2B/3B/Z9Pl95jQcAAMIAV7Au04gRI7R9%2B3a9//77Fz0nMzNTHo8nsCUmJpbjhAAAwG4E1mUYOXKkli1bplWrVqlBgwYXPW/8%2BPHyer2BLS8vrxynBAAAduMtwhBYlqWRI0dqyZIlWr16tZKSki55vtvtltvtLqfpAABAuCGwQpCWlqYFCxboH//4h6Kjo3XkyBFJksfjUfXq1W2eDgAAhBveIgzBrFmz5PV61a1bN8XHxwe2RYsW2T0aAAAIQ1zBCoFlWXaPAAAAKhCuYAEAABhGYAEAABhGYAEAABhGYAEAABhGYAEAABhGYAEAABhGYAEAABhGYAEAABhGYAEAABhGYAEAABhGYAEAABhGYAEAABhGYAEAABhGYAEAABhGYAEAABhGYAEAABhGYAEAABhGYAEAABhGYAEAABhGYAEAABhGYAEAABhGYAEAABhGYAEAABhGYAEAABhGYAEAABhGYAEAABhGYAEAABhGYIVg7dq16tOnjxISEuRyubR06VK7RwIAAGGMwArB6dOn1bZtW82cOdPuUQAAQAUQafcAFUHPnj3Vs2dPu8cAAAAVBFewAAAADOMKVhnw%2B/3y%2B/2BfZ/PZ%2BM0AACgvBFYZSAzM1PPPvus3WOgkkmesNzuEUKWM%2BkOu0cAKgX%2BXLAPbxGWgfHjx8vr9Qa2vLw8u0cCAADliCtYZcDtdsvtdts9BgAAsAmBFYJTp07pm2%2B%2BCex/99132rZtm2rXrq2GDRvaOBkAAAhHBFYIcnJydOuttwb2MzIyJEmpqal65513bJoKAACEKwIrBN26dZNlWXaPAQAAKghucgcAADCMwAIAADCMwAIAADCMwAIAADCMwAIAADCMwAIAADCMwAIAADCMwAIAADCMwAIAADCMwAIAADCMwAIAADCMwAIAADCMwAIAADCMwAIAADCMwAIAADCMwAIAADCMwAIAADCMwAIAADCMwAIAADCMwAIAADCMwAIAADCMwAIAADCMwAIAADCMwAIAADCMwAIAADCMwAIAADCMwAIAADCMwAIAADCMwArR66%2B/rqSkJFWrVk3t27fXunXr7B4JAACEKQIrBIsWLVJ6eromTJigrVu36qabblLPnj114MABu0cDAABhiMAKwfTp0/XAAw/owQcfVPPmzTVjxgwlJiZq1qxZdo8GAADCUKTdA4S7s2fPKjc3V%2BPGjQs6npKSog0bNlzwOX6/X36/P7Dv9XolST6fz/h8Rf7Txl%2BzrJTF14//4L8FAP%2Brsv%2B58MtrWpZl/LVLQ2CV4vjx4yoqKlL9%2BvWDjtevX19Hjhy54HMyMzP17LPPljiemJhYJjNWFJ5pdk%2BAcMF/CwD%2BV1n%2BuVBYWCiPx1N2v8AFEFghcrlcQfuWZZU49ovx48crIyMjsF9cXKz/%2B7//U506dS76nCvh8/mUmJiovLw8xcTEGHvdyoC1u3Ks3ZVj7X4d1u/KVda1syxLhYWFSkhIKPdfm8AqRd26dRUREVHialVBQUGJq1q/cLvdcrvdQcdq1apVZjPGxMRUqt8wJrF2V461u3Ks3a/D%2Bl25yrh25X3l6hfc5F6KqKgotW/fXllZWUHHs7Ky1LlzZ5umAgAA4YwrWCHIyMjQ4MGDlZycrE6dOmn27Nk6cOCAhg8fbvdoAAAgDEVMnDhxot1DhLtWrVqpTp06mjx5sl5%2B%2BWX99NNP%2Bvvf/662bdvaPZoiIiLUrVs3RUbSypeLtbtyrN2VY%2B1%2BHdbvyrF25ctl2fG9iwAAAA7GPVgAAACGEVgAAACGEVgAAACGEVgAAACGEVgV1Ouvv66kpCRVq1ZN7du317p16%2BweKexkZmaqQ4cOio6OVmxsrO655x7t3r076By/36%2BRI0eqbt26qlmzpu666y4dPHjQponDV2Zmplwul9LT0wPHWLtLO3TokAYNGqQ6deqoRo0auv7665Wbmxt43LIsTZw4UQkJCapevbq6deumnTt32jhxeDh//ryefPJJJSUlqXr16mrcuLGee%2B45FRcXB85h7X62du1a9enTRwkJCXK5XFq6dGnQ46Gs04kTJzR48GB5PB55PB4NHjxYJ0%2BeLM8vw7EIrApo0aJFSk9P14QJE7R161bddNNN6tmzpw4cOGD3aGFlzZo1SktLU3Z2trKysnT%2B/HmlpKTo9On//PDT9PR0LVmyRAsXLtT69et16tQp9e7dW0VFRTZOHl42b96s2bNnq02bNkHHWbuLO3HihLp06aKqVavq008/1a5duzRt2rSgn%2BgwdepUTZ8%2BXTNnztTmzZsVFxen22%2B/XYWFhTZObr8XX3xRb7zxhmbOnKmvv/5aU6dO1UsvvaRXX301cA5r97PTp0%2Brbdu2mjlz5gUfD2WdBgwYoG3btmn58uVavny5tm3bpsGDB5fXl%2BBsFiqc3/72t9bw4cODjjVr1swaN26cTRNVDAUFBZYka82aNZZlWdbJkyetqlWrWgsXLgycc%2BjQIatKlSrW8uXL7RozrBQWFlpNmza1srKyrFtuucUaPXq0ZVmsXWnGjh1rde3a9aKPFxcXW3FxcdaUKVMCx86cOWN5PB7rjTfeKI8Rw1avXr2sYcOGBR3r27evNWjQIMuyWLuLkWQtWbIksB/KOu3atcuSZGVnZwfO2bhxoyXJ%2Bve//11%2BwzsUV7AqmLNnzyo3N1cpKSlBx1NSUrRhwwabpqoYvF6vJKl27dqSpNzcXJ07dy5oLRMSEtSqVSvW8v9LS0tTr1691KNHj6DjrN2lLVu2TMnJybrvvvsUGxurdu3aac6cOYHHv/vuOx05ciRo/dxut2655ZZKv35du3bV559/rj179kiSvvzyS61fv1533nmnJNYuVKGs08aNG%2BXxeHTjjTcGzunYsaM8Hg9raQAf51rBHD9%2BXEVFRSV%2B0HT9%2BvVL/EBq/IdlWcrIyFDXrl3VqlUrSdKRI0cUFRWlq6%2B%2BOuhc1vJnCxcuVG5urnJycko8xtpd2r59%2BzRr1ixlZGToiSee0KZNmzRq1Ci53W7df//9gTW60O/j/fv32zFy2Bg7dqy8Xq%2BaNWumiIgIFRUVadKkSerfv78ksXYhCmWdjhw5otjY2BLPjY2N5fexAQRWBeVyuYL2LcsqcQz/MWLECG3fvl3r168v9VzWUsrLy9Po0aP12WefqVq1aiE/j7X7WXFxsZKTkzV58mRJUrt27bRz507NmjVL999/f%2BA8fh%2BXtGjRIs2fP18LFixQy5YttW3bNqWnpyshIUGpqamB81i70JS2ThdaM9bSDN4irGDq1q2riIiIEv93UVBQUOL/VPCzkSNHatmyZVq1apUaNGgQOB4XF6ezZ8/qxIkTQeezlj%2B/BVhQUKD27dsrMjJSkZGRWrNmjV555RVFRkaqfv36rN0lxMfHq0WLFkHHmjdvHvhGlLi4OEni9/EFPPbYYxo3bpz69eun1q1ba/DgwRozZowyMzMlsXahCmWd4uLidPTo0RLPPXbsGGtpAIFVwURFRal9%2B/bKysoKOp6VlaXOnTvbNFV4sixLI0aM0OLFi/Wvf/1LSUlJQY%2B3b99eVatWDVrL/Px8ffXVV5V%2BLW%2B77Tbt2LFD27ZtC2zJyckaOHBg4J9Zu4vr0qVLiY8E2bNnjxo1aiRJSkpKUlxcXND6nT17VmvWrKn06/fjjz%2BqSpXgv5oiIiICH9PA2oUmlHXq1KmTvF6vNm3aFDjniy%2B%2BkNfrZS1NsO32elyxhQsXWlWrVrXeeusta9euXVZ6erpVs2ZN6/vvv7d7tLDyyCOPWB6Px1q9erWVn58f2H788cfAOcOHD7caNGhgrVy50tqyZYvVvXt3q%2B8lPKsAAAHuSURBVG3bttb58%2BdtnDw8/fd3EVoWa3cpmzZtsiIjI61JkyZZe/futd577z2rRo0a1vz58wPnTJkyxfJ4PNbixYutHTt2WP3797fi4%2BMtn89n4%2BT2S01Nta655hrrn//8p/Xdd99ZixcvturWrWs9/vjjgXNYu58VFhZaW7dutbZu3WpJsqZPn25t3brV2r9/v2VZoa3THXfcYbVp08bauHGjtXHjRqt169ZW79697fqSHIXAqqBee%2B01q1GjRlZUVJR1ww03BD56AP8h6YLb3LlzA%2Bf89NNP1ogRI6zatWtb1atXt3r37m0dOHDAvqHD2P8GFmt3aR999JHVqlUry%2B12W82aNbNmz54d9HhxcbH1zDPPWHFxcZbb7bZuvvlma8eOHTZNGz58Pp81evRoq2HDhla1atWsxo0bWxMmTLD8fn/gHNbuZ6tWrbrgn3GpqamWZYW2Tj/88IM1cOBAKzo62oqOjrYGDhxonThxwoavxnlclmVZ9lw7AwAAcCbuwQIAADCMwAIAADCMwAIAADCMwAIAADCMwAIAADCMwAIAADCMwAIAADCMwAIAADCMwAIAADCMwAIAADCMwAIAADCMwAIAADCMwAIAADCMwAIAADCMwAIAADCMwAIAADCMwAIAADCMwAIAADDs/wHmNxYOi/cIsgAAAABJRU5ErkJggg%3D%3D\"/>\n",
       "        </div>\n",
       "        <div role=\"tabpanel\" class=\"tab-pane col-md-12\" id=\"common784815113023958591\">\n",
       "            \n",
       "<table class=\"freq table table-hover\">\n",
       "    <thead>\n",
       "    <tr>\n",
       "        <td class=\"fillremaining\">Value</td>\n",
       "        <td class=\"number\">Count</td>\n",
       "        <td class=\"number\">Frequency (%)</td>\n",
       "        <td style=\"min-width:200px\">&nbsp;</td>\n",
       "    </tr>\n",
       "    </thead>\n",
       "    <tr class=\"\">\n",
       "        <td class=\"fillremaining\">0.0</td>\n",
       "        <td class=\"number\">8</td>\n",
       "        <td class=\"number\">80.0%</td>\n",
       "        <td>\n",
       "            <div class=\"bar\" style=\"width:100%\">&nbsp;</div>\n",
       "        </td>\n",
       "</tr><tr class=\"\">\n",
       "        <td class=\"fillremaining\">34.38000107</td>\n",
       "        <td class=\"number\">1</td>\n",
       "        <td class=\"number\">10.0%</td>\n",
       "        <td>\n",
       "            <div class=\"bar\" style=\"width:13%\">&nbsp;</div>\n",
       "        </td>\n",
       "</tr><tr class=\"\">\n",
       "        <td class=\"fillremaining\">110.22000120000001</td>\n",
       "        <td class=\"number\">1</td>\n",
       "        <td class=\"number\">10.0%</td>\n",
       "        <td>\n",
       "            <div class=\"bar\" style=\"width:13%\">&nbsp;</div>\n",
       "        </td>\n",
       "</tr>\n",
       "</table>\n",
       "        </div>\n",
       "        <div role=\"tabpanel\" class=\"tab-pane col-md-12\"  id=\"extreme784815113023958591\">\n",
       "            <p class=\"h4\">Minimum 5 values</p>\n",
       "            \n",
       "<table class=\"freq table table-hover\">\n",
       "    <thead>\n",
       "    <tr>\n",
       "        <td class=\"fillremaining\">Value</td>\n",
       "        <td class=\"number\">Count</td>\n",
       "        <td class=\"number\">Frequency (%)</td>\n",
       "        <td style=\"min-width:200px\">&nbsp;</td>\n",
       "    </tr>\n",
       "    </thead>\n",
       "    <tr class=\"\">\n",
       "        <td class=\"fillremaining\">0.0</td>\n",
       "        <td class=\"number\">8</td>\n",
       "        <td class=\"number\">80.0%</td>\n",
       "        <td>\n",
       "            <div class=\"bar\" style=\"width:100%\">&nbsp;</div>\n",
       "        </td>\n",
       "</tr><tr class=\"\">\n",
       "        <td class=\"fillremaining\">34.38000107</td>\n",
       "        <td class=\"number\">1</td>\n",
       "        <td class=\"number\">10.0%</td>\n",
       "        <td>\n",
       "            <div class=\"bar\" style=\"width:13%\">&nbsp;</div>\n",
       "        </td>\n",
       "</tr><tr class=\"\">\n",
       "        <td class=\"fillremaining\">110.22000120000001</td>\n",
       "        <td class=\"number\">1</td>\n",
       "        <td class=\"number\">10.0%</td>\n",
       "        <td>\n",
       "            <div class=\"bar\" style=\"width:13%\">&nbsp;</div>\n",
       "        </td>\n",
       "</tr>\n",
       "</table>\n",
       "            <p class=\"h4\">Maximum 5 values</p>\n",
       "            \n",
       "<table class=\"freq table table-hover\">\n",
       "    <thead>\n",
       "    <tr>\n",
       "        <td class=\"fillremaining\">Value</td>\n",
       "        <td class=\"number\">Count</td>\n",
       "        <td class=\"number\">Frequency (%)</td>\n",
       "        <td style=\"min-width:200px\">&nbsp;</td>\n",
       "    </tr>\n",
       "    </thead>\n",
       "    <tr class=\"\">\n",
       "        <td class=\"fillremaining\">0.0</td>\n",
       "        <td class=\"number\">8</td>\n",
       "        <td class=\"number\">80.0%</td>\n",
       "        <td>\n",
       "            <div class=\"bar\" style=\"width:100%\">&nbsp;</div>\n",
       "        </td>\n",
       "</tr><tr class=\"\">\n",
       "        <td class=\"fillremaining\">34.38000107</td>\n",
       "        <td class=\"number\">1</td>\n",
       "        <td class=\"number\">10.0%</td>\n",
       "        <td>\n",
       "            <div class=\"bar\" style=\"width:13%\">&nbsp;</div>\n",
       "        </td>\n",
       "</tr><tr class=\"\">\n",
       "        <td class=\"fillremaining\">110.22000120000001</td>\n",
       "        <td class=\"number\">1</td>\n",
       "        <td class=\"number\">10.0%</td>\n",
       "        <td>\n",
       "            <div class=\"bar\" style=\"width:13%\">&nbsp;</div>\n",
       "        </td>\n",
       "</tr>\n",
       "</table>\n",
       "        </div>\n",
       "    </div>\n",
       "</div>\n",
       "</div><div class=\"row variablerow ignore\">\n",
       "    <div class=\"col-md-3 namecol\">\n",
       "        <p class=\"h4 pp-anchor\" id=\"pp_var_AmountFuel\"><s>AmountFuel</s><br/>\n",
       "            <small>Highly correlated</small>\n",
       "        </p>\n",
       "    </div><div class=\"col-md-3\">\n",
       "    <p><em>This variable is highly correlated with <a href=\"#pp_var_FuelBought\"><code>FuelBought</code></a> and should be ignored for analysis</em></p>\n",
       "</div>\n",
       "<div class=\"col-md-6\">\n",
       "    <table class=\"stats \">\n",
       "        <tr>\n",
       "            <th>Correlation</th>\n",
       "            <td>0.99916</td>\n",
       "        </tr>\n",
       "    </table>\n",
       "</div>\n",
       "</div><div class=\"row variablerow ignore\">\n",
       "    <div class=\"col-md-3 namecol\">\n",
       "        <p class=\"h4 pp-anchor\" id=\"pp_var_CashFuel\"><s>CashFuel</s><br/>\n",
       "            <small>Constant</small>\n",
       "        </p>\n",
       "    </div><div class=\"col-md-3\">\n",
       "    <p><em>This variable is constant and should be ignored for analysis</em></p>\n",
       "</div>\n",
       "<div class=\"col-md-6\">\n",
       "    <table class=\"stats \">\n",
       "        <tr>\n",
       "            <th>Constant value</th>\n",
       "            <td>0</td>\n",
       "        </tr>\n",
       "    </table>\n",
       "</div>\n",
       "</div><div class=\"row variablerow ignore\">\n",
       "    <div class=\"col-md-3 namecol\">\n",
       "        <p class=\"h4 pp-anchor\" id=\"pp_var_AmountCash\"><s>AmountCash</s><br/>\n",
       "            <small>Constant</small>\n",
       "        </p>\n",
       "    </div><div class=\"col-md-3\">\n",
       "    <p><em>This variable is constant and should be ignored for analysis</em></p>\n",
       "</div>\n",
       "<div class=\"col-md-6\">\n",
       "    <table class=\"stats \">\n",
       "        <tr>\n",
       "            <th>Constant value</th>\n",
       "            <td>0</td>\n",
       "        </tr>\n",
       "    </table>\n",
       "</div>\n",
       "</div><div class=\"row variablerow ignore\">\n",
       "    <div class=\"col-md-3 namecol\">\n",
       "        <p class=\"h4 pp-anchor\" id=\"pp_var_FuelKm\"><s>FuelKm</s><br/>\n",
       "            <small>Highly correlated</small>\n",
       "        </p>\n",
       "    </div><div class=\"col-md-3\">\n",
       "    <p><em>This variable is highly correlated with <a href=\"#pp_var_AmountFuel\"><code>AmountFuel</code></a> and should be ignored for analysis</em></p>\n",
       "</div>\n",
       "<div class=\"col-md-6\">\n",
       "    <table class=\"stats \">\n",
       "        <tr>\n",
       "            <th>Correlation</th>\n",
       "            <td>0.9522</td>\n",
       "        </tr>\n",
       "    </table>\n",
       "</div>\n",
       "</div><div class=\"row variablerow ignore\">\n",
       "    <div class=\"col-md-3 namecol\">\n",
       "        <p class=\"h4 pp-anchor\" id=\"pp_var_DriverID\"><s>DriverID</s><br/>\n",
       "            <small>Highly correlated</small>\n",
       "        </p>\n",
       "    </div><div class=\"col-md-3\">\n",
       "    <p><em>This variable is highly correlated with <a href=\"#pp_var_VehID\"><code>VehID</code></a> and should be ignored for analysis</em></p>\n",
       "</div>\n",
       "<div class=\"col-md-6\">\n",
       "    <table class=\"stats \">\n",
       "        <tr>\n",
       "            <th>Correlation</th>\n",
       "            <td>1</td>\n",
       "        </tr>\n",
       "    </table>\n",
       "</div>\n",
       "</div>\n",
       "    <div class=\"row headerrow highlight\">\n",
       "        <h1>Correlations</h1>\n",
       "    </div>\n",
       "    <div class=\"row variablerow\">\n",
       "    <img src=\"data:image/png;base64,iVBORw0KGgoAAAANSUhEUgAAAoAAAAI0CAYAAACNlphAAAAABHNCSVQICAgIfAhkiAAAAAlwSFlzAAAPYQAAD2EBqD%2BnaQAAADh0RVh0U29mdHdhcmUAbWF0cGxvdGxpYiB2ZXJzaW9uMy4xLjIsIGh0dHA6Ly9tYXRwbG90bGliLm9yZy8li6FKAAAgAElEQVR4nOzdeVxU9f4/8NcMwzKgLMbgrhg6mKYwiGKmpuBeLqlXzNwiLUVATe/V7r2WS5pa1i/c8pLLdQ0TNU2tbmZKmhCJZhK4K4jJIsq%2BDfP7A5mvI6jA%2BYzMOK/n4zGPw5zlfd7n6Dm8eZ9zZmQ6nU4HIiIiIrIY8rpOgIiIiIieLBaARERERBaGBSARERGRhWEBSERERGRhWAASERERWRgWgEREREQWhgUgERERkYVhAUhERERkYVgAEhEREVkYRV0nQETmKyUlBQEBAQ%2Bdbm1tjXr16sHd3R29evXC2LFjUa9evSeYIRERVUXGr4Ijotq6vwBUq9WViruSkhLcvn0bN27cAAA0adIEmzZtQsuWLZ94rkRE9H9YABJRrd1fAG7evBl%2Bfn5VzhcTE4Pg4GDk5uZCo9Hgyy%2B/fJJpEhHRA3gPIBEZnZ%2BfH9555x0AQHx8PP744486zoiIyLKxACSiJ6Jv3776n8%2BcOVOHmRARER8CIaInon79%2Bvqf8/LyDKb9%2Buuv2LJlC06dOoU7d%2B7A0dER3t7eGDduHF544YUq42VnZ%2BPLL7/E0aNHcfHiReTm5kKpVKJFixbo3bs3xo8fDycnJ4NlPD09AQDHjx/H0qVLcfjwYcjlcrRv3x4bNmyAQqHAmTNnsGnTJiQkJODmzZuwtbVFq1at0KdPH4wZM6bKh1gKCwvx5Zdf4uDBg7h48SJKSkrQsGFDdOvWDUFBQXB3dzeYPyYmBuPHj4eXlxe2bduGLVu2YO/evbh27Rqsra3Rvn17jBs3Dn369KnNriYieiwWgET0RFy7dk3/c6NGjfQ/f/zxx4iIiAAAODk5Qa1WIy0tDYcPH8bhw4cxadIk/P3vfzeIdfXqVUycOBE3b96EQqFAixYt0LRpU9y4cQPnzp3DuXPncODAAURFRcHBwaFSLqGhoYiPj4darcbt27ehUqmgUCjw/fffY%2BbMmSgtLYWLiwtat26NvLw8/P777zhz5gz27duHL7/80qAI/Ouvv/DGG2/g8uXLAAB3d3c4ODjg0qVLiIyMxN69e7F06VIMGjSoUh4lJSWYPHkyfvnlF7i4uMDDwwNXrlzByZMncfLkScyfPx%2BvvfaatB1PRFQVHRFRLSUnJ%2BvUarVOrVbrTp48%2Bch5//GPf%2BjUarWuffv2uvT0dJ1Op9Pt2LFDp1ardb6%2Bvrqvv/5aP29ZWZnuwIEDOm9vb51ardbt3LnTINbYsWN1arVaN2rUKN2tW7cMltuzZ4%2Bubdu2OrVardu6davBchW5Pv/887rY2FidTqfTabVaXVZWlk6r1epefPFFnVqt1kVEROhKS0v1y/3xxx%2B6rl276tRqtW7dunX68aWlpbqhQ4fq1Gq1rn///ro///xTPy0nJ0f3r3/9S7/Np0%2Bf1k87efKkPhdvb2/dvn379NOys7N1EyZM0KnVal2XLl10JSUlj9yvRES1wXsAichoCgsLkZCQgPfffx979%2B4FAEycOBGurq4oLi7GypUrAQBLlizBkCFD9MvJZDIMGjRI3/lbuXIlSktLAQCZmZm4cOECAGDRokVwc3MzWG7YsGHo0qULACApKanKvAYOHIjOnTsDAORyOZydnXH79m2kp6cDAEaNGgUrKyv9/O3bt8fMmTPRp08fODs768d/%2B%2B23%2BPPPP2Fra4uIiAi0bdtWP61evXr44IMP0KNHD5SUlODTTz%2BtMpewsDAMHjxY/75%2B/fr67b5z5w6uXLnykL1LRFR7vARMREKMHz/%2BsfP87W9/w/Tp0wGUPw2ckZEBBweHh36Y9JAhQ7Bo0SLcunULCQkJ6NixI5555hmcPHkShYWFsLOzq7SMVqvVX6ItLCysMm6nTp0qjXNxcYGTkxPu3r2L2bNnY%2BrUqfDy8oJcXv538qhRozBq1CiDZX788UcAgL%2B/P5o3b17lut544w1ER0cjNjYWOTk5BvdCAkDv3r0rLePh4aH/OTs7u8q4RERSsAAkIiEe/CBomUwGW1tbODs7w9PTE3369EHr1q310yu6eCUlJXj99dcfGtfKygplZWW4fPkyOnbsqB9vZ2eHmzdv4syZM7h%2B/TqSk5Nx6dIl/Pnnn8jPzwcAlJWVVRlTpVJVuZ7Zs2dj3rx5OHr0KI4ePQonJyf4%2BfnhxRdfRK9evQzuXQSg7861b9/%2BoflXTNNqtbh27Rqef/55g%2BkNGzastMz9ha1Wq31obCKi2mIBSERC/Pvf/37oB0FXJScnBwBQXFyMU6dOPXb%2B%2Bzthly9fxvLly3H06FGDIq9evXrw9fVFWloaEhMTHxqrqs4hUN7la9myJTZu3IgTJ07g7t27%2BP777/H9999DJpOhV69emD9/vr4QzM3NBYBKXb373V8UP/j0M1D%2BdXmPouNn9ROREbAAJKI6oVQqAZR3yHbv3l3t5TIzMzF27FhkZmaiSZMmGDVqFNq1a4dnn30WzZo1g0wmw6xZsx5ZAD6Kn58f/Pz8UFhYiLi4OPz666%2BIjo7GuXPncOTIEdy8eRN79%2B6FTCbTP2FcUcxW5f7CtaonkomI6gILQCKqE61atQJQ/pEupaWlUCgqn450Oh1iYmLQqFEjNGnSBDY2NoiKikJmZiacnZ0RFRWFBg0aVFru1q1bNc6nuLgYycnJyM3NhZeXF%2Bzs7NC9e3d0794dM2fOxIEDB/DOO%2B8gMTERSUlJaNu2LZ599lkkJCTg3LlzD4179uxZAOWXxFu0aFHjvIiIjIFPARNRnejcuTPq16%2BPvLy8h3YA9%2B/fjwkTJmDgwIH466%2B/AJR//zAANGnSpMri7%2BLFizh9%2BjSAmt0/d%2BzYMQwaNAhvvfUWiouLK03v1q2b/ueKuBUPcPz4449ITk6uMu7mzZsBAN7e3nB0dKx2PkRExsQCkIjqhL29Pd566y0AwOLFixEVFWVwP98PP/yA999/H0D5x7ZUdM%2BeffZZAEBiYiK%2B%2B%2B47/fw6nQ7Hjh3DpEmTUFJSAgAoKCiodj49e/aEi4sL7ty5gzlz5uDOnTv6aXl5eVi2bBkAoHHjxmjTpg0AYMCAAfD09ERRUREmT55scNk5NzcX8%2BbNw88//wyFQoHZs2dXf%2BcQERkZLwETUZ2ZPHkykpOTsXPnTvzzn//ERx99hGbNmuHWrVtIS0sDAPj4%2BOCDDz7QLzNy5Ehs374d165dQ1hYGJo2bQoXFxfcvHkTmZmZsLa2RpcuXRAbG1ujS8E2Njb47LPP8Oabb%2BLgwYM4fPgwWrRoAblcjuTkZOTn50OpVGLp0qWwsbEBACgUCqxZswaTJ0/G5cuXMXToUINvAqn4qJoFCxbA19dX7M4jIpKABSAR1RmZTIZFixahf//%2B%2BPLLL3H69Gn9Byt7e3vjlVdeQWBgoL7gAsqfqt21axciIiJw5MgRpKSkICMjA40aNUKvXr0wYcIE2Nvbo0%2BfPkhMTERqaiqaNGlSrXz8/Pzw1VdfYePGjfjtt99w9epVKBQKNGrUCN27d0dQUFClWM2aNUNUVBR27NiBb7/9FpcuXcJff/2Fxo0bo0ePHnj99dcrfRcwEVFdk%2Bn4GQNEREREFoX3ABIRERFZGBaARERERBaGBSARERGRhWEBSERERCTQ7du30bdvX8TExDx0nqNHj2Lw4MHw9vbGwIEDceTIEYPpERER6NmzJ7y9vTFu3DhcvnxZaI4sAImIiIgE%2Be233xAYGIjr168/dJ6rV68iNDQU06dPR1xcHEJDQzFjxgz9R1ft2bMHW7Zswfr16xETE4P27dsjLCxM6HeDswAkIiIiEmDPnj2YPXs2Zs6c%2Bdj5fH190adPHygUCgwaNAidO3dGZGQkAGDnzp0YM2YM2rRpA1tbW8yaNQupqamP7CjWFAtAIiIiIgBpaWk4d%2B6cwaviQ%2Bmro3v37vjf//6HQYMGPXK%2BixcvQq1WG4xr3bq1/tuEHpxubW0Nd3d3g28bkoofBG0OZDIxcVq1Ai5cANq0Aa5ckRwuPS1bQFLl5HIZGjRwwO3beSgrk97iVjVzFZAVyvfZuXNA%2B/ZC9hkA1LcpEhLH3R04fRrw9gauXhUSUghj5JVzMFpMIDs7wNcXiIsDCgulxxMRAwCUSuDFF4Hjx4EafH3do6R7dxUSR/SxKYox8lItXygkDho0AObMAZYtA27flh4vPFx6DMAo5zMUiTmf1Zio34sPiAwPx6pVqwzGhYSEIDQ0tFrLq1Sqas2Xl5cHpVJpMM7Ozg75%2BfnVmi4CC0BL4uwMWFmVD02MXC6DTCaDXC4zqV8ycHIq32dOTnWdSSWmmpqp5gWgPDGZrHxoShSK8rwUpndKNtVj01TzAlBe0Mvl5UNTYtIHp2kIDAyEv7%2B/wbjqFnU1oVQqUfjAH5CFhYVwcHCo1nQRTO9sQ0RERPQocuPcwebm5gY3NzejxL6fWq3GuXPnDMZdvHgRzz//PACgTZs2uHDhAnr37g0AKCkpwdWrVytdNpaC9wASERGReZHLjfN6QoYMGYLY2FgcPHgQpaWlOHjwIGJjYzF06FAAwIgRI7B161YkJiaiqKgIK1asgKurK3x9fYXlwAKQiIiIyMg0Gg327dsHAPDw8MDq1auxbt06dO7cGWvWrMHKlSvRqlUrAMDIkSMxceJETJs2DV27dkVCQgLWrVsHa2trYfnwEjARERGZlyfYrautpKQkg/fx8fEG73v06IEePXpUuaxMJkNQUBCCgoKMlp/p70EiIiIiEoodQCIiIjIvZtABNHUsAImIiMi8sACUjHuQiIiIyMKwA0hERETmhR1AybgHiYiIiCwMO4BERERkXtgBlIwFIBEREZkXFoCScQ8SERERWRh2AGtp3Lhx6NKlC1599VUEBARAqVRCJpNBp9NBoVCgXbt2CAsLE/q9fURERAR2AAXgHhTkm2%2B%2BQXx8PE6fPo0jR46ga9eueOONNxAXF1fXqREREREZYAFoBPXr10dwcDD69euHjz/%2BuK7TISIierrI5cZ5WRBeAjai3r17Y/bs2SgoKIBSqazWMmlpaUhPTzcYp2rVCm7OztITatvWcCiRQiHuYLGykhsMJfP2FhPH09NwKICXtZg4arXh0FQYJS8HBzFxKo7Dah6Pj2Ut6B/T3t5wKICo41P4sSmIUfJq2lRMHJXKcCiVqZ7PTp8WE6c2LKxYMwaZTqfT1XUS5ujBewAPHz6MZs2aGcxz/PhxBAUF4dixY2jYsGG14q5cuRKrVq0yGBcSHIzQ6dOF5U5ERCSZrS1QVFQ3667m79Qau3XLOHFNEDuARpSZmQkrKys4OTlVe5nAwED4%2B/sbjFMNHgz897/SE2rbFti%2BHRgzBkhMlBwu63C09JzusbKSw9FRiezsAmi1ZZLjuQzwf/xM1eHpCWzeDIwfDyQlCQnZ3TpGSBy1GtiwAQgKAs6fFxJSCGPk9XP4KTGBlErgueeAP/8ECgqkxysulh4DKO/8dewI/P47kJ8vJGSWZwchcUQfm6IYIy%2BX/0YIiQOVCnj9dWDbNuCBKzq1smOH9BiAUc5ndYYdQMlYABrRkSNH4OPjAzs7u2ov4%2BbmBjc3N8ORV66ITSwxEYiPlxymtFT8LwOttkxMXNGXJpKShMU8YyMkjN7588CZM2JjiiA0r7w8QYHuKSgQE7OwUHqM%2B%2BXnAzk5QkKJPj6FHZuCCc3rxg0xcSqkp4uJacLnMzJfLACN4O7du9iyZQuOHDmCTZs21XU6RERETxd2ACVjASjIK6%2B8AplMBgBwcHCAt7c3tm7diueff76OMyMiInrKsACUjAVgLW3ZskX/c5K530tBREREFoUFIBEREZkXdgAl4x4kIiIisjDsABIREZF5YQdQMhaAREREZF5YAErGPUhERERkYdgBJCIiIvPCDqBkLACJiIjIvLAAlIx7kIiIiMjCsANIRERE5oUdQMm4B4mIiIgsDDuAREREZF7YAZSMBSARERGZFxaAksl0Op2urpOgR0tPzxESR6GQw8XFAVlZeSgtLRMSUxRTzc1U8wJMNzdTzQsw3dxMNS/AdHMz1bwA081NdF4qVX0BWdVShw7GiXv2rHHimiB2AImIiMi8sAMoGfcgERERkYVhB5CIiIjMCzuAkrEAJCIiIvPCAlAy7kEiIiIiC8MOIBEREZkXdgAl4x4kIiIisjDsABIREZF5YQdQMhaAREREZF5YAErGPUhERERkYdgBJCIiIvPCDqBkLACJiIiIBMjMzMS8efMQGxsLKysrDBkyBHPmzIFCYVhuTZo0Cb/99pvBuPz8fAQGBmLhwoXIyMjAiy%2B%2BCHt7e/10FxcX/Pjjj8JyZQFIRERE5sVEO4AzZsxAw4YNER0djYyMDEydOhWbNm3CpEmTDOb74osvDN7v2rULq1atQkhICADg7NmzaNq0qdCC70EsAImIiMi8GKkATEtLQ3p6usE4lUoFNze3xy577do1xMbG4tixY1AqlWjevDmCg4Px0UcfVSoA73f58mUsWrQI69ev16/n7NmzeP7556VtzGOwACQiIiICEBkZiVWrVhmMCwkJQWho6GOXvXDhApydndGwYUP9OA8PD6SmpiI7OxuOjo5VLrdgwQIMGzYMvr6%2B%2BnFnz57F3bt38corryAjIwMdOnTAnDlz0Lp161puWWUsAGvo6tWrcHd3r%2Bs0iIiILJeROoCBgYHw9/c3GKdSqaq1bF5eHpRKpcG4ivf5%2BflVFoBxcXE4c%2BYMPv74Y4Pxjo6OaN26NSZPngwbGxt89tlneOONN3Dw4EHUr1%2B/Jpv0UGZXAF65cgWff/45fvnlF%2BTk5OCZZ57BgAEDMHXqVDg4OBh13du2bcO3336LLVu2GHU9RERE9OS5ublV63JvVezt7VFQUGAwruL9w%2BqTyMhIDBw4sFKRuWLFCoP37777LqKiohAXF4fevXvXKr8HmeZdlA9x6tQpvPrqq2jatCn27t2L%2BPh4RERE4MyZMwgKCoJWqzXq%2Bm/fvm3U%2BERERFQNcrlxXhK0adMGd%2B7cQUZGhn7cpUuX0KhRoyq7dqWlpTh8%2BDCGDBliMD43NxfLli3DjRs39OO0Wi1KS0thZ2cnKcf7mVUH8L333sOwYcMQFhamH9eqVSt8%2BumneO%2B995CcnAxra2t89NFHiImJgVwuR9euXTFnzhy4ubkhJiYG48ePR1JSkn75uXPnAgCWLl2KlStX4sKFC7CxscFPP/0Ee3t7DB06FLNmzcKePXuwbt06aLVa%2BPr6Ii4uDv7%2B/ujevTsOHz4MlUqFBg0aoGnTpli0aJE%2B/ttvv4127dph%2BvTp1drGqm5AVSjsa/0Xyf2srOQGQ1NiqrmZal6A6eZmqnkBppubqeYFmG5uppoXYLq5mWpetWKCTwG7u7ujU6dOWLJkCRYuXIisrCysWbMGI0eOrHL%2BpKQkFBUVwcfHx2B8vXr1cOLECdy4cQOLFy%2BGXC7HsmXL0KxZM4P7BKUymwLw%2BvXruHDhAubPn19pmqurK9asWYOSkhK88soreP755/H9999Dp9NhwYIFmDJlCnbu3Fmt9Xz//fdYunQpli1bhp9//hlvv/02AgIC8OqrryIlJQWxsbEGl4B///13HDp0CADw888/4/3338e8efNgY2ODjIwMHD9%2BHP/%2B97%2BrvZ1V3YA6bdo0g6JXKkdH5eNnqiOmmpup5gWYbm6mmhdgurmZal6A6eZmqnkBppubqeb1NAgPD8fChQsREBAAuVyOYcOGITg4GACg0WiwYMECfccvOTkZTk5OsLW1rRRnzZo1%2BPDDD9GnTx%2BUlJTAz88PERERsLa2Fpar2RSAFZdfXV1dHzpPXFwckpOTERUVhXr16gEof7qmS5cu%2BOOPP6q1Hnd3dwwbNgwA8NJLL0GlUuHq1avw9vaucv7%2B/fvrb%2Bzs06cPFixYgB9//BEDBgzA/v37odFo0Lx582pvZ1U3oCoU9sjKyqt2jIexspLD0VGJ7OwCaLVlkuOJZKq5mWpegOnmZqp5Aaabm6nmBZhubqaaF2C6uYnOy8XFuPfdP5IJdgCB8holPDy8ymnx8fEG7wcMGIABAwZUOW/Tpk0rNYNEM5sCsOIGyfT09Cqfws3IyEBmZiZcXFz0xR9Q3kp1dnbGjRs3Hlk8PrieCtbW1igre/iBcv%2BlWRsbG7zyyiv4%2BuuvMWDAAOzZswdBQUGPXeeD8R683JuenoPSUnEnEa22TGg8kUw1N1PNCzDd3Ew1L8B0czPVvADTzc1U8wJMNzdTzYueLNMsoavQtGlTqNVqHDx4sNK0zMxM9O7dGzdu3EBWVhZyc3P103JycpCVlQWVSgUrKysAQHFxsX56VlaWpLxkMpnB%2BxEjRiA6Ohrx8fFISUlB//79JcUnIiKiB5jgQyDmxqy2dt68eYiKisKqVauQlZUFnU6HP//8E1OmTEH79u0RFBSE1q1b4/3330dOTg5ycnIwf/58tGjRAj4%2BPmjRogUUCgUOHDgAADhx4gROnjxZ7fXb2toiNzcXOp3uofO0a9cOrVu3xsKFCzFo0KBKnwlEREREErEAlMystrZLly7YunUrEhIS8PLLL8PHxwdhYWHo2rUrvvjiC1hbW2PdunUoLS1F//790bt3b5SUlGDjxo1QKBRwc3PDP//5T6xZswY%2BPj7YunUrhg8fXu319%2B7dG3fu3EGnTp2QnZ390PmGDx%2BOhIQEjBgxQsRmExEREQkl0z2qnUW1cvjwYXz88cf6p4OlSk/PERJHoZDDxcUBWVl5Jnf/h6nmZqp5Aaabm6nmBZhubqaaF2C6uZlqXoDp5iY6L5VKzDdS1MrgwcaJu3%2B/ceKaILN5CMQcZGVl4a%2B//sLatWvx2muv1XU6RERERFUyq0vApu6PP/7A6NGjoVKpMHr06LpOh4iI6OnEewAlYwdQoB49euDMmTN1nQYREdHTzcKKNWPgHiQiIiKyMOwAEhERkXlhB1Ay7kEiIiIiC8MOIBEREZkXdgAlYwFIRERE5oUFoGTcg0REREQWhh1AIiIiMi/sAErGApCIiIjMCwtAybgHiYiIiCwMO4BmQNXMVUwgb28gJgYuA/yB06clh0tPyRCQlHGo3BzFBNJogFOn4BLQA4iPFxJSBp2QOPdSQ0CAg6jUhDBGXrq438QEUioBl3ZwuXkNKCiQHi8/X3oMAHBwAFx84HIlCcjLExIyva23kDiWRPXph2ICNWkChITAZdtGIDVVerwPBeVlhPMZdGLOZzXGDqBk3INEREREFoYdQCIiIjIv7ABKxgKQiIiIzAsLQMm4B4mIiIgsDDuAREREZF7YAZSMe5CIiIjIwrADSEREROaFHUDJWAASERGReWEBKBn3IBEREZGFYQeQiIiIzAs7gJJxDxIRERFZGHYAiYiIyLywAygZC0AiIiIyLywAJeMeJCIiIrIw7AASERGReWEHULKnbg8GBQUhJCSkymk7d%2B5Et27dUFxc/NDlU1JS4OnpiZSUlIfO4%2BnpiZiYGADA7t270bZtW2g0Gmg0Gnh5eeGFF17ArFmzcPPmTWkbQ0RERGQET10BOG7cOBw5cgTp6emVpu3YsQOjR4%2BGjY2N0HU2adIE8fHxiI%2BPx5kzZ7Br1y6UlJRg9OjRuH37ttB1ERERWTy53DgvC/LUbe1LL72EJk2aYM%2BePQbjT58%2BjQsXLmD06NHIzc3FwoUL8dJLL%2BGFF17AzJkzkZGRYTD//v37MXDgQHh7e2PixIm4detWtXNo2rQpPvnkE8jlcmzatEnEZhEREVEFFoCSPXX3AMrlcowZMwbbt2/H5MmTIZPJAJR3/wYMGAA3NzeEhYUhLy8Pu3fvhp2dHZYuXYqQkBDs2LFDH%2BfcuXPYuXMnysrKMHHiRKxevRoLFy6sdh4KhQI9evTAyZMna5R/Wlpape6lyt0dbs7ONYpTJU9Pw6FECoW4g8XKSm4wlEyjEROnbVvDoQCCMjNGakIYJS%2BlUkwcOzvDoVT3zi%2BSVWyfqO2EuONT%2BLEpiFHyatJETByVynAolamez%2BLjxcShOvHUFYAAMHLkSISHh%2BPkyZN44YUXcOfOHRw6dAhbt25FZmYmvvvuOxw6dAjPPPMMAOCf//wnfH19ce7cOTjfK7SmTJmC%2BvXrAwB69OiB33//vcZ5uLi44M6dOzVaJjIyEqtWrTIYFxIcjNDp02u8/ofavFlIGBchUQw5Ogr6BXjqlJg4FbZvFxZKcGYiUxNKbF7tRAYDnn1WbDxRnntOWCjRx6ewY1MwoXk95P7xWgsMFBNHdF6iDk5RfwDVhoV164zhqSwA69evjyFDhuCrr77CCy%2B8gKioKLRr1w4dO3bUF3KjRo0yWMbKygopKSn6AtD5vo6btbU1tFptjfPIzMxEgwYNarRMYGAg/P39Dcaphg8Xc8B6epYXf%2BPHA0lJksNlffuj9JzusbKSw9FRiezsAmi1ZZLjuQT0EJAVyv9S3r4dGDMGSEwUEtJHUAlohNSEMEZep7YmiAlkZ1de/F2%2BDBQWSo8nIgZQ3vl77jngzz%2BBggIhIbNaien0iz42RTFGXi7bNgqJA5WqvPiLjASquB%2B9xjZskB4DMN2TBtWJp7IABMofBnn11VeRlZWFnTt3IiwsDADQsGFDAMChQ4eguq89f/HiRTRv3rzKh0dqo6SkBD///DOGDx9eo%2BXc3Nzg5uZmOPLqVSE56SUlAadPSw5TWir%2Bl4FWWyYmruhLE4mJwmKKvmgiMDWhhOYlqCjSKywUEzM/X3qM%2BxUUAHl5QkKJPj6FHZuCCc0rNVVMnArp6WJimvD5rM6wAyjZU7sHW7dujU6dOmHp0qUoKChAv379AJQXgL169cLixYuRlZWFkpISrF27FiNHjkR2draQdScnJ2PWrFmwtrbGhAkThMQkIiKie/gQiGRPbQcQAMaOHYtp06ZhxowZsLa21o9fvnw5VqxYgWHDhiE3Nxdt2rTBF198AZVK9cjP/3uY1NRUaO7dpCuTyeDs7IwePXpgx44dcHJyEgIsWK0AACAASURBVLY9RERERCI81QVgnz59kFTFvW5OTk4PfaK3WbNmlZYJDQ01eH//9OHDh9f4Mi8RERFJYGHdOmPgHiQiIiISIDMzE8HBwfD19YWfnx8WL16M0tLSKuedNGkSOnTooP8mMY1Gg2PHjgEAtFotli1bhm7dukGj0WDq1KlIS0sTmisLQCIiIjIvJnoP4IwZM2Bvb4/o6Gjs2rULv/zyy0O/EOKPP/7A%2BvXr9d8kFh8fj549ewIA1q5di%2BPHjyMqKgrR0dGws7PDv//9b8n53e%2BpvgRMRERETyEjXQKu8ssYVKrKn85RhWvXriE2NhbHjh2DUqlE8%2BbNERwcjI8%2B%2BgiTJk0ymDc5ORl3795Fu3ZVf8bpV199hdmzZ6Nx48YAgH/961/o3r07kpOT0bx581punSEWgERERER4yJcxhIRUehagKhcuXICzs7P%2B4%2BYAwMPDA6mpqcjOzoajo6N%2B/NmzZ%2BHg4ICZM2fi7NmzcHV1xcSJEzFy5Ejk5OTgr7/%2Bglqt1s/v6uoKJycnJCUlsQAkIiIiC2WkDmCVX8ZQza/0y8vLg/KBr3OseJ%2Bfn29QABYXF8Pb2xszZ85EmzZtEBMTg9DQUDg4OOg/VcTe3t4glp2dHfIEfU4owAKQiIiICMBDvoyhmuzt7VHwwAfMV7x3cHAwGD9s2DAMGzZM/7579%2B4YNmwYDh06hG7duhksW6GwsLBSHCn4EAgRERGZFxN8CKRNmza4c%2BcOMjIy9OMuXbqERo0aoX79%2Bgbz7tq1C4cOHTIYV1xcDFtbWzg5OaFhw4a4ePGiflp6ejru3LljcFlYKhaAREREZF5MsAB0d3dHp06dsGTJEuTm5iI5ORlr1qzByJEjK82bm5uLRYsWISEhAWVlZfjpp5/wzTffIDAwEED5ZwyvXbsWycnJyM3NxZIlS9ClSxe0aNFCUo734yVgIiIiIgHCw8OxcOFCBAQEQC6XY9iwYQgODgYAaDQaLFiwAEOGDMGECROQn5%2BPkJAQZGZmonnz5li2bBl8fX0BANOmTUNpaSlef/115OXlwc/PD//v//0/obmyACQiIiLzYqLfBOLq6orw8PAqp8XHx%2Bt/lslkCA4O1heHD7K2tsbs2bMxe/Zso%2BQJ8BIwERERkcVhB5CIiIjMi4l2AM0JC0AiIiIyLywAJWMBaAbq2xQJieNlDfwMoLt1DM7YSI93GTnSgxiJDDohcTQATgHwwSnEP27matJBJihSeXan4AMIy04E8XmdUYj591QqADWA84p2KBBw9ssR9E/pICvfa/EyH%2BQJiulpwsenqZpntURInMZyIBjAGnkIblpJj/cBxORlnPMZmSsWgERERGRe2AGUjAUgERERmRcWgJJxDxIRERFZGHYAiYiIyLywAygZ9yARERGRhWEHkIiIiMwLO4CSsQAkIiIi88ICUDLuQSIiIiILww4gERERmRd2ACXjHiQiIiKyMOwAEhERkXlhB1AyFoBERERkXlgASsY9SERERGRh2AEkIiIi88IOoGTcg0Z27dq1uk6BiIiIyMBTVwB6enoiJibGYFxUVBQ6dOiA7du31zheSkoKPD09kZKSUq35NRoN4uLiAADLli3D2rVra7xOIiIiegS53DgvC/LUXwL%2Bz3/%2Bg7Vr1yI8PBy9e/c2%2Bvri4%2BP1P2dlZRl9fURERBbHwoo1Y3hqC0CdTofFixfj0KFD2Lx5Mzp06KCf5unpiYULF2LDhg3466%2B/8MILLyAkJAQffPABkpKS8Oyzz%2BKTTz5By5YtK8UdN24cvL29cerUKSQkJKBRo0YIDQ3FoEGD9LE3b96MuLg47N%2B/HwCQkJCAffv2VSvvtLQ0pKenG4xr2VIFZ2e32u4KPbXacCiVQiHuALSykhsMpdJohIRB27aGQzFMOjnpjJCXUikmjq2t4VCqsjIxcSq2T9R2AuKOT9HHpijGyKtxYzFxXF0Nh1KZ6vnsvn4HmSGZTqfT1XUSInl6emL9%2BvXYvXs3Dh8%2BjG%2B%2B%2BQbNmzevNE/nzp2xatUqFBcX4%2BWXX4ZSqcTGjRvRuHFjvPnmm3B3d8eHH36IlJQUBAQE4PDhw2jWrBnGjRuH8%2BfPY%2BPGjWjdujVWr16Nbdu24fjx47C1tdUXgH5%2Bfpg7dy4AYOnSpdXOf%2BXKlVi1apXBuODgEEyfHip95xAREQkikwF1VkFs2WKcuOPGGSeuCXoqO4Dz5s1D48aNYWtri927d2P69OmV5hk7diycnZ0BAG3atEG7du3g4eEBAOjatSt%2B%2B%2B23h8bv378/2rVrBwB49dVX8fnnnyMzMxNNmjSRnHtgYCD8/f0fGKfCV19JDg21GtiwAQgKAs6flx5v//486UHusbKSw9FRiezsAmi10tsqAQEOArIq/0t5%2B3ZgzBggMVFISJyCj5hAxkhOBCPkdf7LU0Li2NoCLVsC164BRUXS4%2BUJOgSUyvLdlpgIFBSIienuLiY50cemKMbIa8cOMecNV1dg1Chg504gI0N6vC%2B%2BkB4DMN1TBtWNp7IA9PLywvLly3HixAlMnToVzz33HPr162cwT0XxBwBWVlZwcnLSv5fL5XhUY1SlUul/VijKd2GZoGtBbm5ucHMzvNx77Vr5S5Tz54EzZ6THKS0V/8tAqy0TElf0pYnERJExTTo5cQTmJaooqlBUJCamqAKwQkGBuJiij09Rx6ZoIvO6eVNIGL2MDDExTft8Vkd4D6BkT%2BUefO2112BjY4NevXrhrbfewpw5c5CUlGQwj0wmq6PsiIiISBI%2BBSzZU7%2B106dPh7e3N6ZNm4Y7d%2B480XXb2NggJyfnia6TiIiI6HGe%2BgJQLpdjxYoVKC0txYwZM6DVap/YugcNGoRTp06hV69eT2ydRERETz12ACV76u4BfPBSLwA0aNAAP/3000Pn2fLA00Shof/3xG2zZs0M5n9w3gen3/9z165d8csvv9RsA4iIiIiM7KkrAImIiOgpZ2HdOmNgAUhERETmhQWgZNyDRERERBaGHUAiIiIyL%2BwASsY9SERERGRh2AEkIiIi88IOoGQsAImIiMi8sACUjHuQiIiIyMKwA0hERETmhR1AybgHiYiIiCwMO4BERERkXtgBlIwFIBEREZkXFoCSsQAkIpNXViY2TlmZuJhEROaIBSARERGZF3YAJWMBSERERCRAZmYm5s2bh9jYWFhZWWHIkCGYM2cOFIrK5daOHTuwadMmpKWlwc3NDePHj8frr78OACgrK0OnTp2g0%2Bkgk8n0yxw/fhz29vZCcmUBSERERObFRDuAM2bMQMOGDREdHY2MjAxMnToVmzZtwqRJkwzm%2B%2BGHH/DJJ58gIiICXl5eOH36NN566y24urqif//%2BuHjxIkpKSnDq1CnY2NgYJVcWgERERGRejFQApqWlIT093WCcSqWCm5vbY5e9du0aYmNjcezYMSiVSjRv3hzBwcH46KOPKhWAt27dwuTJk%2BHt7Q0A0Gg08PPzw6%2B//or%2B/fvj7Nmz8PT0NFrxB7AAJCIiIgIAREZGYtWqVQbjQkJCEBoa%2BthlL1y4AGdnZzRs2FA/zsPDA6mpqcjOzoajo6N%2BfMWl3gqZmZn49ddf8e677wIAzp49i6KiIowYMQI3btyAh4cHZs2aBR8fHymbZ4AFIBEREZkXI3UAAwMD4e/vbzBOpVJVa9m8vDwolUqDcRXv8/PzDQrA%2B6Wnp%2BPtt9/G888/j1deeQUAYGdnh44dO2L69OlwcnLCtm3b8Oabb2Lfvn1o3rx5TTerSiwAiYiIiAC4ublV63JvVezt7VFQUGAwruK9g4NDlcucPn0a06dPh6%2BvLz788EP9wyJz5841mO/NN9/E7t27cfToUYwdO7ZW%2BT3INO%2BiJCIiInoYudw4LwnatGmDO3fuICMjQz/u0qVLaNSoEerXr19p/l27dmHixImYMGECVqxYYXC/36effoqEhASD%2BYuLi2Frayspx/uxACQiIiLzYoIFoLu7Ozp16oQlS5YgNzcXycnJWLNmDUaOHFlp3u%2B%2B%2Bw7z58/HypUrERQUVGn6%2BfPnsXjxYqSnp6O4uBirVq1Cbm4u%2BvbtKynH%2B7EAJCIiIhIgPDwcpaWlCAgIwKhRo9CjRw8EBwcDKH/Sd9%2B%2BfQCAVatWQavVIiwsDBqNRv967733AAAffvghWrRogaFDh8LPzw%2BxsbHYuHEjnJ2dheXKewCJiIjIvJjo5wC6uroiPDy8ymnx8fH6n/fv3//IOM7Ozvjwww%2BF5vYgFoBERERkXky0ADQn3INEREREFoYdQCIiIjIv7ABKxj1IREREZGHMogD09PRETEyMwbioqCh06NAB27dvr3G8mJgYeHp6Gjx5U/Has2cPUlNTodFokJqaKjn3lStXYty4cZLjEBER0T0m%2BDEw5sYsLwH/5z//wdq1axEeHo7evXvXOs79T%2BTUZBoRERHVIQsr1ozBrPagTqfDBx98gP/%2B97/YvHmzQfHn6emJyMhI9O/fH15eXpgyZQr%2B%2BOMPjB49GhqNBiNGjMC1a9eqtZ6UlBR4enoiJSVFH3vLli3o378/NBoNRo8ejaSkJP38u3btwvDhw%2BHn5weNRoO3334bt2/fFrvxRERERIKYTQewpKQEs2bNwuHDh/HNN99U%2BWXI%2B/fvR2RkJIqLi/Hyyy8jODgYGzduROPGjfHmm2/i888/r/Xn6hw4cABbt26FnZ0dwsLCsHz5cqxfvx6///47PvjgA2zevBkdO3bEX3/9hQkTJmDz5s2YMWNGjdeTlpaG9PR0g3EtW6rg7Fy77ya8n1ptOJRKoRD394OVldxgKJVGIyQM2rY1HIph0slJZ4S8Hvh%2B9Vqr%2BBYlgd%2BmJETF9onaTkDc8Sn62BTFGHk1biwmjqur4VAqUz2f1emFMnYAJTObAnDevHlo3LgxbG1tsXv3bkyfPr3SPGPHjtV/SnabNm3Qrl07eHh4AAC6du2K3377zWB%2BX19fg/cBAQFYtmxZlesfN24cVCoVAGDgwIFYt24dAECtVuObb75Bs2bNcPfuXaSlpaFBgwa4detWrbYzMjISq1atMhgXHByC6dNDaxWvKhs2iIpU9ZdbS%2BHoKOY34KlTQsLo1eJW00cw6eTEEZiX6BK3VSvBAQURW8uLPT5FHZuiiczr3hc2CDNqlJg4ovMSdWjKZGLiUN0wmwLQy8sLy5cvx4kTJzB16lQ899xz6Nevn8E8939FipWVFZycnPTv5XI5dDqdwfxxcXHVXr/rfX/KKRQKfSy5XI7Nmzdj//79sLe3h6enJ3Jzcyutq7oCAwPh7%2B//wDgVvvqqVuEMqNXlxV9QEHD%2BvPR4%2B/fnSQ9yj5WVHI6OSmRnF0CrLZMcLyBAzC%2B/tm3LT5ZjxgCJiUJC4hR8xAQyRnIiGCGvxO1iimZb2/Li78oVoKhIeryCAukxgPLOX9u25btLVEx3dzHHp%2BhjUxRj5LVjh5jzhqtrefG3cyeQkSE93hdfSI8BmO4po1bYAZTMbArA1157DTY2NujVqxfeeustzJkzBy1btoSnp6d%2BHlkd/DmyadMmHD9%2BHPv379cXiVOmTKl1PDc3N7i5GV7uvXat/CXK%2BfPAmTPS45SWiv9loNWWCYkr%2BtJEYqLImCadnDgC8xJVFFUoKhITM0/c30AAynMSFVP08Snq2BRNZF43bwoJo5eRISamaZ/P6ggLQMnMcg9Onz4d3t7emDZtGu7cuVOnueTm5kKhUMDa2hqlpaX4%2BuuvER0djZKSkjrNi4iIiOhhzLIAlMvlWLFiBUpLSzFjxgxotdo6yyUoKAiNGzdG79690aNHD%2Bzbtw9jxozBeRHXWImIiKgyfg6gZGZxCfj%2Bj1yp0KBBA/z0008PnWfLli0G70ND/%2B8hCj8/vypjVmjWrJnB9AfnHT58OIYPHw6g/L7Dzz///KGx7l8vERERkSkwiwKQiIiISM/CunXGwAKQiIiIzAsLQMm4B4mIiIgsDDuAREREZF7YAZSMe5CIiIjIwrADSEREROaFHUDJWAASERGReWEBKBn3IBEREZGFYQeQiIiIzAs7gJJxDxIRERFZGHYAiYiIyLywAygZC0AiIiIyLywAJeMeJCIiIrIwMp1Op6vrJOgxoqPFxHFwAHx8gFOngLw8yeHS23oLSKqcQiGHi4sDsrLyUFpaJjme6vp5AVkBUCqBdu2AhASgoEBIyDOKTkLiKJWAWg2cPy8mtTLpux1AeV5t2wKJicJ2GTQ%2BMkGBNOX//318gPh4MTFFMEJe6WnZQuKIPjZFMUZeqtbNhMSBlxdw7BjQsydw5oz0eD/%2BKD0GYJTzGTqJOZ/V2K1bxonbsKFx4pogdgCJiIiILAzvASQiIiLzwnsAJWMBSEREROaFBaBk3INEREREFoYdQCIiIjIv7ABKxj1IREREZGHYASQiIiLzwg6gZCwAiYiIyLywAJSMe5CIiIjIwrADSEREROaFHUDJuAeJiIiILAw7gERERGRe2AGUjAUgERERmRcWgJJxDxIRERFZGBaARnTt2rW6ToGIiOjpI5cb52VBhG%2Btv78/OnToAI1GY/AKCgqSFDcmJgaenp76956enujYsSM0Gg28vb3RuXNnTJ06FTdv3pS6CdUyd%2B5czJ0796HTly1bhrVr1z6RXIiIiCyKiRaAmZmZCA4Ohq%2BvL/z8/LB48WKUlpZWOe/Ro0cxePBgeHt7Y%2BDAgThy5IjB9IiICPTs2RPe3t4YN24cLl%2B%2BLDm/%2Bxml3F2wYAHi4%2BMNXhs2bBC%2BnoiICMTHx%2BP06dM4cuQIdDod/v73vwtfT21kZWXVdQpERET0BM2YMQP29vaIjo7Grl278Msvv2DTpk2V5rt69SpCQ0Mxffp0xMXFITQ0FDNmzMCtW7cAAHv27MGWLVuwfv16xMTEoH379ggLC4NOpxOW6xN9CGTcuHHo0qULQkNDAQApKSkICAjA4cOH0axZM2RkZGDp0qX45ZdfIJPJ4O/vj3/84x%2BoV6/eY2PXq1cPo0aNwjvvvKMfl5WVhU8%2B%2BQRHjhxBSUkJvL298e6778Ld3b3SugFg5cqViI2NxZYtWwAABw4cQHh4ODIzM%2BHl5YUmTZqgpKQES5cuBVBe6YeFhSEmJgbW1taYMmUKxo4di9WrV2P//v0AgISEBOzbt6/a%2BygtLQ3p6ekG41QFBXBzda12jIdSKg2HEikU4v5%2BsLKSGwwlE7SNsLMzHAqgFHTU2doaDqUqKxMTR3ReAACNRkyctm0Nh6bCCHmJOj6FH5uCGCUvLy8xcdRqw6FUpno%2BKygQE6c2jHS5tsrfwSoV3NzcHrvstWvXEBsbi2PHjkGpVKJ58%2BYIDg7GRx99hEmTJhnMu2fPHvj6%2BqJPnz4AgEGDBmH37t2IjIxEWFgYdu7ciTFjxqBNmzYAgFmzZmHnzp2IiYlB165dhWyryTwFXFZWhuDgYLi7u%2BO7775DSUkJ3n33Xbz33nv45JNPHrv83bt3ceDAAfTr108/LiwsDHK5HHv27EH9%2BvXx2WefYeLEifjmm28eGy8%2BPh5z5sxBeHg4evbsiSNHjmDGjBkYPHiwfp6TJ09i3bp1%2BOyzz7B37168%2B%2B676Nu3L6ZNm4bk5GQA0BeL1RUZGYlVq1YZjAuZNg2hYWE1ivNIzz0nJIyLkCiGHB0Fnehc2omJU%2BHZZ4WFEvQrQa9lS8EBBWnVSmCwU6cEBgOwfbvYeKIIzEv08Sns2BRMaF7HjomLBQBffCE2niiizme//SYmjgmp8ndwSIi%2BcfUoFy5cgLOzMxo2bKgf5%2BHhgdTUVGRnZ8PR0VE//uLFi1A/8AdC69atkZiYqJ8%2BefJk/TRra2u4u7sjMTHRtAvABQsWYMmSJQbjjj3mwPrjjz9w7tw5bNy4EQ4ODgCAOXPmYMCAAZg3b16Vy0yZMgVWVlYoKytDXl4e6tevj3Xr1gEAkpOTERsbiwMHDkClUgEAZs%2Bejf379%2BPo0aPwesxfelFRUejXrx/8/f0BAH379tVX6hVefPFFdOvWDQDw8ssvY%2B7cuUhOTjb4x6%2BpwMBA/TorqG7cEPMLUKksL/7%2B/FPIX25ZrTwfP1M1WVnJ4eioRHZ2AbRa6a0ol5uCHsCxsys/WV6%2BDBQWCgl5XiGmOLW1LS/%2Brl0DioqkxxPZAWzVCrhyRUxeANB2jI%2BgQG3Li6wxY4B7J1qTYIS8sg5HC4kj%2BtgUxRh5uQwdKCQO1Ory4m/SJOD8eenxPv9cegzAKOezuqKDzChxq/wdfK%2BGeJy8vDwoH%2BjWVrzPz883KACrmtfOzg75%2BfnVmi6CUQrA999/H8OHD6/RMikpKdBqtXjppZcMxtvY2Oi7aQ/6/PPP4efnBwAoLCzEtm3bMGHCBERGRqK4uBgA0Lx5c/38VlZWaNy4MW7cuPHYAvDmzZto187wF3Xz5s2RkZGhf%2B/s7GyQJwBotdrHbeojubm5VW41374N5OVJimugoEBIvNJS8b8MtNoyMXFFX5ooLBQWs0DwUVdUJCY1UQVgBVF5AQDi4wUFuicxUXxMEQTmJfr4FHZsCiY0rzNnxMSpcP68mJgmfD6rK6LPVxWq/B1cTfb29ih4YL9WvK9obFVQKpUofKAILyws1M/3uOkiPNGbOuRyOUpKSvTv739QolGjRrCzs0NMTAzi4uIQFxeHEydOYO/evZUKsarY2dnhzTffhIODA06cOIGmTZsCAK5fv66fR6vVIjU1FSqVClZWVgDw0HyaNm2K1NRUg3U8%2BJ6IiIgIANq0aYM7d%2B4YNIouXbqERo0aoX79%2BgbzqtVqXLhwwWDcxYsX9ff8tWnTxmB6SUkJrl69WumysRRPtAD08PBAdHQ0srOzkZOTg4iICP20jh07omXLlli6dCny8vJQWFiIJUuWYOLEidXqqpWWliIqKgrZ2dno1KkT3Nzc8NJLL%2BGDDz5Aeno6CgsL8fHHH0Or1aJ379545pln4OTkhAMHDkCn0%2BHcuXP49ttv9fH%2B9re/4X//%2Bx%2Bio6Oh1Wpx9OhRfP/999XeVhsbG%2BTk5NRsBxEREdFjlZUZ5yWFu7s7OnXqhCVLliA3NxfJyclYs2YNRo4cWWneIUOGIDY2FgcPHkRpaSkOHjyI2NhYDB06FAAwYsQIbN26FYmJiSgqKsKKFSvg6uoKX19faUne54kWgG%2B//TaeeeYZBAQEYOjQoQbX2RUKBdatW4eMjAz069cP3bt3x/Xr17Fx40bYPuRxwsmTJ%2Bs/Z7BLly7Ytm0bPvnkE/j4lN8vtHz5cjRv3hyvvvoqunXrhqSkJPz3v/%2BFs7MzbGxssGjRIhw6dAg%2BPj5YunQpRo0apY/doUMHLFiwAPPnz0fnzp2xbds2vPDCC7C2tq7Wtg4aNAinTp1Cr169ar/DiIiIyGyEh4ejtLQUAQEBGDVqFHr06IHg4GAAgEaj0X8qiIeHB1avXo1169ahc%2BfOWLNmDVauXIlW956eGzlyJCZOnIhp06aha9euSEhIwLp166pdg1SHTCfyQ2WeIleuXEFZWRk8PDz040JDQ/Hss89i5syZTzaZaDE3c8PBAfDxKX%2BgRMA9gOltvQUkVU6hkMPFxQFZWXlC7udRXRdw4zVQ/uBMu3ZAQoKwe2bOKDoJiaNUlt9rfv68ad0DqFSWP9OQmCjuNiONj6AbvjWa8v//Pj6mdQ%2BgEfJKT8sWEkf0sSmKMfJStW4mJA68vMqfKO7ZU8w9gD/%2BKD0GYJTzGTqJOZ/VlKgHzB4k9OOrTJxpfbCTCbl48SImTJigv4cwJiYG0dHRlR5SISIioifLFC8BmxuT%2BRxAU9O3b19cvHgR48ePx927d9G0aVMsWrRIf3mZiIiIyFyxAHyEqVOnYurUqXWdBhEREd3H0rp1xsBLwEREREQWhh1AIiIiMivsAErHApCIiIjMCgtA6XgJmIiIiMjCsANIREREZoUdQOnYASQiIiKyMOwAEhERkVlhB1A6FoBERERkVlgASsdLwEREREQWhh1Ac1BYKCaOtXX5sLhYXExTlZ8vJo5MVj4sLBQWM0cmJIz%2BL%2BC8vPKXqSkoMM28iB5KVFupIo6oL5g14fNZXWEHUDp2AImIiIgsDDuAREREZFbYAZSOBSARERGZFRaA0vESMBEREZGFYQeQiIiIzAo7gNKxA0hERERkYdgBJCIiIrPCDqB0LACJiIjIrLAAlI6XgImIiIgsDDuAREREZFbYAZSOHUAiIiIiC8MOIBEREZkVdgClYwFIREREZoUFoHS8BExERERkYSyuA1hUVISsrCw0atSorlMhIiKiWmAHUDqhHcBt27bB09MTmzZtEhlWqDFjxuDEiRP6956enujYsSM0Go3B61//%2Bpfkde3evRv%2B/v6S4xARERGJJLQDuG3bNrz22mvYvHkzxo4dC4XC9BqMWVlZlcZFRETAz8%2BvDrIhIiKimmIHUDphHcBffvkFmZmZmDt3LsrKyvDdd9/pp/n7%2B2Pjxo0YMmQIvLy88Nprr%2BHcuXOYPHkyNBoNBg0ahN9//10//w8//IDhw4fDx8cH/fv3x6ZNm1B271977ty5mDt3rsG6PT09ERMTo1/XunXrMGzYMGg0GgwbNgwnT54EAAQFBSE1NRXvv/8%2BFi5cWK3t8vf3x%2B7du/XvY2Ji4OnpqX9//fp1TJkyBX5%2Bfujduzc%2B/fRTFBcX13DvERERUXWVlRnnZUmEtei2bNmCUaNGwc7ODmPGjMGGDRvw8ssv66d/9dVX2LBhA%2BrVq4cRI0Zg3LhxWL9%2BPdq3b49//OMf%2BPjjj7F582acPHkSM2bMwPLly9GvXz8kJSUhODgYADBx4sRq5RIVFYWIiAi4ublhwYIFmD9/Pr799lts2LAB/v7%2BCAkJwfDhwyVvc35%2BPiZOnIiXX34Zn332GW7fvo2wsDCUlZVh1qxZtYqZlpaG9PR0g3GqoiK4ubpKzhf29oZDiRQKcXcQWFnJDYaSOTiIiaNUGg4FcJCJiWOE1IQwSl4ajZg4QX9aAgAAIABJREFUbdsaDk2FEfISdXwKPzYFMUpeXl5i4qjVhkOpTPV8lpcnJg7VCSEF4I0bNxAdHY333nsPADBq1CisXr0asbGx6NKlCwBgxIgR%2BgcvOnbsiNzcXGjundS7d%2B%2BOtWvXAii/by4gIACDBg0CALRv3x5vvfUWtmzZUu0CcOTIkWjZsiUAYPDgwdi7d%2B8j558yZQqsrKz0752dnfHDDz88dj0//fQTiouL8c4770Amk6Fx48aYPn06wsLCal0ARkZGYtWqVQbjQqZNQ%2Bgrr9QqXpU6dhQSxkVIFEOOjoJOTC4%2BYuJUeO45YaEElTJ6plbLVBCa16lTAoMB2L5dbDxRBOYl%2BvgUdmwKJjSvn38WFwsANmwQG08UUeez6GgxcWrB0rp1xiCkANy%2BfTtKS0sxdOhQ/bjS0lJs2LBBXwA6Ozvrp1lZWcHJyUn/Xi6XQ6fTAQAyMzPx3AP/OZs1a4YbN25UOx/X%2B7plCoVCH/thPv/881rdA3jjxg3cvn0bnTt31o/T6XQoKSlBZmZmjeMBQGBgYKUHR1RXrgD3LmNLYm9fXvz9/juQny85XJZnB%2Bk53WNlJYejoxLZ2QXQaqUf2S5XkgRkhfK/lJ97DvjzT6CgQEjIeJmY4lSpLC%2ByEhOFpSaEMfLSvCmooG/btrzIGjOmPEFTYYS8sg6L%2BeUs%2BtgUxRh5uQzuLyQO1Ory4i8oCDh/Xnq88HDpMQCjnM/qCgtA6SQXgEVFRdi1axcWL16Mbt266cefP38eb731Fi5dugQAkMmqd92radOmuH79usG45ORkqFQqAOXFYlFRkX7a7du3pW7CI8nlcpSUlOjf3/8QSaNGjdCiRQt8%2B%2B23%2BnG5ubnIzMxEgwYNarU%2BNzc3uLm5GY5MTQVycmoVr0r5%2BULilZaKPwK12jIxcUVfmigoEBYzT9Al4AoCUxNKaF7x8YIC3ZOYKD6mCALzEn18Cjs2BROa15kzYuJUOH9eTEwTPp%2BR%2BZJ888T%2B/fshk8kwePBgNGrUSP/q2bMn1Gp1jT8SZsSIEfjxxx9x6NAhaLVaJCQkICIiAiNGjAAAeHh4IC4uDrdu3UJhYSFWr15d7eISAGxsbJBTg%2BLHw8MDhw8fRmFhIdLT07F582b9tN69eyMvLw9ffPEFiouLkZ2djTlz5mDmzJk1yomIiIiqjw%2BBSCe5ANy%2BfTsGDx4Ma2vrStMCAwPx9ddf1%2BhyqJeXFz777DNERETA19cXISEheO211zBlyhR9TI1GgyFDhqBv375o3LgxmjRpUu34I0eOxKefforZs2dXa/7Zs2cjLy8PL774IsaPH48hQ4bop9WrVw%2BbNm1CTEwMevbsiT59%2BkAul%2BvvZyQiIiIyRTLd426Qo7r3v/%2BJiVO/PtC1a/n9hAIuAad7dxWQVDmFQg4XFwdkZeUJuZyjSjwtICuUP33n41P%2BEIKgSyY/y3oIiePgUP5wbHy8aV3NMUZe3XsI6qhrNOX/lj4%2BpnUJ2Ah5padlC4kj%2BtgUxRh5qZ6tfjPhkby8yh8o6d5dzCXggwelxwCMcj5DDzHns5r69VfjxL3vlv6nnul9UjMRERHRI1ja5VpjMK0PdiIiIiIio2MHkIiIiMwKO4DSsQNIREREZGHYASQiIiKzwg6gdCwA/z97dx4e0/n%2BcfydVSJK0iy1llIEbYktqCJRoYgSS2pJKKWK2JcqEsT21dhDrdGfPYoitLSqaL8ltddSa6kIkkhiySbr7w/fTI0khDnJOdPcr%2BvKlc45M898MjXJPfd5znOEEEIIYVSMsQBMSkoiMDCQ/fv3k56eTsuWLQkICMAmj2s97927lyVLlhAREYGtrS1eXl4MGjQIU9PHB28/%2BOADbt26pbsNsGXLFqpUqZKvPFIACiGEEEIUsMDAQG7fvs3evXvJyMhg%2BPDhBAUFERAQkOO%2BZ8%2BeZezYscyfP5/mzZtz7do1%2BvfvT/Hixenbty8JCQlcu3aNn376iXLlyr1UHpkDKIQQQgijUlBXAomOjubcuXN6X9HR0QbnTU5OJiwsjKFDh2Jra4u9vT2jR49m27ZtJOdyXebIyEg%2B%2Bugj3NzcMDU1pUqVKrRq1Yqj/1sA8ezZs9ja2r508QfSARRCCCGEACA0NJTg4GC9bUOGDMHPz%2B%2B5j01JSSEqKirXfcnJyaSlpVGtWjXdtipVqpCSksL169epUaOG3v1bt25N69at9cY%2BcOAAnp6eAJw5cwZra2t69erF5cuXKVeuHH5%2Bfri5ueX7Z5UCUAghhBBGpaDmAHp7e%2BPu7q63zdHRMV%2BPPX36NL6%2BvrnuGzZsGADFixfXbbO2tgYg8TlXZUlISGDYsGFYWVnRp08fAExMTHj77bcZOXIkZcuWZc%2BePfj5%2BbFu3Trq1KmTr7xSAAohhBDCqBRUAejk5ISTk9NLPdbV1ZWLFy/muu/8%2BfMsWLCA5ORk3Ukf2Yd%2BS5QokeeYf/31F0OHDsXe3p41a9bo7vvJJ5/o3a9Dhw7s2rWLvXv35rsAlDmAQgghhBAF6I033sDCwoIrV67otl29ehULCwsqVaqU62MOHjxI165dee%2B991i1ahWlSpXS7Vu1ahWHDx/Wu39qairFihXLdyYpAIUQQghhVArqJJCCYm1tzQcffEBQUBBxcXHExcURFBRE%2B/btsbKyynH/U6dOMXjwYMaPH8%2B4ceMwN9c/YHv79m2mTJlCREQE6enpbNmyhZMnT9KpU6d8ZzLJysrKMvgnEwUqJuahIuOYm5tiZ2dDfHwi6enaWkRJq9m0mgu0m02ruUC72bSaC7SbTau5QLvZlM7l6PiKAqlezo8/Fsy4rVoVzLjweC7ff/7zH/bv309aWhotW7Zk0qRJunmB7dq1w9PTk4EDBzJw4EAOHDigmyeYrV69eqxcuZLU1FSCgoL4/vvvefjwIW%2B%2B%2BSZjxozB1dU133mkADQCUgCqR6u5QLvZtJoLtJtNq7lAu9m0mgu0m%2B3fVADu3Vsw4z5x4u2/npwEIoQQQgijYoxXAtEamQMohBBCCFHESAdQCCGEEEZFOoCGkw6gEEIIIUQRIx1AIYQQQhgV6QAaTgpAIYQQQhgVKQANJ4eAhRBCCCGKGOkACiGEEMKoSAfQcNIBFEIIIYQoYqQDKIQQQgijIh1Aw0kBKIQQQgijIgWg4eQQsBBCCCFEESMdQCGEEEIYFekAGk46gEIIIYQQRYxmCsBr164xbtw4mjVrhouLC%2B%2B//z5BQUEkJiYaNO62bdtwd3d/5n5nZ2dcXFxyfIWHhxv03AA%2BPj4sWrTI4HGEEEII8VhmZsF8FSWaOAR84sQJ%2BvbtS9%2B%2Bfdm%2BfTuvvvoq165dw9/fn759%2B7JhwwbMzMwK7PnLli3L/v37C2x8IYQQQiinqBVrBUETBaC/vz8dO3Zk6NChum1vvPEG8%2BbNw9/fn4iICOLi4pg/fz5//fUX9%2B/fp2rVqvj7%2B1OnTh3S09OZNm0aP/74I%2Bnp6VSpUoVRo0ZRr149ANLT0wkKCmLXrl08ePCAtm3bMnnyZMzNn//jh4eH4%2Bvry8WLF3XbPv/8cwBmzZoFwO7du1m6dCm3bt2iYsWKjBw5kqZNm77UaxEdHU1MTIzeNnPz4jg5Ob3UeE8yMzPV%2B64lWs2m1Vyg3WxazQXazabVXKDdbFrNBdrNptVcQh2qF4A3btzg8uXLTJ48Occ%2BBwcHlixZQkpKCt7e3gwdOpTu3buTkpLCF198wezZs9mwYQM7duzg5MmTfP/999jY2LBw4UKmTJnCzp07AYiKiqJkyZLs27eP69ev06VLFxo1akT79u0Nzn/w4EECAgL46quvqFu3LocOHcLPz4/NmzdTtWrVFx4vNDSU4OBgvW2DBw/WK44NVbKktWJjKU2r2bSaC7SbTau5QLvZtJoLtJtNq7lAu9m0mutFSAfQcKoXgHFxccDjYi8vFhYWhIaGUrFiRR49ekRkZCS2tracOXMGACsrK27evMmWLVto1qwZw4YNY8SIEbrHlyhRgv79%2B2NiYsKbb76Js7MzN27c0O2/desW9evX13vOXr16MXz48OfmX7duHd27d6dBgwYAuLm54e7uzqZNm5g0aVL%2BX4j/8fb2zjFn0dy8OPHxhs2FhMef%2BkqWtObBg2QyMrT17tFqNq3mAu1m02ou0G42reYC7WbTai7Qbjalc9nZ2SiQSqhF9QLQ0dERgJiYGCpVqpRj/927d3FwcCA8PJz%2B/fuTlJTEm2%2B%2Bibm5OVlZWQC0a9eOtLQ0vvnmG%2BbOnYu9vT0DBw6ke/fuAJQqVQoTExPdmBYWFmRkZOhuGzIHMDIykt9//52NGzfqtmVkZNCoUaOXGs/JySnH4d6YmIekpyv3SyQjI1PR8ZSk1WxazQXazabVXKDdbFrNBdrNptVcoN1sWs31IqQDaDjVC8By5cpRrVo1vvvuO10XLVtsbCxubm58%2BumnLF26lE2bNvHWW28BEBISwrVr14DHZxDXqlWLjh07kpKSwp49exg3blyOrt7LyD75JDU1FUtLSwDi4%2BOxs7MDoHTp0nTs2JEBAwboHnPr1i2srKwMfm4hhBBC5CQFoOE0MRN00qRJbN26leDgYOLj48nKyuLPP/9k4MCB1KpVi9q1a2Nqaqorqk6dOsWaNWtITU0F4Oeff2bIkCHcvHkTKysrbG1tMTc355VXXjE42%2Buvv465uTm7d%2B8G4LfffuPIkSO6/d26dWPNmjX88ccfAJw5cwYvLy927dpl8HMLIYQQQhQE1TuAAA0bNmTdunUsXbqUdu3akZycjIODA23atOHTTz/FxsaGHj160LNnTzIzMylfvjw%2BPj7MmTOHu3fv4uvrS1RUFB999BEJCQmUK1eOefPmUbp0aYOzOTk58cUXX7BkyRICAwNp1KgRXl5eJCcnA9CmTRuSkpL44osvuHXrFra2tvTp0wcfHx%2BDn1sIIYQQOUkH0HAmWdkT6YRmxcQ8VGQcc3NT7OxsiI9P1Nz8D61m02ou0G42reYC7WbTai7Qbjat5gLtZlM6l6Oj4UfZXtaqVQUzbr9%2BBTOuFmmiAyiEEEIIkV/SATScFIBCCCGEMCpSABpOEyeBCCGEEEKIwiMdQCGEEEIYFekAGk4KQCGEEEIYFSkADSeHgIUQQgghihjpAAohhBDCqEgH0HDSARRCCCGEKGKkAyiEEEIIoyIdQMNJASiEEEIIoyIFoOHkELAQQgghRBEjHUAhhBBCGBXpABpOOoBCCCGEEEWMdACFEEIIYVSkA2g4KQCFEEIIYVSkADScHAIWQgghhChipAMohBBCCKMiHUDDSQdQCCGEEKKIkQJQCCGEEEYlM7NgvgpSUlIS48ePx9XVlXr16jF27FgSExPzvH9AQABvvfUWLi4uuq/Q0FDd/hUrVtCsWTPq1KmDj48Pf/311wvlkQJQCCGEEEbFGAvAwMBAbt%2B%2Bzd69e/nhhx%2B4ffs2QUFBed7/zJkzBAYGcvLkSd2Xt7c3AN9%2B%2By1r165l1apVhIeHU6tWLYYOHUpWVla%2B80gBKIQQQghRgJKTkwkLC2Po0KHY2tpib2/P6NGj2bZtG8nJyTnun5qayqVLl3jrrbdyHW/z5s306NGDqlWrUqxYMUaNGsWtW7cIDw/PdyY5CUQIIYQQRqWgunXR0dHExMTobXN0dMTJyem5j01JSSEqKirXfcnJyaSlpVGtWjXdtipVqpCSksL169epUaOG3v0vXLhAeno6Cxcu5Pjx47zyyit07tyZTz75BFNTU65cuUL//v1197ewsKBSpUpcuHCBRo0a5etnlQJQCCGEEAIIDQ0lODhYb9uQIUPw8/N77mNPnz6Nr69vrvuGDRsGQPHixXXbrK2tAXKdB/jw4UMaNmyIj48Pc%2BfO5c8//2Tw4MGYmpryySefkJiYqHt8NisrK5KSkp6bM5sUgEIIIYQwKgXVAfT29sbd3V1vm6OjY74e6%2BrqysWLF3Pdd/78eRYsWEBycjI2NjYAukO/JUqUyHH/d999l3fffVd3%2B5133qF379589913fPLJJ1hbW5OSkqL3mJSUFN3Y%2BSEFoBBCCCGMSkEVgE5OTvk63Pui3njjDSwsLLhy5Qq1a9cG4OrVq7pDt0/bt28fd%2B/e5aOPPtJtS01NxcrKCoCqVaty%2BfJl3NzcAEhLS%2BP69et6h5ifR04CEUIIIYQoQNbW1nzwwQcEBQURFxdHXFwcQUFBtG/fXlfUPSkrK4uZM2dy%2BPBhsrKyOHnyJGvWrNGdBdy5c2fWrVvHhQsXePToEXPmzMHBwYH69evnO5N0AIUQQghhVIzxSiABAQH85z//wdPTk7S0NFq2bMmkSZN0%2B9u1a4enpycDBw6kVatWjB8/nsmTJxMVFYWDgwN%2Bfn58%2BOGHAHTp0oWHDx8yePBg4uLiePvtt1m2bBkWFhb5zmOS9SKLxhiZR48eER8fT%2BnSpdWOYpCYmIeKjGNuboqdnQ3x8Ymkp2vr3aPVbFrNBdrNptVcoN1sWs0F2s2m1Vyg3WxK53J0fEWBVC9nwoSCGXf69IIZV4te%2BhDw%2BvXrqV69Ol9//bWCcZTVo0cPfvvtN71tf/zxB0OHDqVJkybUrVuXDz74gGXLlpGenm7w8y1atAgfHx%2BDxxFCCCFE3oxxIWitMagA7N69O2vWrFGkeCoI8fHxerf37NmDr68vDRo04IcffuD48ePMmTOHsLAwRo0apVJKIYQQQrwIKQAN91IF4OHDh4mNjeXzzz8nMzOTvXv36va5u7uzevVqOnToQO3atenevTvnzp2jf//%2BuLi40LZtW/744w/d/fft24eXlxd169aldevWfP3112T%2B7//C559/zueff6733NWrV9etdO3u7s6yZcvo2LEjLi4udOzYkSNHjgDQt29fbt26RUBAAFOnTuXRo0cEBAQwePBgfHx8KFGiBCYmJtSsWZOgoCCysrK4d%2B8eAPv37%2Bejjz6icePG1K5dm169enH9%2BnUAEhISGDFiBK6urrz77rv069ePq1ev6vIlJiYyceJEmjZtiqurK/PmzXuZl1gIIYQQosC81Ekga9eupVu3blhZWdGjRw9CQkJo166dbv8333xDSEgIJUqUoHPnzvj4%2BLBq1Spq1arF2LFjCQoKYs2aNRw5coThw4cze/ZsPDw8uHjxIoMGDQKgT58%2B%2BcqydetWVqxYgZOTE1OmTGHy5Mns2bOHkJAQ3N3dGTJkCF5eXhw%2BfJh79%2B7Rvn37HGM4OzuzcOFCAO7cucOwYcNYsGAB7u7uxMfHM2TIEBYvXsyXX35JSEgICQkJHDx4EFNTU/z9/QkKCuKrr74CHq/107t3bwIDAwkPD6dPnz60aNECFxeXfP08ua1Cbm5eXJHT0s3MTPW%2Ba4lWs2k1F2g3m1ZzgXazaTUXaDebVnOBdrNpNdfLKGrduoLwwgVgZGQkv/zyC/7%2B/gB069aNxYsX8/vvv9OwYUPg8enJ2SdevPPOOyQkJOgKoKZNm%2BqKpW3bttGyZUvatm0LQK1atRgwYABr167NdwHYpUsXKlasCICnpyfbt2/P9X5xcXEAODg4PHO8V199ld27d/P666%2BTkJDAnTt3sLOz013excrKigsXLrB9%2B3beffddZsyYganpP2%2BmqlWr6s7SadSoEQ4ODty4cSPfBWBuq5APHjyYoUOH5uvx%2BVGypPXz76QSrWbTai7Qbjat5gLtZtNqLtBuNq3mAu1m02ouUbheuADcsGED6enpuiIHID09nZCQEF0BaGtrq9tnZmZGqVKldLdNTU3JPvE4NjY2x/XvypcvT2RkZL7zPFnQmZubk9dJzdkrecfExFC2bNkc%2B2NiYnB0dMTCwoJdu3axadMmTExMqFatGgkJCZibP36p%2Bvfvj6WlJVu2bGHq1KlUqFCBUaNG4eHhkeNnB7C0tCQjIyPfP09uq5CbmxcnPj7npWJelJmZKSVLWvPgQTIZGdr6%2BKTVbFrNBdrNptVcoN1sWs0F2s2m1Vyg3WxK57Kzy/9VJ5QmHUDDvVAB%2BOjRI7Zs2cL06dNp0qSJbvulS5cYMGCAbi6ciYlJvsYrV64cN27c0NsWERGhK9ZMTU159OiRbl92F%2B9l1KlTB1tbW91lVJ504cIFPvzwQzZt2sTt27dZt24dGzdu1HUWAwMDuXTpEgAXL17E3d2dPn368PDhQzZs2MCIESN0cw8Nldsq5DExDxVdSiAjI1NTSxM8SavZtJoLtJtNq7lAu9m0mgu0m02ruUC72bSa60VIAWi4F5oIEBYWhomJCZ6enpQuXVr31axZM6pVq/bCS8J07tyZ/fv38/3335ORkcH58%2BdZsWIFnTt3BqBKlSocO3aMqKgoUlJSWLx4cb6LS3jcfXv48KHuvydOnEhwcDDr168nMTGRjIwMjh07xrBhw2jdujUuLi48fPgQU1NTrKysyMrK4tChQ2zfvp20tDTg8fzGsWPHEhsbS4kSJShRogTFixfH0tLyhX52IYQQQgi1vFAHcMOGDXh6eua60rS3tzf/%2Bc9/XqhAq127NgsWLGDx4sV88cUX2NnZ0b17d/r3768b88yZM3To0AFLS0t69%2B6d6%2BHbvHTp0oV58%2BZx5swZgoKC8PT0xM7OjpCQEBYtWsSjR48oU6YMnTt35uOPPwagU6dOHD9%2BnHbt2mFmZkblypXp3bs369evJzU1lZEjRzJ16lTatWvHo0ePqFy5MkuWLKFYsWL5ziWEEEKIlycdQMP9q68E8m8hVwJRj1ZzgXazaTUXaDebVnOBdrNpNRdoN9u/6Uogw4YVzLgLFhTMuFok1wIWQgghhFGRDqDhpAAUQgghhFGRAtBwxr8apBBCCCGEeCHSARRCCCGEUZEOoOGkAyiEEEIIUcRIB1AIIYQQRkU6gIaTAlAIIYQQRkUKQMPJIWAhhBBCiCJGOoBCCCGEMCrSATScFIBCCCGEMCpSABpODgELIYQQQhQx0gEUQgghhFGRDqDhpAMohBBCCFHESAfQCDjOnqrMQOXKwfDh2P3fCoiMNHi4mLH%2BCoQqGI7zZiozUNmyMGQIdutXw61bigw5yWyGIuOUKQODBsHGjTbcvq3IkIooiFyBC0spM1Dt2nDoEHYffgCnTxs%2BnlJtiNq14ddfsfNsrUwuIOYvZf69FiWOTiWVGcjFBU6cwK7le3DypOHjjR9v%2BBhQIL/PmKHM77MXJR1Aw0kBKIQQQgijIgWg4eQQsBBCCCFEESMdQCGEEEIYFekAGk46gEIIIYQQRYx0AIUQQghhVKQDaDgpAIUQQghhVKQANJwcAhZCCCGEKGKkAyiEEEIIoyIdQMNJB1AIIYQQooiRDqAQQgghjIp0AA0nBaAQQgghjIoUgIaTQ8BCCCGEEEWMdACFEEIIYVSkA2g46QAKIYQQQhQx0gEUQgghhFGRDqDhjK4D6O7uzttvv42Li4veV9%2B%2BfQ0aNzw8nOrVq%2BtuV69enfDwcL37bN26lbfffpsNGzYY9FxCCCGEeHmZmQXzVZQYZQdwypQpeHl5FepzLl%2B%2BnK%2B%2B%2BoqFCxfi5uZWqM8thBBCCKEkoywA8%2BLj40PDhg3x8/MD4ObNm7Rs2ZKffvqJ8uXLc/fuXWbNmsXhw4cxMTHB3d2dsWPHUqJEiTzHzMrKYvr06Xz//fesWbOGt99%2BW7evevXqTJ06lZCQEO7cuUPjxo0ZMmQI06ZN4%2BLFi1SuXJm5c%2BdSsWLFfP8M0dHRxMTE6G1ztLLCyd7%2BBV%2BNXDg66n83kLm5cg1kMzNTve8GK1tWmXEUfs0Ayij0Izo46H/XigLJVbu2MuNUq6b/3VBKtQyUzoVy70/F35sKKZBcLi7KjOPsrP/dUFr9fXbrljLjvISi1q0rCP%2BqAvBZMjMzGTRoEJUqVWLv3r2kpaUxfvx4/P39mTt3bq6PSUtLY9SoUfz000/s2rWLChUq5LhPWFgYoaGhpKam0q5dOwYNGsTq1aspU6YM/fr1Y%2BnSpcycOTPfOUNDQwkODtbbNmTwYPyGDn2xH/hZevZUZBg7RUbRV7KktTIDDRmizDjZvL0VG2qQYiM91q2bwgMqRNFcgw4pOBiwcqWy4yklJESxoZR%2Bfyr23lSYorlOnFBuLACtThdS6vfZF18oM45QhVEWgFOmTGHGjBl62w4devYfiLNnz3Lu3DlWr16NjY0NAOPGjaNNmzZMmjQp18dMmjSJMmXKUKxYMbZt28awYcNy3KdXr17Y2toCULVqVWrWrEmVKlUAaNSoEcePH3%2Bhn83b2xt3d3e9bY6bNsH8%2BS80Tq4cHR8Xf%2BvXw1NdxpcR37u/4Zn%2Bx8zMlJIlrXnwIJmMDMM/2tmtX61AKh6/Zt7eEBqqyGsGsMRUmeLUweFxkbV5M9y9q8iQiiiIXIM2NVNmoGrVHhd/n3wCly4ZPp6SHcCQEOjbV5lcQHzYXkXGUfq9qZSCyGXX8j1FxsHZ%2BXHx16MHXLhg%2BHgGznHXKYDfZ2oxxg5gUlISgYGB7N%2B/n/T0dFq2bElAQICuJnmSv78/YWFhettSUlJo0qQJq1atIjMzk3r16pGVlYWJiYnuPv/9738pXrx4vvIYZQEYEBDwwnMAb968SUZGBs2bN9fbbmlpSURERK6PqV27NrNnz%2Ba3337js88%2Bo0aNGnh4eOjdJ7v4AzAzM6NUqVK626ampmRlZb1QTicnJ5ycnPQ3pqRAZOQLjfNMMTGKjJeervw7MCMjU5lxlT40EROj2Ji3zRQZRufuXbh9W9kxlaBortOnFRrofy5dUmZMpf8KKZUL5d%2Bfir03FaZorpMnlRkn24ULyoyp4d9najHGAjAwMJDbt2%2Bzd%2B9eMjIyGD58OEFBQQQEBOS479SpU5k6daru9q%2B//sqoUaP4/PPPAbhy5QppaWmcOHECS0vLl8pjlAVgXkxNTUlLS9Pdjo%2BP1/136dKlsbKyIjw8HDOzx3%2BBU1NTiYiIoGLFirl26rp3746lpSUtWrRgwIABjBs3joq3%2Bj0fAAAgAElEQVQVK%2BqdLfxk5S2EEEII8bTk5GTCwsJYs2aNrnE0evRofH19GTt2LNbWeU9liIuLY/To0UyYMIGqVasCcObMGapXr/7SxR8Y4TIwz1KlShV%2B%2BeUXHjx4wMOHD1mxYoVu3zvvvEPFihWZNWsWiYmJpKSkMGPGDPr06UNGRsZzxx42bBh16tRh8ODB3Lt3ryB/DCGEEEI8Q0EtAxMdHc25c%2Bf0vqKjo/OVKSUlhb///jvPr7S0NKo9caJXlSpVSElJ4fr1688cNygoiLfeeosOHTrotp05c4ZHjx7RuXNnGjVqRM%2BePTnxgnNY/1UF4Keffoq9vT0tW7bkww8/1JtLZ25uzrJly7h79y4eHh40bdqUGzdusHr1aooVK/bcsU1NTZkzZw7p6ekMHz48X0WjEEIIIYxHaGgoXl5eel%2BhoaH5euzp06fx8PDI9Wv//v0AevPzsrt%2BiYmJeY4ZERHBzp07GTVqlN52Kysr3nnnHZYsWcKBAwdwd3enX79%2BeU5py43RHQLOfhFz89prr7HyqbP7OnbsqPvv0qVLM2/evFwf6%2BrqysWLF3W3n/zvbK%2B%2B%2BioHDhzI8z5r167Vu529HI0QQgghlFNQcwBzPREzn8vmPF1HPOn8%2BfMsWLCA5ORk3UkfycnJAM9cim7r1q24uLhQo0YNve3ZcwGz9evXj23btnHw4EF69eqVr7xGVwAKIYQQomgrqAIw1xMxFfDGG29gYWHBlStXqP2/dU2vXr2KhYUFlSpVyvNxP/zwQ65XOps3bx6tW7emZs2aum2pqan5OqKZ7V91CFgIIYQQQmusra354IMPCAoKIi4ujri4OIKCgmjfvj1WVla5PiY%2BPp6rV6/SoEGDHPsuXbrE9OnTiYmJITU1leDgYBISEmjVqlW%2BM0kBKIQQQgijYozXAg4ICKBSpUp4enrSpk0bypcvj7%2B/v25/u3btWLp0qe72zZs3gcfT2542c%2BZMXn/9dT788ENcXV35/fffWb16td7SdM8jh4CFEEIIIQpYiRIlCAwMJDAwMNf9u3fv1rv99ttv5zmn0NbW9oWuMpYbKQCFEEIIYVSMcSForZECUAghhBBGRQpAw8kcQCGEEEKIIkY6gEIIIYQwKtIBNJx0AIUQQgghihjpAAohhBDCqEgH0HBSAAohhBDCqEgBaDg5BCyEEEIIUcSYZGVlZakdQjzHC1zb75nq1IHwcHB1hVOnDB4u5uZdBUI9Zm5uip2dDfHxiaSnG/7RztGppAKpABcXOHEC6taFkycVGdIEZd5yBRBNEQWRK%2BvYcWUGsraGmjXh/Hn434XYDZKUZPgYADY2j1%2BwEycgMVGRIWOc6ygyjtLvTaUURC7HeYYtrKtTtiwMGQLBwXDrluHjGbjgr06BvDnVKSH%2BdzldxZ0%2BXTDjapEcAhZCCCGEUZFDwIaTQ8BCCCGEEEWMdACFEEIIYVSkA2g46QAKIYQQQhQx0gEUQgghhFGRDqDhpAAUQgghhFGRAtBwcghYCCGEEKKIkQ6gEEIIIYyKdAANJx1AIYQQQogiRjqAQgghhDAq0gE0nBSAQgghhDAqUgAaTg4BCyGEEEIUMdIBFEIIIYRRkQ6g4aQDKIQQQghRxEgHUAghhBBGRTqAhtN8Aeju7k5MTAzm5o%2BjZmVlUbFiRXr16kXXrl1zfczOnTtZtmwZu3fvVjzPokWL%2BP3331m7du1L5xNCCCHEy5MC0HCaLwABpkyZgpeXFwCpqakcOHCA8ePHEx8fz4ABA3Lcv0OHDnTo0EGz%2BYQQQggh1GR0cwAtLS3x8PBg3LhxBAcHk5CQQPXq1Zk2bRqurq4MHDiQbdu24e7uDkDPnj2ZO3eu3hhdu3Zl5cqVAJw7dw4fHx8aNGiAh4cHX3/9NVlZWcDjbl/fvn3p3LkzDRs25OjRoy%2BVTwghhBDKycwsmK%2BixCg6gLlp0aIFkyZN4sSJEwDcuHGDAwcOkJaWxr59%2B3T369q1K/Pnz2f48OGYmppy9epV/vzzT7766iuioqLo3bs3I0aMICQkhL///ptBgwZhZWXFRx99BMDhw4cJCQnhnXfeoVixYhw5cuSF8zVr1izfP1d0dDQxMTF62xwrVcLJ1jbfY%2BSpenX97wYyN1fu84OZmaned4O5uCgzjrOz/ncFKJSsIKIpokByWVsrM46Vlf53Q5mYKDNO9s%2Bn1M%2BJcu9Pxd%2BbCimQXGXLKjOOo6P%2Bd0Np9ffZyZPKjCNUYbQFoJ2dHQD37t0DoH379lhbW2P91C/QNm3aMH36dMLDw2ncuDHbtm2jefPmODg4sGLFCqpUqULPnj0BePPNN%2BnXrx/r1q3TFYAVKlSgcePGBufLr9DQUIKDg/W2DRk0CL9hw144Q57WrFFkGDtFRtFXsqRCfwD/98FAMRs2KDaUwsmUjKYoZXPVVHIwqFxZ2fGUUqOGYkMp/f5U7L2pMEVzDRmi3FgA3t7KjKN0LqXenEp9AHoJRa1bVxCMtgCMi4sDwN7eHgAnJ6dc72dlZYWnpyfbt2%2BnYcOG7Ny5k8DAQAAiIyM5d%2B4c9evX190/MzMTMzMz3e28xn3RfPnl7e2tO3ydzdHLS5k3bPXqj4s/X1%2B4eNHg4eL37Dc80/%2BYmZlSsqQ1Dx4kk5Fh%2BDvbruV7CqTi8SflDRugRw%2B4cEGRIesqVAIWQDRFFESuE%2BvOKzOQldXj4u%2BvvyAlxfDxlBgDHnf%2BatSAP/%2BE5GRFhox/Q5lOv9LvTaUURC679asVGQdHx8fFX2goPHVE56WEhBg%2BBmj3l8ZLkALQcEZbAO7fv5/ixYtTu3ZtAEye8UmkW7dudO/enVatWmFiYsJ77z0uDkqXLo2rqyurVq3S3Tc%2BPp7ExETd7WeN%2ByL58svJySln0Xn9%2BktlyNPFi3DqlMHDpKcr/w7MyMhUZlylD01cuKDYmEofNFEwmqIUzaVQUaSTkqLMmElJho/xpORkeOL3jyGUfn8q9t5UmKK5bt1SZpxsMTHKjKnh32fCeGlrUkc%2BpKam8t133zF37lxGjBhBiRIlnvsYZ2dnKleuzIwZM%2BjUqZOuw%2Bfp6cmpU6fYuXMn6enpREdHM3DgQGbNmlWo%2BYQQQgiRf3ISiOGMogMYEBCgO2xbrFgxKleuzJQpU2jbtm2%2Bx%2BjWrRsBAQF06dJFt61cuXKsXLmSoKAgpk2bhpmZGS1atGDChAmFnk8IIYQQorBovgDcv//588wuPjWfzcvLS7cuXzZvb2%2B8c5mQ6%2BLiwvr163Md18/P77nb8pNPCCGEEMopat26gqD5AlAIIYQQ4klSABrO6OYACiGEEEIIw0gHUAghhBBGRTqAhpMOoBBCCCFEESMdQCGEEEIYFekAGk4KQCGEEEIYFSkADSeHgIUQQgghihjpAAohhBDCqEgH0HDSARRCCCGEKGKkABRCCCGEUTHmawEnJyfj7e3Ntm3bnnm/06dP07VrV1xcXHB3d%2Bebb77R2//tt9/SqlUr6tSpg5eXFydPnnyhHFIACiGEEMKoGGsBePnyZXr27MmpU6eeeb/79%2B8zYMAAOnbsyNGjR5k%2BfTozZ87kjz/%2BACA8PJzAwEBmzZrF0aNH6dChA5999hnJycn5ziIFoBBCCCFEATt8%2BDC9e/emU6dOlC1b9pn3/eGHH7C1taVnz56Ym5vTuHFjPD09Wb9%2BPQDffPMN7dq1o169elhYWNCnTx/s7Oz47rvv8p1HTgIRQgghhFEpqG5ddHQ0MTExetscHR1xcnJ67mNTUlKIiorKdZ%2BjoyPOzs78/PPPFCtWjNWrVz9zrMuXL1OtWjW9bW%2B%2B%2BSZbtmwB4MqVK3Tu3DnH/gsXLjw3ZzYpAI3Bo0eKDBMdHU3ookV4h4Xl6x/z8zgqkClbdHQ0ixaF4O3trUg2srIMH4MnXrM9e5TJBSiTLPs1C2XPHoVeM4UUTK56ioyi%2B/%2Bp1L8zhRRELqXen4q/NxVSILlmzFBkGMX/fyqdS8HfZ2pR6Fd8DosWhRIcHKy3bciQIfj5%2BT33sadPn8bX1zfXfYsXL%2Bb999/Pd47ExESsra31tllZWZGUlJSv/fkhh4CLkJiYGIKDg3N8utECrWbTai7Qbjat5gLtZtNqLtBuNq3mAu1m02ouLck%2BOePJL29v73w91tXVlYsXL%2Bb69SLFH4C1tTUpKSl621JSUrCxscnX/vyQDqAQQgghBODk5KSJ7mi1atX473//q7ftypUrVK1aFYCqVaty%2BfLlHPubNWuW7%2BeQDqAQQgghhIa0atWKu3fv8vXXX5OWlsaRI0cICwvTzfvr0qULYWFhHDlyhLS0NL7%2B%2BmtiY2Np1apVvp9DCkAhhBBCCJW1a9eOpUuXAmBnZ0dISAh79uzB1dWViRMnMnHiRBo1agRA48aNCQgIYPLkyTRs2JDdu3ezYsUKbG1t8/18ZpMnT55cED%2BI0CYbGxsaNmz4QvMECotWs2k1F2g3m1ZzgXazaTUXaDebVnOBdrNpNVdR07t3b2rUqKG3rWfPntSvX193%2B7XXXqNLly58%2Bumn%2BPr65ri/s7MzvXr1YuDAgXTr1o3SpUu/UAaTrKyCOpdGCCGEEEJokRwCFkIIIYQoYqQAFEIIIYQoYqQAFEIIIYQoYqQAFEIIIYQoYqQAFEIIIYQoYqQAFEIIIYQoYqQAFEIIIYQoYqQAFEIIIYQoYqQAFEIIIYQoYqQAFEIIIYQoYszVDiCKrkWLFuHl5UW5cuXUjiJEoXB3d8fExOSZ9/npp58KKY3xOX36NDdu3CAjI0Nve8eOHVVKJITxkgKwCHj06BH379/H1tYWS0tLtePonD17luXLl1O3bl06d%2B5M69atKVasmGp57t27x%2BrVqwkPDyc%2BPh57e3uaNGlC7969eeWVV1TL9aSOHTuyffv2HNvd3d3Zv39/oefx8fF5bkGzZs2aQkqjfX5%2BfmpHyFNwcPBz7zNkyJBCSJK7efPmsXz5chwcHLCwsNBtNzExkQJQiJdgkpWVlaV2CFEwjh8/TlBQEKdPnyYrKwszMzNcXFwYM2YM77zzjtrxAIiNjWXnzp1s376dyMhI2rZtS5cuXQo93507d/joo48wNTWladOm2NnZERcXx6%2B//oqlpSUbN27k1VdfLdRM2W7cuMFXX30FQFhYGJ6ennr7ExISOH78OL/99luhZ9N60QDaK5qfFhcXp9q/rSf5%2BPg8c7%2BJiYmqxXzjxo2ZP38%2Brq6uqmV4loiICJYuXUpkZCSZmZl6%2B9R83RITEzl58iT37t3D3t6e2rVrU7x4cdXyCO2QAvBf6vjx43z88cd4eHjg5uaGnZ0dsbGx7N%2B/nwMHDrBhwwZq1Kihdkw9p06dYurUqfz5559UrlyZHj164O3tjbl5wTeqR48eTVpaGnPnzsXMzEy3PS0tjVGjRmFvb09AQECB58jL7NmziY%2BPz7UAtLS0pG3btpr9w6gGLRfNAOnp6SxatIh169aRkZFBWFgYw4cPZ%2BnSpTg6OqqSSeuaNm3Kr7/%2BqnaMPHXt2hULCwsaNWqEqan%2B9Hq1PgStXLmS4OBgUlJSdNtsbGwYOXIkPXv2VCWT0A45BPwvtWjRIj777DM%2B%2B%2Bwzve2enp4EBwfz1VdfsXDhQpXS/SMtLY2ff/6ZHTt2cOjQId58802%2B%2BOILypUrx1dffcXhw4fz1WUy1OHDh9myZYte8QdgYWHBmDFj%2BPjjjws8w7OMHTsWgAoVKjBo0CBVs%2BQmPj6etWvXEhUVpet%2BpKWlcenSJXbu3FnoeV5//XXs7OyIj4/Pdf%2Brr77KvHnzCjnVPxYtWsSRI0dYsGABI0aMwN7entKlSzNt2jQWLFigWq5sV69eZePGjdy5c4fAwEB2795Nr169VM3k5ubGrl27aN%2B%2Bvao58nLlyhUOHz6MlZWV2lEA%2BOabb1i6dCkTJkygRYsWek2AefPm4eDgQOvWrdWOKVQkBeC/1Pnz5/MsnHx9fTXxS9Tf35%2B9e/cCjwvTzZs363Uly5QpQ/fu3QslS1JSEmXKlMl1X4UKFbh3716h5MjL8ePHqVevHg0aNODo0aO53qdBgwaFnOof48eP5/r167z66qskJCRQtmxZfv31V1W7DFoumsPCwti4cSOvvfYaJiYmFC9enJkzZ9KqVSu1o/Hf//4XPz8/3Nzc%2BO2330hJSWHx4sUkJSUxYMCAQs%2BTPc80MTGRrVu3snz5cmxtbfXuo4V5ps7Ozty5c4dKlSqpHQWADRs25Pg39dprr9G9e3dKlSrF2rVrpQAs4qQA/JdKS0ujRIkSue4rWbIkiYmJhZwop8jISCZPnkzLli1zPTmlTJkyhdL9A557IsPTc3oKW//%2B/Tlx4kSe87RMTEz4888/CznVP44ePcp3331HVFQUy5cvJzg4mB07drBr1y7VMmUbNGgQMTExRERE5Dh7VK2iOSkpSTfvL3sWjpWVVY5Dh2qYO3cu8%2BbNo3nz5jRo0IAyZcqwfPlyhg8frkoB%2BOTUBjc3t0J//vyaOHEiffr0wcPDg5IlS%2BrtU%2BMQ8PXr1/N8vd5//32mTZtWyImE1kgB%2BC/1vIJGC1M/4%2BPjee%2B99/I8M9nW1pamTZsWciptOnHiBAAXLlxQOUnuzM3Nee2117C2tubixYsAtGvXjtmzZ6ucDNavX8%2B0adNy/JtXs2iuU6cOwcHBjBgxQvdeXbt2LW%2B//bYqeZ70999/06xZM%2BCf3yNvv/029%2B/fVyVPXsVTQkIClpaWmlnZYNGiRSQlJXHu3Dm9Qv55v4sLiomJSZ7zpy0tLfXmBYqiSQrAf6msrCxu376dZ6GnhQIwOjpa7Qg6ycnJtGzZMs/9WvplmZqaSlxcXI6uZNmyZVVKBOXKlePs2bO89dZbJCYmEhcXh7m5uSZet6VLlzJz5kzatWunt3yImiZMmEDv3r359ttvSUxMpG3btiQmJrJ69Wq1o1G2bFlOnDhBvXr1dNvOnDmT5xSJwnL16lXmzp3L4sWL%2BfHHHxkxYgQ2NjYsWbJEL6tawsPD%2BfHHH3FwcFA7ihD5IgXgv1RycjLu7u55FnpqfSp9UsuWLfH19aV169Y4OTnpZSrsdb1mzJhRqM/3sr7//nv8/f1JSEggKysLExMT3Xc1DwH36NEDHx8fdu/eTfv27enduzfm5uaqzkvMlpaWprl14ipUqMDu3bv5%2BeefuXXrFqVLl6ZFixZ5TtsoTJ9%2B%2BimfffYZ3bt3Jy0tjRUrVrB27VpGjhypaq4ZM2bg5OREVlYWc%2BfOZejQodjY2DBr1iy%2B%2BeYbVbMBODk5qbqO6dPS09NzXf4o29PTIUTRI8vA/EtFRkY%2B9z5qX4HD3d091%2B0mJiZyNYQ8tG3bFg8PDzp16pTj8I7a/z//%2BOMPnJ2dMTExYfXq1SQmJtK3b19KlSqlaq5hw4bRvXt3GjVqpGoOY3Lw4EHWr19PZGQkpUuXplu3bqqfMNC0aVN%2B/vlnoqKiaN26NeHh4djY2FCvXj3dFAk1bd68mbCwMHx9fSlVqpTeB1o1Pgjl9fv1SVpYB1OoRwrAfyljWKA3Lw8fPiz0K2/kdWbtk7TQzXJxceHo0aOFsjaisRs/fjzweLHx8PBwmjRpkuPs0ZkzZ6oRTVco50bNTq6WNWrUiEOHDvHtt9%2BydetWNm/eTFxcHO3atePw4cNqx8PZ2TnX7Wp354XIi/wV%2BZcKDw9/5n4tHAJu2LAhv//%2Be47tbm5uHDt2rFCz5OcqCFr4JV6rVi2uXLmS5x8btVy%2BfJnZs2dz/fr1HHMT1e7m2tvb07ZtW1UzPO3pZUvi4uJYu3YtH374oUqJ/pFdOOdGrYIZoEmTJvj5%2BXHhwgX69etHREQEY8eOpUWLFqplelJeJ2ipvYKAEHmRDqAoVH///Tf%2B/v5kZWVx7Ngx6tevr7c/ISGBe/fuyaGJPMydO5fNmzfTpk2bHJPN1ezodu/eHWtraz744IMc3clOnTqplMq4xMTE0KdPH3bv3q1qjqcLwPj4eI4cOULnzp2ZNGmSSqkeX9IsJCSEYsWKMWDAAC5cuMCWLVsYOXKkqpc227RpEx999FGu%2Bx48eMDw4cMJCQkp5FRynW7xfNIBFIWqYsWKeHh4EB8fz4kTJ2jYsKHefktLy3zNXSmqTp48SdWqVbl69SpXr17VbVe7o3vx4kUOHTqkiZMYnpZXR8vCwoJXX32VFi1aUKdOnUJOlVPJkiWJiopSO0auXb7ffvuNDRs2qJDmHzY2Nvj5%2BeluOzs7M3HiRNLT01VM9fjklDJlytC8eXO97ZcvX2bQoEGqnWwhl4YUzyMdQKGa7du3a%2B7szOjoaBYvXkxERESOPyzyaTlvbdq0YcOGDbrFjbXE39%2Bfbdu28f7771OhQgVu3brFDz/8QJMmTShWrBi//PIL06dPL9TDxE%2BfnZmWlsZPP/1EYmIia9euLbQcL6J%2B/fqFPjXjSTdu3GDx4sU5Ljd47do1jhw5olqurVu3Mn36dNatW0fNmjUB2LdvH2PHjqVOnTrMmTMHOzs71fIdO3YMFxeXHJe5FEI6gEI1HTt25I8//uDatWs5lqtRqzAcN24c9%2B/f57333tPMmnEAt27deu591FwHsFevXgwePBhfX98ch6bVPnnm9u3bzJ8/n/fff1%2B37eDBg2zcuJGFCxcSHh7OtGnTCrUAfPo63GZmZlSpUoWAgIBCy5Bf6enp7Nq1S/XifsKECWRlZemuaVuzZk22b99Onz59VM3VuXNnYmNjGTBgAKGhoWzdupWlS5cyYMAAhg0bpnp3fvDgwRw4cABra2tVcwjtkQ6gUM3cuXNZsWIFjo6OevPG1FwGxsXFhUOHDhX6WcjPk33WaG5Xs9DCOoBaPgOyYcOGHDlyRO/qDJmZmTRs2FDX0apbt64mlhLRgtzOUDYzM2PChAmFdm3u3Li4uHDgwAFu3brF/PnzWbZsGYcOHWLZsmWsX79etVzZpk2bxtatW7G0tGT27Nk5DgmrpUuXLowdOzbHdBshpAMoVLNjxw6WLl2qmV%2BU8Pj6w1q4HuvT1D6T9nm0eok6gFdffZVffvlF79/Z4cOHdUvCREREFNpahZMmTSIwMLBQnutlPT3VwdTUlIoVK%2BLo6KhSosesra0pVaoU5ubmXLp0CYBmzZoxbtw4VXNlmzhxInFxcURHR/Puu%2B%2BqHUenVKlSfPzxx5QvXz7HgvsyraVokwJQqCYpKUl3zVG1ZR9i7dChA%2BPHj%2Bezzz7LURSofak1Lbpz5w6lS5d%2B5iFqNV83AD8/P4YMGYKHhwfly5cnMjKSffv2MXnyZP766y969%2B5Nr169CiXL7t279QpADw8Pfvjhh0J57uc5evQoDRo00Gyn6PXXX%2BfgwYM0b96czMxMIiIisLS0VP0kkCfXEM0%2BU3rcuHF6ZwarOQ3CxcUFFxcX1Z5faJccAhaqGTNmDO%2B99x4dOnRQO4rmD7Fmi4iIYOnSpURGRuZYX0yNT/PZh06ffv209rqdPHmSbdu2cfv2bcqWLUu3bt146623uH79OleuXNGbH1iQXFxcOHnypO52gwYN8rUIeWF4%2BjD4woULGTp0qIqJ9O3fv58RI0awa9cuwsLCWL9%2BPWZmZjRp0oRZs2aplut5a3Jq5T0gxNOkABSqGTp0KPv27aNSpUo5Thwo7GLGGC6dB9C1a1csLCxo1KhRjkPVaqwDePv2bcqUKfPM108Lr5tWPF1k5bUYuhqeLk61lC1bVFQU9vb2mJub891335GQkEDHjh2xtLRUO5qmbd68mbVr1xIdHc23337LrFmzmDlzJjY2NmpHEyqSQ8BCNdWqVaNatWpqxwByFinnz5/n5s2btGjRgocPH2Jvb69SMn1Xrlzh8OHDWFlZqR0FeHzFmY4dO2q6yHvWgrgyB%2BofT79GWusNPHjwgNdee013u1y5ctSuXVvFRMbh66%2B/ZuPGjfTr14/Zs2djY2NDVFQUM2fOZNq0aWrHEyqSAlCoRovXIo6NjWXw4MGcPXsWCwsLtmzZQpcuXQgJCdHEPBpnZ2fu3LlDpUqV1I4CwNSpU/WW7Bk/fryqlwvLzdML4sbHx7Nnzx68vb0LPUtmZibHjh3TFVfp6el6t0H9ZXOyqb18SbaMjAxGjx5NZmYmCxYsAODu3bt4e3vTpk0b5syZo%2Boad8%2B6rnM2NQ8Bb9y4kSVLllClShWCgoIoVaoUixYtkiv0CCkAhXq0eM3RGTNmUK1aNVavXk2zZs2oUqUKAwYMYPbs2WzcuFGVTE%2BaOHEiffr0wcPDg5IlS%2BrtU6OgfrpLpMWzlXN7Xby8vJg9e3ahZ0lJSclxwsmTt2W%2BWE6rVq3iypUrzJkzR7fNwcGB7du3M2zYML7%2B%2Bmv69eunWj6td5Hj4%2BN54403gH/er/b29qqfPCPUJwWg0IwnrzmqliNHjrBv3z6sra11n%2Bo/%2BeQTVa7lmZtFixaRlJTEuXPn9OYAqtWt0fphw7zUqlWLs2fPFvrzanm5nOTkZFq2bKm7/fDhQ73boE6Bv2PHDubMmZNjuoizszPTp09n8uTJqhaAT581ff/%2BfSIiIqhZsybp6emqz090dnYmNDSU7t27696v3333HVWrVlU1l1CfFIBCNVq85qiFhQUpKSlYW1vripnExETNTJYODw/nxx9/zHHSjFZo5bDhk55eoiYtLY3du3dTpkwZlRI9XjR44sSJObaPHTtWlc4kPO5%2Ba1FUVFSeZ9rWrVuX27dvF3Ki3CUmJuLv78/u3buxsrJi27ZtfPzxx6xevZrKlSurlmvcuHH06dOHHTt2kJSURP/%2B/Tl16hQrV65ULZPQBikAhaY0adJE1aUn3N3dGTNmDBMnTsTExITY2FimTZummcWqnZycKFasmNoxjIq7u3uOJX5KlSpV6BPgo6KiOHz4MADffPMNb731lt7%2Bhw8f8uOPPxZqpidpdU5YsWLF8vwQlpKSonqHLdvs2bNJSkri%2B%2B%2B/p1u3blSoUAE3NzemT5/OqlWrVBVwRkcAABLfSURBVMtVq1Ytdu/ezc6dO6lRowalS5dmypQpqq/PKdQny8AIzci%2B5uiSJUsKfXHctLQ0LCwsSExMZPz48brnNzExoXnz5nz55ZeauDzc5s2bCQsLw9fXl1KlSul13NQ4eeDpCfDZa/89Se05bU8vUWNmZoa9vX2hX%2Bs5NTWVHj16EBcXp1s%2B50nFihWjS5cuqh7OhMcnquzZs4cbN27kmCemxjzToUOH4urqSs%2BePXPs27hxI/v27VO1wMrWrFkzwsLCKFWqlG4JnZSUFJo1a6bqcjohISF07NhR9Ws5C%2B2RDqBQzbOuOVrYWrRoQffu3enevTsLFy4kLi6OmzdvUrp0aZycnAo9T178/f0BciwerNbJA1qfAA%2BPlwtJTEzk4MGDREZG4uTkhJubW6EXgJaWlmzZsgWAfv36aaJoyU1AQAC7du2ievXqeq%2BRWof3P/nkE3r37s2jR49o164dDg4OxMTE8N1337Fo0SIWL16sSq6nZWZm6rqR2X2VJ7epZc%2BePcybN48WLVrQtWtX3nvvPU1O1RCFTzqAQjVPfypW85qjmzdvZtOmTVy%2BfJm2bdvi6%2BtLrVq1Cj3Hy8rMzNTkNYy14O%2B//6ZPnz6kpaVRtmxZbt26RWZmJv/3f/8nE%2BFzUb9%2BfUJDQ6lSpYraUXT27NnD5MmTuX//vm6bra0tEyZMoH379iom%2B8fo0aOxsLDA39%2Bf5s2b8/vvvzNjxgzu3r3L3LlzVc129epVtm3bRlhYGKampnh5eeHl5UX58uVVzSXUJQWgUFVmZiZnz57l5s2bODk5UbduXVULmVOnTrFp0ya%2B//57atasia%2BvLx4eHqquMwawadMmvWuLPunBgwcMHz5c1TOVtXaJuicNHDiQN954gzFjxmBqakpmZiZffvklly5dUq0L9/vvvzN58mSuX7%2Be48xptQ%2BZu7m58dNPP2nuA0VqairHjx8nPj4eR0dH6tSpU%2Bhd3GeJjY3ls88%2B4/z582RkZGBlZUWlSpVYunSp3gLWasrMzOTnn39m%2BvTp3Llzh/Pnz6sdSahICkChmpiYGAYOHMiFCxewtbUlPj6eSpUqERISQunSpVXNdv/%2BfbZs2cLmzZt59OgRPXr0YMCAAarleeedd1i0aFGOk1EuX77MoEGDyMjIYP/%2B/Sqlgy5dumBpaamZS9Q9qXHjxhw8eFDvUFxKSgpNmzbl2LFjqmTq1KkTzs7OeHp6Ym6uPxPn6WVFCtucOXMoVaoUn3zyiao5nqbFM6eflpWVxZkzZ4iMjKR06dK88847qn94zHbkyBF27NjB3r17qVy5Mt26daNbt25qxxIqkgJQqGb06NFkZWUxdepUbGxsePjwIZMnTyY9PV234r/a7t27x6xZs9ixY4eqnZmtW7cyffp01q1bR82aNQHYt28fY8eOpU6dOsyZMwc7OzvV8rm4uGjqEnVPatq0KTt37tSbBH/37l06derEL7/8okomFxcXjhw5oqkzurPPlk5PTycqKopXXnklx2Ljhb0O4JNnTgcEBDBlyhS9/Q8fPmTu3Ll61zBWy9PLDT1JzTNu582bR1hYGImJibRv356uXbvmuayOKFrkJBChmiNHjrBnzx7d8g6vvPIKkydPzrH4rBrCw8PZvHkz%2B/bto169egQHB6uap3PnzsTGxjJgwABCQ0PZunUrS5cuZcCAAQwbNkz1Sd1au0Tdk9zc3Bg1ahSTJk2ifPnyREREMG3aNNzc3FTLVKlSJaKjo6lQoYJqGZ7m5%2BendoQc7OzsWLduHXFxcaSmprJw4UK9/cWKFVO9w5wtu4DOjZofHo8fP86wYcNo06aNpj5wCPVJB1CopkmTJvz4449663slJCTQunVr/vvf/xZ6ntjYWLZt28aWLVuIiYmhQ4cO%2BPj4aGoy/LRp09i6dSuWlpbMnj1bM%2BsTnjt3jsGDB2vmEnVPunfvHn5%2Bfhw9elS3HmD20j5PZy0sy5cvZ%2BvWrXTp0iXHSU9PXltZC65evUqJEiVUn8em5TOnIedyQ3FxcaxcuZKWLVvSoUMHlVIJkTcpAIVqRowYgbm5OVOmTKF48eIkJiYSEBBARkYG8%2BbNK9Qsfn5%2B/Pzzz5QtW5YePXrQpUsXSpQoUagZ8mvkyJFER0fz9ddf55g/ppaBAwdy4sQJqlatmuMSdWqfBJItIiKC2NhYypUrp8qZ5k9yd3fPdbuJiYnq11M%2BceIEU6dOZfv27WzatInJkydjbm7O/Pnzef/991XNZmwePnxIp06d2LdvX6E/t6enJ2FhYc/sTKr9b02oSxt/PUSRNGbMGD7%2B%2BGMaNmyIra0t9%2B7do0qVKixfvrzQsyQlJREcHEzz5s1VP5yamyfX/evcuTOTJk1i3LhxemcGq7EQdDatX6IOoEKFCiQkJLBz507q169P7dq1Vcui5gk7zzNnzhxatGhBVlYWy5YtY9asWdja2jJnzhxVC0Atnzn9LA8ePFDlebNPWtPioX2hDdIBFKrIysoiIiKCsmXLcuzYMWJjY4mMjKRfv36aOWtOS543aVuthaCztW7dmi1btmjiainZ7ty5w5gxYzh79ixt2rShW7du%2BPj4YGNjQ0JCAvPmzcPDw0OVbE8v5P0kNQt5eHzW9G%2B//cZff/1Fx44dOX78OJaWlri4uKh6soWWz5wGcswTTktL45dffsHBwUGVD7XZPvvsM7788kvNHtEQ6pEOoCh0SUlJ9O3bFwcHB4KDg2nUqBGxsbG4ublx4MABVq5cSfHixdWOqSkXLlxQO8Iz9evXj0GDBmnmEnUAU6dOpUSJEsydO5ddu3bx6aefMnLkSPr27cvWrVtZvny5agWgj49Pjm2mpqaUKVNG9cNyZmZmJCYmcujQIerUqYOlpSWRkZGqFxDXr19n06ZNmj2RITw8XO%2B2mZkZLi4ufPrppyoleuzkyZOqX41EaJN0AEWhmzNnDqdOnWL%2B/PnY29vrtmcvpNq4cWNGjBihYkLxovLqUKrZmXR1dWX//v3Y2Nhw//59XF1d%2BeOPP7C0tCQjIwNXV1fV1gF8WlxcHIsXL6ZcuXL07dtX1SyTJ0/m1KlTREZGMnHiRGrVqsXgwYNxd3dn3LhxquXq1KkTCxcu1NSZ05Dz5JSUlBRNLYc0bdo0bt68Sfv27XFyctLEhzOhDVIAikLn4eHBihUrqFixYo59f/75J8OHD2fv3r0qJBNKU/MSdU8fsqxfv75ewVevXj2OHz%2BuRrRcpaSk0Lp1aw4ePKhqjoyMDHbs2IGVlRVt27bl%2BvXr/Pzzz/j6%2Bqo6PUOrZ07XrVuXEydO6G43bNgwx2Uu1aTFD2dCG%2BQQsCh0sbGxuRZ/ADVq1CAmJqaQE4mXpeVL1D19Ms/ThajWPvvev3%2BfR48eqR0DMzMzvLy8dLcrVarExx9/TFxcnN5i2oVt06ZNAGzcuFFvu4mJiaaWztHav6tjx45x8uRJ7t%2B/j729PbVr15YpNgKQAlCooESJEsTHx%2Bd65Yp79%2B5hbW2tQirxMmbMmEGZMmWeeYk6tWRmZnLs2DHdH%2BT09HS9209fs7gwjR8/Xu92Wloax48fp0mTJiol%2Bsfp06f58ssviYqK0r1GaWlpxMXFcfbsWdVyafnM6SdpaRWBlStXEhwczKNHj8jKysLExITixYszcuRIevbsqXY8oTIpAEWha9y4MevXr891geANGzZQp04dFVKJlxEQEMCIESOeeYk6taSkpNCrVy%2B9bU/e1tIf6mLFiuHj44O3t7faUQgMDKRChQpUrVqViIgI3n33XdasWcOoUaNUzaXlM6e16JtvvmHp0qVMmDCBFi1aYGdnR2xsLPv372fevHk4ODjQunVrtWMKFckcQFHorl27hpeXF15eXrRt2xZHR0eio6P5//buLqTJNg4D%2BOWGIhUVqRSVGEIjQmYLpIE4Kxl1kNLKFioEJTiMok4Mg%2BZIGB5EFB70IcrakpUHTlOsQINqZUlSkpQHQgeuCS3RPhBMp70Hkjh170ft9b6f7fqdPT3B/oeXz/Nc9//Bgwdobm5GY2MjMjIyRI9J/1JdXR1cLpeUK%2Brov8vMzERPTw8%2BfvwIu90Oh8OBvr4%2BVFdXw%2BPxCJtrqW/ZZGhOa7VaVFdXz11fvHgRNpst5P%2BIeEVtMplw8uRJGI3GRffu378Pt9uNxsbGZZ%2BL5MEASEK8fv0aNpsNg4ODc%2Bu5NBoNrFYr/5pXIFlX1MnM6XSiqakJfr8fKSkpKCwshMViER6ac3Jy4PV68ePHD%2BTl5eHZs2cAZlvVC486EUmW5nS4rS6/iNruotPp8OrVqyW3BU1OTmL37t3o7u5e9rlIHnwFTELs3LkT7e3t8Pl8GB0dRUpKCjZu3Ch6LPpNFy5cwOjoKAKBALKzs0WPA2D2idE/hSlRLUin0wmHw4GysjJs3rwZQ0NDqK%2Bvh0qlmtvgIEp6ejru3LmDoqIirFixAgMDA0hISBAeTBdat24dKioqsG/fPqEBUNZvE%2BPi4sKuikxISMDExMQyT0SyYQAkoVJTU6U714v%2BPZlX1Mmyg3gpd%2B/exbVr1%2Ba%2BmwRm/yg6ffq08AB45swZlJeXIzs7G6WlpTCbzVCr1SgqKhI611JkaU4TKREDIBH9tqU2WgwPD6OjowOA2LPGFq4H%2B/r1K3w%2BH7Zv345gMCh0O0IgEFj0Tdu2bdvw5csXQRPN%2BvnzJ5KTk/H06VPEx8fj6NGj%2BPz5M3Q6nfAnuzI3p2UUDAbR2toa9r7Ihj7JgQGQiH6b7CvqAGB8fBxVVVXo6OhAYmIiPB4Pjh8/DofDgfT0dCEzpaWlobOzM6SF2dnZGfZ8zOWwcEUjMHtmZ11dHTIyMqDT6aQ6P06m5rSMkpOTUVtbG/b%2B/C1MFJtYAiGiqGaz2RAIBHDu3DmYzWZ0d3fDbrfD5/OFrPBaTl1dXTh79iyMRiNSU1MxNDSER48eoba2Fnv27BEyE1c0EsUWBkAiimoGgwHt7e1Ys2bN3JquiYkJGAwGoSu7Xr58iZaWFoyMjGDTpk0oLCyEVqsVNo8SVjTK2pwmUiK%2BAiaiqDYzMzP3vd/8LSAivwEEAL1eD71eL3SG%2BWRf0Shzc5pIiRgAiSiq6fV6VFdXo6qqau5J0dWrVxeVRJZTf38/Ll%2B%2BDL/fv2glnahDjWVf0Shzc5pIiRgAiSiqnT9/HuXl5cjKysL09DR0Oh22bNmCGzduCJ1p69atyM/Ph0qlEjbHfLKvaJS1OU2kVAyARBTVkpKS0NTUhP7%2Bfvj9fmzYsAFarRZqtVrYTH6/Hy0tLYiPjxc2w0IWiwWHDh3C2NhY2BWNIsnYnCZSMpZAiCiqDQ8Ph70navtMWVkZTp06JbT0sRSZVzTK2JwmUjIGQCKKan%2B3Ek7UIdXv37/HsWPHsGvXLqxevTrkXk1NjZCZ5pN1RaNszWkiJWMAJKKo5vf7Q65HR0dRX1%2BPvLw8FBQUCJmppKQEIyMjyMzMXPQqWoYASETRjwGQiGLO9%2B/fYTKZ0NXVJeT3d%2BzYgefPn2PlypVCfl%2BJZGxOEykZSyBEFJO%2Bffsm7LfT0tIwPj7OAPgfyNicJlIyBkAiimq/9tr%2BMjU1Ba/XK/RYE5PJhBMnTuDw4cNYu3ZtyDeKBw8eFDaXzGRsThMpGQMgEUW1np6ekGu1Wg2dTgeLxSJoIsDlcgEAbt%2B%2BHfLvY2NjDIBhZGVlYWBggKUPogjhN4BEFJVKS0vR0NAwdz0xMYHExESBE4X34cMH3Lp1C21tbejr6xM9jpRkb04TKQ0/pCCiqPTmzZuQa4PBIGiS8Hp7e1FeXo4DBw7g7du3qKioED2StOx2O5KSkvjdJFGE8BUwEcUEWV52zMzM4OHDh3A4HBgcHEQwGMTNmzeRk5MjejSpvXv3js1pogjiE0AiignhDoNeTk6nE0ajEZcuXYLRaMTjx4%2BxatUqaDQa0aNJ71dzmogig08AiYiWSU1NDYqLi1FZWYmEhATR4ygKm9NEkcUASERRKRgMorW1de56amoq5BpY/uBgtVrhdruRm5sLs9mM4uJiKZ5MKgGb00SRxRYwEUWlvXv3/u39uLg4YRskXrx4gcbGRni9XkxPT8NutyM/P3/RWjgKj81poj/DAEhEJIjf74fb7UZzczNUKhUKCgpQWVkpeiyp9fb2oqGhAU%2BePIFGo8GRI0dQUlIieiwixWEAJCISbHJyEm1tbXC73fB4PKLHkc5Szenr16%2BzOU30BxgAiYhIWk6nEy6XCzMzMygqKoLZbMb%2B/ftx7949rF%2B/XvR4RIrFEggREUmLzWmi/wfPASQiImlZrVb09PQgNzcXV65cwadPn9icJooAvgImIiLpsTlNFFkMgEREpBhsThNFBgMgEREpDpvTRH%2BGAZCIiIgoxrAEQkRERBRjGACJiIiIYgwDIBEREVGMYQAkIiIiijEMgEREREQxhgGQiIiIKMYwABIRERHFGAZAIiIiohjzF6Y324/56hPwAAAAAElFTkSuQmCC\" class=\"center-img\">\n",
       "    <img src=\"data:image/png;base64,iVBORw0KGgoAAAANSUhEUgAAAoAAAAI0CAYAAACNlphAAAAABHNCSVQICAgIfAhkiAAAAAlwSFlzAAAPYQAAD2EBqD%2BnaQAAADh0RVh0U29mdHdhcmUAbWF0cGxvdGxpYiB2ZXJzaW9uMy4xLjIsIGh0dHA6Ly9tYXRwbG90bGliLm9yZy8li6FKAAAgAElEQVR4nOzde1wU9f4/8NcuFwEFQQUVxeggYJrKKoqaluDdElE5oqZppKXIxY6e4%2BVk5f2S5i/E2yEveetgopWp2dFILRUy0EyDvKSCGJcVREAElv39geyXEVB0Piu77uv5ePBY9jMz733vLDP75j0zuwqtVqsFEREREZkMZV0nQERERERPFwtAIiIiIhPDApCIiIjIxLAAJCIiIjIxLACJiIiITAwLQCIiIiITwwKQiIiIyMSwACQiIiIyMSwAiYiIiEyMeV0nQESGKTk5Gbt378bJkyeRkZGBe/fuoVGjRnB3d0fv3r0RGBgIKyuruk6TiIiegIJfBUdED4qMjMS6detQVlaGBg0aoFWrVrCwsEBWVhbS09MBAM2bN8eaNWvQrl27Os6WiIgeFwtAIpKIjY3FnDlzYGNjgyVLlqBfv34wMzPTTb98%2BTLmzJmDM2fOwMHBAQcOHECjRo3qMGMiInpcPAeQiCTWr18PAPjXv/6FgQMHSoo/AHBzc8O6devQuHFj5OTkYOvWrXWRJhERycACkIh08vLycP36dQBAx44da5yvUaNG6Nu3LwDg119/fSq5ERGROLwIhIh0zM3/b5cQFxeHtm3b1jhvWFgY3njjDTRu3Fg3NmvWLOzduxezZ89Gr169sGrVKvz8888oLi7Gc889h2HDhmHUqFGoV69etTF//vlnbNu2DYmJicjNzYWdnR28vLwwbtw4dO/evdpl8vLy8N///hdHjx7FpUuXkJ%2BfD2tra7Rq1Qq%2Bvr5444030LBhQ8kynp6eAICffvoJS5cuxZEjR6BUKtGuXTts2rQJ7733Hvbu3YuFCxeiS5cuWL16NU6dOoU7d%2B6gZcuW%2BPvf/44JEyZAoVDgu%2B%2B%2Bw2effYbff/8dZWVlaNOmDaZMmYJXXnmlSq5FRUWIjY3F4cOHkZKSgry8PFhaWsLZ2Rk9e/bEm2%2B%2BiaZNm0qW8fPzw40bN3DgwAGo1Wp8%2BumnOHv2LAoLC9GyZUsMGjQIb731FurXr1/ja0VE9CCeA0hEEqNHj0ZiYiIUCgWGDh2KwMBAdOrUqcqh4OpUFIDDhw/HoUOHUFhYCHd3d5SWluLKlSsAgM6dO2PDhg2wtbWVLLtixQpER0cDABo2bIiWLVsiMzMTWVlZAICJEyfin//8p2SZq1evYsKECbh58ybMzc3RqlUrWFtb48aNG8jNzQUAPP/884iNjZUUSBUFYKdOnZCUlAQPDw/cunULPj4%2BWLlypeR5HDx4EKWlpXBzc4Nardbl8/bbb0OhUGDDhg2ws7ODi4sL/vzzTxQWFkKhUOA///kPXn75Zd1j3rp1C%2BPHj8cff/wBhUKBVq1awdbWFhkZGbqYjRs3xp49e9CsWTPdchUF4JtvvoktW7bA0tISrq6uuH37Nv766y8AgEqlwo4dO2r1GhERAQC0RESVnD9/Xuvl5aX18PDQ/XTq1Ek7adIk7YYNG7RnzpzRajSaapedOXOmbhlfX1/thQsXdNMSExO1PXr00Hp4eGjnzp0rWe7zzz/Xenh4aL29vbVfffWVbrysrEy7f/9%2BXT67du2SLDd27Fith4eHduTIkdqMjAzJcnv37tW2adNG6%2BHhod2%2BfbtkuYocX3zxRW1CQoJWq9VqNRqNNicnp8rzGD16tDYzM1M3z6xZs7QeHh7aNm3aaD09PbUbN27UrY9bt25pAwICtB4eHtqxY8dWu2769eun/fPPPyXTjh07pu3YsaPWw8NDu3TpUsk0X19fXS6zZs3S5uXl6Z7j9u3bddP%2B97//VfuaEBFVh%2BcAEpFE27Zt8cUXX6Bz5866sfz8fBw9ehQrV67EyJEj0bNnT6xatQp3796tNoZSqcTatWvxwgsv6MZUKhWWLVsGAPjiiy%2BQkZEBACguLsbq1asBAIsXL4a/v79uGYVCgcGDB%2Bs6f6tXr0ZpaSkAQK1W4%2BLFiwCABQsWwMnJSbJcQEAAunbtCgBISUmpNs9BgwahS5cuupzt7e0l083NzfHxxx/D0dFRN8/bb78NACgrK8PQoUMRHBwMpbJ8V%2Brg4IA33ngDAHDhwgVdnNLSUpw%2BfRoKhQKzZ8%2BGq6ur5HF69eqFwYMHAwD%2B%2BOOPanNt06YNFi9erOucKhQKvP7667pu5i%2B//FLtckRE1WEBSERVtG7dGjt37sSXX36J0NBQqFQqWFhY6Kar1WqsX78e/v7%2BusOQlXXr1g1t2rSpMt6zZ0%2B0bNkSZWVliIuLAwAkJSUhOzsb9evXR58%2BfarNx9/fH0qlEhkZGbrCqnHjxjh16hTOnj0LDw%2BPKstoNBo0aNAAQPm5d9WpXORWx9PTU3I4FgBatGih%2B7268/wqCtH8/HzdmLm5OQ4fPoyzZ8%2Bid%2B/eVZbRarWwsbF5aK69e/eGQqGoMv63v/0NAHDnzp2HPhciosp4EQgR1eiFF17ACy%2B8gLCwMNy9exeJiYn48ccf8dVXX0GtVuP69euIiIhATEyMZLkOHTrUGNPT0xNpaWm4evUqAOi6eCUlJXj99ddrXM7MzAxlZWW4cuWKJL6VlRVu3ryJs2fP4vr160hNTcXly5fx%2B%2B%2B/o7CwEEB5t646FZ29mjRv3rzKmKWlpe53BweHKtMrX0jzoHr16kGtVuPMmTO4evUq0tLScOXKFfz%2B%2B%2B%2B4ffv2Q3Ot3OGsrOLbWDQaTc1PhIjoASwAiahWrK2t8dJLL%2BGll15CREQE5syZg/379%2BPMmTM4f/685BtBHrzqtrKKTldeXh6A/%2BtcFRcXIzEx8ZF5VCwHAFeuXMHy5ctx9OhRSeHUoEEDeHt7IzMzE8nJyTXGetRX2VlbWz90esWh39rIysrCsmXL8O2336KkpETyGO3bt4dGo3noYdzKhWd1tLyej4geAwtAItJ5//33cerUKQwbNgxTpkypcT4rKyvMnz8f3333HUpKSvDnn39KCsCKzlt1Kg6NVnx8TEWR1a5dO%2BzZs6fWuarVaowdOxZqtRrOzs4YOXIk2rZti7/97W9o2bIlFAoFpk%2Bf/tAC8Gm5d%2B8exo8fj8uXL8Pe3h6jR4/Giy%2B%2BCDc3N7Rq1QpmZmZYtWoVz%2BMjoqeGBSAR6dy7dw/Xrl3D4cOHH1oAAuVdtvr16yM3N7fKV8FVHNatTkVB1rp1awDlH9MClH%2BkS2lpabWHULVaLeLj49GsWTM4OzvD0tISsbGxUKvVsLe3R2xsbLVfR1dxoUldO3z4MC5fvgxzc3PExMRUuQgEQLXnUhIR6QsvAiEinYorcH/77bdHduN%2B/PFH5Obmwt7evsq3hhw7dkz32XaVxcXF4ebNm7C0tISfnx8AoEuXLrC1tUVBQUGNj7lv3z6MHz8egwYN0hVKaWlpAABnZ%2Bdqi79Lly7hzJkzAOr%2B/LiKXOvXr19t8ZednY0ffvgBQN3nSkSmgQUgEem89NJLGDBgAADgvffew6JFi3TFS4V79%2B4hNjYW06ZNAwBERERU%2BRaKwsJChISE4ObNm7qx%2BPh4zJ49G0D5hyhXfJyJjY2N7qNVFi1ahNjYWMn5fIcPH8YHH3wAoPxjW1q1agXg/65%2BTU5OxqFDh3Tza7VaHDt2DBMnTtSda1fTx9U8LRW53r59G5999pnkfL0zZ87gzTff1H1wdV3nSkSmgYeAiUhixYoVsLGxwZdffomtW7di69atcHZ2RuPGjXHv3j1cvXoVxcXFsLCwwPTp0zFmzJgqMVxdXfH777%2Bjb9%2B%2B8PDwQGFhoe6q39deew3vvPOOZP5JkyYhNTUVu3btwpw5c/DRRx%2BhZcuWyMjIQGZmJoDyb%2B1YuHChbpnAwEDs3LkT165dQ3h4OFq0aAEHBwfcvHkTarUaFhYW6Nq1KxISEur8ULCfnx9UKhWSkpKwePFiREdHo2nTpsjKykJGRgYUCgV69OiBEydOIDMzE1qtttqPfCEiEoUFIBFJWFpaYunSpXj99ddx4MABxMfHIyMjA8nJybC2tsbzzz%2BPnj17IjAwUNfZelD79u2xYsUKREZG4pdffoG5uTm6du2K0aNH6z7wuDKFQoEFCxZgwIAB%2BO9//4szZ87g999/R7169eDl5YXXXnsNQUFBkithGzRogN27dyM6OhpxcXFIS0tDdnY2mjVrht69e2P8%2BPGwsbFB3759kZycjPT0dDg7O%2BttvT2MmZkZtmzZgm3btmH//v1ITU3FH3/8AUdHRwwePBivv/462rVrBx8fH%2BTm5iIxMfGRn1FIRCQHvwuYiISp%2BA7dIUOGYMWKFXWdDhER1YDnABIRERGZGBaARERERCaGBSARERGRiWEBSERERCTQrVu30K9fP8THx9c4z9GjRzFkyBB4eXlh0KBBiIuLk0yPjo7Gyy%2B/DC8vL4wbNw5XrlwRmiMLQCISZunSpUhJSeEFIERksn755RcEBQXh%2BvXrNc5z9epVhIWFISIiAqdPn0ZYWBimTZum%2B8iqvXv3Ytu2bdi4cSPi4%2BPRrl07hIeHC/3ObxaARERERALs3bsXM2bMwLvvvvvI%2Bby9vdG3b1%2BYm5tj8ODB6NKlC2JiYgAAu3btwpgxY%2BDu7o569eph%2BvTpSE9Pf2hH8XGxACQiIiICkJmZifPnz0t%2BKj6MvjZ69uyJ//3vf9V%2B3mllly5dgoeHh2SsdevWuu9Kf3C6hYUFXF1dddNF4AdBGwNR3wjw/PPAxYuAuzvw55%2Byw2Vl5glIqpxSqUCjRvVx61YBysrkt7gdVy0RkBUABwdg%2BnRg5UogJ0dcTBEaNgQmTgQ%2B/RS4fVtMTBH0kZe9vZg4trbAyJHArl3AnTtiYoqgh7yyAkYJiSN62xRFH3k5fvlfIXGEv54C9tcA9LM/W7xYTJzHpadvyomJjERUVJRkLDQ0FGFhYbVa3tHRsVbzFRQUwNraWjJmZWWFwsLCWk0XgQWgKbG3B8zMxL2ZCqRUKqBQKKBUKgzqTQbW1oBSWX4raocpSr165bnVq1fXmUgZal4AYGlZnlulbxQxCIaaFwx32zTUvAAY7utpyPszAxEUFAQ/Pz/JWG2LusdhbW2NoqIiyVhRUZHue9UfNV0EFoBERERkXJT6OYPNyckJTk5OeoldmYeHB86fPy8Zu3TpEl588UUAgLu7Oy5evAhfX18AQElJCa5evVrlsLEcPAeQiIiIjItSqZ%2Bfp8Tf3x8JCQk4cOAASktLceDAASQkJGDo0KEAgBEjRmD79u1ITk7GvXv3sHLlSjRp0gTe3t7CcmABSERERKRnKpUKX3/9NQDAzc0Na9aswYYNG9ClSxesXbsWq1evxvPPPw8ACAwMxIQJEzB16lR069YNFy5cwIYNG2BhYSEsHx4CJiIiIuPyFLt1TyolJUVyPykpSXK/V69e6NWrV7XLKhQKBAcHIzg4WG/5Gf4aJCIiIiKh2AEkIiIi42IEHUBDxwKQiIiIjAsLQNm4BomIiIhMDDuAREREZFzYAZSNa5CIiIjIxLADSERERMaFHUDZWAASERGRcWEBKBvXIBEREZGJYQfwCY0bNw5du3bFsGHD0KdPH1hbW0OhUECr1cLc3Bxt27ZFeHi40O/tIyIiIrADKADXoCDffPMNkpKScObMGcTFxaFbt2548803cfr06bpOjYiIiEiCBaAe2NraIiQkBP3798eKFSvqOh0iIqJni1Kpnx8TwkPAeuTr64sZM2bg7t27sLa2rtUymZmZyMrKkow5Pv88nOzt5SfUpo30ViZzc3Ebi5mZUnIrm7OzmDiOjtJbEWxtxcRp1Eh6ayj0kZeodVaxHYnYnkTSQ16itk/h26YgesmrcWMxcUS/nvfuiYkjen%2BWni4mzpMwsWJNH1gA6pGDgwO0Wi3y8vJqXQDGxMQgKipKMhYaEYGwiAhxie3cKSSMg5AoUnZ2tVtPjxQaKiZOhaAgsfFEGjKkrjOonqHmBQB%2BfnWdQfUE5iV6%2BxS2bQomNK/hw8XFAgz370zU/mzOHDFxqE6wANQjtVoNMzMzNGzYsNbLBAUFwe%2BBnYbjkCHAZ5/JT6hNm/Lib8wYIDlZdricI8fl53SfmZkSdnbWyMu7C42mTHY8hx2bBWSF8v%2BUg4KAmBjggc7sExPZARwyBNi3D7h1S0xMEfSRl8gOoJ8f8P33QG6umJgi6CGvHN8BQuKI3jZF0UdeDnGHhMQR/nqK6rTpY39WV9gBlI0FoB7FxcWhU6dOsLKyqvUyTk5OcHJykg7%2B%2BafYxJKTgaQk2WFKS8W/GWg0ZWLiij40kZUlLqaD4N7MrVtAZqbYmCKIzKu4WEycCrm5gFotNqYIAvMSvX0K2zYFE5qX6L8JUa%2BnIe/PyGixANSD27dvY9u2bYiLi8OWLVvqOh0iIqJnCzuAsrEAFOS1116DQqEAANSvXx9eXl7Yvn07XnzxxTrOjIiI6BnDAlA2FoBPaNu2bbrfU1JS6jATIiIiosfDApCIiIiMCzuAsnENEhEREZkYdgCJiIjIuLADKBsLQCIiIjIuLABl4xokIiIiMjHsABIREZFxYQdQNhaAREREZFxYAMrGNUhERERkYtgBJCIiIuPCDqBsXINEREREJoYdQCIiIjIu7ADKxgKQiIiIjAsLQNkUWq1WW9dJ0MNlZd0REsfcXAkHh/rIySlAaWmZkJiiGGpuhpoXYLi5GWpegOHmZqh5AYabm6HmBRhubqLzcnS0FZDVE2rfXj9xz53TT1wDxA4gERERGRd2AGXjGiQiIiIyMewAEhERkXFhB1A2FoBERERkXFgAysY1SERERGRi2AEkIiIi48IOoGxcg0REREQmhh1AIiIiMi7sAMrGApCIiIiMCwtA2bgGiYiIiEwMO4BERERkXNgBlI0FIBEREZEAarUac%2BfORUJCAszMzODv74%2BZM2fC3Fxabk2cOBG//PKLZKywsBBBQUGYP38%2BsrOz8dJLL8HGxkY33cHBAd9//72wXFkAEhERkXEx0A7gtGnT0LRpUxw/fhzZ2dmYMmUKtmzZgokTJ0rm%2B/TTTyX3d%2B/ejaioKISGhgIAzp07hxYtWggt%2BB7EApCIiIiMi54KwMzMTGRlZUnGHB0d4eTk9Mhlr127hoSEBBw7dgzW1tZwcXFBSEgIPvrooyoFYGVXrlzBggULsHHjRt3jnDt3Di%2B%2B%2BKK8J/MILACJiIiIAMTExCAqKkoyFhoairCwsEcue/HiRdjb26Np06a6MTc3N6SnpyMvLw92dnbVLjdv3jwEBATA29tbN3bu3Dncvn0br732GrKzs9G%2BfXvMnDkTrVu3fsJnVhULwMd09epVuLq61nUaREREpktPHcCgoCD4%2BflJxhwdHWu1bEFBAaytrSVjFfcLCwurLQBPnz6Ns2fPYsWKFZJxOzs7tG7dGpMmTYKlpSU%2B%2BeQTvPnmmzhw4ABsbW0f5ynVyOgKwD///BPr16/HyZMncefOHTRu3BgDBw7ElClTUL9%2Bfb0%2B9o4dO/Dtt99i27Zten0cIiIievqcnJxqdbi3OjY2Nrh7965krOJ%2BTfVJTEwMBg0aVKXIXLlypeT%2B7NmzERsbi9OnT8PX1/eJ8nuQYZ5FWYPExEQMGzYMLVq0wJdffomkpCRER0fj7NmzCA4Ohkaj0evj37p1S6/xiYiIqBaUSv38yODu7o7c3FxkZ2frxi5fvoxmzZpV27UrLS3FkSNH4O/vLxnPz8/HsmXLcOPGDd2YRqNBaWkprKysZOVYmVF1AN9//30EBAQgPDxcN/b8889j1apVeP/995GamgoLCwt89NFHiI%2BPh1KpRLdu3TBz5kw4OTkhPj4eb7zxBlJSUnTLz5o1CwCwdOlSrF69GhcvXoSlpSV%2B%2BOEH2NjYYOjQoZg%2BfTr27t2LDRs2QKPRwNvbG6dPn4afnx969uyJI0eOwNHREY0aNUKLFi2wYMECXfx33nkHbdu2RURERK2eY3UnoJqb2zzxfySVmZkpJbeGxFBzM9S8AMPNzVDzAgw3N0PNCzDc3Aw1L8BwczPUvJ6IAV4F7Orqis6dO2Px4sWYP38%2BcnJysHbtWgQGBlY7f0pKCu7du4dOnTpJxhs0aIATJ07gxo0bWLRoEZRKJZYtW4aWLVtKzhOUy2gKwOvXr%2BPixYv48MMPq0xr0qQJ1q5di5KSErz22mt48cUX8d1330Gr1WLevHmYPHkydu3aVavH%2Be6777B06VIsW7YMP/74I9555x306dMHw4YNQ1paGhISEiSHgH/99VccPHgQAPDjjz/igw8%2BwNy5c2FpaYns7Gz89NNPeO%2B992r9PKs7AXXq1KmSolcuOzvrR89URww1N0PNCzDc3Aw1L8BwczPUvADDzc1Q8wIMNzdDzetZEBkZifnz56NPnz5QKpUICAhASEgIAEClUmHevHm6jl9qaioaNmyIevXqVYmzdu1aLFmyBH379kVJSQl8fHwQHR0NCwsLYbkaTQFYcfi1SZMmNc5z%2BvRppKamIjY2Fg0aNABQfnVN165d8dtvv9XqcVxdXREQEAAAeOWVV%2BDo6IirV6/Cy8ur2vkHDBigO7Gzb9%2B%2BmDdvHr7//nsMHDgQ%2B/btg0qlgouLS62fZ3UnoJqb2yAnp6DWMWpiZqaEnZ018vLuQqMpkx1PJEPNzVDzAgw3N0PNCzDc3Aw1L8BwczPUvADDzU10Xg4O%2Bj3v/qEMsAMIlNcokZGR1U5LSkqS3B84cCAGDhxY7bwtWrSo0gwSzWgKwIoTJLOysqq9Cjc7OxtqtRoODg664g8ob6Xa29vjxo0bDy0eH3ycChYWFigrq3lDqXxo1tLSEq%2B99hq%2B%2BuorDBw4EHv37kVwcPAjH/PBeA8e7s3KuoPSUnE7EY2mTGg8kQw1N0PNCzDc3Aw1L8BwczPUvADDzc1Q8wIMNzdDzYueLsMsoavRokULeHh44MCBA1WmqdVq%2BPr64saNG8jJyUF%2Bfr5u2p07d5CTkwNHR0eYmZkBAIqLi3XTc3JyZOWlUCgk90eMGIHjx48jKSkJaWlpGDBggKz4RERE9AADvAjE2BjVs507dy5iY2MRFRWFnJwcaLVa/P7775g8eTLatWuH4OBgtG7dGh988AHu3LmDO3fu4MMPP0SrVq3QqVMntGrVCubm5ti/fz8A4MSJEzh16lStH79evXrIz8%2BHVqutcZ62bduidevWmD9/PgYPHlzlM4GIiIhIJhaAshnVs%2B3atSu2b9%2BOCxcu4NVXX0WnTp0QHh6Obt264dNPP4WFhQU2bNiA0tJSDBgwAL6%2BvigpKcHmzZthbm4OJycnzJkzB2vXrkWnTp2wfft2DB8%2BvNaP7%2Bvri9zcXHTu3Bl5eXk1zjd8%2BHBcuHABI0aMEPG0iYiIiIRSaB/WzqIncuTIEaxYsUJ3dbBcWVl3hMQxN1fCwaE%2BcnIKDO78D0PNzVDzAgw3N0PNCzDc3Aw1L8BwczPUvADDzU10Xo6OYr6R4okMGaKfuPv26SeuATKai0CMQU5ODv766y%2BsW7cOo0ePrut0iIiIiKplVIeADd1vv/2GUaNGwdHREaNGjarrdIiIiJ5NPAdQNnYABerVqxfOnj1b12kQERE920ysWNMHrkEiIiIiE8MOIBERERkXdgBl4xokIiIiMjHsABIREZFxYQdQNhaAREREZFxYAMrGNUhERERkYtgBJCIiIuPCDqBsLACJiIjIuLAAlI1rkIiIiMjEsANoBBxXLRETyNkZCA2Fw47NQHq67HBZ784WkJR%2BODrZiQmkUgGJiXDo0wtIShIScs5srZA4919O7NhRX8TLKYw%2B8lqcGyImkIsLMHs2HNZHAqmpYmKKoIe8suYtExLHlDh%2BMFNMINGv57p18mMAetmfQStmf/bY2AGUjWuQiIiIyMSwA0hERETGhR1A2VgAEhERkXFhASgb1yARERGRiWEHkIiIiIwLO4CycQ0SERERmRh2AImIiMi4sAMoGwtAIiIiMi4sAGXjGiQiIiIyMewAEhERkXFhB1A2rkEiIiIiE8MOIBERERkXdgBlYwFIRERExoUFoGxcg0REREQmhh1AIiIiMi7sAMr2zK3B4OBghIaGVjtt165d6NGjB4qLi2tcPi0tDZ6enkhLS6txHk9PT8THxwMA9uzZgzZt2kClUkGlUqFjx47o3r07pk%2Bfjps3b8p7MkRERER68MwVgOPGjUNcXByysrKqTPv8888xatQoWFpaCn1MZ2dnJCUlISkpCWfPnsXu3btRUlKCUaNG4datW0Ifi4iIyOQplfr5MSHP3LN95ZVX4OzsjL1790rGz5w5g4sXL2LUqFHIz8/H/Pnz8corr6B79%2B549913kZ2dLZl/3759GDRoELy8vDBhwgRkZGTUOocWLVrg448/hlKpxJYtW0Q8LSIiIqrAAlC2Z%2B4cQKVSiTFjxmDnzp2YNGkSFAoFgPLu38CBA%2BHk5ITw8HAUFBRgz549sLKywtKlSxEaGorPP/9cF%2Bf8%2BfPYtWsXysrKMGHCBKxZswbz58%2BvdR7m5ubo1asXTp069Vj5Z2ZmVuleOtarB6fGjR8rTrUcHaW3Mpmbi9tYzMyUklvZVCoxcdq0kd4K4OwsJo7gl1MYveRl6yImTtOm0ltDoYe8RG2fwrdNQfSSl4uB/p0Z6v4sKUlMHKoTz1wBCACBgYGIjIzEqVOn0L17d%2BTm5uLgwYPYvn071Go1Dh06hIMHD6Lx/aJqzpw58Pb2xvnz52Fvbw8AmDx5MmxtbQEAvXr1wq%2B//vrYeTg4OCA3N/exlomJiUFUVJRkLHTqVITVcF7jEwkKEhLGQUgUKTs7azGBEhPFxKmwc6ewUAJfSQDCXk7hxOY1W2QwIDhYbDxRBOYlevsUtm0KJjSv2Qb6dyY6L1H7s/sNljphYt06fXgmC0BbW1v4%2B/vjiy%2B%2BQPfu3REbG4u2bduiQ4cOukJu5MiRkmXMzMyQlpamKwArbgHAwsICGo3msfNQq9Vo1KjRYy0TFBQEPz8/yZjj7t3AA0XhE3F0LH9XjokBqjlH8nHlvP6m/JzuM%2BcJ7IoAACAASURBVDNTws7OGnl5d6HRlMmO59Cnl4CsUP6f8s6dwJgxQHKykJBRwWKKU8EvpzD6yCv0zhIxgZo2LX9T3rQJeIzTOvROD3nlTA4XEkf0timKPvJyWB8pJI7w1/OLL%2BTHAPSyPyPj9UwWgED5xSDDhg1DTk4Odu3ahfDw8p1h0/st%2BYMHD8Kx0jGqS5cuwcXFpdqLR55ESUkJfvzxRwwfPvyxlnNycoKTk5N0cMcOID1dSF4Ayt%2BVBcQrLRX/ZqDRlImJK/rQRHKysJgiX0pA2MspnNC8clMFBbovIwNIFRxTBIF5id4%2BhW2bggnNS/TfhKjX04D3Z3WGHUDZntk12Lp1a3Tu3BlLly7F3bt30b9/fwDlBWDv3r2xaNEi5OTkoKSkBOvWrUNgYCDy8vKEPHZqaiqmT58OCwsLjB8/XkhMIiIiuo8Xgcj2zHYAAWDs2LGYOnUqpk2bBgsLC9348uXLsXLlSgQEBCA/Px/u7u749NNP4ejo%2BNDP/6tJeno6VPdP0lUoFLC3t0evXr3w%2Beefo2HDhsKeDxEREZEIz3QB2LdvX6SkpFQZb9iwYY1X9LZs2bLKMmFhYZL7lacPHz78sQ/zEhERkQwm1q3TB65BIiIiIgHUajVCQkLg7e0NHx8fLFq0CKWlpdXOO3HiRLRv3173TWIqlQrHjh0DAGg0Gixbtgw9evSASqXClClTkJmZKTRXFoBERERkXAz0HMBp06bBxsYGx48fx%2B7du3Hy5MkavxDit99%2Bw8aNG3XfJJaUlISXX34ZALBu3Tr89NNPiI2NxfHjx2FlZYX33ntPdn6VPdOHgImIiOgZpKdDwNV%2BGYOjY9VP56jGtWvXkJCQgGPHjsHa2houLi4ICQnBRx99hIkTJ0rmTU1Nxe3bt9G2bdtqY33xxReYMWMGmjdvDgD497//jZ49eyI1NRUugj6wnAUgEREREWr4MobQ0CrXAlTn4sWLsLe3133cHAC4ubkhPT0deXl5sLOz042fO3cO9evXx7vvvotz586hSZMmmDBhAgIDA3Hnzh389ddf8PDw0M3fpEkTNGzYECkpKSwAiYiIyETpqQNY7Zcx1PJ7LQsKCmBtLf1mmor7hYWFkgKwuLgYXl5eePfdd%2BHu7o74%2BHiEhYWhfv36uk8VsbGxkcSysrJCQUHBYz%2BnmrAAJCIiIkINX8ZQSzY2Nrh7965krOJ%2B/fr1JeMBAQEICAjQ3e/ZsycCAgJw8OBB9OjRQ7JshaKioipx5OBFIERERGRcDPAiEHd3d%2BTm5iI7O1s3dvnyZTRr1gy2traSeXfv3o2DBw9KxoqLi1GvXj00bNgQTZs2xaVLl3TTsrKykJubKzksLBcLQCIiIjIuBlgAurq6onPnzli8eDHy8/ORmpqKtWvXIjAwsMq8%2Bfn5WLBgAS5cuICysjL88MMP%2BOabbxAUFASg/DOG161bh9TUVOTn52Px4sXo2rUrWrVqJSvHyngImIiIiEiAyMhIzJ8/H3369IFSqURAQABCQkIAACqVCvPmzYO/vz/Gjx%2BPwsJChIaGQq1Ww8XFBcuWLYO3tzcAYOrUqSgtLcXrr7%2BOgoIC%2BPj44P/9v/8nNFcWgERERGRcDPSbQJo0aYLIyMhqpyUlJel%2BVygUCAkJ0RWHD7KwsMCMGTMwY8YMveQJ8BAwERERkclhB5CIiIiMi4F2AI0JC0AiIiIyLiwAZWMBaAwcHMTEqbgM3dZWXEwDNWe2VkgcZ2cgFEBUcCLS04WExOIlCjGBVCogNBGhmzoBlc4tqXN6yOvnBDGvp40N0A7Aef/ZKCwUElIIfeTlijtiApmQn99cKySO6Ndzr72YvPSyPxMThuoAC0AiIiIyLuwAysYCkIiIiIwLC0DZuAaJiIiITAw7gERERGRc2AGUjWuQiIiIyMSwA0hERETGhR1A2VgAEhERkXFhASgb1yARERGRiWEHkIiIiIwLO4CycQ0SERERmRh2AImIiMi4sAMoGwtAIiIiMi4sAGXjGiQiIiIyMewAEhERkXFhB1A2rkE9u3btWl2nQERERCTxzBWAnp6eiI%2BPl4zFxsaiffv22Llz52PHS0tLg6enJ9LS0mo1v0qlwunTpwEAy5Ytw7p16x77MYmIiOghlEr9/JiQZ/4Q8H/%2B8x%2BsW7cOkZGR8PX11fvjJSUl6X7PycnR%2B%2BMRERGZHBMr1vThmS0AtVotFi1ahIMHD2Lr1q1o3769bpqnpyfmz5%2BPTZs24a%2B//kL37t0RGhqKhQsXIiUlBX/729/w8ccf47nnnqsSd9y4cfDy8kJiYiIuXLiAZs2aISwsDIMHD9bF3rp1K06fPo19%2B/YBAC5cuICvv/66VnlnZmYiKytLMuZoZganxo2fdFX8n0aNpLcymZuL2wDNzJSSW7mcnYWEgaOj9FYIlUpMnDZtpLeGQg952diIiWNlJb01FPrIS9T2KXrbFEUfeRnq35mh7s/S08XEobqh0Gq12rpOQiRPT09s3LgRe/bswZEjR/DNN9/AxcWlyjxdunRBVFQUiouL8eqrr8La2hqbN29G8%2BbN8dZbb8HV1RVLlixBWloa%2BvTpgyNHjqBly5YYN24c/vjjD2zevBmtW7fGmjVrsGPHDvz000%2BoV6%2BergD08fHBrFmzAABLly6tdf6rV69GVFSUZCx06lSEhYfLXzlERESCzJkDLF5cRw%2B%2BbZt%2B4o4bp5%2B4BuiZ7ADOnTsXzZs3R7169bBnzx5ERERUmWfs2LGwt7cHALi7u6Nt27Zwc3MDAHTr1g2//PJLjfEHDBiAtm3bAgCGDRuG9evXQ61Ww1nAv2lBQUHw8/OTjDkeOgR89pns2GjUCBgyBNi3D7h1S3a4HP9A%2BTndZ2amhJ2dNfLy7kKjKZMdb8eO%2BgKyKv9POSgIiIkBHmjMPrHQTZ3EBGrTBti5ExgzBkhOFhNTBD3kdX5bopA4VlaAmxtw%2BTJQVCQkpBD6yMvZuUBIHNHbpij6yCs9Xcx%2BQ/TrGRcnPwagn/0ZGa9nsgDs2LEjli9fjhMnTmDKlCl44YUX0L9/f8k8FcUfAJiZmaFhw4a6%2B0qlEg9rjDpW6p%2Bbm5evwrIyMTsgJycnODk5SQcPHAAyM4XEB1Be/AmIV1oq/s1AoykTElf0oYmsLIExK50nKkRysviYIgjMq7BQSBidoiLxMUUQmZfo7VPUtimayLwM9e/MoPdndYXnAMr2TK7B0aNHw9LSEr1798bbb7%2BNmTNnIiUlRTKPQqGoo%2ByIiIhIFl4FLNsz/2wjIiLg5eWFqVOnIjc396k%2BtqWlJe7cufNUH5OIiIjoUZ75AlCpVGLlypUoLS3FtGnToNFontpjDx48GImJiejdu/dTe0wiIqJnHjuAsj1z5wA%2BeKgXABo1aoQffvihxnm2PXA1UVhYmO73li1bSuZ/cN4Hp1f%2BvVu3bjh58uTjPQEiIiIiPXvmCkAiIiJ6xplYt04fWAASERGRcWEBKBvXIBEREZGJYQeQiIiIjAs7gLJxDRIRERGZGHYAiYiIyLiwAygbC0AiIiIyLiwAZeMaJCIiIjIx7AASERGRcWEHUDauQSIiIiITww4gERERGRd2AGVjAUhERETGhQWgbFyDRERERCaGHUAiIiIyLuwAysYCkIiIiEgAtVqNuXPnIiEhAWZmZvD398fMmTNhbl613Pr888%2BxZcsWZGZmwsnJCW%2B88QZef/11AEBZWRk6d%2B4MrVYLhUKhW%2Bann36CjY2NkFxZABIREZFxMdAO4LRp09C0aVMcP34c2dnZmDJlCrZs2YKJEydK5jt8%2BDA%2B/vhjREdHo2PHjjhz5gzefvttNGnSBAMGDMClS5dQUlKCxMREWFpa6iVXFoBERERkXPRUAGZmZiIrK0sy5ujoCCcnp0cue%2B3aNSQkJODYsWOwtraGi4sLQkJC8NFHH1UpADMyMjBp0iR4eXkBAFQqFXx8fPDzzz9jwIABOHfuHDw9PfVW/AEsAImIiIgAADExMYiKipKMhYaGIiws7JHLXrx4Efb29mjatKluzM3NDenp6cjLy4OdnZ1uvOJQbwW1Wo2ff/4Zs2fPBgCcO3cO9%2B7dw4gRI3Djxg24ublh%2BvTp6NSpk5ynJ8ECkIiIiIyLnjqAQUFB8PPzk4w5OjrWatmCggJYW1tLxiruFxYWSgrAyrKysvDOO%2B/gxRdfxGuvvQYAsLKyQocOHRAREYGGDRtix44deOutt/D111/DxcXlcZ9WtVgAEhEREQFwcnKq1eHe6tjY2ODu3buSsYr79evXr3aZM2fOICIiAt7e3liyZInuYpFZs2ZJ5nvrrbewZ88eHD16FGPHjn2i/B5kmGdREhEREdVEqdTPjwzu7u7Izc1Fdna2buzy5cto1qwZbG1tq8y/e/duTJgwAePHj8fKlSsl5/utWrUKFy5ckMxfXFyMevXqycqxMhaAREREZFwMsAB0dXVF586dsXjxYuTn5yM1NRVr165FYGBglXkPHTqEDz/8EKtXr0ZwcHCV6X/88QcWLVqErKwsFBcXIyoqCvn5%2BejXr5%2BsHCtjAUhEREQkQGRkJEpLS9GnTx%2BMHDkSvXr1QkhICIDyK32//vprAEBUVBQ0Gg3Cw8OhUql0P%2B%2B//z4AYMmSJWjVqhWGDh0KHx8fJCQkYPPmzbC3txeWK88BJCIiIuNioJ8D2KRJE0RGRlY7LSkpSff7vn37HhrH3t4eS5YsEZrbg1gAEhERkXEx0ALQmHANEhEREZkYdgCJiIjIuLADKBvXIBEREZGJMYoC0NPTE/Hx8ZKx2NhYtG/fHjt37nzsePHx8fD09JRceVPxs3fvXqSnp0OlUiE9PV127qtXr8a4ceNkxyEiIqL7DPBjYIyNUR4C/s9//oN169YhMjISvr6%2BTxyn8hU5jzONiIiI6pCJFWv6YFRrUKvVYuHChfjss8%2BwdetWSfHn6emJmJgYDBgwAB07dsTkyZPx22%2B/YdSoUVCpVBgxYgSuXbtWq8dJS0uDp6cn0tLSdLG3bduGAQMGQKVSYdSoUUhJSdHNv3v3bgwfPhw%2BPj5QqVR45513cOvWLbFPnoiIiEgQo%2BkAlpSUYPr06Thy5Ai%2B%2Beabar8Med%2B%2BfYiJiUFxcTFeffVVhISEYPPmzWjevDneeustrF%2B//ok/V2f//v3Yvn07rKysEB4ejuXLl2Pjxo349ddfsXDhQmzduhUdOnTAX3/9hfHjx2Pr1q2YNm3aYz9OZmYmsrKyJGOOZmZwatz4ifKWaNRIeiuTubm4/x/MzJSSW7mcnYWEQcV3gNfyu8BrR6USE6dNG%2BmtodBDXjY2YuJYWUlvDYU%2B8hK1fYreNkXRR16G%2BndmqPszAWdJPTl2AGUzmgJw7ty5aN68OerVq4c9e/YgIiKiyjxjx47VfUq2u7s72rZtCzc3NwBAt27d8Msvv0jm9/b2ltzv06cPli1bVu3jjxs3Do73t5pBgwZhw4YNAAAPDw988803aNmyJW7fvo3MzEw0atQIGRkZT/Q8Y2JiEBUVJRkLnToVYePHP1G8ag0ZIiSMg5AoUnZ21kLihIYKCaMTFCQwWGiiwGAAnuA82KdCYF7thEUqd3%2B3YHDE5lX9l88/KVHbpmgi83IQvFMT9Xq2E7wBiNqfzZkjJg7VDaMpADt27Ijly5fjxIkTmDJlCl544QX0799fMk/lr0gxMzNDw4YNdfeVSiW0Wq1k/tOnT9f68Zs0aaL73dzcXBdLqVRi69at2LdvH2xsbODp6Yn8/Pwqj1VbQUFB8PPzk4w5HjoEfPbZE8WTaNSovPjbtw8QcIg6x7/q9xs%2BKTMzJezsrJGXdxcaTZnseDt2iHnzc3Qs31nGxAAPNGafWOimTmICtWlTXmSNGQMkJ4uJKYIe8jq/TUzRbGVV/qZ8%2BTJQVCQkpBD6yMvZuUBIHNHbpij6yCs9Xcx%2BQ/TrGRcnPwagn/1ZnWEHUDajKQBHjx4NS0tL9O7dG2%2B//TZmzpyJ5557Dp6enrp5FArFU89ry5Yt%2BOmnn7Bv3z5dkTh58uQnjufk5AQnJyfp4IEDQGamnDSlbt0SEq%2B0VPybgUZTJiSu6EMTWVkCY4q%2BwCg5WXxMEQTmVVgoJIxOUZH4mCKIzEv09ilq2xRNZF6G%2Bndm0PuzusICUDajXIMRERHw8vLC1KlTkZubW6e55Ofnw9zcHBYWFigtLcVXX32F48ePo6SkpE7zIiIiIqqJURaASqUSK1euRGlpKaZNmwaNRlNnuQQHB6N58%2Bbw9fVFr1698PXXX2PMmDH4448/6iwnIiKiZxo/B1A2ozgEXPkjVyo0atQIP/zwQ43zbNu2TXI/LCxM97uPj0%2B1MSu0bNlSMv3BeYcPH47hw4cDKD/vcP369TXGqvy4RERERIbAKApAIiIiIh0T69bpAwtAIiIiMi4sAGXjGiQiIiIyMewAEhERkXFhB1A2rkEiIiIiE8MOIBERERkXdgBlYwFIRERExoUFoGxcg0REREQmhh1AIiIiMi7sAMrGNUhERERkYtgBJCIiIuPCDqBsLACJiIjIuLAAlI1rkIiIiMjEsANoDOztxcSxtf2/2%2BJiMTEN1OLcEDGBbF0AzEbonSVAbqqQkD8naIXEsbEB2gE4vy0RhYVCQgqhj7y6dFWICaRSAYmJaDeuE5CUJCamCHrIKyszT0gcU2Kof2ddpkwRkBT0sj8D1gqK85jYAZSNa5CIiIjIxLADSERERMaFHUDZWAASERGRcWEBKBvXIBEREZGJYQeQiIiIjAs7gLJxDRIRERGZGHYAiYiIyLiwAygbC0AiIiIyLiwAZeMaJCIiIjIx7AASERGRcWEHUDauQSIiIiITww4gERERGRd2AGVjAUhERETGhQWgbFyDRERERCaGBaAeXbt2ra5TICIievYolfr5MSHCn62fnx/at28PlUol%2BQkODpYVNz4%2BHp6enrr7np6e6NChA1QqFby8vNClSxdMmTIFN2/elPsUamXWrFmYNWtWjdOXLVuGdevWPZVciIiITIqBFoBqtRohISHw9vaGj48PFi1ahNLS0mrnPXr0KIYMGQIvLy8MGjQIcXFxkunR0dF4%2BeWX4eXlhXHjxuHKlSuy86tML%2BXuvHnzkJSUJPnZtGmT8MeJjo5GUlISzpw5g7i4OGi1Wvzzn/8U/jhPIicnp65TICIioqdo2rRpsLGxwfHjx7F7926cPHkSW7ZsqTLf1atXERYWhoiICJw%2BfRphYWGYNm0aMjIyAAB79%2B7Ftm3bsHHjRsTHx6Ndu3YIDw%2BHVqsVlutTvQhk3Lhx6Nq1K8LCwgAAaWlp6NOnD44cOYKWLVsiOzsbS5cuxcmTJ6FQKODn54d//etfaNCgwSNjN2jQACNHjsQ//vEP3VhOTg4%2B/vhjxMXFoaSkBF5eXpg9ezZcXV2rPDYArF69GgkJCdi2bRsAYP/%2B/YiMjIRarUbHjh3h7OyMkpISLF26FEB5pR8eHo74%2BHhYWFhg8uTJGDt2LNasWYN9%2B/YBAC5cuICvv/661usoMzMTWVlZkjFHAE6NG9c6Ro3s7aW3Mpmbi/v/wcxMKbmVzcVFTJymTaW3AtjYiIljZSW9NRR6yUulEhOnTRvpraHQQ16itk/h26YgesnLUP/ODHV/lpoqJs6T0NPh2mrfgx0d4eTk9Mhlr127hoSEBBw7dgzW1tZwcXFBSEgIPvroI0ycOFEy7969e%2BHt7Y2%2BffsCAAYPHow9e/YgJiYG4eHh2LVrF8aMGQN3d3cAwPTp07Fr1y7Ex8ejW7duQp6rwVwFXFZWhpCQELi6uuLQoUMoKSnB7Nmz8f777%2BPjjz9%2B5PK3b9/G/v370b9/f91YeHg4lEol9u7dC1tbW3zyySeYMGECvvnmm0fGS0pKwsyZMxEZGYmXX34ZcXFxmDZtGoYMGaKb59SpU9iwYQM%2B%2BeQTfPnll5g9ezb69euHqVOnIvX%2BhlFRLNZWTEwMoqKiJGOhU6cibPjwx4rzUH5%2BQsI4CIkiZWdnLSbQ7Nli4lSQeQpDZe2ERSrn5iY4oCBC80pMFBgMwM6dYuOJIjAv0dunsG1TMKF5mcrfmaj9WUiImDgGpNr34NBQXePqYS5evAh7e3s0rVRgu7m5IT09HXl5ebCzs9ONX7p0CR4eHpLlW7dujeTkZN30SZMm6aZZWFjA1dUVycnJhl0Azps3D4sXL5aMHTt27KHL/Pbbbzh//jw2b96M%2BvXrAwBmzpyJgQMHYu7cudUuM3nyZJiZmaGsrAwFBQWwtbXFhg0bAACpqalISEjA/v374ejoCACYMWMG9u3bh6NHj6Jjx44PzSc2Nhb9%2B/eH3/1iqV%2B/frpKvcJLL72EHj16AABeffVVzJo1C6mpqZIX/3EFBQXpHrOC44kTwJ49TxxTx96%2BvPj7/nsgN1d2uBzfAfJzus/MTAk7O2vk5d2FRlMmO57D%2BkgBWaH8P%2BXgYGDTJuB%2Ba16u8/5iilMrq/Ii6/JloKhISEgh9JFXu3GdxARq06b8TXnMGOD%2BjtYg6CGvnCPHhcQRvW2Koo%2B8HPr0EhJH%2BOv597/LjwHoZX9WV7RQ6CVute/B92uIRykoKIC1tfQfkor7hYWFkgKwunmtrKxQWFhYq%2Bki6KUA/OCDDzD8MTtWaWlp0Gg0eOWVVyTjlpaWum7ag9avXw8fHx8AQFFREXbs2IHx48cjJiYGxcXFAACXSq1zMzMzNG/eHDdu3HhkAXjz5k20bdtWMubi4oLs7GzdfftKh1ItLS0BABqN5lFP9aGcnJyqtppPnADUallxJXJzhcQrLRX/ZqDRlImJK/rQREaGsJgCt18A5UWW6JgiCM0rKUlQoPuSk8XHFEFgXqK3T2HbpmBC8zLUvzNBHR8dgfuzulKmpz/Fat%2BDa8nGxgZ3796VjFXcr2hsVbC2tkbRA/8hFxUV6eZ71HQRnupJHUqlEiUlJbr7lS%2BUaNasGaysrBAfH4/Tp0/j9OnTOHHiBL788ssqhVh1rKys8NZbb6F%2B/fo4ceIEWrRoAQC4fv26bh6NRoP09HQ4OjrCzMwMAGrMp0WLFkhPT5c8xoP3iYiIiADA3d0dubm5kkbR5cuX0axZM9ja2krm9fDwwMWLFyVjly5d0p3z5%2B7uLpleUlKCq1evVjlsLMdTLQDd3Nxw/Phx5OXl4c6dO4iOjtZN69ChA5577jksXboUBQUFKCoqwuLFizFhwoRaddVKS0sRGxuLvLw8dO7cGU5OTnjllVewcOFCZGVloaioCCtWrIBGo4Gvry8aN26Mhg0bYv/%2B/dBqtTh//jy%2B/fZbXby///3v%2BN///ofjx49Do9Hg6NGj%2BO6772r9XC0tLXHnzp3HW0FERET0SGVl%2BvmRw9XVFZ07d8bixYuRn5%2BP1NRUrF27FoGBgVXm9ff3R0JCAg4cOIDS0lIcOHAACQkJGDp0KABgxIgR2L59O5KTk3Hv3j2sXLkSTZo0gbe3t7wkK3mqBeA777yDxo0bo0%2BfPhg6dKjkOLu5uTk2bNiA7Oxs9O/fHz179sT169exefNm1KtXr9p4kyZN0n3OYNeuXbFjxw58/PHH6NSp/Hyh5cuXw8XFBcOGDUOPHj2QkpKCzz77DPb29rC0tMSCBQtw8OBBdOrUCUuXLsXIkSN1sdu3b4958%2Bbhww8/RJcuXbBjxw50794dFhYWtXqugwcPRmJiInr37v3kK4yIiIiMRmRkJEpLS9GnTx%2BMHDkSvXr1Qsj9i2VUKpXuU0Hc3NywZs0abNiwAV26dMHatWuxevVqPP/88wCAwMBATJgwAVOnTkW3bt1w4cIFbNiwodY1SG0IPwfw%2B%2B%2B/r3Fa06ZN8emnn0rGAgICdL83a9YMq1atqnZZHx8fpKSk6O5X/r0m9vb2WLhwYY3TBwwYgAEDqr%2BQ4c8//0SHDh1w5MgR3VhYWBgaNWoEoPqreyvn1K1bN5w8efKRORIREdHj0dc5gHI1adIEkZHVX4SY9MD5oL169UKvXtVfeKRQKBAcHCz7SzQexrA%2B2MmAXLp0CePHj9edQxgfH4/jx49XuUiFiIiIni5DPARsbAzmcwANTb9%2B/XDp0iW88cYbuH37Nlq0aIEFCxboDi8TERERGSsWgA8xZcoUTJkypa7TICIiokpMrVunDzwETERERGRi2AEkIiIio8IOoHwsAImIiMiosACUj4eAiYiIiEwMO4BERERkVNgBlI8dQCIiIiITww4gERERGRV2AOVjAUhERERGhQWgfDwETERERGRi2AEkIiIio8IOoHzsABIRERGZGHYAiYiIyKiwAygfC0AiIiIyKiwA5eMhYCIiIiITww4gERERGRV2AOVjB5CIiIjIxLADSEREREaFHUD5WAASERGRUWEBKB8PARMRERGZGHYAiYiIyKiwAygfO4BEREREJoYdQCIiIjIq7ADKxwKQiIiIjAoLQPl4CJiIiIjIxJhcB/DevXvIyclBs2bN6joVIiIiegLsAMontAO4Y8cOeHp6YsuWLSLDCjVmzBicOHFCd9/T0xMdOnSASqWS/Pz73/%2BW/Vh79uyBn5%2Bf7DhEREREIgntAO7YsQOjR4/G1q1bMXbsWJibG16DMScnp8pYdHQ0fHx86iAbIiIielzsAMonrAN48uRJqNVqzJo1C2VlZTh06JBump%2BfHzZv3gx/f3907NgRo0ePxvnz5zFp0iSoVCoMHjwYv/76q27%2Bw4cPY/jw4ejUqRMGDBiALVu2oOz%2Bqz1r1izMmjVL8tienp6Ij4/XPdaGDRsQEBAAlUqFgIAAnDp1CgAQHByM9PR0fPDBB5g/f36tnpefnx/27Nmjux8fHw9PT0/d/evXr2Py5Mnw8fGBr68vVq1aheLi4sdce0RERFRbZWX6%2BTElwlp027Ztw8iRI2FlZYUxY8Zg06ZNePXVV3XTv/jiC2zatAkNGjTAiBEjMG7cOGzcuBHt2rXDv/71L6xYsQJbt27FqVOnMG3aKu3NTQAAIABJREFUNCxfvhz9%2B/dHSkoKQkJCAAATJkyoVS6xsbGIjo6Gk5MT5s2bhw8//BDffvstNm3aBD8/P4SGhmL48OGyn3NhYSEmTJiAV199FZ988glu3bqF8PBwlJWVYfr06U8UMzMzE1lZWZIxRwBOjRvLzhf29tJbmczNxZ1BYGamlNzK5uIiJk7TptJbAWxsxMSxspLeGgq95KVSiYnTpo301lDoIS9R26fwbVMQveRlqH9nhro/S00VE4fqhJAC8MaNGzh%2B/Djef/99AMDIkSOxZs0aJCQkoGvXrgCAESNG6C686NChA/Lz86G6v7H17NkT69atA1B%2B3lyfPn0wePBgAEC7du3w9ttvY9u2bbUuAAMDA/Hcc88BAIYMGYIvv/zyofNPnjwZZmZmuvv29vY4fPjwIx/nhx9%2BQHFxMf7xj39AoVCgefPmiIiIQHh4%2BBMXgDExMYiKipKMhU6dijABBauOoPMSHYREkbKzsxYTaPZsMXEqBAcLC9VOWKRybm6CAwoiNK/ERIHBAOzcKTaeKALzEr19Cts2BROal6n8nYnan91vztQFU%2BvW6YOQAnDnzp0oLS3F0KFDdWOlpaXYtGmTrgC0r9R1MjMzQ8OGDXX3lUoltFotAECtVuOFF16QxG/ZsiVu3LhR63yaNGmi%2B93c3FwXuybr169/onMAb9y4gVu3bqFLly66Ma1Wi5KSEqjV6seOBwBBQUFVLhxxPHECqHQY%2BonZ25cXf99/D%2BTmyg6X4ztAfk73mZkpYWdnjby8u9Bo5G/ZDusjBWSF8v%2BUg4OBTZuAjAwhIc/7iylOrazKi6zLl4GiIiEhhdBHXu3GdRITqE2b8jflMWOA5GQxMUXQQ145R44LiSN62xRFH3k59OklJI7w1/Pvf5cfA9DL/qyusACUT3YBeO/ePezevRuLFi1Cjx49dON//PEH3n77bVy%2BfBkAoFAoahWvRYsWuH79umQsNTUVjo6OAMqLxXv37umm3bp1S%2B5TeCilUomSkhLd/coXkTRr1gytWrXCt99%2BqxvLz8%2BHWq1Go0aNnujxnJyc4OTkJB08cQJ4woKyWrm5QuKVlorfAjWaMjFxRR%2BayMgQFrOwUEgYnaIi8TFFEJpXUpKgQPclJ4uPKYLAvERvn8K2TcGE5mWof2fdusmPUZnA/RkZL9knT%2Bzbtw8KhQJDhgxBs2bNdD8vv/wyPDw8HvsjYUaMGIHvv/8eBw8ehEajwYULFxAdHY0RI0YAANzc3HD69GlkZGSgqKgIa9asqXVxCQCWlpa4c%2BdOred3c3PDkSNHUFRUhKysLGzdulU3zdfXFwUFBfj0009RXFyMvLw8zJw5E%2B%2B%2B%2B%2B5j5URERES1x4tA5JNdAO7cuRNDhgyBhYVFlWlBQUH46quvHutwaMeOHfHJJ58gOjoa3t7eCA0NxejRozF58mRdTJVKBX9/f/Tr1w/NmzeHs7NzreMHBgZi1apVmDFjRq3mnzFjBgoKCvDSSy/hjTfegL%2B/v25agwYNsGXLFsTHx%2BPll19G3759oVQqdeczEhERERkihfZRJ8hR3YuOFhOncWNg%2BPDy8wkFHALOChglIKly5uZKODjUR05OgZDDOY4fzBSQFcqvvps9G1iyRNghk5/fXCskjo0N0K4dcP7/s3fncTXl/x/AX%2B2lhtIi2zAaZJelYgzKiJFMsiSUbRhb9mUMKrJ9TQqFbPGzhxpknTFZZgbZ97EOI6FSob3b8vvDdKfbQtxT59zp9Xw8euSec%2B%2BnV8u93vd9PudzbknrEHBZ5GprLVBH3crq7UT/Vq2kdQi4DHLFx70RZByhn5tCKYtcpmaVBRlH8N/nmDHKjwGUyesZVgvzevahLlwom3ELTOn/z5PeSs1ERERE71DRDteWBWkt7EREREREZY4dQCIiIlIp7AAqjx1AIiIiogqGHUAiIiJSKewAKo8FIBEREakUVSwA09LS4Ovri8jISGRnZ6NLly7w9vaGvr5%2Bsfc/duwYVq9ejejoaBgaGsLFxQVjx46Fuvrbg7dff/01nj17Jr8NAHv37oVFKa/DyQKQiIiIqIz5%2Bvri%2BfPnOHbsGHJycjBp0iT4%2BfnB29u7yH1v3ryJGTNmYPny5ejUqRMePXqEkSNHolKlShg%2BfDhSUlLw6NEj/Prrr6hZs%2BZH5eEcQCIiIlIpZXUlkLi4ONy6dUvhIy4uTum86enpiIiIwIQJE2BoaAhjY2NMmzYN4eHhSE9PL3L/mJgYDBgwAHZ2dlBXV4eFhQW6du2KC/8sgHjz5k0YGhp%2BdPEHsANIREREBAAIDQ1FUFCQwrbx48fD09PzvY/NyMhAbGxssfvS09Mhk8nQoEED%2BTYLCwtkZGTg8ePHaNSokcL9u3Xrhm7duimMffLkSTg5OQEAbty4AT09PQwePBj3799HzZo14enpCTs7u1J/rywAiYiISKWU1RxAV1dX2NvbK2wzNTUt1WOvXbsGDw%2BPYvdNnDgRAFCpUiX5Nj09PQBAamrqO8dNSUnBxIkToauri6FDhwIA1NTU0KxZM0yZMgU1atTA0aNH4enpiW3btqFly5alyssCkIiIiFRKWRWAZmZmMDMz%2B6jH2tjY4O7du8Xuu337NlasWIH09HT5SR/5h34NDAxKHPOvv/7ChAkTYGxsjC1btsjv%2B%2B233yrcr1evXjh48CCOHTtW6gKQcwCJiIiIytBnn30GLS0tPHjwQL7t4cOH0NLSQt26dYt9zKlTp9CvXz98%2BeWX2LhxI6pUqSLft3HjRpw9e1bh/llZWdDR0Sl1JhaAREREpFLK6iSQsqKnp4evv/4afn5%2BSExMRGJiIvz8/NCzZ0/o6uoWuf/Vq1cxbtw4zJo1CzNnzoSmpuIB2%2BfPn2PevHmIjo5GdnY29u7diytXrqB3796lzqSWl5eXp/R3RmUqPj5ZkHE0NdVhZKSPpKRUZGdLaxElqWaTai5AutmkmguQbjap5gKkm02quQDpZhM6l6npJwKk%2Bji//FI243btWjbjAm/n8v3vf/9DZGQkZDIZunTpgrlz58rnBTo6OsLJyQmjR4/G6NGjcfLkSfk8wXytW7fGhg0bkJWVBT8/Pxw5cgTJycn4/PPPMX36dNjY2JQ6DwtAFcACUDxSzQVIN5tUcwHSzSbVXIB0s0k1FyDdbP%2BlAvDYsbIZt8CJt/95PAmEiIiIVIoqXglEajgHkIiIiKiCYQeQiIiIVAo7gMpjB5CIiIiogmEHkIiIiFQKO4DKYwFIREREKoUFoPJ4CJiIiIiogmEHkIiIiFQKO4DKYweQiIiIqIJhB5CIiIhUCjuAymMBSERERCqFBaDyeAiYiIiIqIJhB5CIiIhUCjuAymMHkIiIiKiCkUwB%2BOjRI8ycORMdO3aElZUVvvrqK/j5%2BSE1NVWpccPDw2Fvb//O/ZaWlrCysiryERUVpdTXBgB3d3cEBgYqPQ4RERG9lZtbNh8ViSQOAV%2B%2BfBnDhw/H8OHDsW/fPlStWhWPHj2Cl5cXhg8fjh07dkBDQ6PMvn6NGjUQGRlZZuMTERGRcCpasVYWJFEAenl5wdnZGRMmTJBv%2B%2ByzzxAQEAAvLy9ER0cjMTERy5cvx19//YXXr1%2Bjfv368PLyQsuWLZGdnY0FCxbgl19%2BQXZ2NiwsLDB16lS0bt0aAJCdnQ0/Pz8cPHgQb968QY8ePeDj4wNNzfd/%2B1FRUfDw8MDdu3fl277//nsAwJIlSwAAhw4dQnBwMJ49e4Y6depgypQp6NChw0f9LOLi4hAfH6%2BwTVOzEszMzD5qvII0NNQVPkuJVLNJNRcg3WxSzQVIN5tUcwHSzSbVXIB0s0k1F4lD9ALwyZMnuH//Pnx8fIrsMzExwerVq5GRkQFXV1dMmDABbm5uyMjIwA8//IClS5dix44d2L9/P65cuYIjR45AX18fK1euxLx583DgwAEAQGxsLCpXrozjx4/j8ePH6Nu3L2xtbdGzZ0%2Bl8586dQre3t5Ys2YNWrVqhdOnT8PT0xO7d%2B9G/fr1P3i80NBQBAUFKWwbN26cQnGsrMqV9QQbS2hSzSbVXIB0s0k1FyDdbFLNBUg3m1RzAdLNJtVcH4IdQOWJXgAmJiYCeFvslURLSwuhoaGoU6cOMjMzERMTA0NDQ9y4cQMAoKuri6dPn2Lv3r3o2LEjJk6ciMmTJ8sfb2BggJEjR0JNTQ2ff/45LC0t8eTJE/n%2BZ8%2BeoU2bNgpfc/DgwZg0adJ782/btg1ubm5o27YtAMDOzg729vbYtWsX5s6dW/ofxD9cXV2LzFnU1KyEpCTl5kICb9/1Va6shzdv0pGTI61nj1SzSTUXIN1sUs0FSDebVHMB0s0m1VyAdLMJncvISF%2BAVCQW0QtAU1NTAEB8fDzq1q1bZP/Lly9hYmKCqKgojBw5Emlpafj888%2BhqamJvLw8AICjoyNkMhn27NkDf39/GBsbY/To0XBzcwMAVKlSBWpqavIxtbS0kJOTI7%2BtzBzAmJgYnD9/Hjt37pRvy8nJga2t7UeNZ2ZmVuRwb3x8MrKzhXsRycnJFXQ8IUk1m1RzAdLNJtVcgHSzSTUXIN1sUs0FSDebVHN9CHYAlSd6AVizZk00aNAAhw8flnfR8iUkJMDOzg7fffcdgoODsWvXLjRt2hQAEBISgkePHgF4ewZxkyZN4OzsjIyMDBw9ehQzZ84s0tX7GPknn2RlZUFbWxsAkJSUBCMjIwCAubk5nJ2dMWrUKPljnj17Bl1dXaW/NhERERXFAlB5kpgJOnfuXISFhSEoKAhJSUnIy8vDn3/%2BidGjR6NJkyZo0aIF1NXV5UXV1atXsWXLFmRlZQEATpw4gfHjx%2BPp06fQ1dWFoaEhNDU18cknnyid7dNPP4WmpiYOHToEADhz5gzOnTsn39%2B/f39s2bIF169fBwDcuHEDLi4uOHjwoNJfm4iIiKgsiN4BBABra2ts27YNwcHBcHR0RHp6OkxMTNC9e3d899130NfXx8CBAzFo0CDk5uaiVq1acHd3x7Jly/Dy5Ut4eHggNjYWAwYMQEpKCmrWrImAgACYm5srnc3MzAw//PADVq9eDV9fX9ja2sLFxQXp6ekAgO7duyMtLQ0//PADnj17BkNDQwwdOhTu7u5Kf20iIiIqih1A5anl5U%2BkI8mKj08WZBxNTXUYGekjKSlVcvM/pJpNqrkA6WaTai5AutmkmguQbjap5gKkm03oXKamyh9l%2B1gbN5bNuCNGlM24UiSJDiARERFRabEDqDwWgERERKRSWAAqTxIngRARERFR%2BWEHkIiIiFQKO4DKYwFIREREKoUFoPJ4CJiIiIiogmEHkIiIiFQKO4DKYweQiIiIqIJhB5CIiIhUCjuAymMBSERERCqFBaDyeAiYiIiIqIJhB5CIiIhUCjuAymMHkIiIiKiCYQeQiIiIVAo7gMpjAUhEREQqhQWg8ngImIiIiKiCYQeQiIiIVAo7gMpjB5CIiIiogmEBSERERColN7dsPspSWloaZs2aBRsbG7Ru3RozZsxAampqiff39vZG06ZNYWVlJf8IDQ2V71%2B/fj06duyIli1bwt3dHX/99dcH5WEBSERERCpFFQtAX19fPH/%2BHMeOHcPPP/%2BM58%2Bfw8/Pr8T737hxA76%2Bvrhy5Yr8w9XVFQDw008/YevWrdi4cSOioqLQpEkTTJgwAXl5eaXOwwKQiIiIqAylp6cjIiICEyZMgKGhIYyNjTFt2jSEh4cjPT29yP2zsrJw7949NG3atNjxdu/ejYEDB6J%2B/frQ0dHB1KlT8ezZM0RFRZU6E08CISIiIpVSVt26uLg4xMfHK2wzNTWFmZnZex%2BbkZGB2NjYYvelp6dDJpOhQYMG8m0WFhbIyMjA48eP0ahRI4X737lzB9nZ2Vi5ciUuXbqETz75BH369MG3334LdXV1PHjwACNHjpTfX0tLC3Xr1sWdO3dga2tbqu%2BVBSARERERgNDQUAQFBSlsGz9%2BPDw9Pd/72GvXrsHDw6PYfRMnTgQAVKpUSb5NT08PAIqdB5icnAxra2u4u7vD398ff/75J8aNGwd1dXV8%2B%2B23SE1NlT8%2Bn66uLtLS0t6bMx8LQCIiIlIpZdUBdHV1hb29vcI2U1PTUj3WxsYGd%2B/eLXbf7du3sWLFCqSnp0NfXx8A5Id%2BDQwMitz/iy%2B%2BwBdffCG/3bx5cwwZMgSHDx/Gt99%2BCz09PWRkZCg8JiMjQz52abAAJCIiIpVSVgWgmZlZqQ73fqjPPvsMWlpaePDgAVq0aAEAePjwofzQbWHHjx/Hy5cvMWDAAPm2rKws6OrqAgDq16%2BP%2B/fvw87ODgAgk8nw%2BPFjhUPM78OTQIiIiIjKkJ6eHr7%2B%2Bmv4%2BfkhMTERiYmJ8PPzQ8%2BePeVFXUF5eXlYvHgxzp49i7y8PFy5cgVbtmyRnwXcp08fbNu2DXfu3EFmZiaWLVsGExMTtGnTptSZ2AEkIiIilaKKVwLx9vbG//73Pzg5OUEmk6FLly6YO3eufL%2BjoyOcnJwwevRodO3aFbNmzYKPjw9iY2NhYmICT09PfPPNNwCAvn37Ijk5GePGjUNiYiKaNWuGtWvXQktLq9R51PI%2BZNEYFZOZmYmkpCSYm5uLHUUp8fHJgoyjqakOIyN9JCWlIjtbWs8eqWaTai5AutmkmguQbjap5gKkm02quQDpZhM6l6npJwKk%2BjizZ5fNuAsXls24UvTRh4C3b9%2BOhg0bYvPmzQLGEdbAgQNx5swZhW3Xr1/HhAkT0L59e7Rq1Qpff/011q5di%2BzsbKW/XmBgINzd3ZUeh4iIiEqmigtBS41SBaCbmxu2bNkiSPFUFpKSkhRuHz16FB4eHmjbti1%2B/vlnXLp0CcuWLUNERASmTp0qUkoiIiL6ECwAlfdRBeDZs2eRkJCA77//Hrm5uTh27Jh8n729PTZt2oRevXqhRYsWcHNzw61btzBy5EhYWVmhR48euH79uvz%2Bx48fh4uLC1q1aoVu3bph8%2BbNyP3nt/D999/j%2B%2B%2B/V/jaDRs2lK90bW9vj7Vr18LZ2RlWVlZwdnbGuXPnAADDhw/Hs2fP4O3tjfnz5yMzMxPe3t4YN24c3N3dYWBgADU1NTRu3Bh%2Bfn7Iy8vDq1evAACRkZEYMGAA2rVrhxYtWmDw4MF4/PgxACAlJQWTJ0%2BGjY0NvvjiC4wYMQIPHz6U50tNTcWcOXPQoUMH2NjYICAg4GN%2BxERERERl5qNOAtm6dSv69%2B8PXV1dDBw4ECEhIXB0dJTv37NnD0JCQmBgYIA%2BffrA3d0dGzduRJMmTTBjxgz4%2Bflhy5YtOHfuHCZNmoSlS5fCwcEBd%2B/exdixYwEAQ4cOLVWWsLAwrF%2B/HmZmZpg3bx58fHxw9OhRhISEwN7eHuPHj4eLiwvOnj2LV69eoWfPnkXGsLS0xMqVKwEAL168wMSJE7FixQrY29sjKSkJ48ePx6pVq/Djjz8iJCQEKSkpOHXqFNTV1eHl5QU/Pz%2BsWbMGwNu1foYMGQJfX19ERUVh6NCh6Ny5M6ysrEr1/RS3CrmmZiVBTkvX0FBX%2BCwlUs0m1VyAdLNJNRcg3WxSzQVIN5tUcwHSzSbVXB%2BjonXrysIHF4AxMTH47bff4OXlBQDo378/Vq1ahfPnz8Pa2hrA29OT80%2B8aN68OVJSUuQFUIcOHeTFUnh4OLp06YIePXoAAJo0aYJRo0Zh69atpS4A%2B/btizp16gAAnJycsG/fvmLvl5iYCAAwMTF553hVq1bFoUOH8OmnnyIlJQUvXryAkZGR/PIuurq6uHPnDvbt24cvvvgCixYtgrr6v0%2Bm%2BvXry8/SsbW1hYmJCZ48eVLqArC4VcjHjRuHCRMmlOrxpVG5st777yQSqWaTai5AutmkmguQbjap5gKkm02quQDpZpNqLipfH1wA7tixA9nZ2fIiBwCys7MREhIiLwANDQ3l%2BzQ0NFClShX5bXV1deSfeJyQkFDk%2Bne1atVCTExMqfMULOg0NTVR0knN%2BSt5x8fHo0aNGkX2x8fHw9TUFFpaWjh48CB27doFNTU1NGjQACkpKdDUfPujGjlyJLS1tbF3717Mnz8ftWvXxtSpU%2BHg4FDkewcAbW1t5OTklPr7KW4Vck3NSkhKKnqpmA%2BloaGOypX18OZNOnJypPX2SarZpJoLkG42qeYCpJtNqrkA6WaTai5AutmEzmVkVPqrTgiNHUDlfVABmJmZib1792LhwoVo3769fPu9e/cwatQo%2BVw4NTW1Uo1Xs2ZNPHnyRGFbdHS0vFhTV1dHZmamfF9%2BF%2B9jtGzZEoaGhvLLqBR0584dfPPNN9i1axeeP3%2BObdu2YefOnfLOoq%2BvL%2B7duwcAuHv3Luzt7TF06FAkJydjx44dmDx5snzuobKKW4U8Pj5Z0KUEcnJyJbU0QUFSzSbVXIB0s0k1FyDdbFLNBUg3m1RzAdLNJtVcH4IFoPI%2BaCJAREQE1NTU4OTkBHNzc/lHx44d0aBBgw9eEqZPnz6IjIzEkSNHkJOTg9u3b2P9%2BvXo06cPAMDCwgIXL15EbGwsMjIysGrVqlIXl8Db7ltycrL833PmzEFQUBC2b9%2BO1NRU5OTk4OLFi5g4cSK6desGKysrJCcnQ11dHbq6usjLy8Pp06exb98%2ByGQyAG/nN86YMQMJCQkwMDCAgYEBKlWqBG1t7Q/63omIiIjE8kEdwB07dsDJyanYlaZdXV3xv//974MKtBYtWmDFihVYtWoVfvjhBxgZGcHNzQ0jR46Uj3njxg306tUL2traGDJkSLGHb0vSt29fBAQE4MaNG/Dz84OTkxOMjIwQEhKCwMBAZGZmonr16ujTpw%2BGDRsGAOjduzcuXboER0dHaGhooF69ehgyZAi2b9%2BOrKwsTJkyBfPnz4ejoyMyMzNRr149rF69Gjo6OqXORURERB%2BPHUDl/aevBPJfwSuBiEequQDpZpNqLkC62aSaC5BuNqnmAqSb7b90JZCJE8tm3BUrymZcKeK1gImIiEilsAOoPBaAREREpFJYACpP9VeDJCIiIqIPwg4gERERqRR2AJXHDiARERFRBcMOIBEREakUdgCVxwKQiIiIVAoLQOXxEDARERFRBcMOIBEREakUdgCVxwKQiIiIVAoLQOXxEDARERFRBcMOIBEREakUdgCVxw4gERERUQXDDqAKMN23S5iBjI0BFxcYnTgGJCQoPVy88wABQpUNU%2B%2BZwgxUuzYwaxaMglcC0dGCDHlh2GpBxqlUCTAyAp4900damiBDCqIscrW1VhNmICsr4PJlGHX5ErhyRZgxhVAGueLj3ggyTkVialZZmIGE/n2OGaP8GECZvJ5htTCvZx%2BKHUDlsQAkIiIilcICUHk8BExERERUwbADSERERCqFHUDlsQNIREREVMGwA0hEREQqhR1A5bEAJCIiIpXCAlB5PARMREREVMGwA0hEREQqhR1A5bEDSERERFTBsANIREREKoUdQOWxACQiIiKVwgJQeTwETERERFTBsANIREREKoUdQOWxA0hERERUwbADSERERCqFHUDlqVwH0N7eHs2aNYOVlZXCx/Dhw5UaNyoqCg0bNpTfbtiwIaKiohTuExYWhmbNmmHHjh1KfS0iIiL6eLm5ZfNRkahkB3DevHlwcXEp16%2B5bt06rFmzBitXroSdnV25fm0iIiIiIalkAVgSd3d3WFtbw9PTEwDw9OlTdOnSBb/%2B%2Bitq1aqFly9fYsmSJTh79izU1NRgb2%2BPGTNmwMDAoMQx8/LysHDhQhw5cgRbtmxBs2bN5PsaNmyI%2BfPnIyQkBC9evEC7du0wfvx4LFiwAHfv3kW9evXg7%2B%2BPOnXqlPp7iIuLQ3x8vMI2UwBmxsYf9sMojqGh4mclaWoK10DW0FBX%2BKy02rWFGadaNcXPAqhUSZhxdHUVP0tFmeSyshJmHEtLxc9SUQa5hHp%2BCv7cFEiZ5JLq35lUX8%2Bio4UZ5yNUtG5dWfhPFYDvkpubi7Fjx6Ju3bo4duwYZDIZZs2aBS8vL/j7%2Bxf7GJlMhqlTp%2BLXX3/FwYMHUbuYJ2FERARCQ0ORlZUFR0dHjB07Fps2bUL16tUxYsQIBAcHY/HixaXOGRoaiqCgIIVt48eNg6eQHU97e0GGMRJkFEWVK%2BsJM9CsWcKMk0/JKQYFNRFspLcsLAQeUCCC5rp8WcDBAEh1GoeAuYR%2Bfgr23BSYoLkqyt%2BZUK9nY8cKMw6JQiULwHnz5mHRokUK206fPv3Ox9y8eRO3bt3Cpk2boK%2BvDwCYOXMmunfvjrlz5xb7mLlz56J69erQ0dFBeHg4Jk6cWOQ%2BgwcPhuE/HbX69eujcePGsPjnfz5bW1tcunTpg743V1dX2Bcq0EzPnAHCwz9onGIZGr4t/iIjgVevlB4uya6b8pn%2BoaGhjsqV9fDmTTpycpR/a2cUvFKAVHj7Tnn4cCAkBIiNFWTIW72EKU51dd8WWQ8fAhkZggwpiLLI1cS9lTADWVq%2B/U954EDgzh1hxhRCGeRK%2BvU3QcYR%2BrkplLLIZdTlS0HGEfz32a%2Bf8mMAZfJ6JhZV7ACmpaXB19cXkZGRyM7ORpcuXeDt7S2vSQry8vJCRESEwraMjAy0b98eGzduRG5uLlq3bo28vDyoqanJ7/PHH3%2BgUikPM6lkAejt7f3BcwCfPn2KnJwcdOrUSWG7trY2oktoY7do0QJLly7FmTNnMGbMGDRq1AgODg4K9zEscDhVQ0MDVapUkd9WV1dHXl7eB%2BU0MzODmZmZ4sYzZ4CEhA8a551evRJkvOxs4Z%2BBOTm5wowr9KGJ2FjBxkxLE2QYuYwM4ccUgqC5rlwRaKB/3Lkj/JhCEDCX0M9PwZ6bAhM0l1T/zmxtlR%2BjIAFfz8SiigWgr68vnj9/jmPHjiEnJweTJk2Cn58fvL29i9x3/vz5mD9/vvz277//jqlTp%2BL7778HADx48AAymQyXL1%2BGtrb2R%2BVRyQKwJOrq6pBRtBisAAAgAElEQVTJZPLbSUlJ8n%2Bbm5tDV1cXUVFR0NDQAABkZWUhOjoaderUKbZT5%2BbmBm1tbXTu3BmjRo3CzJkzUadOHYWzhQtW3kRERESFpaenIyIiAlu2bJE3jqZNmwYPDw/MmDEDenolT2VITEzEtGnTMHv2bNSvXx8AcOPGDTRs2PCjiz9ABZeBeRcLCwv89ttvePPmDZKTk7F%2B/Xr5vubNm6NOnTpYsmQJUlNTkZGRgUWLFmHo0KHIycl579gTJ05Ey5YtMW7cOLwS4PApERERfZyyWgYmLi4Ot27dUviIi4srVaaMjAz8/fffJX7IZDI0aNBAfn8LCwtkZGTg8ePH7xzXz88PTZs2Ra9eveTbbty4gczMTPTp0we2trYYNGgQLn/gHNb/VAH43XffwdjYGF26dME333yjMJdOU1MTa9euxcuXL%2BHg4IAOHTrgyZMn2LRpE3R0dN47trq6OpYtW4bs7GxMmjSpVEUjERERqY7Q0FC4uLgofISGhpbqsdeuXYODg0OxH5GRkQCgMD8vv%2BuXmppa4pjR0dE4cOAApk6dqrBdV1cXzZs3x%2BrVq3Hy5EnY29tjxIgRJU5pK47KHQLO/yEWp1q1atiwYYPCNmdnZ/m/zc3NERAQUOxjbWxscPfuXfntgv/OV7VqVZw8ebLE%2B2zdulXhdv5yNERERCScspoDWOyJmKampXps4TqioNu3b2PFihVIT0%2BXn/SRnp4OAO9cii4sLAxWVlZo1KiRwvb8uYD5RowYgfDwcJw6dQqDBw8uVV6VKwCJiIioYiurArDYEzEF8Nlnn0FLSwsPHjxAixYtAAAPHz6ElpYW6tatW%2BLjfv7552KvdBYQEIBu3bqhcePG8m1ZWVmlOqKZ7z91CJiIiIhIavT09PD111/Dz88PiYmJSExMhJ%2BfH3r27AndElbNT0pKwsOHD9G2bdsi%2B%2B7du4eFCxciPj4eWVlZCAoKQkpKCrp27VrqTCwAiYiISKWo4rWAvb29UbduXTg5OaF79%2B6oVasWvLy85PsdHR0RHBwsv/306VMAb6e3FbZ48WJ8%2Bumn%2BOabb2BjY4Pz589j06ZNCkvTvQ8PARMRERGVMQMDA/j6%2BsLX17fY/YcOHVK43axZsxLnFBoaGn7QVcaKwwKQiIiIVIoqLgQtNSwAiYiISKWwAFQe5wASERERVTDsABIREZFKYQdQeewAEhEREVUw7AASERGRSmEHUHksAImIiEilsABUHg8BExEREVUw7ACqgkePhBknM/Pt52fP3n78l61ZI8w4VlbArFnAnj3AlSuCDPmT4WpBxqlRA2jSBDhxQlq/zrLI1XbMGGEGql377ed%2B/QBbW2HGFIJUc1U0Uv07k/DrGVYL83r2odgBVB4LQCIiIlIpLACVx0PARERERBUMO4BERESkUtgBVB47gEREREQVDDuAREREpFLYAVQeC0AiIiJSKSwAlcdDwEREREQVDDuAREREpFLYAVQeO4BEREREFQw7gERERKRS2AFUHgtAIiIiUiksAJXHQ8BEREREFQw7gERERKRS2AFUHjuARERERBUMO4BERESkUtgBVJ7kC0B7e3vEx8dDU/Nt1Ly8PNSpUweDBw9Gv379in3MgQMHsHbtWhw6dEjwPIGBgTh//jy2bt360fmIiIjo47EAVJ7kC0AAmDdvHlxcXAAAWVlZOHnyJGbNmoWkpCSMGjWqyP179eqFXr16STYfERERkZhUbg6gtrY2HBwcMHPmTAQFBSElJQUNGzbEggULYGNjg9GjRyM8PBz29vYAgEGDBsHf319hjH79%2BmHDhg0AgFu3bsHd3R1t27aFg4MDNm/ejLy8PABvu33Dhw9Hnz59YG1tjQsXLnxUPiIiIhJObm7ZfFQkKtEBLE7nzp0xd%2B5cXL58GQDw5MkTnDx5EjKZDMePH5ffr1%2B/fli%2BfDkmTZoEdXV1PHz4EH/%2B%2BSfWrFmD2NhYDBkyBJMnT0ZISAj%2B/vtvjB07Frq6uhgwYAAA4OzZswgJCUHz5s2ho6ODc%2BfOfXC%2Bjh07lvr7iouLQ3x8vMI2Ux0dmBkbl3qMEpmaKn5WkqamcO8fNDTUFT4rzcpKmHEsLRU/C6BGDWHGEfjXKZgyyfVJbWHGqVZN8bNUlEEuoZ6fgj83BVImuWpL9O9Mqq9nV64IMw6JQmULQCMjIwDAq1evAAA9e/aEnp4e9PT0FO7XvXt3LFy4EFFRUWjXrh3Cw8PRqVMnmJiYYP369bCwsMCgQYMAAJ9//jlGjBiBbdu2yQvA2rVro127dkrnK63Q0FAEBQUpbBs/bhw8x4//4AwlcnUVZBgjQUZRVLmy3vvvVBr/vDEQzI4dgg0l4G8SgGC/TsEJm2uWkIMBw4cLO55QBMwl9PNTsOemwATNNUuif2dC5xLq9UxNTZhxPkJF69aVBZUtABMTEwEAxv90xszMzIq9n66uLpycnLBv3z5YW1vjwIED8PX1BQDExMTg1q1baNOmjfz%2Bubm50NDQkN8uadwPzVdarq6u8sPX%2BUz37gUKFYUfxdT07f/KoaFAoS7jx0gaNEz5TP/Q0FBH5cp6ePMmHTk5yj%2Bzjbp8KUAqvH2nvGMHMHAgcOeOIEMGDRemOBX41ymYssg1PnmxMANVq/b2P%2BWQECA2VpgxhVAGuZJGTxBkHKGfm0Ipi1xGwSsFGUfw3%2BeePcqPAZTJ65lYWAAqT2ULwMjISFSqVAktWrQAAKi9451I//794ebmhq5du0JNTQ1ffvm2ODA3N4eNjQ02btwov29SUhJSU1Plt9817ofkKy0zM7OiRef27cCzZx%2BVo1jx8YKMl50t/DMwJydXmHGFPjRx545gYwr5qwQE%2B3UKTtBcr6IFGugfsbFAtMBjCkHAXEI/PwV7bgpM0FxC/00I9fuU8OsZqS5pTeoohaysLBw%2BfBj%2B/v6YPHkyDAwM3vsYS0tL1KtXD4sWLULv3r3lHT4nJydcvXoVBw4cQHZ2NuLi4jB69GgsWbKkXPMRERFR6fEkEOWpRAfQ29tbfthWR0cH9erVw7x589CjR49Sj9G/f394e3ujb9%2B%2B8m01a9bEhg0b4OfnhwULFkBDQwOdO3fG7Nmzyz0fERERUXmRfAEYGRn53vvcvXtX4baLi4t8Xb58rq6ucC1mVrqVlRW2b99e7Lienp7v3VaafERERCScitatKwuSLwCJiIiICmIBqDyVmwNIRERERMphB5CIiIhUCjuAymMHkIiIiKiCYQeQiIiIVAo7gMpjAUhEREQqhQWg8ngImIiIiKiCYQeQiIiIVAo7gMpjB5CIiIiogmEBSERERCpFla8FnJ6eDldXV4SHh7/zfteuXUO/fv1gZWUFe3t77NmzR2H/Tz/9hK5du6Jly5ZwcXHBlStXPigHC0AiIiJSKapaAN6/fx%2BDBg3C1atX33m/169fY9SoUXB2dsaFCxewcOFCLF68GNevXwcAREVFwdfXF0uWLMGFCxfQq1cvjBkzBunp6aXOwgKQiIiIqIydPXsWQ4YMQe/evVGjRo133vfnn3%2BGoaEhBg0aBE1NTbRr1w5OTk7Yvn07AGDPnj1wdHRE69atoaWlhaFDh8LIyAiHDx8udR6eBEJEREQqpay6dXFxcYiPj1fYZmpqCjMzs/c%2BNiMjA7GxscXuMzU1haWlJU6cOAEdHR1s2rTpnWPdv38fDRo0UNj2%2BeefY%2B/evQCABw8eoE%2BfPkX237lz570587EAVAWLFgkyTFxcHEIDA%2BHq6lqqP%2Bb3MRUgU764uDgEBoYIlg15ecqPgQI/s6NHhckFQJjfZv7PLFS4n5lAyibXakFGkf8%2BR4yQ3M9M6FxCPT8Ff24KpExyrZbo35nQuQR8PROLQC/xRQQGhiIoKEhh2/jx4%2BHp6fnex167dg0eHh7F7lu1ahW%2B%2BuqrUudITU2Fnp6ewjZdXV2kpaWVan9p8BBwBRIfH4%2BgoKAi726kQKrZpJoLkG42qeYCpJtNqrkA6WaTai5AutmkmktK8k/OKPjh6upaqsfa2Njg7t27xX58SPEHAHp6esjIyFDYlpGRAX19/VLtLw12AImIiIgAmJmZSaI72qBBA/zxxx8K2x48eID69esDAOrXr4/79%2B8X2d%2BxY8dSfw12AImIiIgkpGvXrnj58iU2b94MmUyGc%2BfOISIiQj7vr2/fvoiIiMC5c%2Bcgk8mwefNmJCQkoGvXrqX%2BGiwAiYiIiETm6OiI4OBgAICRkRFCQkJw9OhR2NjYYM6cOZgzZw5sbW0BAO3atYO3tzd8fHxgbW2NQ4cOYf369TA0NCz119Pw8fHxKYtvhKRJX18f1tbWHzRPoLxINZtUcwHSzSbVXIB0s0k1FyDdbFLNBUg3m1RzVTRDhgxBo0aNFLYNGjQIbdq0kd%2BuVq0a%2Bvbti%2B%2B%2B%2Bw4eHh5F7m9paYnBgwdj9OjR6N%2B/P8zNzT8og1peXlmdS0NEREREUsRDwEREREQVDAtAIiIiogqGBSARERFRBcMCkIiIiKiCYQFIREREVMGwACQiIiKqYFgAEhEREVUwLACJiIiIKhgWgEREREQVDAtAIiIiogpGU%2BwAVHEFBgbCxcUFNWvWFDsKUbmwt7eHmpraO%2B/z66%2B/llMa1XPt2jU8efIEOTk5CtudnZ1FSkSkulgAVgCZmZl4/fo1DA0Noa2tLXYcuZs3b2LdunVo1aoV%2BvTpg27dukFHR0e0PK9evcKmTZsQFRWFpKQkGBsbo3379hgyZAg%2B%2BeQT0XIV5OzsjH379hXZbm9vj8jIyHLP4%2B7u/t6CZsuWLeWURvo8PT3FjlCioKCg995n/Pjx5ZCkeAEBAVi3bh1MTEygpaUl366mpsYCkOgjqOXl5eWJHYLKxqVLl%2BDn54dr164hLy8PGhoasLKywvTp09G8eXOx4wEAEhIScODAAezbtw8xMTHo0aMH%2BvbtW%2B75Xrx4gQEDBkBdXR0dOnSAkZEREhMT8fvvv0NbWxs7d%2B5E1apVyzVTvidPnmDNmjUAgIiICDg5OSnsT0lJwaVLl3DmzJlyzyb1ogGQXtFcWGJiomh/WwW5u7u/c7%2BampqoxXy7du2wfPly2NjYiJbhXaKjoxEcHIyYmBjk5uYq7BPz55aamoorV67g1atXMDY2RosWLVCpUiXR8pB0sAD8j7p06RKGDRsGBwcH2NnZwcjICAkJCYiMjMTJkyexY8cONGrUSOyYCq5evYr58%2Bfjzz//RL169TBw4EC4urpCU7PsG9XTpk2DTCaDv78/NDQ05NtlMhmmTp0KY2NjeHt7l3mOkixduhRJSUnFFoDa2tro0aOHZP9jFIOUi2YAyM7ORmBgILZt24acnBxERERg0qRJCA4OhqmpqSiZpK5Dhw74/fffxY5Ron79%2BkFLSwu2trZQV1ecXi/Wm6ANGzYgKCgIGRkZ8m36%2BvqYMmUKBg0aJEomkg4eAv6PCgwMxJgxYzBmzBiF7U5OTggKCsKaNWuwcuVKkdL9SyaT4cSJE9i/fz9Onz6Nzz//HD/88ANq1qyJNWvW4OzZs6XqMinr7Nmz2Lt3r0LxBwBaWlqYPn06hg0bVuYZ3mXGjBkAgNq1a2Ps2LGiZilOUlIStm7ditjYWHn3QyaT4d69ezhw4EC55/n0009hZGSEpKSkYvdXrVoVAQEB5ZzqX4GBgTh37hxWrFiByZMnw9jYGObm5liwYAFWrFghWq58Dx8%2BxM6dO/HixQv4%2Bvri0KFDGDx4sKiZ7OzscPDgQfTs2VPUHCV58OABzp49C11dXbGjAAD27NmD4OBgzJ49G507d1ZoAgQEBMDExATdunUTOyaJiAXgf9Tt27dLLJw8PDwk8SLq5eWFY8eOAXhbmO7evVuhK1m9enW4ubmVS5a0tDRUr1692H21a9fGq1evyiVHSS5duoTWrVujbdu2uHDhQrH3adu2bTmn%2BtesWbPw%2BPFjVK1aFSkpKahRowZ%2B//13UbsMUi6aIyIisHPnTlSrVg1qamqoVKkSFi9ejK5du4odDX/88Qc8PT1hZ2eHM2fOICMjA6tWrUJaWhpGjRpV7nny55mmpqYiLCwM69atg6GhocJ9pDDP1NLSEi9evEDdunXFjgIA2LFjR5G/qWrVqsHNzQ1VqlTB1q1bWQBWcCwA/6NkMhkMDAyK3Ve5cmWkpqaWc6KiYmJi4OPjgy5duhR7ckr16tXLpfsH4L0nMhSe01PeRo4cicuXL5c4T0tNTQ1//vlnOaf614ULF3D48GHExsZi3bp1CAoKwv79%2B3Hw4EHRMuUbO3Ys4uPjER0dXeTsUbGK5rS0NPm8v/xZOLq6ukUOHYrB398fAQEB6NSpE9q2bYvq1atj3bp1mDRpkigFYMGpDXZ2duX%2B9Utrzpw5GDp0KBwcHFC5cmWFfWIcAn78%2BHGJP6%2BvvvoKCxYsKOdEJDUsAP%2Bj3lfQSGHqZ1JSEr788ssSz0w2NDREhw4dyjmVNF2%2BfBkAcOfOHZGTFE9TUxPVqlWDnp4e7t69CwBwdHTE0qVLRU4GbN%2B%2BHQsWLCjyNy9m0dyyZUsEBQVh8uTJ8ufq1q1b0axZM1HyFPT333%2BjY8eOAP59HWnWrBlev34tSp6SiqeUlBRoa2tLZmWDwMBApKWl4datWwqF/Ptei8uKmppaifOntbW1FeYFUsXEAvA/Ki8vD8%2BfPy%2Bx0JNCARgXFyd2BLn09HR06dKlxP1SerHMyspCYmJika5kjRo1REoE1KxZEzdv3kTTpk2RmpqKxMREaGpqSuLnFhwcjMWLF8PR0VFh%2BRAxzZ49G0OGDMFPP/2E1NRU9OjRA6mpqdi0aZPY0VCjRg1cvnwZrVu3lm%2B7ceNGiVMkysvDhw/h7%2B%2BPVatW4ZdffsHkyZOhr6%2BP1atXK2QVS1RUFH755ReYmJiIHYWoVFgA/kelp6fD3t6%2BxEJPrHelBXXp0gUeHh7o1q0bzMzMFDKV97peixYtKtev97GOHDkCLy8vpKSkIC8vD2pqavLPYh4CHjhwINzd3XHo0CH07NkTQ4YMgaampqjzEvPJZDLJrRNXu3ZtHDp0CCdOnMCzZ89gbm6Ozp07lzhtozx99913GDNmDNzc3CCTybB%2B/Xps3boVU6ZMETXXokWLYGZmhry8PPj7%2B2PChAnQ19fHkiVLsGfPHlGzAYCZmZmo65gWlp2dXezyR/kKT4egiofLwPxHxcTEvPc%2BYl%2BBw97evtjtampqvBpCCXr06AEHBwf07t27yOEdsX%2Bf169fh6WlJdTU1LBp0yakpqZi%2BPDhqFKliqi5Jk6cCDc3N9ja2oqaQ5WcOnUK27dvR0xMDMzNzdG/f3/RTxjo0KEDTpw4gdjYWHTr1g1RUVHQ19dH69at5VMkxLR7925ERETAw8MDVapUUXhDK8YboZJeXwuSwjqYJB4WgP9RqrBAb0mSk5PL/cobJZ1ZW5AUullWVla4cOFCuayNqOpmzZoF4O1i41FRUWjfvn2Rs0cXL14sRjR5oVwcMTu5UmZra4vTp0/jp59%2BQlhYGHbv3o3ExEQ4Ojri7NmzYseDpaVlsdvF7s4TlYT/i/xHRUVFvXO/FA4BW1tb4/z580W229nZ4eLFi%2BWapTRXQZDCi3iTJk3w4MGDEv%2BzEcv9%2B/exdOlSPH78uMjcRLG7ucbGxujRo4eoGQorvGxJYmIitm7dim%2B%2B%2BUakRP/KL5yLI1bBDADt27eHp6cn7ty5gxEjRiA6OhozZsxA586dRctUUEknaIm9ggBRSdgBpHL1999/w8vLC3l5ebh48SLatGmjsD8lJQWvXr3ioYkS%2BPv7Y/fu3ejevXuRyeZidnTd3Nygp6eHr7/%2Bukh3snfv3iKlUi3x8fEYOnQoDh06JGqOwgVgUlISzp07hz59%2BmDu3LkipXp7SbOQkBDo6Ohg1KhRuHPnDvbu3YspU6aIemmzXbt2YcCAAcXue/PmDSZNmoSQkJByTsXrdNP7sQNI5apOnTpwcHBAUlISLl%2B%2BDGtra4X92trapZq7UlFduXIF9evXx8OHD/Hw4UP5drE7unfv3sXp06clcRJDYSV1tLS0tFC1alV07twZLVu2LOdURVWuXBmxsbFixyi2y3fmzBns2LFDhDT/0tfXh6enp/y2paUl5syZg%2BzsbBFTvT05pXr16ujUqZPC9vv372Ps2LGinWzBS0PS%2B7ADSKLZt2%2Bf5M7OjIuLw6pVqxAdHV3kPxa%2BWy5Z9%2B7dsWPHDvnixlLi5eWF8PBwfPXVV6hduzaePXuGn3/%2BGe3bt4eOjg5%2B%2B%2B03LFy4sFwPExc%2BO1Mmk%2BHXX39Famoqtm7dWm45PkSbNm3KfWpGQU%2BePMGqVauKXG7w0aNHOHfunGi5wsLCsHDhQmzbtg2NGzcGABw/fhwzZsxAy5YtsWzZMhgZGYmW7%2BLFi7CysipymUsidgBJNM7Ozrh%2B/ToePXpUZLkasQrDmTNn4vXr1/jyyy8ls2YcADx79uy99xFzHcDBgwdj3Lhx8PDwKHJoWuyTZ54/f47ly5fjq6%2B%2Bkm87deoUdu7ciZUrVyIqKgoLFiwo1wKw8HW4NTQ0YGFhAW9v73LLUFrZ2dk4ePCg6MX97NmzkZeXJ7%2BmbePGjbFv3z4MHTpU1Fx9%2BvRBQkICRo0ahdDQUISFhSE4OBijRo3CxIkTRe/Ojxs3DidPnoSenp6oOUh62AEk0fj7%2B2P9%2BvUwNTVVmDcm5jIwVlZWOH36dLmfhfw%2B%2BWeNFnc1CymsAyjlMyCtra1x7tw5hasz5ObmwtraWt7RatWqlSSWEpGC4s5Q1tDQwOzZs8vt2tzFsbKywsmTJ/Hs2TMsX74ca9euxenTp7F27Vps375dtFz5FixYgLCwMGhra2Pp0qVFDgmLpW/fvpgxY0aR6TZE7ACSaPbv34/g4GDJvFACb68/LIXrsRYm9pm07yPVS9QBQNWqVfHbb78p/J2dPXtWviRMdHR0ua1VOHfuXPj6%2BpbL1/pYhac6qKuro06dOjA1NRUp0Vt6enqoUqUKNDU1ce/ePQBAx44dMXPmTFFz5ZszZw4SExMRFxeHL774Quw4clWqVMGwYcNQq1atIgvuc1pLxcYCkESTlpYmv%2Bao2PIPsfbq1QuzZs3CmDFjihQFYl9qTYpevHgBc3Pzdx6iFvPnBgCenp4YP348HBwcUKtWLcTExOD48ePw8fHBX3/9hSFDhmDw4MHlkuXQoUMKBaCDgwN%2B/vnncvna73PhwgW0bdtWsp2iTz/9FKdOnUKnTp2Qm5uL6OhoaGtri34SSME1RPPPlJ45c6bCmcFiToOwsrKClZWVaF%2BfpIuHgEk006dPx5dffolevXqJHUXyh1jzRUdHIzg4GDExMUXWFxPj3Xz%2BodPCPz%2Bp/dyuXLmC8PBwPH/%2BHDVq1ED//v3RtGlTPH78GA8ePFCYH1iWrKyscOXKFfnttm3blmoR8vJQ%2BDD4ypUrMWHCBBETKYqMjMTkyZNx8OBBREREYPv27dDQ0ED79u2xZMkS0XK9b01OqTwHiApjAUiimTBhAo4fP466desWOXGgvIsZVbh0HgD069cPWlpasLW1LXKoWox1AJ8/f47q1au/8%2BcnhZ%2BbVBQuskpaDF0MhYtTKWXLFxsbC2NjY2hqauLw4cNISUmBs7MztLW1xY4mabt378bWrVsRFxeHn376CUuWLMHixYuhr68vdjQSEQ8Bk2gaNGiABg0aiB0DQNEi5fbt23j69Ck6d%2B6M5ORkGBsbi5RM0YMHD3D27Fno6uqKHQXA2yvOODs7S7rIe9eCuJwD9a/CPyOp9QbevHmDatWqyW/XrFkTLVq0EDGRati8eTN27tyJESNGYOnSpdDX10dsbCwWL16MBQsWiB2PRMQCkEQjxWsRJyQkYNy4cbh58ya0tLSwd%2B9e9O3bFyEhIZKYR2NpaYkXL16gbt26YkcBAMyfP19hyZ5Zs2aJermw4hReEDcpKQlHjx6Fq6truWfJzc3FxYsX5cVVdna2wm1A/GVz8om9fEm%2BnJwcTJs2Dbm5uVixYgUA4OXLl3B1dUX37t2xbNkyUde4e9d1nfOJeQh4586dWL16NSwsLODn54cqVaogMDCQV%2BghFoAkHilec3TRokVo0KABNm3ahI4dO8LCwgKjRo3C0qVLsXPnTlEyFTRnzhwMHToUDg4OqFy5ssI%2BMQrqwl0iKZ6tXNzPxcXFBUuXLi33LBkZGUVOOCl4m/PFitq4cSMePHiAZcuWybeZmJhg3759mDhxIjZv3owRI0aIlk/qXeSkpCR89tlnAP59vhobG4t%2B8gyJjwUgSUbBa46K5dy5czh%2B/Dj09PTk7%2Bq//fZbUa7lWZzAwECkpaXh1q1bCnMAxerWSP2wYUmaNGmCmzdvlvvXlfJyOenp6ejSpYv8dnJyssJtQJwCf//%2B/Vi2bFmR6SKWlpZYuHAhfHx8RC0AC581/fr1a0RHR6Nx48bIzs4WfX6ipaUlQkND4ebmJn%2B%2BHj58GPXr1xc1F4mPBSCJRorXHNXS0kJGRgb09PTkxUxqaqpkJktHRUXhl19%2BKXLSjFRI5bBhQYWXqJHJZDh06BCqV68uUqK3iwbPmTOnyPYZM2aI0pkE3na/pSg2NrbEM21btWqF58%2Bfl3Oi4qWmpsLLywuHDh2Crq4uwsPDMWzYMGzatAn16tUTLdfMmTMxdOhQ7N%2B/H2lpaRg5ciSuXr2KDRs2iJaJpIEFIElK%2B/btRV16wt7eHtOnT8ecOXOgpqaGhIQELFiwQDKLVZuZmUFHR0fsGCrF3t6%2ByBI/VapUKfcJ8LGxsTh79iwAYM%2BePWjatKnC/uTkZPzyyy/lmqkgqc4J09HRKfFNWEZGhugdtnxLly5FWloajhw5gv79%2B6N27dqws7PDwoULsXHjRtFyNWnSBIcOHcKBAwfQqFEjmJubY968eaKvz0ni4zIwJBn51xxdvXp1uS%2BOK5PJoKWlhdTUVMyaNUv%2B9dXU1NCpUyf8%2BOOPkrg83NEDXnQAABKmSURBVO7duxEREQEPDw9UqVJFoeMmxskDhSfA56/9V5DYc9oKL1GjoaEBY2Pjcr/Wc1ZWFgYOHIjExET58jkF6ejooG/fvqIezgTenqhy9OhRPHnypMg8MTHmmU6YMAE2NjYYNGhQkX07d%2B7E8ePHRS2w8nXs2BERERGoUqWKfAmdjIwMdOzYUdTldEJCQuDs7Cz6tZxJetgBJNG865qj5a1z585wc3ODm5sbVq5cicTERDx9%2BhTm5uYwMzMr9zwl8fLyAoAiiweLdfKA1CfAA2%2BXC0lNTcWpU6cQExMDMzMz2NnZlXsBqK2tjb179wIARowYIYmipTje3t44ePAgGjZsqPAzEuvw/rfffoshQ4YgMzMTjo6OMDExQXx8PA4fPozAwECsWrVKlFyF5ebmyruR%2BX2VgtvEcvToUQQEBKBz587o168fvvzyS0lO1aDyxw4giabwu2Ixrzm6e/du7Nq1C/fv30ePHj3g4eGBJk2alHuOj5WbmyvJaxhLwd9//42hQ4dCJpOhRo0aePbsGXJzc/F///d/nAhfjDZt2iA0NBQWFhZiR5E7evQofHx88Pr1a/k2Q0NDzJ49Gz179hQx2b%2BmTZsGLS0teHl5oVOnTjh//jwWLVqEly9fwt/fX9RsDx8%2BRHh4OCIiIqCurg4XFxe4uLigVq1aouYicbEAJFHl5ubi5s2bePr0KczMzNCqVStRC5mrV69i165dOHLkCBo3bgwPDw84ODiIus4YAOzatUvh2qIFvXnzBpMmTRL1TGWpXaKuoNGjR%2BOzzz7D9OnToa6ujtzcXPz444%2B4d%2B%2BeaF248%2BfPw8fHB48fPy5y5rTYh8zt7Ozw66%2B/Su4NRVZWFi5duoSkpCSYmpqiZcuW5d7FfZeEhASMGTMGt2/fRk5ODnR1dVG3bl0EBwcrLGAtptzcXJw4cQILFy7EixcvcPv2bbEjkYhYAJJo4uPjMXr0aNy5cweGhoZISkpC3bp1ERISAnNzc1GzvX79Gnv37sXu3buRmZmJgQMHYtSoUaLlad68OQIDA4ucjHL//n2MHTsWOTk5iIyMFCkd0LdvX2hra0vmEnUFtWvXDqdOnVI4FJeRkYEOHTrg4sWLomTq3bs3LC0t4eTkBE1NxZk4hZcVKW/Lli1DlSpV8O2334qaozApnjldWF5eHm7cuIGYmBiYm5ujefPmor95zHfu3Dns378fx44dQ7169dC/f3/0799f7FgkIhaAJJpp06YhLy8P8%2BfPh76%2BPpKTk%2BHj44Ps7Gz5iv9ie/XqFZYsWYL9%2B/eL2pkJCwvDwoULsW3bNjRu3BgAcPz4ccyYMQMtW7bEsmXLYGRkJFo%2BKysrSV2irqAOHTrgwIEDCpPgX758id69e%2BO3334TJZOVlRXOnTsnqTO688%2BWzs7ORmxsLD755JMii42X9zqABc%2Bc9vb2xrx58xT2Jycnw9/fX%2BEaxmIpvNxQQWKecRsQEICIiAikpqaiZ8%2Be6NevX4nL6lDFwpNASDTnzp3D0aNH5cs7fPLJJ/Dx8Smy%2BKwYoqKisHv3bhw/fhytW7dGUFCQqHn69OmDhIQEjBo1CqGhoQgLC0NwcDBGjRqFiRMnij6pW2qXqCvIzs4OU6dOxdy5c1GrVi1ER0djwYIFsLOzEy1T3bp1ERcXh9q1a4uWoTBPT0%2BxIxRhZGSEbdu2ITExEVlZWVi5cqXCfh0dHdE7zPnyC%2BjiiPnm8dKlS5g4cSK6d%2B8uqTccJD52AEk07du3xy%2B//KKwvldKSgq6deuGP/74o9zzJCQkIDw8HHv37kV8fDx69eoFd3d3SU2GX7BgAcLCwqCtrY2lS5dKZn3CW7duYdy4cZK5RF1Br169gqenJy5cuCBfDzB/aZ/CWcvLunXrEBYWhr59%2BxY56angtZWl4OHDhzAwMBB9HpuUz5wGii43lJiYiA0bNqBLly7o1auXSKmISsYCkEQzefJkaGpqYt68eahUqRJSU1Ph7e2NnJwcBAQElGsWT09PnDhxAjVq1MDAgQPRt29fGBgYlGuG0poyZQri4uKwefPmIvPHxDJ69GhcvnwZ9evXL3KJOrFPAskXHR2NhIQE1KxZU5QzzQuyt7cvdruampro11O%2BfPky5s%2Bfj3379mHXrl3w8fGBpqYmli9fjq%2B%2B%2BkrUbKomOTkZvXv3xvHjx8v9azs5OSEiIuKdnUmx/9ZIXNL434MqpOnTp2PYsGGwtraGoaEhXr16BQsLC6xbt67cs6SlpSEoKAidOnUS/XBqcQqu%2B9enTx/MnTsXM2fOVDgzWIyFoPNJ/RJ1AFC7dm2kpKTgwIEDaNOmDVq0aCFaFjFP2HmfZcuWoXPnzsjLy8PatWuxZMkSGBoaYtmyZaIWgFI%2Bc/pd3rx5I8rXzT9pTYqH9kka2AEkUeTl5SE6Oho1atTAxYsXkZCQgJiYGIwYMUIyZ81JyfsmbYu1EHS%2Bbt26Ye/evZK4Wkq%2BFy9eYPr06bh58ya6d%2B%2BO/v37w93dHfr6%2BkhJSUFAQAAcHBxEyVZ4Ie%2BCxCzkgbdnTZ85cwZ//fUXnJ2dcenSJWhra8PKykrUky2kfOY0gCLzhGUyGX777TeYmJiI8qY235gxY/Djjz9K9ogGiYcdQCp3aWlpGD58OExMTBAUFARbW1skJCTAzs4OJ0%2BexIYNG1CpUiWxY0rKnTt3xI7wTiNGjMDYsWMlc4k6AJg/fz4MDAzg7%2B%2BPgwcP4rvvvsOUKVMwfPhwhIWFYd26daIVgO7u7kW2qauro3r16qIfltPQ0EBqaipOnz6Nli1bQltbGzExMaIXEI8fP8auXbskeyJDVFSUwm0NDQ1YWVnhu%2B%2B%2BEynRW1euXBH9aiQkTewAUrlbtmwZrl69iuXLl8PY2Fi%2BPX8h1Xbt2mHy5MkiJqQPVVKHUszOpI2NDSIjI6Gvr4/Xr1/DxsYG169fh7a2NnJycmBjYyPaOoCFJSYmYtWqVahZsyaGDx8uahYfHx9cvXoVMTExmDNnDpo0aYJx48bB3t4eM2fOFC1X7969sXLlSkmdOQ0UPTklIyNDUsshLViwAE%2BfPkXPnj1hZmYmiTdnJA0sAKncOTg4YP369ahTp06RfX/%2B%2BScmTZqEY8eOiZCMhCbmJeoKH7Js06aNQsHXunVrXLp0SYxoxcrIyEC3bt1w6tQpUXPk5ORg//790NXVRY8ePfD48WOcOHECHh4eok7PkOqZ061atcLly5flt62trYtc5lJMUnxzRtLAQ8BU7hISEoot/gCgUaNGiI%2BPL%2BdE9LGkfIm6wifzFC5Epfbe9/Xr18jMzBQ7BjQ0NODi4iK/XbduXQwbNgyJiYkKi2mXt127dgEAdu7cqbBdTU1NUkvnSO3v6uLFi7hy5Qpev34NY2NjtGjRglNsCAALQBKBgYEBkpKSir1yxatXr6CnpydCKvoYixYtQvXq1d95iTqx5Obm4uLFi/L/kLOzsxVuF75mcXmaNWuWwm2ZTIZLly6hffv2IiX617Vr1/Djjz8iNjZW/jOSyWRITEzEzZs3Rcsl5TOnC5LSKgIbNmxAUFAQMjMzkZeXBzU1NVSqVAlTpkzBoEGDxI5HImMBSOWuXbt22L59e7ELBO/YsQMtW7YUIRV9DG9vb0yePPmdl6gTS0ZGBgYPHqywreBtKf1HraOjA3d3d7i6uoodBb6%2Bvqhduzbq16%2BP6OhofPHFF9iyZQumTp0qai4pnzktRXv27EFwcDBmz56Nzp07w8jICAkJCYiMjERAQABMTEzQrVs3sWOSiDgHkMrdo0eP4OLiAhcXF/To0QOmpqaIi4vDkSNHEBYWhm3btqFp06Zix6RSWrduHbZs2SLJS9TRh2vRogWioqLw9OlTLFy4EJs2bcLVq1cxf/58hIeHi5aruLlsUjhzunnz5pg/f7789rx58%2BDt7a1wHzEOUffu3Rtjx45F165di%2Bw7fPgwduzY8f/t3U9IVG0fxvFLRZGKilSKSgwhiQhrAkkQtRKpRUqWTagQlKAIRW0Mg1QIxEVE4aJ/KDYmlovUFCHQoLIsSSqSciG0UEbIRPuDYDras4gkS5/3fcvX%2B56Z72d3PIv5LS/POdf9U21t7aLPBXsQAGHEixcvVFpaqr6%2Bvpn1XDExMSouLua/eS9k64o6m7lcLtXX18vtdisiIkKZmZnKz883HpoTExPV0dGhr1%2B/KiUlRY8fP5b0vVX961EnJtnSnJ5vq8sPpra7OBwOPX/%2BfM5tQRMTE9q5c6c6OzsXfS7Yg1fAMGL79u1qaWnRwMCARkZGFBERobVr15oeC3/o7NmzGhkZ0dDQkBISEkyPI%2Bn7E6P/FKZMtSBdLpeqq6uVl5en9evXq7%2B/X5WVlQoMDJzZ4GBKdHS0bt26paysLC1ZskS9vb0KCQkxHkx/tWrVKhUWFmrPnj1GA6Ct3yYGBATMuyoyJCRE4%2BPjizwRbEMAhFGRkZHWneuF/57NK%2Bps2UE8l9u3b%2Bvy5csz301K3/8pOnHihPEAePLkSRUUFCghIUG5ublyOp0KCgpSVlaW0bnmYktzGvBGBEAAf2yujRaDg4NqbW2VZPassV/Xg3369EkDAwPavHmzPB6P0e0IQ0NDv33TtmnTJn38%2BNHQRN99%2B/ZN4eHhevTokYKDg3X48GF9%2BPBBDofD%2BJNdm5vTNvJ4PGpqapr3vsmGPuxAAATwx2xfUSdJY2NjKikpUWtrq0JDQ9XQ0KCjR4%2Bqurpa0dHRRmaKiopSW1vbrBZmW1vbvOdjLoZfVzRK38/svH79urZs2SKHw2HV%2BXE2NadtFB4eroqKinnv/7yFCf6JEggAn1ZaWqqhoSGdPn1aTqdTnZ2dKisr08DAwKwVXoupvb1dp06dUmpqqiIjI9Xf36/79%2B%2BroqJCu3btMjITKxoB/0IABODTkpKS1NLSohUrVsys6RofH1dSUpLRlV3Pnj1TY2OjhoeHtW7dOmVmZio2NtbYPN6wotHW5jTgjXgFDMCnTU9Pz3zv9/MWEJPfAEpSfHy84uPjjc7wM9tXNNrcnAa8EQEQgE%2BLj4/XuXPnVFJSMvOk6NKlS7%2BVRBZTT0%2BPLly4ILfb/dtKOlOHGtu%2BotHm5jTgjQiAAHzamTNnVFBQoLi4OE1NTcnhcGjDhg26evWq0Zk2btyotLQ0BQYGGpvjZ7avaLS1OQ14KwIgAJ8WFham%2Bvp69fT0yO12a82aNYqNjVVQUJCxmdxutxobGxUcHGxshl/l5%2BfrwIEDGh0dnXdFo0k2NqcBb0YJBIBPGxwcnPeeqe0zeXl5On78uNHSx1xsXtFoY3Ma8GYEQAA%2B7d9Wwpk6pPrt27c6cuSIduzYoeXLl8%2B6V15ebmSmn9m6otG25jTgzQiAAHya2%2B2edT0yMqLKykqlpKQoPT3dyEw5OTkaHh7W1q1bf3sVbUMABOD7CIAA/M6XL1%2BUkZGh9vZ2I7%2B/bds2PXnyREuXLjXy%2B97IxuY04M0ogQDwS58/fzb221FRURobGyMA/g9sbE4D3owACMCn/dhr%2B8Pk5KQ6OjqMHmuSkZGhY8eO6eDBg1q5cuWsbxT3799vbC6b2dicBrwZARCAT%2Bvq6pp1HRQUJIfDofz8fEMTSTU1NZKkmzdvzvr76OgoAXAecXFx6u3tpfQBLBC%2BAQTgk3Jzc1VVVTVzPT4%2BrtDQUIMTze/du3e6ceOGmpub9erVK9PjWMn25jTgbfiQAoBPevny5azrpKQkQ5PMr7u7WwUFBdq3b59ev36twsJC0yNZq6ysTGFhYXw3CSwQXgED8Au2vOyYnp7WvXv3VF1drb6%2BPnk8Hl27dk2JiYmmR7PamzdvaE4DC4gngAD8wnyHQS8ml8ul1NRUnT9/XqmpqXrw4IGWLVummJgY06NZ70dzGsDC4AkgACyS8vJyZWdnq6ioSCEhIabH8So0p4GFRQAE4JM8Ho%2BamppmricnJ2ddS4sfHIqLi1VXV6fk5GQ5nU5lZ2db8WTSG9CcBhYWLWAAPmn37t3/ej8gIMDYBomnT5%2BqtrZWHR0dmpqaUllZmdLS0n5bC4f50ZwG/g4BEAAMcbvdqqur0507dxQYGKj09HQVFRWZHstq3d3dqqqq0sOHDxUTE6NDhw4pJyfH9FiA1yEAAoBhExMTam5uVl1dnRoaGkyPY525mtNXrlyhOQ38BQIgAMBaLpdLNTU1mp6eVlZWlpxOp/bu3au7d%2B9q9erVpscDvBYlEACAtWhOA/8fnAMIALBWcXGxurq6lJycrIsXL%2Br9%2B/c0p4EFwCtgAID1aE4DC4sACADwGjSngYVBAAQAeB2a08DfIQACAAD4GUogAAAAfoYACAAA4GcIgAAAAH6GAAgAAOBnCIAAAAB%2BhgAIAADgZwiAAAAAfoYACAAA4Gf%2BAfTu6qtmjtcgAAAAAElFTkSuQmCC\" class=\"center-img\">\n",
       "</div>\n",
       "    <div class=\"row headerrow highlight\">\n",
       "        <h1>Sample</h1>\n",
       "    </div>\n",
       "    <div class=\"row variablerow\">\n",
       "    <div class=\"col-md-12\" style=\"overflow:scroll; width: 100%%; overflow-y: hidden;\">\n",
       "        <table border=\"1\" class=\"dataframe sample\">\n",
       "  <thead>\n",
       "    <tr style=\"text-align: right;\">\n",
       "      <th></th>\n",
       "      <th>ID</th>\n",
       "      <th>Date</th>\n",
       "      <th>Country</th>\n",
       "      <th>VehID</th>\n",
       "      <th>Destination</th>\n",
       "      <th>KmInit</th>\n",
       "      <th>KmFinal</th>\n",
       "      <th>FuelBought</th>\n",
       "      <th>AmountFuel</th>\n",
       "      <th>CashFuel</th>\n",
       "      <th>AmountCash</th>\n",
       "      <th>FuelKm</th>\n",
       "      <th>DriverID</th>\n",
       "    </tr>\n",
       "  </thead>\n",
       "  <tbody>\n",
       "    <tr>\n",
       "      <th>0</th>\n",
       "      <td>30</td>\n",
       "      <td>1/11/2008</td>\n",
       "      <td>1.0</td>\n",
       "      <td>12</td>\n",
       "      <td>NaN</td>\n",
       "      <td>67029</td>\n",
       "      <td>67429</td>\n",
       "      <td>0.0</td>\n",
       "      <td>0</td>\n",
       "      <td>0</td>\n",
       "      <td>0</td>\n",
       "      <td>0</td>\n",
       "      <td>1</td>\n",
       "    </tr>\n",
       "    <tr>\n",
       "      <th>1</th>\n",
       "      <td>31</td>\n",
       "      <td>1/14/2008</td>\n",
       "      <td>1.0</td>\n",
       "      <td>12</td>\n",
       "      <td>NaN</td>\n",
       "      <td>67429</td>\n",
       "      <td>67848</td>\n",
       "      <td>0.0</td>\n",
       "      <td>0</td>\n",
       "      <td>0</td>\n",
       "      <td>0</td>\n",
       "      <td>0</td>\n",
       "      <td>1</td>\n",
       "    </tr>\n",
       "    <tr>\n",
       "      <th>2</th>\n",
       "      <td>32</td>\n",
       "      <td>1/14/2008</td>\n",
       "      <td>1.0</td>\n",
       "      <td>12</td>\n",
       "      <td>NaN</td>\n",
       "      <td>67848</td>\n",
       "      <td>67850</td>\n",
       "      <td>0.0</td>\n",
       "      <td>0</td>\n",
       "      <td>0</td>\n",
       "      <td>0</td>\n",
       "      <td>0</td>\n",
       "      <td>1</td>\n",
       "    </tr>\n",
       "    <tr>\n",
       "      <th>3</th>\n",
       "      <td>33</td>\n",
       "      <td>1/17/2008</td>\n",
       "      <td>1.0</td>\n",
       "      <td>12</td>\n",
       "      <td>NaN</td>\n",
       "      <td>67850</td>\n",
       "      <td>68072</td>\n",
       "      <td>0.0</td>\n",
       "      <td>0</td>\n",
       "      <td>0</td>\n",
       "      <td>0</td>\n",
       "      <td>0</td>\n",
       "      <td>1</td>\n",
       "    </tr>\n",
       "    <tr>\n",
       "      <th>4</th>\n",
       "      <td>34</td>\n",
       "      <td>1/19/2008</td>\n",
       "      <td>1.0</td>\n",
       "      <td>12</td>\n",
       "      <td>NaN</td>\n",
       "      <td>68072</td>\n",
       "      <td>68186</td>\n",
       "      <td>0.0</td>\n",
       "      <td>0</td>\n",
       "      <td>0</td>\n",
       "      <td>0</td>\n",
       "      <td>0</td>\n",
       "      <td>1</td>\n",
       "    </tr>\n",
       "  </tbody>\n",
       "</table>\n",
       "    </div>\n",
       "</div>\n",
       "</div>"
      ],
      "text/plain": [
       "<pandas_profiling.ProfileReport at 0x2797f6da488>"
      ]
     },
     "execution_count": 11,
     "metadata": {},
     "output_type": "execute_result"
    }
   ],
   "source": [
    "pandas_profiling.ProfileReport(df.reset_index(drop=True))"
   ]
  },
  {
   "cell_type": "markdown",
   "metadata": {},
   "source": [
    "## Prepare training and testing datasets\n",
    "\n",
    "Prepare training and testing datasets after data engineering processes."
   ]
  },
  {
   "cell_type": "code",
   "execution_count": 12,
   "metadata": {
    "ExecuteTime": {
     "end_time": "2020-03-06T01:50:10.583544Z",
     "start_time": "2020-03-06T01:50:10.559790Z"
    }
   },
   "outputs": [],
   "source": [
    "train_set, test_set = train_test_split(df, test_size=0.2, random_state=42)"
   ]
  },
  {
   "cell_type": "code",
   "execution_count": 13,
   "metadata": {
    "ExecuteTime": {
     "end_time": "2020-03-06T01:50:10.635547Z",
     "start_time": "2020-03-06T01:50:10.587540Z"
    }
   },
   "outputs": [
    {
     "data": {
      "text/html": [
       "<div>\n",
       "<style scoped>\n",
       "    .dataframe tbody tr th:only-of-type {\n",
       "        vertical-align: middle;\n",
       "    }\n",
       "\n",
       "    .dataframe tbody tr th {\n",
       "        vertical-align: top;\n",
       "    }\n",
       "\n",
       "    .dataframe thead th {\n",
       "        text-align: right;\n",
       "    }\n",
       "</style>\n",
       "<table border=\"1\" class=\"dataframe\">\n",
       "  <thead>\n",
       "    <tr style=\"text-align: right;\">\n",
       "      <th></th>\n",
       "      <th>ID</th>\n",
       "      <th>Date</th>\n",
       "      <th>Country</th>\n",
       "      <th>VehID</th>\n",
       "      <th>Destination</th>\n",
       "      <th>KmInit</th>\n",
       "      <th>KmFinal</th>\n",
       "      <th>FuelBought</th>\n",
       "      <th>AmountFuel</th>\n",
       "      <th>CashFuel</th>\n",
       "      <th>AmountCash</th>\n",
       "      <th>FuelKm</th>\n",
       "      <th>DriverID</th>\n",
       "    </tr>\n",
       "  </thead>\n",
       "  <tbody>\n",
       "    <tr>\n",
       "      <th>8</th>\n",
       "      <td>39</td>\n",
       "      <td>1/26/2008</td>\n",
       "      <td>1.0</td>\n",
       "      <td>12</td>\n",
       "      <td>Nakuru - IDP Camps within  Nakuru</td>\n",
       "      <td>68737</td>\n",
       "      <td>69389</td>\n",
       "      <td>0.0</td>\n",
       "      <td>0</td>\n",
       "      <td>0</td>\n",
       "      <td>0</td>\n",
       "      <td>0</td>\n",
       "      <td>1</td>\n",
       "    </tr>\n",
       "    <tr>\n",
       "      <th>1</th>\n",
       "      <td>31</td>\n",
       "      <td>1/14/2008</td>\n",
       "      <td>1.0</td>\n",
       "      <td>12</td>\n",
       "      <td>NaN</td>\n",
       "      <td>67429</td>\n",
       "      <td>67848</td>\n",
       "      <td>0.0</td>\n",
       "      <td>0</td>\n",
       "      <td>0</td>\n",
       "      <td>0</td>\n",
       "      <td>0</td>\n",
       "      <td>1</td>\n",
       "    </tr>\n",
       "  </tbody>\n",
       "</table>\n",
       "</div>"
      ],
      "text/plain": [
       "   ID       Date  Country  VehID                        Destination  KmInit  \\\n",
       "8  39  1/26/2008      1.0     12  Nakuru - IDP Camps within  Nakuru   68737   \n",
       "1  31  1/14/2008      1.0     12                                NaN   67429   \n",
       "\n",
       "   KmFinal  FuelBought  AmountFuel  CashFuel  AmountCash  FuelKm  DriverID  \n",
       "8    69389         0.0           0         0           0       0         1  \n",
       "1    67848         0.0           0         0           0       0         1  "
      ]
     },
     "execution_count": 13,
     "metadata": {},
     "output_type": "execute_result"
    },
    {
     "data": {
      "text/html": [
       "<div>\n",
       "<style scoped>\n",
       "    .dataframe tbody tr th:only-of-type {\n",
       "        vertical-align: middle;\n",
       "    }\n",
       "\n",
       "    .dataframe tbody tr th {\n",
       "        vertical-align: top;\n",
       "    }\n",
       "\n",
       "    .dataframe thead th {\n",
       "        text-align: right;\n",
       "    }\n",
       "</style>\n",
       "<table border=\"1\" class=\"dataframe\">\n",
       "  <thead>\n",
       "    <tr style=\"text-align: right;\">\n",
       "      <th></th>\n",
       "      <th>ID</th>\n",
       "      <th>Date</th>\n",
       "      <th>Country</th>\n",
       "      <th>VehID</th>\n",
       "      <th>Destination</th>\n",
       "      <th>KmInit</th>\n",
       "      <th>KmFinal</th>\n",
       "      <th>FuelBought</th>\n",
       "      <th>AmountFuel</th>\n",
       "      <th>CashFuel</th>\n",
       "      <th>AmountCash</th>\n",
       "      <th>FuelKm</th>\n",
       "      <th>DriverID</th>\n",
       "    </tr>\n",
       "  </thead>\n",
       "  <tbody>\n",
       "    <tr>\n",
       "      <th>5</th>\n",
       "      <td>36</td>\n",
       "      <td>1/22/2008</td>\n",
       "      <td>1.0</td>\n",
       "      <td>12</td>\n",
       "      <td>NaN</td>\n",
       "      <td>68186</td>\n",
       "      <td>68418</td>\n",
       "      <td>110.220001</td>\n",
       "      <td>8500</td>\n",
       "      <td>0</td>\n",
       "      <td>0</td>\n",
       "      <td>68190</td>\n",
       "      <td>1</td>\n",
       "    </tr>\n",
       "    <tr>\n",
       "      <th>0</th>\n",
       "      <td>30</td>\n",
       "      <td>1/11/2008</td>\n",
       "      <td>1.0</td>\n",
       "      <td>12</td>\n",
       "      <td>NaN</td>\n",
       "      <td>67029</td>\n",
       "      <td>67429</td>\n",
       "      <td>0.000000</td>\n",
       "      <td>0</td>\n",
       "      <td>0</td>\n",
       "      <td>0</td>\n",
       "      <td>0</td>\n",
       "      <td>1</td>\n",
       "    </tr>\n",
       "    <tr>\n",
       "      <th>7</th>\n",
       "      <td>38</td>\n",
       "      <td>1/24/2008</td>\n",
       "      <td>1.0</td>\n",
       "      <td>12</td>\n",
       "      <td>Nakuru - Mogotio - Nakuru</td>\n",
       "      <td>68501</td>\n",
       "      <td>68737</td>\n",
       "      <td>0.000000</td>\n",
       "      <td>0</td>\n",
       "      <td>0</td>\n",
       "      <td>0</td>\n",
       "      <td>0</td>\n",
       "      <td>1</td>\n",
       "    </tr>\n",
       "    <tr>\n",
       "      <th>2</th>\n",
       "      <td>32</td>\n",
       "      <td>1/14/2008</td>\n",
       "      <td>1.0</td>\n",
       "      <td>12</td>\n",
       "      <td>NaN</td>\n",
       "      <td>67848</td>\n",
       "      <td>67850</td>\n",
       "      <td>0.000000</td>\n",
       "      <td>0</td>\n",
       "      <td>0</td>\n",
       "      <td>0</td>\n",
       "      <td>0</td>\n",
       "      <td>1</td>\n",
       "    </tr>\n",
       "    <tr>\n",
       "      <th>9</th>\n",
       "      <td>74</td>\n",
       "      <td>1/6/2008</td>\n",
       "      <td>NaN</td>\n",
       "      <td>35</td>\n",
       "      <td>NaN</td>\n",
       "      <td>49180</td>\n",
       "      <td>49219</td>\n",
       "      <td>34.380001</td>\n",
       "      <td>3015</td>\n",
       "      <td>0</td>\n",
       "      <td>0</td>\n",
       "      <td>49200</td>\n",
       "      <td>202</td>\n",
       "    </tr>\n",
       "  </tbody>\n",
       "</table>\n",
       "</div>"
      ],
      "text/plain": [
       "   ID       Date  Country  VehID                Destination  KmInit  KmFinal  \\\n",
       "5  36  1/22/2008      1.0     12                        NaN   68186    68418   \n",
       "0  30  1/11/2008      1.0     12                        NaN   67029    67429   \n",
       "7  38  1/24/2008      1.0     12  Nakuru - Mogotio - Nakuru   68501    68737   \n",
       "2  32  1/14/2008      1.0     12                        NaN   67848    67850   \n",
       "9  74   1/6/2008      NaN     35                        NaN   49180    49219   \n",
       "\n",
       "   FuelBought  AmountFuel  CashFuel  AmountCash  FuelKm  DriverID  \n",
       "5  110.220001        8500         0           0   68190         1  \n",
       "0    0.000000           0         0           0       0         1  \n",
       "7    0.000000           0         0           0       0         1  \n",
       "2    0.000000           0         0           0       0         1  \n",
       "9   34.380001        3015         0           0   49200       202  "
      ]
     },
     "execution_count": 13,
     "metadata": {},
     "output_type": "execute_result"
    }
   ],
   "source": [
    "test_set.head()\n",
    "train_set.head()"
   ]
  },
  {
   "cell_type": "code",
   "execution_count": 14,
   "metadata": {
    "ExecuteTime": {
     "end_time": "2020-03-06T01:50:10.651550Z",
     "start_time": "2020-03-06T01:50:10.635547Z"
    }
   },
   "outputs": [
    {
     "data": {
      "text/plain": [
       "(8, 13)"
      ]
     },
     "execution_count": 14,
     "metadata": {},
     "output_type": "execute_result"
    },
    {
     "data": {
      "text/plain": [
       "(2, 13)"
      ]
     },
     "execution_count": 14,
     "metadata": {},
     "output_type": "execute_result"
    }
   ],
   "source": [
    "train_set.shape\n",
    "test_set.shape"
   ]
  },
  {
   "cell_type": "markdown",
   "metadata": {},
   "source": [
    "# Visualize the Data to Gain Insights\n",
    "\n",
    "After you get a general understanding of the kind of data you are manipulating, the next step is to go into a little more depth to gain some insights from the data and figure out the solution breakouts."
   ]
  },
  {
   "cell_type": "code",
   "execution_count": 15,
   "metadata": {
    "ExecuteTime": {
     "end_time": "2020-03-06T01:50:11.091462Z",
     "start_time": "2020-03-06T01:50:10.655552Z"
    }
   },
   "outputs": [
    {
     "data": {
      "text/plain": [
       "<matplotlib.axes._subplots.AxesSubplot at 0x2797f6dac08>"
      ]
     },
     "execution_count": 15,
     "metadata": {},
     "output_type": "execute_result"
    },
    {
     "data": {
      "text/plain": [
       "<matplotlib.axes._subplots.AxesSubplot at 0x2797f6dac08>"
      ]
     },
     "execution_count": 15,
     "metadata": {},
     "output_type": "execute_result"
    },
    {
     "data": {
      "text/plain": [
       "<matplotlib.axes._subplots.AxesSubplot at 0x2797f6dac08>"
      ]
     },
     "execution_count": 15,
     "metadata": {},
     "output_type": "execute_result"
    },
    {
     "data": {
      "text/plain": [
       "Text(0.5, 0, 'AmountFuel')"
      ]
     },
     "execution_count": 15,
     "metadata": {},
     "output_type": "execute_result"
    },
    {
     "data": {
      "text/plain": [
       "Text(0, 0.5, 'Density')"
      ]
     },
     "execution_count": 15,
     "metadata": {},
     "output_type": "execute_result"
    },
    {
     "data": {
      "text/plain": [
       "Text(0.5, 1.0, 'Density Plot of AmountFuel by Country')"
      ]
     },
     "execution_count": 15,
     "metadata": {},
     "output_type": "execute_result"
    },
    {
     "data": {
      "image/png": "[encoded data removed]",
      "text/plain": [
       "<Figure size 800x550 with 1 Axes>"
      ]
     },
     "metadata": {},
     "output_type": "display_data"
    }
   ],
   "source": [
    "# for example, plot KmFinal based on country\n",
    "# Stops distribution by Country\n",
    "sns.kdeplot(df.loc[df['Country'] == 1, 'KmFinal'], label = 'Country 1', shade = True)\n",
    "sns.kdeplot(df.loc[df['Country'] == 2, 'KmFinal'], label = 'Country 2', shade = True)\n",
    "sns.kdeplot(df.loc[df['Country'] == 3, 'KmFinal'], label = 'Country 3', shade = True)\n",
    "plt.xlabel('AmountFuel')\n",
    "plt.ylabel('Density')\n",
    "plt.title('Density Plot of AmountFuel by Country')"
   ]
  },
  {
   "cell_type": "markdown",
   "metadata": {},
   "source": [
    "# Data Engineering\n",
    "\n",
    "It’s time to prepare the data for your Machine Learning algorithms. Instead of doing this\n",
    "manually, you should write functions for several good reasons:\n",
    "* This will allow you to reproduce some transformations easily on any dataset (e.g., the next time you get a fresh dataset).\n",
    "* You will gradually build a library of transformation functions that you can reuse in future projects.\n",
    "* You can use these functions in your live system to transform the new data before feeding it to your algorithms.\n",
    "* This will make it possible for you to easily try various transformations and see which combination of transformations works best."
   ]
  },
  {
   "cell_type": "markdown",
   "metadata": {},
   "source": [
    "## Data cleaning"
   ]
  },
  {
   "cell_type": "code",
   "execution_count": 16,
   "metadata": {
    "ExecuteTime": {
     "end_time": "2020-03-06T01:50:11.103228Z",
     "start_time": "2020-03-06T01:50:11.095447Z"
    }
   },
   "outputs": [],
   "source": [
    "# for example, drop any NaN rows\n",
    "df.dropna(inplace=True)"
   ]
  },
  {
   "cell_type": "code",
   "execution_count": 17,
   "metadata": {
    "ExecuteTime": {
     "end_time": "2020-03-06T01:50:11.136260Z",
     "start_time": "2020-03-06T01:50:11.104246Z"
    }
   },
   "outputs": [
    {
     "data": {
      "text/html": [
       "<div>\n",
       "<style scoped>\n",
       "    .dataframe tbody tr th:only-of-type {\n",
       "        vertical-align: middle;\n",
       "    }\n",
       "\n",
       "    .dataframe tbody tr th {\n",
       "        vertical-align: top;\n",
       "    }\n",
       "\n",
       "    .dataframe thead th {\n",
       "        text-align: right;\n",
       "    }\n",
       "</style>\n",
       "<table border=\"1\" class=\"dataframe\">\n",
       "  <thead>\n",
       "    <tr style=\"text-align: right;\">\n",
       "      <th></th>\n",
       "      <th>ID</th>\n",
       "      <th>Date</th>\n",
       "      <th>Country</th>\n",
       "      <th>VehID</th>\n",
       "      <th>Destination</th>\n",
       "      <th>KmInit</th>\n",
       "      <th>KmFinal</th>\n",
       "      <th>FuelBought</th>\n",
       "      <th>AmountFuel</th>\n",
       "      <th>CashFuel</th>\n",
       "      <th>AmountCash</th>\n",
       "      <th>FuelKm</th>\n",
       "      <th>DriverID</th>\n",
       "    </tr>\n",
       "  </thead>\n",
       "  <tbody>\n",
       "    <tr>\n",
       "      <th>6</th>\n",
       "      <td>37</td>\n",
       "      <td>1/23/2008</td>\n",
       "      <td>1.0</td>\n",
       "      <td>12</td>\n",
       "      <td>Kakuru - Within Town</td>\n",
       "      <td>68418</td>\n",
       "      <td>68501</td>\n",
       "      <td>0.0</td>\n",
       "      <td>0</td>\n",
       "      <td>0</td>\n",
       "      <td>0</td>\n",
       "      <td>0</td>\n",
       "      <td>1</td>\n",
       "    </tr>\n",
       "    <tr>\n",
       "      <th>7</th>\n",
       "      <td>38</td>\n",
       "      <td>1/24/2008</td>\n",
       "      <td>1.0</td>\n",
       "      <td>12</td>\n",
       "      <td>Nakuru - Mogotio - Nakuru</td>\n",
       "      <td>68501</td>\n",
       "      <td>68737</td>\n",
       "      <td>0.0</td>\n",
       "      <td>0</td>\n",
       "      <td>0</td>\n",
       "      <td>0</td>\n",
       "      <td>0</td>\n",
       "      <td>1</td>\n",
       "    </tr>\n",
       "    <tr>\n",
       "      <th>8</th>\n",
       "      <td>39</td>\n",
       "      <td>1/26/2008</td>\n",
       "      <td>1.0</td>\n",
       "      <td>12</td>\n",
       "      <td>Nakuru - IDP Camps within  Nakuru</td>\n",
       "      <td>68737</td>\n",
       "      <td>69389</td>\n",
       "      <td>0.0</td>\n",
       "      <td>0</td>\n",
       "      <td>0</td>\n",
       "      <td>0</td>\n",
       "      <td>0</td>\n",
       "      <td>1</td>\n",
       "    </tr>\n",
       "  </tbody>\n",
       "</table>\n",
       "</div>"
      ],
      "text/plain": [
       "   ID       Date  Country  VehID                        Destination  KmInit  \\\n",
       "6  37  1/23/2008      1.0     12               Kakuru - Within Town   68418   \n",
       "7  38  1/24/2008      1.0     12          Nakuru - Mogotio - Nakuru   68501   \n",
       "8  39  1/26/2008      1.0     12  Nakuru - IDP Camps within  Nakuru   68737   \n",
       "\n",
       "   KmFinal  FuelBought  AmountFuel  CashFuel  AmountCash  FuelKm  DriverID  \n",
       "6    68501         0.0           0         0           0       0         1  \n",
       "7    68737         0.0           0         0           0       0         1  \n",
       "8    69389         0.0           0         0           0       0         1  "
      ]
     },
     "execution_count": 17,
     "metadata": {},
     "output_type": "execute_result"
    }
   ],
   "source": [
    "df.head()"
   ]
  },
  {
   "cell_type": "markdown",
   "metadata": {},
   "source": [
    "## Handling categorical attributes"
   ]
  },
  {
   "cell_type": "markdown",
   "metadata": {},
   "source": [
    "Preprocess the categorical input feature"
   ]
  },
  {
   "cell_type": "code",
   "execution_count": 18,
   "metadata": {
    "ExecuteTime": {
     "end_time": "2020-03-06T01:50:11.156265Z",
     "start_time": "2020-03-06T01:50:11.140262Z"
    }
   },
   "outputs": [
    {
     "data": {
      "text/html": [
       "<div>\n",
       "<style scoped>\n",
       "    .dataframe tbody tr th:only-of-type {\n",
       "        vertical-align: middle;\n",
       "    }\n",
       "\n",
       "    .dataframe tbody tr th {\n",
       "        vertical-align: top;\n",
       "    }\n",
       "\n",
       "    .dataframe thead th {\n",
       "        text-align: right;\n",
       "    }\n",
       "</style>\n",
       "<table border=\"1\" class=\"dataframe\">\n",
       "  <thead>\n",
       "    <tr style=\"text-align: right;\">\n",
       "      <th></th>\n",
       "      <th>Destination</th>\n",
       "    </tr>\n",
       "  </thead>\n",
       "  <tbody>\n",
       "    <tr>\n",
       "      <th>6</th>\n",
       "      <td>Kakuru - Within Town</td>\n",
       "    </tr>\n",
       "    <tr>\n",
       "      <th>7</th>\n",
       "      <td>Nakuru - Mogotio - Nakuru</td>\n",
       "    </tr>\n",
       "    <tr>\n",
       "      <th>8</th>\n",
       "      <td>Nakuru - IDP Camps within  Nakuru</td>\n",
       "    </tr>\n",
       "  </tbody>\n",
       "</table>\n",
       "</div>"
      ],
      "text/plain": [
       "                         Destination\n",
       "6               Kakuru - Within Town\n",
       "7          Nakuru - Mogotio - Nakuru\n",
       "8  Nakuru - IDP Camps within  Nakuru"
      ]
     },
     "execution_count": 18,
     "metadata": {},
     "output_type": "execute_result"
    }
   ],
   "source": [
    "df_1 = df[[\"Destination\"]]\n",
    "df_1.head(10)"
   ]
  },
  {
   "cell_type": "code",
   "execution_count": 19,
   "metadata": {
    "ExecuteTime": {
     "end_time": "2020-03-06T01:50:11.176269Z",
     "start_time": "2020-03-06T01:50:11.160267Z"
    }
   },
   "outputs": [
    {
     "data": {
      "text/plain": [
       "array([[0.],\n",
       "       [2.],\n",
       "       [1.]])"
      ]
     },
     "execution_count": 19,
     "metadata": {},
     "output_type": "execute_result"
    }
   ],
   "source": [
    "# Ordinal encoding of categorical feature\n",
    "ordinal_encoder = OrdinalEncoder()\n",
    "df_1_encoded = ordinal_encoder.fit_transform(df_1)\n",
    "df_1_encoded[:10]"
   ]
  },
  {
   "cell_type": "code",
   "execution_count": 20,
   "metadata": {
    "ExecuteTime": {
     "end_time": "2020-03-06T01:50:11.188274Z",
     "start_time": "2020-03-06T01:50:11.176269Z"
    }
   },
   "outputs": [
    {
     "data": {
      "text/plain": [
       "[array(['Kakuru - Within Town', 'Nakuru - IDP Camps within  Nakuru',\n",
       "        'Nakuru - Mogotio - Nakuru'], dtype=object)]"
      ]
     },
     "execution_count": 20,
     "metadata": {},
     "output_type": "execute_result"
    }
   ],
   "source": [
    "ordinal_encoder.categories_"
   ]
  },
  {
   "cell_type": "code",
   "execution_count": 21,
   "metadata": {
    "ExecuteTime": {
     "end_time": "2020-03-06T01:50:11.200278Z",
     "start_time": "2020-03-06T01:50:11.188274Z"
    }
   },
   "outputs": [
    {
     "data": {
      "text/plain": [
       "<3x3 sparse matrix of type '<class 'numpy.float64'>'\n",
       "\twith 3 stored elements in Compressed Sparse Row format>"
      ]
     },
     "execution_count": 21,
     "metadata": {},
     "output_type": "execute_result"
    }
   ],
   "source": [
    "# One Hot Encoding\n",
    "cat_encoder = OneHotEncoder()\n",
    "df_1_1hot = cat_encoder.fit_transform(df_1)\n",
    "df_1_1hot"
   ]
  },
  {
   "cell_type": "code",
   "execution_count": 22,
   "metadata": {
    "ExecuteTime": {
     "end_time": "2020-03-06T01:50:11.212281Z",
     "start_time": "2020-03-06T01:50:11.204278Z"
    }
   },
   "outputs": [
    {
     "data": {
      "text/plain": [
       "array([[1., 0., 0.],\n",
       "       [0., 0., 1.],\n",
       "       [0., 1., 0.]])"
      ]
     },
     "execution_count": 22,
     "metadata": {},
     "output_type": "execute_result"
    }
   ],
   "source": [
    "df_1_1hot.toarray()"
   ]
  },
  {
   "cell_type": "markdown",
   "metadata": {},
   "source": [
    "Alternatively, you can set `sparse=False` when creating the `OneHotEncoder`:"
   ]
  },
  {
   "cell_type": "code",
   "execution_count": 23,
   "metadata": {
    "ExecuteTime": {
     "end_time": "2020-03-06T01:50:11.228283Z",
     "start_time": "2020-03-06T01:50:11.216283Z"
    }
   },
   "outputs": [
    {
     "data": {
      "text/plain": [
       "array([[1., 0., 0.],\n",
       "       [0., 0., 1.],\n",
       "       [0., 1., 0.]])"
      ]
     },
     "execution_count": 23,
     "metadata": {},
     "output_type": "execute_result"
    }
   ],
   "source": [
    "cat_encoder = OneHotEncoder(sparse=False)\n",
    "df_1_1hot = cat_encoder.fit_transform(df_1)\n",
    "df_1_1hot"
   ]
  },
  {
   "cell_type": "code",
   "execution_count": 24,
   "metadata": {
    "ExecuteTime": {
     "end_time": "2020-03-06T01:50:11.240287Z",
     "start_time": "2020-03-06T01:50:11.232286Z"
    }
   },
   "outputs": [
    {
     "data": {
      "text/plain": [
       "[array(['Kakuru - Within Town', 'Nakuru - IDP Camps within  Nakuru',\n",
       "        'Nakuru - Mogotio - Nakuru'], dtype=object)]"
      ]
     },
     "execution_count": 24,
     "metadata": {},
     "output_type": "execute_result"
    }
   ],
   "source": [
    "cat_encoder.categories_"
   ]
  },
  {
   "cell_type": "markdown",
   "metadata": {},
   "source": [
    "## Data transformation"
   ]
  },
  {
   "cell_type": "markdown",
   "metadata": {},
   "source": [
    "Create a custom transformer to add extra attributes:"
   ]
  },
  {
   "cell_type": "code",
   "execution_count": 25,
   "metadata": {
    "ExecuteTime": {
     "end_time": "2020-03-06T01:50:11.264290Z",
     "start_time": "2020-03-06T01:50:11.248291Z"
    }
   },
   "outputs": [],
   "source": [
    "def get_stops(x):\n",
    "    if isinstance(x, str):\n",
    "        x = x.lower()\n",
    "        result = None\n",
    "        if '-' in x:\n",
    "            wordList = x.strip().split('-')\n",
    "        elif (',') in x:\n",
    "            wordList = x.strip().split(',')\n",
    "        elif ('/') in x:\n",
    "            wordList = x.strip().split('/')\n",
    "        elif ('.') in x:\n",
    "            wordList = x.strip().split('.')\n",
    "        elif ('to') in x:\n",
    "            wordList = x.strip().split('to')\n",
    "        else:\n",
    "            wordList = x.strip().split()\n",
    "            \n",
    "        result = len(set(wordList))\n",
    "        return result\n",
    "    else:\n",
    "        return 0\n",
    "\n",
    "df['Stops'] = df['Destination'].apply(get_stops)"
   ]
  },
  {
   "cell_type": "code",
   "execution_count": 26,
   "metadata": {
    "ExecuteTime": {
     "end_time": "2020-03-06T01:50:11.296319Z",
     "start_time": "2020-03-06T01:50:11.268313Z"
    }
   },
   "outputs": [
    {
     "data": {
      "text/html": [
       "<div>\n",
       "<style scoped>\n",
       "    .dataframe tbody tr th:only-of-type {\n",
       "        vertical-align: middle;\n",
       "    }\n",
       "\n",
       "    .dataframe tbody tr th {\n",
       "        vertical-align: top;\n",
       "    }\n",
       "\n",
       "    .dataframe thead th {\n",
       "        text-align: right;\n",
       "    }\n",
       "</style>\n",
       "<table border=\"1\" class=\"dataframe\">\n",
       "  <thead>\n",
       "    <tr style=\"text-align: right;\">\n",
       "      <th></th>\n",
       "      <th>ID</th>\n",
       "      <th>Date</th>\n",
       "      <th>Country</th>\n",
       "      <th>VehID</th>\n",
       "      <th>Destination</th>\n",
       "      <th>KmInit</th>\n",
       "      <th>KmFinal</th>\n",
       "      <th>FuelBought</th>\n",
       "      <th>AmountFuel</th>\n",
       "      <th>CashFuel</th>\n",
       "      <th>AmountCash</th>\n",
       "      <th>FuelKm</th>\n",
       "      <th>DriverID</th>\n",
       "      <th>Stops</th>\n",
       "    </tr>\n",
       "  </thead>\n",
       "  <tbody>\n",
       "    <tr>\n",
       "      <th>6</th>\n",
       "      <td>37</td>\n",
       "      <td>1/23/2008</td>\n",
       "      <td>1.0</td>\n",
       "      <td>12</td>\n",
       "      <td>Kakuru - Within Town</td>\n",
       "      <td>68418</td>\n",
       "      <td>68501</td>\n",
       "      <td>0.0</td>\n",
       "      <td>0</td>\n",
       "      <td>0</td>\n",
       "      <td>0</td>\n",
       "      <td>0</td>\n",
       "      <td>1</td>\n",
       "      <td>2</td>\n",
       "    </tr>\n",
       "    <tr>\n",
       "      <th>7</th>\n",
       "      <td>38</td>\n",
       "      <td>1/24/2008</td>\n",
       "      <td>1.0</td>\n",
       "      <td>12</td>\n",
       "      <td>Nakuru - Mogotio - Nakuru</td>\n",
       "      <td>68501</td>\n",
       "      <td>68737</td>\n",
       "      <td>0.0</td>\n",
       "      <td>0</td>\n",
       "      <td>0</td>\n",
       "      <td>0</td>\n",
       "      <td>0</td>\n",
       "      <td>1</td>\n",
       "      <td>3</td>\n",
       "    </tr>\n",
       "    <tr>\n",
       "      <th>8</th>\n",
       "      <td>39</td>\n",
       "      <td>1/26/2008</td>\n",
       "      <td>1.0</td>\n",
       "      <td>12</td>\n",
       "      <td>Nakuru - IDP Camps within  Nakuru</td>\n",
       "      <td>68737</td>\n",
       "      <td>69389</td>\n",
       "      <td>0.0</td>\n",
       "      <td>0</td>\n",
       "      <td>0</td>\n",
       "      <td>0</td>\n",
       "      <td>0</td>\n",
       "      <td>1</td>\n",
       "      <td>2</td>\n",
       "    </tr>\n",
       "  </tbody>\n",
       "</table>\n",
       "</div>"
      ],
      "text/plain": [
       "   ID       Date  Country  VehID                        Destination  KmInit  \\\n",
       "6  37  1/23/2008      1.0     12               Kakuru - Within Town   68418   \n",
       "7  38  1/24/2008      1.0     12          Nakuru - Mogotio - Nakuru   68501   \n",
       "8  39  1/26/2008      1.0     12  Nakuru - IDP Camps within  Nakuru   68737   \n",
       "\n",
       "   KmFinal  FuelBought  AmountFuel  CashFuel  AmountCash  FuelKm  DriverID  \\\n",
       "6    68501         0.0           0         0           0       0         1   \n",
       "7    68737         0.0           0         0           0       0         1   \n",
       "8    69389         0.0           0         0           0       0         1   \n",
       "\n",
       "   Stops  \n",
       "6      2  \n",
       "7      3  \n",
       "8      2  "
      ]
     },
     "execution_count": 26,
     "metadata": {},
     "output_type": "execute_result"
    }
   ],
   "source": [
    "df.head()"
   ]
  },
  {
   "cell_type": "markdown",
   "metadata": {},
   "source": [
    "## Data scaling"
   ]
  },
  {
   "cell_type": "markdown",
   "metadata": {},
   "source": [
    "One of the most important transformations you need to apply to your data is feature scaling.\n",
    "With few exceptions, Machine Learning algorithms don’t perform well when the input numerical\n",
    "attributes have very different scales. For example, for the housing data: the total number of\n",
    "rooms ranges from about 6 to 39,320, while the median incomes only range from 0 to 15.\n",
    "\n",
    "There are two common ways to get all attributes to have the same scale: __min-max scaling__ and\n",
    "__standardization__.\n",
    "\n",
    "__Min-max scaling__ (many people call this normalization) is the simplest: values are shifted and\n",
    "rescaled so that they end up ranging from 0 to 1. We do this by subtracting the min value and\n",
    "dividing by the max minus the min. Scikit-Learn provides a transformer called ```MinMaxScaler```\n",
    "for this. It has a feature_range hyperparameter that lets you change the range if, for some\n",
    "reason, you don’t want 0–1.\n",
    "\n",
    "__Standardization__ is different: first it subtracts the mean value (so standardized values always have\n",
    "a zero mean), and then it divides by the standard deviation so that the resulting distribution has\n",
    "unit variance. Unlike min-max scaling, standardization does not bound values to a specific range,\n",
    "which may be a problem for some algorithms (e.g., neural networks often expect an input value\n",
    "ranging from 0 to 1). However, standardization is much less affected by outliers. For example,\n",
    "suppose a district had a median income equal to 100 (by mistake). Min-max scaling would then\n",
    "crush all the other values from 0–15 down to 0–0.15, whereas standardization would not be\n",
    "much affected. Scikit-Learn provides a transformer called ```StandardScaler``` for standardization."
   ]
  },
  {
   "cell_type": "code",
   "execution_count": 27,
   "metadata": {
    "ExecuteTime": {
     "end_time": "2020-03-06T01:50:11.316306Z",
     "start_time": "2020-03-06T01:50:11.300300Z"
    }
   },
   "outputs": [
    {
     "data": {
      "text/plain": [
       "array([[-0.99162275, -0.99764641],\n",
       "       [-0.37740866, -0.36923568],\n",
       "       [ 1.36903142,  1.36688209]])"
      ]
     },
     "execution_count": 27,
     "metadata": {},
     "output_type": "execute_result"
    }
   ],
   "source": [
    "x = np.array(df[['KmInit','KmFinal']])\n",
    "x = StandardScaler().fit_transform(x)\n",
    "x"
   ]
  },
  {
   "cell_type": "markdown",
   "metadata": {},
   "source": [
    "## Data pipeline"
   ]
  },
  {
   "cell_type": "markdown",
   "metadata": {},
   "source": [
    "Build a pipeline for preprocessing the features. For example, the following cells show two types of data pipelines:\n",
    "* Numerical data pipeline to fill the Nan values and then standard scale all values for two columns\n",
    "* Combine the numerical data pipeline with a categorical data pipeline to be a full data pipeline"
   ]
  },
  {
   "cell_type": "code",
   "execution_count": 28,
   "metadata": {
    "ExecuteTime": {
     "end_time": "2020-03-06T01:50:11.336307Z",
     "start_time": "2020-03-06T01:50:11.320304Z"
    }
   },
   "outputs": [],
   "source": [
    "# Setup a pipeline to process numerical data on two columns\n",
    "x = np.array(df[['KmInit','KmFinal']])\n",
    "\n",
    "num_pipeline = Pipeline([\n",
    "        ('imputer', SimpleImputer(strategy=\"median\")),\n",
    "        ('std_scaler', StandardScaler()),\n",
    "    ])\n",
    "\n",
    "X = num_pipeline.fit_transform(x)"
   ]
  },
  {
   "cell_type": "code",
   "execution_count": 29,
   "metadata": {
    "ExecuteTime": {
     "end_time": "2020-03-06T01:50:11.348310Z",
     "start_time": "2020-03-06T01:50:11.340312Z"
    }
   },
   "outputs": [
    {
     "data": {
      "text/plain": [
       "array([[-0.99162275, -0.99764641],\n",
       "       [-0.37740866, -0.36923568],\n",
       "       [ 1.36903142,  1.36688209]])"
      ]
     },
     "execution_count": 29,
     "metadata": {},
     "output_type": "execute_result"
    }
   ],
   "source": [
    "X"
   ]
  },
  {
   "cell_type": "code",
   "execution_count": 30,
   "metadata": {
    "ExecuteTime": {
     "end_time": "2020-03-06T01:50:11.368317Z",
     "start_time": "2020-03-06T01:50:11.348310Z"
    }
   },
   "outputs": [],
   "source": [
    "# Combine numerical pipeline with a categorical pipeline to process the data on three columns\n",
    "num_attribs = ['KmInit','KmFinal']\n",
    "cat_attribs = [\"Destination\"]\n",
    "\n",
    "data_pipeline = ColumnTransformer([\n",
    "        (\"num\", num_pipeline, num_attribs),\n",
    "        (\"cat\", OneHotEncoder(), cat_attribs),\n",
    "    ])\n",
    "\n",
    "df_prepared = data_pipeline.fit_transform(df)"
   ]
  },
  {
   "cell_type": "code",
   "execution_count": 31,
   "metadata": {
    "ExecuteTime": {
     "end_time": "2020-03-06T01:50:11.380318Z",
     "start_time": "2020-03-06T01:50:11.372321Z"
    }
   },
   "outputs": [
    {
     "data": {
      "text/plain": [
       "array([[-0.99162275, -0.99764641,  1.        ,  0.        ,  0.        ],\n",
       "       [-0.37740866, -0.36923568,  0.        ,  0.        ,  1.        ],\n",
       "       [ 1.36903142,  1.36688209,  0.        ,  1.        ,  0.        ]])"
      ]
     },
     "execution_count": 31,
     "metadata": {},
     "output_type": "execute_result"
    }
   ],
   "source": [
    "df_prepared"
   ]
  },
  {
   "cell_type": "code",
   "execution_count": 32,
   "metadata": {
    "ExecuteTime": {
     "end_time": "2020-03-06T01:50:11.392318Z",
     "start_time": "2020-03-06T01:50:11.384321Z"
    }
   },
   "outputs": [
    {
     "data": {
      "text/plain": [
       "(3, 5)"
      ]
     },
     "execution_count": 32,
     "metadata": {},
     "output_type": "execute_result"
    }
   ],
   "source": [
    "df_prepared.shape"
   ]
  },
  {
   "cell_type": "markdown",
   "metadata": {},
   "source": [
    "# Select and Train a model\n",
    "\n",
    "Select and train a Machine Learning model."
   ]
  },
  {
   "cell_type": "markdown",
   "metadata": {},
   "source": [
    "## Select and define Model"
   ]
  },
  {
   "cell_type": "code",
   "execution_count": 33,
   "metadata": {
    "ExecuteTime": {
     "end_time": "2020-03-06T01:50:11.400322Z",
     "start_time": "2020-03-06T01:50:11.392318Z"
    }
   },
   "outputs": [],
   "source": [
    "# for example - define a linear regression model\n",
    "lin_reg = LinearRegression()\n",
    "\n",
    "# another example - define a random forest regressor model\n",
    "forest_reg = RandomForestRegressor(n_estimators=100, random_state=42)"
   ]
  },
  {
   "cell_type": "markdown",
   "metadata": {},
   "source": [
    "## Training model"
   ]
  },
  {
   "cell_type": "code",
   "execution_count": 34,
   "metadata": {
    "ExecuteTime": {
     "end_time": "2020-03-06T01:50:11.573604Z",
     "start_time": "2020-03-06T01:50:11.400322Z"
    }
   },
   "outputs": [
    {
     "data": {
      "text/plain": [
       "LinearRegression(copy_X=True, fit_intercept=True, n_jobs=None, normalize=False)"
      ]
     },
     "execution_count": 34,
     "metadata": {},
     "output_type": "execute_result"
    },
    {
     "data": {
      "text/plain": [
       "RandomForestRegressor(bootstrap=True, ccp_alpha=0.0, criterion='mse',\n",
       "                      max_depth=None, max_features='auto', max_leaf_nodes=None,\n",
       "                      max_samples=None, min_impurity_decrease=0.0,\n",
       "                      min_impurity_split=None, min_samples_leaf=1,\n",
       "                      min_samples_split=2, min_weight_fraction_leaf=0.0,\n",
       "                      n_estimators=100, n_jobs=None, oob_score=False,\n",
       "                      random_state=42, verbose=0, warm_start=False)"
      ]
     },
     "execution_count": 34,
     "metadata": {},
     "output_type": "execute_result"
    }
   ],
   "source": [
    "df_labels = df[['Country']]\n",
    "\n",
    "# training linear regression model\n",
    "lin_reg.fit(df[['KmInit']],df[['KmFinal']])\n",
    "# training random forest model\n",
    "forest_reg.fit(df_prepared, df_labels)"
   ]
  },
  {
   "cell_type": "markdown",
   "metadata": {},
   "source": [
    "## Evaluating on the training Set"
   ]
  },
  {
   "cell_type": "markdown",
   "metadata": {},
   "source": [
    "Compare against the actual values:"
   ]
  },
  {
   "cell_type": "code",
   "execution_count": 35,
   "metadata": {
    "ExecuteTime": {
     "end_time": "2020-03-06T01:50:11.599696Z",
     "start_time": "2020-03-06T01:50:11.573604Z"
    }
   },
   "outputs": [
    {
     "data": {
      "text/plain": [
       "2.2501780837986534"
      ]
     },
     "execution_count": 35,
     "metadata": {},
     "output_type": "execute_result"
    }
   ],
   "source": [
    "df_predictions = lin_reg.predict(df[['KmInit']])\n",
    "lin_mse = mean_squared_error(df[['KmFinal']], df_predictions)\n",
    "lin_rmse = np.sqrt(lin_mse)\n",
    "lin_rmse"
   ]
  },
  {
   "cell_type": "code",
   "execution_count": 36,
   "metadata": {
    "ExecuteTime": {
     "end_time": "2020-03-06T01:50:11.611698Z",
     "start_time": "2020-03-06T01:50:11.599696Z"
    }
   },
   "outputs": [
    {
     "data": {
      "text/plain": [
       "2.044548290398476"
      ]
     },
     "execution_count": 36,
     "metadata": {},
     "output_type": "execute_result"
    }
   ],
   "source": [
    "lin_mae = mean_absolute_error(df[['KmFinal']], df_predictions)\n",
    "lin_mae"
   ]
  },
  {
   "cell_type": "markdown",
   "metadata": {},
   "source": [
    "## Better evaluation using cross-validation\n",
    "\n",
    "A great way to evaluate a model is to use Scikit-Learn’s K-fold cross-validation feature. The following code\n",
    "randomly splits the training set into 10 distinct subsets called folds, then it trains and evaluates\n",
    "the Random Forest model 10 times, picking a different fold for evaluation every time and training\n",
    "on the other 9 folds."
   ]
  },
  {
   "cell_type": "code",
   "execution_count": 37,
   "metadata": {
    "ExecuteTime": {
     "end_time": "2020-03-06T01:50:11.647700Z",
     "start_time": "2020-03-06T01:50:11.615701Z"
    }
   },
   "outputs": [
    {
     "data": {
      "text/plain": [
       "0.0"
      ]
     },
     "execution_count": 37,
     "metadata": {},
     "output_type": "execute_result"
    }
   ],
   "source": [
    "df_predictions = forest_reg.predict(df_prepared)\n",
    "forest_mse = mean_squared_error(df_labels, df_predictions)\n",
    "forest_rmse = np.sqrt(forest_mse)\n",
    "forest_rmse"
   ]
  },
  {
   "cell_type": "code",
   "execution_count": 38,
   "metadata": {
    "ExecuteTime": {
     "end_time": "2020-03-06T01:50:12.168009Z",
     "start_time": "2020-03-06T01:50:11.651701Z"
    }
   },
   "outputs": [
    {
     "data": {
      "text/plain": [
       "array([0., 0., 0.])"
      ]
     },
     "execution_count": 38,
     "metadata": {},
     "output_type": "execute_result"
    }
   ],
   "source": [
    "forest_scores = cross_val_score(forest_reg, df_prepared, df_labels, scoring=\"neg_mean_squared_error\", cv=3)\n",
    "forest_rmse_scores = np.sqrt(-forest_scores)\n",
    "forest_rmse_scores"
   ]
  },
  {
   "cell_type": "markdown",
   "metadata": {},
   "source": [
    "## Fine-tune model\n",
    "\n",
    "To find a great combination of hyperparameter values, you can use Scikit-Learn automated hyperparameter search features."
   ]
  },
  {
   "cell_type": "markdown",
   "metadata": {},
   "source": [
    "__GridSearchCV__\n",
    "\n",
    "One option is to get Scikit-Learn’s ```GridSearchCV``` to search for you. All you need to do is tell it which hyperparameters you want it to experiment with and what values to try out, and it will\n",
    "use cross-validation to evaluate all the possible combinations of hyperparameter values"
   ]
  },
  {
   "cell_type": "code",
   "execution_count": 39,
   "metadata": {
    "ExecuteTime": {
     "end_time": "2020-03-06T01:50:13.083531Z",
     "start_time": "2020-03-06T01:50:12.168009Z"
    }
   },
   "outputs": [
    {
     "data": {
      "text/plain": [
       "GridSearchCV(cv=3, error_score=nan,\n",
       "             estimator=RandomForestRegressor(bootstrap=True, ccp_alpha=0.0,\n",
       "                                             criterion='mse', max_depth=None,\n",
       "                                             max_features='auto',\n",
       "                                             max_leaf_nodes=None,\n",
       "                                             max_samples=None,\n",
       "                                             min_impurity_decrease=0.0,\n",
       "                                             min_impurity_split=None,\n",
       "                                             min_samples_leaf=1,\n",
       "                                             min_samples_split=2,\n",
       "                                             min_weight_fraction_leaf=0.0,\n",
       "                                             n_estimators=100, n_jobs=None,\n",
       "                                             oob_score=False, random_state=42,\n",
       "                                             verbose=0, warm_start=False),\n",
       "             iid='deprecated', n_jobs=None,\n",
       "             param_grid=[{'max_features': [2, 4, 6, 8],\n",
       "                          'n_estimators': [3, 10, 30]},\n",
       "                         {'bootstrap': [False], 'max_features': [2, 3, 4],\n",
       "                          'n_estimators': [3, 10]}],\n",
       "             pre_dispatch='2*n_jobs', refit=True, return_train_score=True,\n",
       "             scoring='neg_mean_squared_error', verbose=0)"
      ]
     },
     "execution_count": 39,
     "metadata": {},
     "output_type": "execute_result"
    }
   ],
   "source": [
    "param_grid = [\n",
    "    # try 12 (3×4) combinations of hyperparameters\n",
    "    {'n_estimators': [3, 10, 30], 'max_features': [2, 4, 6, 8]},\n",
    "    # then try 6 (2×3) combinations with bootstrap set as False\n",
    "    {'bootstrap': [False], 'n_estimators': [3, 10], 'max_features': [2, 3, 4]},\n",
    "  ]\n",
    "\n",
    "forest_reg = RandomForestRegressor(random_state=42)\n",
    "# train across 5 folds, that's a total of (12+6)*5=90 rounds of training \n",
    "grid_search = GridSearchCV(forest_reg, param_grid, cv=3,\n",
    "                           scoring='neg_mean_squared_error',\n",
    "                           return_train_score=True)\n",
    "grid_search.fit(df_prepared, df_labels)"
   ]
  },
  {
   "cell_type": "markdown",
   "metadata": {},
   "source": [
    "The best hyperparameter combination found:"
   ]
  },
  {
   "cell_type": "code",
   "execution_count": 40,
   "metadata": {
    "ExecuteTime": {
     "end_time": "2020-03-06T01:50:13.095540Z",
     "start_time": "2020-03-06T01:50:13.087541Z"
    }
   },
   "outputs": [
    {
     "data": {
      "text/plain": [
       "{'max_features': 2, 'n_estimators': 3}"
      ]
     },
     "execution_count": 40,
     "metadata": {},
     "output_type": "execute_result"
    }
   ],
   "source": [
    "grid_search.best_params_"
   ]
  },
  {
   "cell_type": "code",
   "execution_count": 41,
   "metadata": {
    "ExecuteTime": {
     "end_time": "2020-03-06T01:50:13.111527Z",
     "start_time": "2020-03-06T01:50:13.099525Z"
    }
   },
   "outputs": [
    {
     "data": {
      "text/plain": [
       "RandomForestRegressor(bootstrap=True, ccp_alpha=0.0, criterion='mse',\n",
       "                      max_depth=None, max_features=2, max_leaf_nodes=None,\n",
       "                      max_samples=None, min_impurity_decrease=0.0,\n",
       "                      min_impurity_split=None, min_samples_leaf=1,\n",
       "                      min_samples_split=2, min_weight_fraction_leaf=0.0,\n",
       "                      n_estimators=3, n_jobs=None, oob_score=False,\n",
       "                      random_state=42, verbose=0, warm_start=False)"
      ]
     },
     "execution_count": 41,
     "metadata": {},
     "output_type": "execute_result"
    }
   ],
   "source": [
    "grid_search.best_estimator_"
   ]
  },
  {
   "cell_type": "markdown",
   "metadata": {},
   "source": [
    "__Randomized Search__\n",
    "\n",
    "The grid search approach is fine when you are exploring relatively few combinations, like in the\n",
    "previous example, but when the hyperparameter search space is large, it is often preferable to use\n",
    "```RandomizedSearchCV``` instead"
   ]
  },
  {
   "cell_type": "code",
   "execution_count": 42,
   "metadata": {
    "ExecuteTime": {
     "end_time": "2020-03-06T01:50:15.845348Z",
     "start_time": "2020-03-06T01:50:13.115531Z"
    }
   },
   "outputs": [
    {
     "data": {
      "text/plain": [
       "RandomizedSearchCV(cv=3, error_score=nan,\n",
       "                   estimator=RandomForestRegressor(bootstrap=True,\n",
       "                                                   ccp_alpha=0.0,\n",
       "                                                   criterion='mse',\n",
       "                                                   max_depth=None,\n",
       "                                                   max_features='auto',\n",
       "                                                   max_leaf_nodes=None,\n",
       "                                                   max_samples=None,\n",
       "                                                   min_impurity_decrease=0.0,\n",
       "                                                   min_impurity_split=None,\n",
       "                                                   min_samples_leaf=1,\n",
       "                                                   min_samples_split=2,\n",
       "                                                   min_weight_fraction_leaf=0.0,\n",
       "                                                   n_estimators=100,\n",
       "                                                   n_jobs=None, oob_score=Fals...\n",
       "                   iid='deprecated', n_iter=10, n_jobs=None,\n",
       "                   param_distributions={'max_features': <scipy.stats._distn_infrastructure.rv_frozen object at 0x00000279013B9A88>,\n",
       "                                        'n_estimators': <scipy.stats._distn_infrastructure.rv_frozen object at 0x00000279013B9748>},\n",
       "                   pre_dispatch='2*n_jobs', random_state=42, refit=True,\n",
       "                   return_train_score=False, scoring='neg_mean_squared_error',\n",
       "                   verbose=0)"
      ]
     },
     "execution_count": 42,
     "metadata": {},
     "output_type": "execute_result"
    }
   ],
   "source": [
    "param_distribs = {\n",
    "        'n_estimators': randint(low=1, high=200),\n",
    "        'max_features': randint(low=1, high=8),\n",
    "    }\n",
    "\n",
    "forest_reg = RandomForestRegressor(random_state=42)\n",
    "rnd_search = RandomizedSearchCV(forest_reg, param_distributions=param_distribs,\n",
    "                                n_iter=10, cv=3, scoring='neg_mean_squared_error', random_state=42)\n",
    "rnd_search.fit(df_prepared, df_labels)"
   ]
  },
  {
   "cell_type": "code",
   "execution_count": 43,
   "metadata": {
    "ExecuteTime": {
     "end_time": "2020-03-06T01:50:15.857362Z",
     "start_time": "2020-03-06T01:50:15.849365Z"
    }
   },
   "outputs": [
    {
     "name": "stdout",
     "output_type": "stream",
     "text": [
      "nan {'max_features': 7, 'n_estimators': 180}\n",
      "-0.0 {'max_features': 5, 'n_estimators': 15}\n",
      "-0.0 {'max_features': 3, 'n_estimators': 72}\n",
      "-0.0 {'max_features': 5, 'n_estimators': 21}\n",
      "nan {'max_features': 7, 'n_estimators': 122}\n",
      "-0.0 {'max_features': 3, 'n_estimators': 75}\n",
      "-0.0 {'max_features': 3, 'n_estimators': 88}\n",
      "-0.0 {'max_features': 5, 'n_estimators': 100}\n",
      "-0.0 {'max_features': 3, 'n_estimators': 150}\n",
      "-0.0 {'max_features': 5, 'n_estimators': 2}\n"
     ]
    }
   ],
   "source": [
    "cvres = rnd_search.cv_results_\n",
    "for mean_score, params in zip(cvres[\"mean_test_score\"], cvres[\"params\"]):\n",
    "    print(np.sqrt(-mean_score), params)"
   ]
  },
  {
   "cell_type": "markdown",
   "metadata": {},
   "source": [
    "## Evaluate on the test set\n",
    "\n",
    "After tweaking your models for a while, you eventually have a system that performs sufficiently\n",
    "well. Now is the time to evaluate the final model on the test set."
   ]
  },
  {
   "cell_type": "code",
   "execution_count": 44,
   "metadata": {
    "ExecuteTime": {
     "end_time": "2020-03-06T01:50:15.873366Z",
     "start_time": "2020-03-06T01:50:15.861345Z"
    }
   },
   "outputs": [],
   "source": [
    "final_model = grid_search.best_estimator_\n",
    "\n",
    "X_test = df_prepared\n",
    "y_test = df_labels\n",
    "\n",
    "final_predictions = final_model.predict(X_test)\n",
    "\n",
    "final_mse = mean_squared_error(y_test, final_predictions)\n",
    "final_rmse = np.sqrt(final_mse)"
   ]
  },
  {
   "cell_type": "code",
   "execution_count": 45,
   "metadata": {
    "ExecuteTime": {
     "end_time": "2020-03-06T01:50:15.885352Z",
     "start_time": "2020-03-06T01:50:15.877353Z"
    }
   },
   "outputs": [
    {
     "data": {
      "text/plain": [
       "0.0"
      ]
     },
     "execution_count": 45,
     "metadata": {},
     "output_type": "execute_result"
    }
   ],
   "source": [
    "final_rmse"
   ]
  },
  {
   "cell_type": "markdown",
   "metadata": {},
   "source": [
    "# Productionalization"
   ]
  },
  {
   "cell_type": "markdown",
   "metadata": {},
   "source": [
    "## Pipelines with predictor"
   ]
  },
  {
   "cell_type": "markdown",
   "metadata": {},
   "source": [
    "A sequence of data processing components is called a data pipeline. Pipelines are very\n",
    "common in Machine Learning systems, since there is a lot of data to manipulate and many\n",
    "data transformations to apply."
   ]
  },
  {
   "cell_type": "code",
   "execution_count": 46,
   "metadata": {
    "ExecuteTime": {
     "end_time": "2020-03-06T01:50:15.963698Z",
     "start_time": "2020-03-06T01:50:15.889353Z"
    }
   },
   "outputs": [
    {
     "data": {
      "text/plain": [
       "Pipeline(memory=None,\n",
       "         steps=[('preparation',\n",
       "                 ColumnTransformer(n_jobs=None, remainder='drop',\n",
       "                                   sparse_threshold=0.3,\n",
       "                                   transformer_weights=None,\n",
       "                                   transformers=[('num',\n",
       "                                                  Pipeline(memory=None,\n",
       "                                                           steps=[('imputer',\n",
       "                                                                   SimpleImputer(add_indicator=False,\n",
       "                                                                                 copy=True,\n",
       "                                                                                 fill_value=None,\n",
       "                                                                                 missing_values=nan,\n",
       "                                                                                 strategy='median',\n",
       "                                                                                 verbose=0)),\n",
       "                                                                  ('std_scaler',\n",
       "                                                                   StandardScaler(copy=True,\n",
       "                                                                                  with_mean=True,\n",
       "                                                                                  with_std=True))],\n",
       "                                                           verbose=False),\n",
       "                                                  ['KmInit', 'KmFinal']),\n",
       "                                                 ('cat',\n",
       "                                                  OneHotEncoder(categories='auto',\n",
       "                                                                drop=None,\n",
       "                                                                dtype=<class 'numpy.float64'>,\n",
       "                                                                handle_unknown='error',\n",
       "                                                                sparse=True),\n",
       "                                                  ['Destination'])],\n",
       "                                   verbose=False)),\n",
       "                ('linear',\n",
       "                 LinearRegression(copy_X=True, fit_intercept=True, n_jobs=None,\n",
       "                                  normalize=False))],\n",
       "         verbose=False)"
      ]
     },
     "execution_count": 46,
     "metadata": {},
     "output_type": "execute_result"
    },
    {
     "data": {
      "text/plain": [
       "array([[1.],\n",
       "       [1.],\n",
       "       [1.]])"
      ]
     },
     "execution_count": 46,
     "metadata": {},
     "output_type": "execute_result"
    }
   ],
   "source": [
    "full_pipeline_with_predictor = Pipeline([\n",
    "        (\"preparation\", data_pipeline),\n",
    "        (\"linear\", LinearRegression())\n",
    "    ])\n",
    "\n",
    "full_pipeline_with_predictor.fit(df[['KmInit','KmFinal','Destination']], df_labels)\n",
    "full_pipeline_with_predictor.predict(df[['KmInit','KmFinal','Destination']])"
   ]
  },
  {
   "cell_type": "markdown",
   "metadata": {},
   "source": [
    "## Model persistence using joblib"
   ]
  },
  {
   "cell_type": "code",
   "execution_count": 47,
   "metadata": {
    "ExecuteTime": {
     "end_time": "2020-03-06T01:50:15.975695Z",
     "start_time": "2020-03-06T01:50:15.967694Z"
    }
   },
   "outputs": [],
   "source": [
    "my_model = full_pipeline_with_predictor"
   ]
  },
  {
   "cell_type": "code",
   "execution_count": 48,
   "metadata": {
    "ExecuteTime": {
     "end_time": "2020-03-06T01:50:16.007702Z",
     "start_time": "2020-03-06T01:50:15.979696Z"
    }
   },
   "outputs": [
    {
     "data": {
      "text/plain": [
       "['my_model.pkl']"
      ]
     },
     "execution_count": 48,
     "metadata": {},
     "output_type": "execute_result"
    }
   ],
   "source": [
    "import joblib\n",
    "joblib.dump(my_model, \"my_model.pkl\") # DIFF\n",
    "#...\n",
    "my_model_loaded = joblib.load(\"my_model.pkl\") # DIFF"
   ]
  },
  {
   "cell_type": "markdown",
   "metadata": {},
   "source": [
    "```python\n",
    "# prediction by using loaded pipeline\n",
    "my_model_loaded.predict(some_data)\n",
    "```"
   ]
  }
 ],
 "metadata": {
  "kernelspec": {
   "display_name": "Python 3",
   "language": "python",
   "name": "python3"
  },
  "language_info": {
   "codemirror_mode": {
    "name": "ipython",
    "version": 3
   },
   "file_extension": ".py",
   "mimetype": "text/x-python",
   "name": "python",
   "nbconvert_exporter": "python",
   "pygments_lexer": "ipython3",
   "version": "3.7.6"
  },
  "nav_menu": {
   "height": "279px",
   "width": "309px"
  },
  "toc": {
   "base_numbering": 1,
   "nav_menu": {},
   "number_sections": true,
   "sideBar": true,
   "skip_h1_title": false,
   "title_cell": "Table of Contents",
   "title_sidebar": "Contents",
   "toc_cell": true,
   "toc_position": {
    "height": "calc(100% - 180px)",
    "left": "10px",
    "top": "150px",
    "width": "363.587px"
   },
   "toc_section_display": "block",
   "toc_window_display": true
  }
 },
 "nbformat": 4,
 "nbformat_minor": 1
}
