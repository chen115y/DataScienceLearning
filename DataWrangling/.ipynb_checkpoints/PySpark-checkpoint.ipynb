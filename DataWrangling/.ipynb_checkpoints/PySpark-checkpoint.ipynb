{
 "cells": [
  {
   "cell_type": "markdown",
   "metadata": {},
   "source": [
    "# Setup Spark Session"
   ]
  },
  {
   "cell_type": "code",
   "execution_count": 1,
   "metadata": {
    "ExecuteTime": {
     "end_time": "2020-02-10T21:53:57.331540Z",
     "start_time": "2020-02-10T21:53:38.313774Z"
    }
   },
   "outputs": [],
   "source": [
    "import findspark\n",
    "findspark.init('C:/users/ychen/spark')\n",
    "\n",
    "from pyspark.sql import SparkSession\n",
    "\n",
    "spark = SparkSession.builder.appName('ops').getOrCreate()"
   ]
  },
  {
   "cell_type": "markdown",
   "metadata": {},
   "source": [
    "# Basic Operations"
   ]
  },
  {
   "cell_type": "code",
   "execution_count": 2,
   "metadata": {
    "ExecuteTime": {
     "end_time": "2020-02-10T21:55:28.231836Z",
     "start_time": "2020-02-10T21:55:15.743930Z"
    }
   },
   "outputs": [],
   "source": [
    "df = spark.read.csv('../datasets/rpt_hot_skills.csv', inferSchema=True, header=True)"
   ]
  },
  {
   "cell_type": "code",
   "execution_count": 3,
   "metadata": {
    "ExecuteTime": {
     "end_time": "2020-02-10T21:55:31.100134Z",
     "start_time": "2020-02-10T21:55:30.399513Z"
    }
   },
   "outputs": [
    {
     "data": {
      "text/plain": [
       "[Row(minimum=725.0062847, gradient=7.32e-07, curve=2, master_Term_id=2, best_fit_flag='N', negative_curve_flag='N'),\n",
       " Row(minimum=725.0064017, gradient=7.34e-07, curve=1, master_Term_id=2, best_fit_flag='N', negative_curve_flag='N')]"
      ]
     },
     "execution_count": 3,
     "metadata": {},
     "output_type": "execute_result"
    }
   ],
   "source": [
    "df.take(2)"
   ]
  },
  {
   "cell_type": "code",
   "execution_count": 4,
   "metadata": {
    "ExecuteTime": {
     "end_time": "2020-02-10T21:55:34.048641Z",
     "start_time": "2020-02-10T21:55:34.001322Z"
    }
   },
   "outputs": [
    {
     "name": "stdout",
     "output_type": "stream",
     "text": [
      "root\n",
      " |-- minimum: double (nullable = true)\n",
      " |-- gradient: double (nullable = true)\n",
      " |-- curve: integer (nullable = true)\n",
      " |-- master_Term_id: integer (nullable = true)\n",
      " |-- best_fit_flag: string (nullable = true)\n",
      " |-- negative_curve_flag: string (nullable = true)\n",
      "\n"
     ]
    }
   ],
   "source": [
    "df.printSchema()"
   ]
  },
  {
   "cell_type": "code",
   "execution_count": 5,
   "metadata": {
    "ExecuteTime": {
     "end_time": "2020-02-10T21:55:37.384553Z",
     "start_time": "2020-02-10T21:55:36.955139Z"
    }
   },
   "outputs": [
    {
     "name": "stdout",
     "output_type": "stream",
     "text": [
      "+-----------+--------+-----+--------------+-------------+-------------------+\n",
      "|    minimum|gradient|curve|master_Term_id|best_fit_flag|negative_curve_flag|\n",
      "+-----------+--------+-----+--------------+-------------+-------------------+\n",
      "|725.0062847| 7.32E-7|    2|             2|            N|                  N|\n",
      "|725.0064017| 7.34E-7|    1|             2|            N|                  N|\n",
      "|725.0272307| 7.47E-7|    3|             2|            N|                  N|\n",
      "+-----------+--------+-----+--------------+-------------+-------------------+\n",
      "only showing top 3 rows\n",
      "\n"
     ]
    }
   ],
   "source": [
    "df.show(3)"
   ]
  },
  {
   "cell_type": "markdown",
   "metadata": {},
   "source": [
    "# Filtering"
   ]
  },
  {
   "cell_type": "code",
   "execution_count": 7,
   "metadata": {
    "ExecuteTime": {
     "end_time": "2020-02-10T21:56:20.304235Z",
     "start_time": "2020-02-10T21:56:19.819948Z"
    }
   },
   "outputs": [
    {
     "name": "stdout",
     "output_type": "stream",
     "text": [
      "+---------+-----+\n",
      "| gradient|curve|\n",
      "+---------+-----+\n",
      "|  7.32E-7|    2|\n",
      "|  7.34E-7|    1|\n",
      "|  7.47E-7|    3|\n",
      "|      0.0|    4|\n",
      "|  5.34E-7|    2|\n",
      "|  5.34E-7|    1|\n",
      "|   5.4E-7|    3|\n",
      "|  5.05E-7|    2|\n",
      "|  5.04E-7|    1|\n",
      "|  1.22E-5|    3|\n",
      "|  -3.9E-6|    2|\n",
      "|   7.5E-7|    1|\n",
      "|-5.36E-12|    3|\n",
      "|-1.85E-13|    4|\n",
      "| -3.78E-8|    2|\n",
      "|  4.26E-8|    1|\n",
      "| -3.69E-8|    3|\n",
      "| -9.22E-9|    4|\n",
      "|  2.97E-6|    3|\n",
      "|   2.8E-6|    4|\n",
      "+---------+-----+\n",
      "only showing top 20 rows\n",
      "\n"
     ]
    }
   ],
   "source": [
    "df.filter('minimum < 800').select(['gradient', 'curve']).show()"
   ]
  },
  {
   "cell_type": "code",
   "execution_count": 8,
   "metadata": {
    "ExecuteTime": {
     "end_time": "2020-02-10T21:56:56.163487Z",
     "start_time": "2020-02-10T21:56:55.778114Z"
    }
   },
   "outputs": [
    {
     "name": "stdout",
     "output_type": "stream",
     "text": [
      "+---------+-----+\n",
      "| gradient|curve|\n",
      "+---------+-----+\n",
      "|  7.32E-7|    2|\n",
      "|  7.34E-7|    1|\n",
      "|  7.47E-7|    3|\n",
      "|      0.0|    4|\n",
      "|  5.34E-7|    2|\n",
      "|  5.34E-7|    1|\n",
      "|   5.4E-7|    3|\n",
      "|  5.05E-7|    2|\n",
      "|  5.04E-7|    1|\n",
      "|  1.22E-5|    3|\n",
      "|  -3.9E-6|    2|\n",
      "|   7.5E-7|    1|\n",
      "|-5.36E-12|    3|\n",
      "|-1.85E-13|    4|\n",
      "| -3.78E-8|    2|\n",
      "|  4.26E-8|    1|\n",
      "| -3.69E-8|    3|\n",
      "| -9.22E-9|    4|\n",
      "|  2.97E-6|    3|\n",
      "|   2.8E-6|    4|\n",
      "+---------+-----+\n",
      "only showing top 20 rows\n",
      "\n"
     ]
    }
   ],
   "source": [
    "df.filter(df['minimum'] < 800).select(['gradient', 'curve']).show()"
   ]
  },
  {
   "cell_type": "code",
   "execution_count": 9,
   "metadata": {
    "ExecuteTime": {
     "end_time": "2020-02-10T21:57:19.877917Z",
     "start_time": "2020-02-10T21:57:19.401663Z"
    }
   },
   "outputs": [
    {
     "name": "stdout",
     "output_type": "stream",
     "text": [
      "+-----------+---------+-----+--------------+-------------+-------------------+\n",
      "|    minimum| gradient|curve|master_Term_id|best_fit_flag|negative_curve_flag|\n",
      "+-----------+---------+-----+--------------+-------------+-------------------+\n",
      "|725.0062847|  7.32E-7|    2|             2|            N|                  N|\n",
      "|725.0064017|  7.34E-7|    1|             2|            N|                  N|\n",
      "|725.0272307|  7.47E-7|    3|             2|            N|                  N|\n",
      "|670.5105497|      0.0|    4|             2|            Y|                  N|\n",
      "|1103.599293|  -6.5E-6|    2|             4|            N|                  Y|\n",
      "|1832.713573|  1.85E-7|    1|             4|            N|                  N|\n",
      "|1010.477347|  -1.9E-6|    3|             4|            Y|                  Y|\n",
      "|1098.184533| -6.26E-6|    4|             4|            N|                  Y|\n",
      "|2089.663188| -7.71E-6|    2|             5|            N|                  Y|\n",
      "|2345.643129|  8.37E-7|    1|             5|            N|                  N|\n",
      "|2088.743257| -6.76E-6|    3|             5|            N|                  Y|\n",
      "|1767.193057|-6.78E-61|    4|             5|            Y|                  Y|\n",
      "|2294.074892| -1.34E-5|    2|             7|            N|                  Y|\n",
      "|3020.686941|  4.35E-7|    1|             7|            N|                  N|\n",
      "|1953.693254| -1.34E-6|    3|             7|            N|                  Y|\n",
      "|1650.630413|-1.13E-23|    4|             7|            Y|                  Y|\n",
      "| 2805.71337| -1.36E-5|    2|             8|            N|                  Y|\n",
      "|4221.553994|  3.72E-7|    1|             8|            N|                  N|\n",
      "|2461.232989| -3.13E-6|    3|             8|            N|                  Y|\n",
      "|2040.097512|-8.57E-10|    4|             8|            Y|                  Y|\n",
      "+-----------+---------+-----+--------------+-------------+-------------------+\n",
      "only showing top 20 rows\n",
      "\n"
     ]
    }
   ],
   "source": [
    "df.filter((df['minimum'] > 200) & ~(df['minimum'] < 200)).show()"
   ]
  },
  {
   "cell_type": "code",
   "execution_count": 10,
   "metadata": {
    "ExecuteTime": {
     "end_time": "2020-02-10T21:57:48.166251Z",
     "start_time": "2020-02-10T21:57:47.776106Z"
    }
   },
   "outputs": [
    {
     "name": "stdout",
     "output_type": "stream",
     "text": [
      "+-----------+----------+-----+--------------+-------------+-------------------+\n",
      "|    minimum|  gradient|curve|master_Term_id|best_fit_flag|negative_curve_flag|\n",
      "+-----------+----------+-----+--------------+-------------+-------------------+\n",
      "|670.5105497|       0.0|    4|             2|            Y|                  N|\n",
      "|1010.477347|   -1.9E-6|    3|             4|            Y|                  Y|\n",
      "|1767.193057| -6.78E-61|    4|             5|            Y|                  Y|\n",
      "|1650.630413| -1.13E-23|    4|             7|            Y|                  Y|\n",
      "|2040.097512| -8.57E-10|    4|             8|            Y|                  Y|\n",
      "|1914.218778|7.05359E-4|    4|           153|            Y|                  N|\n",
      "|4032.903568|       0.0|    4|            14|            Y|                  N|\n",
      "|1579.599391|  -1.72E-5|    4|            20|            Y|                  Y|\n",
      "|1842.351388|       0.0|    4|            22|            Y|                  N|\n",
      "|2979.215589|       0.0|    4|            28|            Y|                  N|\n",
      "|2590.531473|2.42125E-4|    3|           251|            Y|                  N|\n",
      "|838.4125569|  -2.06E-9|    3|            31|            Y|                  Y|\n",
      "| 927.525672| -1.21E-17|    3|            33|            Y|                  Y|\n",
      "|2155.647897| 1.8596E-4|    4|           211|            Y|                  N|\n",
      "|1088.297127|1.55214E-4|    4|           260|            Y|                  N|\n",
      "|381.6478712| -1.85E-13|    4|            36|            Y|                  Y|\n",
      "|77.76527176|  -9.22E-9|    4|            37|            Y|                  Y|\n",
      "|2009.041381|1.29278E-4|    4|           266|            Y|                  N|\n",
      "|584.0792083|1.20886E-4|    4|           161|            Y|                  N|\n",
      "|729.5204769| -1.8E-223|    4|            42|            Y|                  Y|\n",
      "+-----------+----------+-----+--------------+-------------+-------------------+\n",
      "only showing top 20 rows\n",
      "\n"
     ]
    }
   ],
   "source": [
    "df.filter(df['best_fit_flag'] == 'Y').show()"
   ]
  },
  {
   "cell_type": "code",
   "execution_count": 13,
   "metadata": {
    "ExecuteTime": {
     "end_time": "2020-02-10T21:59:32.053531Z",
     "start_time": "2020-02-10T21:59:31.796264Z"
    }
   },
   "outputs": [],
   "source": [
    "result = df.filter(df['best_fit_flag'] == 'Y').collect()"
   ]
  },
  {
   "cell_type": "code",
   "execution_count": 15,
   "metadata": {
    "ExecuteTime": {
     "end_time": "2020-02-10T21:59:47.082650Z",
     "start_time": "2020-02-10T21:59:47.073101Z"
    }
   },
   "outputs": [
    {
     "data": {
      "text/plain": [
       "'Y'"
      ]
     },
     "execution_count": 15,
     "metadata": {},
     "output_type": "execute_result"
    }
   ],
   "source": [
    "row = result[0]\n",
    "row.asDict()['best_fit_flag']"
   ]
  },
  {
   "cell_type": "markdown",
   "metadata": {},
   "source": [
    "# Groupby and Common Aggregation"
   ]
  },
  {
   "cell_type": "code",
   "execution_count": 16,
   "metadata": {
    "ExecuteTime": {
     "end_time": "2020-02-10T22:00:07.714778Z",
     "start_time": "2020-02-10T22:00:07.681612Z"
    }
   },
   "outputs": [
    {
     "data": {
      "text/plain": [
       "<pyspark.sql.group.GroupedData at 0x1c0a7fc97c8>"
      ]
     },
     "execution_count": 16,
     "metadata": {},
     "output_type": "execute_result"
    }
   ],
   "source": [
    "df.groupBy('best_fit_flag')"
   ]
  },
  {
   "cell_type": "code",
   "execution_count": 17,
   "metadata": {
    "ExecuteTime": {
     "end_time": "2020-02-10T22:00:18.535382Z",
     "start_time": "2020-02-10T22:00:17.373598Z"
    }
   },
   "outputs": [
    {
     "name": "stdout",
     "output_type": "stream",
     "text": [
      "+-------------+------------------+--------------------+-----------------+-------------------+\n",
      "|best_fit_flag|      avg(minimum)|       avg(gradient)|       avg(curve)|avg(master_Term_id)|\n",
      "+-------------+------------------+--------------------+-----------------+-------------------+\n",
      "|            N|2455.7339148680194|4.213025850490093...|2.110062893081761| 128.75471698113208|\n",
      "|            Y|1976.4787205345285|1.844141975358216...|3.669811320754717| 128.75471698113208|\n",
      "+-------------+------------------+--------------------+-----------------+-------------------+\n",
      "\n"
     ]
    }
   ],
   "source": [
    "df.groupBy('best_fit_flag').mean().show()"
   ]
  },
  {
   "cell_type": "code",
   "execution_count": 18,
   "metadata": {
    "ExecuteTime": {
     "end_time": "2020-02-10T22:00:28.990276Z",
     "start_time": "2020-02-10T22:00:28.229487Z"
    }
   },
   "outputs": [
    {
     "name": "stdout",
     "output_type": "stream",
     "text": [
      "+-------------+------------------+--------------------+----------+-------------------+\n",
      "|best_fit_flag|      sum(minimum)|       sum(gradient)|sum(curve)|sum(master_Term_id)|\n",
      "+-------------+------------------+--------------------+----------+-------------------+\n",
      "|            N| 780923.3849280302|0.013397422204558498|       671|              40944|\n",
      "|            Y|209506.74437666003|0.001954790493879...|       389|              13648|\n",
      "+-------------+------------------+--------------------+----------+-------------------+\n",
      "\n"
     ]
    }
   ],
   "source": [
    "df.groupBy('best_fit_flag').sum().show()"
   ]
  },
  {
   "cell_type": "code",
   "execution_count": 19,
   "metadata": {
    "ExecuteTime": {
     "end_time": "2020-02-10T22:00:44.118665Z",
     "start_time": "2020-02-10T22:00:43.710980Z"
    }
   },
   "outputs": [
    {
     "name": "stdout",
     "output_type": "stream",
     "text": [
      "+-------------+-----+\n",
      "|best_fit_flag|count|\n",
      "+-------------+-----+\n",
      "|            N|  318|\n",
      "|            Y|  106|\n",
      "+-------------+-----+\n",
      "\n"
     ]
    }
   ],
   "source": [
    "df.groupBy('best_fit_flag').count().show()"
   ]
  },
  {
   "cell_type": "code",
   "execution_count": 20,
   "metadata": {
    "ExecuteTime": {
     "end_time": "2020-02-10T22:01:06.405849Z",
     "start_time": "2020-02-10T22:01:06.051944Z"
    }
   },
   "outputs": [
    {
     "name": "stdout",
     "output_type": "stream",
     "text": [
      "+-------------+\n",
      "|min(gradient)|\n",
      "+-------------+\n",
      "|  -2.06384E-4|\n",
      "+-------------+\n",
      "\n"
     ]
    }
   ],
   "source": [
    "df.agg({'gradient': 'min'}).show()"
   ]
  },
  {
   "cell_type": "code",
   "execution_count": 21,
   "metadata": {
    "ExecuteTime": {
     "end_time": "2020-02-10T22:01:38.344395Z",
     "start_time": "2020-02-10T22:01:37.958497Z"
    }
   },
   "outputs": [
    {
     "name": "stdout",
     "output_type": "stream",
     "text": [
      "+----------+\n",
      "|sum(curve)|\n",
      "+----------+\n",
      "|      1060|\n",
      "+----------+\n",
      "\n"
     ]
    }
   ],
   "source": [
    "df.agg({'curve': 'sum'}).show()"
   ]
  },
  {
   "cell_type": "code",
   "execution_count": 22,
   "metadata": {
    "ExecuteTime": {
     "end_time": "2020-02-10T22:01:46.645643Z",
     "start_time": "2020-02-10T22:01:46.621510Z"
    }
   },
   "outputs": [],
   "source": [
    "group_data = df.groupBy('best_fit_flag')"
   ]
  },
  {
   "cell_type": "code",
   "execution_count": 23,
   "metadata": {
    "ExecuteTime": {
     "end_time": "2020-02-10T22:01:58.817232Z",
     "start_time": "2020-02-10T22:01:58.319775Z"
    }
   },
   "outputs": [
    {
     "name": "stdout",
     "output_type": "stream",
     "text": [
      "+-------------+--------------------+\n",
      "|best_fit_flag|       sum(gradient)|\n",
      "+-------------+--------------------+\n",
      "|            N|0.013397422204558498|\n",
      "|            Y|0.001954790493879...|\n",
      "+-------------+--------------------+\n",
      "\n"
     ]
    }
   ],
   "source": [
    "group_data.agg({'gradient': 'sum'}).show()"
   ]
  },
  {
   "cell_type": "markdown",
   "metadata": {},
   "source": [
    "# More Operation Functions"
   ]
  },
  {
   "cell_type": "code",
   "execution_count": 24,
   "metadata": {
    "ExecuteTime": {
     "end_time": "2020-02-10T22:02:23.570029Z",
     "start_time": "2020-02-10T22:02:23.159504Z"
    }
   },
   "outputs": [
    {
     "name": "stdout",
     "output_type": "stream",
     "text": [
      "+---------------------+\n",
      "|count(DISTINCT curve)|\n",
      "+---------------------+\n",
      "|                    4|\n",
      "+---------------------+\n",
      "\n"
     ]
    }
   ],
   "source": [
    "from pyspark.sql.functions import countDistinct, avg, stddev\n",
    "df.select(countDistinct('curve')).show()"
   ]
  },
  {
   "cell_type": "code",
   "execution_count": 25,
   "metadata": {
    "ExecuteTime": {
     "end_time": "2020-02-10T22:02:42.547474Z",
     "start_time": "2020-02-10T22:02:42.285167Z"
    }
   },
   "outputs": [
    {
     "name": "stdout",
     "output_type": "stream",
     "text": [
      "+--------------------+\n",
      "|    Average Gradient|\n",
      "+--------------------+\n",
      "|3.620804881707126E-5|\n",
      "+--------------------+\n",
      "\n"
     ]
    }
   ],
   "source": [
    "df.select(avg('gradient').alias('Average Gradient')).show()"
   ]
  },
  {
   "cell_type": "code",
   "execution_count": 26,
   "metadata": {
    "ExecuteTime": {
     "end_time": "2020-02-10T22:02:55.491732Z",
     "start_time": "2020-02-10T22:02:55.188723Z"
    }
   },
   "outputs": [
    {
     "name": "stdout",
     "output_type": "stream",
     "text": [
      "+---------------------+\n",
      "|stddev_samp(gradient)|\n",
      "+---------------------+\n",
      "| 3.654757722030033E-4|\n",
      "+---------------------+\n",
      "\n"
     ]
    }
   ],
   "source": [
    "df.select(stddev('gradient')).show()"
   ]
  },
  {
   "cell_type": "code",
   "execution_count": 27,
   "metadata": {
    "ExecuteTime": {
     "end_time": "2020-02-10T22:03:33.425586Z",
     "start_time": "2020-02-10T22:03:33.390399Z"
    }
   },
   "outputs": [],
   "source": [
    "from pyspark.sql.functions import format_number\n",
    "grad_std = df.select(stddev('gradient').alias('std'))"
   ]
  },
  {
   "cell_type": "code",
   "execution_count": 28,
   "metadata": {
    "ExecuteTime": {
     "end_time": "2020-02-10T22:03:35.622954Z",
     "start_time": "2020-02-10T22:03:35.415942Z"
    }
   },
   "outputs": [
    {
     "name": "stdout",
     "output_type": "stream",
     "text": [
      "+--------------------+\n",
      "|                 std|\n",
      "+--------------------+\n",
      "|3.654757722030033E-4|\n",
      "+--------------------+\n",
      "\n"
     ]
    }
   ],
   "source": [
    "grad_std.show()"
   ]
  },
  {
   "cell_type": "code",
   "execution_count": 29,
   "metadata": {
    "ExecuteTime": {
     "end_time": "2020-02-10T22:03:43.514953Z",
     "start_time": "2020-02-10T22:03:43.151645Z"
    }
   },
   "outputs": [
    {
     "name": "stdout",
     "output_type": "stream",
     "text": [
      "+----+\n",
      "| std|\n",
      "+----+\n",
      "|0.00|\n",
      "+----+\n",
      "\n"
     ]
    }
   ],
   "source": [
    "grad_std.select(format_number('std', 2).alias('std')).show()"
   ]
  },
  {
   "cell_type": "markdown",
   "metadata": {},
   "source": [
    "# Order Rows"
   ]
  },
  {
   "cell_type": "code",
   "execution_count": 30,
   "metadata": {
    "ExecuteTime": {
     "end_time": "2020-02-10T22:04:00.356974Z",
     "start_time": "2020-02-10T22:03:59.858056Z"
    }
   },
   "outputs": [
    {
     "name": "stdout",
     "output_type": "stream",
     "text": [
      "+-----------+-----------+-----+--------------+-------------+-------------------+\n",
      "|    minimum|   gradient|curve|master_Term_id|best_fit_flag|negative_curve_flag|\n",
      "+-----------+-----------+-----+--------------+-------------+-------------------+\n",
      "|8807.157199|-2.06384E-4|    2|           138|            N|                  Y|\n",
      "|10124.73732|-1.57967E-4|    2|           238|            N|                  Y|\n",
      "|10128.97156|-1.49556E-4|    3|           238|            N|                  Y|\n",
      "|8729.035826|-1.43675E-4|    3|           138|            N|                  Y|\n",
      "|2263.437028|    -6.8E-5|    4|           156|            Y|                  Y|\n",
      "|6911.098422|   -5.65E-5|    2|           126|            N|                  Y|\n",
      "|3693.307337|   -5.31E-5|    2|            28|            N|                  Y|\n",
      "| 6914.47351|    -5.1E-5|    3|           126|            N|                  Y|\n",
      "|1319.305954|   -3.63E-5|    2|            31|            N|                  Y|\n",
      "|1319.499305|   -3.63E-5|    4|            31|            N|                  Y|\n",
      "|3673.250246|    -3.6E-5|    3|            28|            N|                  Y|\n",
      "|4153.933221|   -3.02E-5|    2|           190|            N|                  Y|\n",
      "|4155.074988|   -2.93E-5|    3|           190|            N|                  Y|\n",
      "|6111.168927|    -2.4E-5|    2|           147|            N|                  Y|\n",
      "|3744.120838|   -2.31E-5|    2|           241|            N|                  Y|\n",
      "|1820.778762|    -2.3E-5|    2|           240|            N|                  Y|\n",
      "| 3745.32155|   -2.28E-5|    3|           241|            N|                  Y|\n",
      "|1822.165834|   -2.24E-5|    3|           240|            N|                  Y|\n",
      "|4011.276633|   -2.01E-5|    2|           113|            N|                  Y|\n",
      "|4012.238191|   -1.96E-5|    3|           113|            N|                  Y|\n",
      "+-----------+-----------+-----+--------------+-------------+-------------------+\n",
      "only showing top 20 rows\n",
      "\n"
     ]
    }
   ],
   "source": [
    "df.orderBy('gradient').show()"
   ]
  },
  {
   "cell_type": "code",
   "execution_count": 32,
   "metadata": {
    "ExecuteTime": {
     "end_time": "2020-02-10T22:04:17.908890Z",
     "start_time": "2020-02-10T22:04:17.655236Z"
    }
   },
   "outputs": [
    {
     "name": "stdout",
     "output_type": "stream",
     "text": [
      "+-----------+-----------+-----+--------------+-------------+-------------------+\n",
      "|    minimum|   gradient|curve|master_Term_id|best_fit_flag|negative_curve_flag|\n",
      "+-----------+-----------+-----+--------------+-------------+-------------------+\n",
      "|9053.930323|0.006378907|    3|            66|            N|                  N|\n",
      "|6263.383618|0.003852375|    3|           142|            N|                  N|\n",
      "|1914.218778| 7.05359E-4|    4|           153|            Y|                  N|\n",
      "|  2083.4036| 4.26418E-4|    3|            35|            N|                  N|\n",
      "|4273.196412| 3.63939E-4|    3|           118|            N|                  N|\n",
      "|1850.704919| 2.47873E-4|    3|           148|            N|                  N|\n",
      "|2590.531473| 2.42125E-4|    3|           251|            Y|                  N|\n",
      "|2620.305292|  2.0841E-4|    3|           211|            N|                  N|\n",
      "|1877.616765| 1.91045E-4|    3|           121|            N|                  N|\n",
      "|2155.647897|  1.8596E-4|    4|           211|            Y|                  N|\n",
      "|2692.112339| 1.62925E-4|    2|           251|            N|                  N|\n",
      "| 2692.11234| 1.62924E-4|    1|           251|            N|                  N|\n",
      "|2690.719919| 1.61755E-4|    4|           251|            N|                  N|\n",
      "|9206.522614| 1.58078E-4|    1|           142|            N|                  N|\n",
      "|9206.522614| 1.58076E-4|    2|           142|            N|                  N|\n",
      "|1088.297127| 1.55214E-4|    4|           260|            Y|                  N|\n",
      "|1329.824564| 1.47846E-4|    3|           202|            N|                  N|\n",
      "|2009.041381| 1.29278E-4|    4|           266|            Y|                  N|\n",
      "|584.0792083| 1.20886E-4|    4|           161|            Y|                  N|\n",
      "|1318.071394| 1.19362E-4|    4|           121|            Y|                  N|\n",
      "+-----------+-----------+-----+--------------+-------------+-------------------+\n",
      "only showing top 20 rows\n",
      "\n"
     ]
    }
   ],
   "source": [
    "df.orderBy(df['gradient'].desc()).show()"
   ]
  },
  {
   "cell_type": "markdown",
   "metadata": {},
   "source": [
    "# Missing Value"
   ]
  },
  {
   "cell_type": "code",
   "execution_count": 39,
   "metadata": {
    "ExecuteTime": {
     "end_time": "2020-02-10T22:12:05.524373Z",
     "start_time": "2020-02-10T22:12:04.955842Z"
    }
   },
   "outputs": [
    {
     "name": "stdout",
     "output_type": "stream",
     "text": [
      "+---+---------+-------+-----+--------------------+------+-------+-----------+----------+--------+----------+------+--------+\n",
      "| ID|     Date|Country|VehID|         Destination|KmInit|KmFinal| FuelBought|AmountFuel|CashFuel|AmountCash|FuelKm|DriverID|\n",
      "+---+---------+-------+-----+--------------------+------+-------+-----------+----------+--------+----------+------+--------+\n",
      "| 30|1/11/2008|      1|   12|                null| 67029|  67429|        0.0|         0|       0|         0|     0|       1|\n",
      "| 31|1/14/2008|      1|   12|                null| 67429|  67848|        0.0|         0|       0|         0|     0|       1|\n",
      "| 32|1/14/2008|      1|   12|                null| 67848|  67850|        0.0|         0|       0|         0|     0|       1|\n",
      "| 33|1/17/2008|      1|   12|                null| 67850|  68072|        0.0|         0|       0|         0|     0|       1|\n",
      "| 34|1/19/2008|      1|   12|                null| 68072|  68186|        0.0|         0|       0|         0|     0|       1|\n",
      "| 36|1/22/2008|      1|   12|                null| 68186|  68418|110.2200012|      8500|       0|         0| 68190|       1|\n",
      "| 37|1/23/2008|      1|   12|Kakuru - Within Town| 68418|  68501|        0.0|         0|       0|         0|     0|       1|\n",
      "| 38|1/24/2008|      1|   12|Nakuru - Mogotio ...| 68501|  68737|        0.0|         0|       0|         0|     0|       1|\n",
      "| 39|1/26/2008|      1|   12|Nakuru - IDP Camp...| 68737|  69389|        0.0|         0|       0|         0|     0|       1|\n",
      "| 74| 1/6/2008|   null|   35|                null| 49180|  49219|34.38000107|      3015|       0|         0| 49200|     202|\n",
      "+---+---------+-------+-----+--------------------+------+-------+-----------+----------+--------+----------+------+--------+\n",
      "\n"
     ]
    }
   ],
   "source": [
    "df = spark.read.csv('../datasets/test.csv', inferSchema = True, header=True)\n",
    "df.show()"
   ]
  },
  {
   "cell_type": "code",
   "execution_count": 40,
   "metadata": {
    "ExecuteTime": {
     "end_time": "2020-02-10T22:12:10.672408Z",
     "start_time": "2020-02-10T22:12:10.436178Z"
    }
   },
   "outputs": [
    {
     "name": "stdout",
     "output_type": "stream",
     "text": [
      "+---+---------+-------+-----+--------------------+------+-------+----------+----------+--------+----------+------+--------+\n",
      "| ID|     Date|Country|VehID|         Destination|KmInit|KmFinal|FuelBought|AmountFuel|CashFuel|AmountCash|FuelKm|DriverID|\n",
      "+---+---------+-------+-----+--------------------+------+-------+----------+----------+--------+----------+------+--------+\n",
      "| 37|1/23/2008|      1|   12|Kakuru - Within Town| 68418|  68501|       0.0|         0|       0|         0|     0|       1|\n",
      "| 38|1/24/2008|      1|   12|Nakuru - Mogotio ...| 68501|  68737|       0.0|         0|       0|         0|     0|       1|\n",
      "| 39|1/26/2008|      1|   12|Nakuru - IDP Camp...| 68737|  69389|       0.0|         0|       0|         0|     0|       1|\n",
      "+---+---------+-------+-----+--------------------+------+-------+----------+----------+--------+----------+------+--------+\n",
      "\n"
     ]
    }
   ],
   "source": [
    "df.na.drop().show()"
   ]
  },
  {
   "cell_type": "code",
   "execution_count": 41,
   "metadata": {
    "ExecuteTime": {
     "end_time": "2020-02-10T22:12:20.937040Z",
     "start_time": "2020-02-10T22:12:20.740551Z"
    }
   },
   "outputs": [
    {
     "name": "stdout",
     "output_type": "stream",
     "text": [
      "+---+---------+-------+-----+--------------------+------+-------+----------+----------+--------+----------+------+--------+\n",
      "| ID|     Date|Country|VehID|         Destination|KmInit|KmFinal|FuelBought|AmountFuel|CashFuel|AmountCash|FuelKm|DriverID|\n",
      "+---+---------+-------+-----+--------------------+------+-------+----------+----------+--------+----------+------+--------+\n",
      "| 37|1/23/2008|      1|   12|Kakuru - Within Town| 68418|  68501|       0.0|         0|       0|         0|     0|       1|\n",
      "| 38|1/24/2008|      1|   12|Nakuru - Mogotio ...| 68501|  68737|       0.0|         0|       0|         0|     0|       1|\n",
      "| 39|1/26/2008|      1|   12|Nakuru - IDP Camp...| 68737|  69389|       0.0|         0|       0|         0|     0|       1|\n",
      "+---+---------+-------+-----+--------------------+------+-------+----------+----------+--------+----------+------+--------+\n",
      "\n"
     ]
    }
   ],
   "source": [
    "df.na.drop(thresh=13).show()"
   ]
  },
  {
   "cell_type": "code",
   "execution_count": 42,
   "metadata": {
    "ExecuteTime": {
     "end_time": "2020-02-10T22:12:27.032114Z",
     "start_time": "2020-02-10T22:12:26.819998Z"
    }
   },
   "outputs": [
    {
     "name": "stdout",
     "output_type": "stream",
     "text": [
      "+---+---------+-------+-----+--------------------+------+-------+-----------+----------+--------+----------+------+--------+\n",
      "| ID|     Date|Country|VehID|         Destination|KmInit|KmFinal| FuelBought|AmountFuel|CashFuel|AmountCash|FuelKm|DriverID|\n",
      "+---+---------+-------+-----+--------------------+------+-------+-----------+----------+--------+----------+------+--------+\n",
      "| 30|1/11/2008|      1|   12|                null| 67029|  67429|        0.0|         0|       0|         0|     0|       1|\n",
      "| 31|1/14/2008|      1|   12|                null| 67429|  67848|        0.0|         0|       0|         0|     0|       1|\n",
      "| 32|1/14/2008|      1|   12|                null| 67848|  67850|        0.0|         0|       0|         0|     0|       1|\n",
      "| 33|1/17/2008|      1|   12|                null| 67850|  68072|        0.0|         0|       0|         0|     0|       1|\n",
      "| 34|1/19/2008|      1|   12|                null| 68072|  68186|        0.0|         0|       0|         0|     0|       1|\n",
      "| 36|1/22/2008|      1|   12|                null| 68186|  68418|110.2200012|      8500|       0|         0| 68190|       1|\n",
      "| 37|1/23/2008|      1|   12|Kakuru - Within Town| 68418|  68501|        0.0|         0|       0|         0|     0|       1|\n",
      "| 38|1/24/2008|      1|   12|Nakuru - Mogotio ...| 68501|  68737|        0.0|         0|       0|         0|     0|       1|\n",
      "| 39|1/26/2008|      1|   12|Nakuru - IDP Camp...| 68737|  69389|        0.0|         0|       0|         0|     0|       1|\n",
      "| 74| 1/6/2008|   null|   35|                null| 49180|  49219|34.38000107|      3015|       0|         0| 49200|     202|\n",
      "+---+---------+-------+-----+--------------------+------+-------+-----------+----------+--------+----------+------+--------+\n",
      "\n"
     ]
    }
   ],
   "source": [
    "df.na.drop(how = 'all').show()"
   ]
  },
  {
   "cell_type": "code",
   "execution_count": 43,
   "metadata": {
    "ExecuteTime": {
     "end_time": "2020-02-10T22:12:45.899823Z",
     "start_time": "2020-02-10T22:12:45.683656Z"
    }
   },
   "outputs": [
    {
     "name": "stdout",
     "output_type": "stream",
     "text": [
      "+---+---------+-------+-----+--------------------+------+-------+----------+----------+--------+----------+------+--------+\n",
      "| ID|     Date|Country|VehID|         Destination|KmInit|KmFinal|FuelBought|AmountFuel|CashFuel|AmountCash|FuelKm|DriverID|\n",
      "+---+---------+-------+-----+--------------------+------+-------+----------+----------+--------+----------+------+--------+\n",
      "| 37|1/23/2008|      1|   12|Kakuru - Within Town| 68418|  68501|       0.0|         0|       0|         0|     0|       1|\n",
      "| 38|1/24/2008|      1|   12|Nakuru - Mogotio ...| 68501|  68737|       0.0|         0|       0|         0|     0|       1|\n",
      "| 39|1/26/2008|      1|   12|Nakuru - IDP Camp...| 68737|  69389|       0.0|         0|       0|         0|     0|       1|\n",
      "+---+---------+-------+-----+--------------------+------+-------+----------+----------+--------+----------+------+--------+\n",
      "\n"
     ]
    }
   ],
   "source": [
    "df.na.drop(subset=\"Destination\").show()"
   ]
  },
  {
   "cell_type": "code",
   "execution_count": 44,
   "metadata": {
    "ExecuteTime": {
     "end_time": "2020-02-10T22:12:57.353376Z",
     "start_time": "2020-02-10T22:12:57.344343Z"
    }
   },
   "outputs": [
    {
     "name": "stdout",
     "output_type": "stream",
     "text": [
      "root\n",
      " |-- ID: integer (nullable = true)\n",
      " |-- Date: string (nullable = true)\n",
      " |-- Country: integer (nullable = true)\n",
      " |-- VehID: integer (nullable = true)\n",
      " |-- Destination: string (nullable = true)\n",
      " |-- KmInit: integer (nullable = true)\n",
      " |-- KmFinal: integer (nullable = true)\n",
      " |-- FuelBought: double (nullable = true)\n",
      " |-- AmountFuel: integer (nullable = true)\n",
      " |-- CashFuel: integer (nullable = true)\n",
      " |-- AmountCash: integer (nullable = true)\n",
      " |-- FuelKm: integer (nullable = true)\n",
      " |-- DriverID: integer (nullable = true)\n",
      "\n"
     ]
    }
   ],
   "source": [
    "df.printSchema()"
   ]
  },
  {
   "cell_type": "code",
   "execution_count": 46,
   "metadata": {
    "ExecuteTime": {
     "end_time": "2020-02-10T22:13:19.532614Z",
     "start_time": "2020-02-10T22:13:19.305782Z"
    }
   },
   "outputs": [
    {
     "name": "stdout",
     "output_type": "stream",
     "text": [
      "+---+---------+-------+-----+--------------------+------+-------+-----------+----------+--------+----------+------+--------+\n",
      "| ID|     Date|Country|VehID|         Destination|KmInit|KmFinal| FuelBought|AmountFuel|CashFuel|AmountCash|FuelKm|DriverID|\n",
      "+---+---------+-------+-----+--------------------+------+-------+-----------+----------+--------+----------+------+--------+\n",
      "| 30|1/11/2008|      1|   12|             Unknown| 67029|  67429|        0.0|         0|       0|         0|     0|       1|\n",
      "| 31|1/14/2008|      1|   12|             Unknown| 67429|  67848|        0.0|         0|       0|         0|     0|       1|\n",
      "| 32|1/14/2008|      1|   12|             Unknown| 67848|  67850|        0.0|         0|       0|         0|     0|       1|\n",
      "| 33|1/17/2008|      1|   12|             Unknown| 67850|  68072|        0.0|         0|       0|         0|     0|       1|\n",
      "| 34|1/19/2008|      1|   12|             Unknown| 68072|  68186|        0.0|         0|       0|         0|     0|       1|\n",
      "| 36|1/22/2008|      1|   12|             Unknown| 68186|  68418|110.2200012|      8500|       0|         0| 68190|       1|\n",
      "| 37|1/23/2008|      1|   12|Kakuru - Within Town| 68418|  68501|        0.0|         0|       0|         0|     0|       1|\n",
      "| 38|1/24/2008|      1|   12|Nakuru - Mogotio ...| 68501|  68737|        0.0|         0|       0|         0|     0|       1|\n",
      "| 39|1/26/2008|      1|   12|Nakuru - IDP Camp...| 68737|  69389|        0.0|         0|       0|         0|     0|       1|\n",
      "| 74| 1/6/2008|   null|   35|             Unknown| 49180|  49219|34.38000107|      3015|       0|         0| 49200|     202|\n",
      "+---+---------+-------+-----+--------------------+------+-------+-----------+----------+--------+----------+------+--------+\n",
      "\n"
     ]
    }
   ],
   "source": [
    "df.na.fill(\"Unknown\").show()"
   ]
  },
  {
   "cell_type": "code",
   "execution_count": 47,
   "metadata": {
    "ExecuteTime": {
     "end_time": "2020-02-10T22:13:47.452445Z",
     "start_time": "2020-02-10T22:13:47.210771Z"
    }
   },
   "outputs": [
    {
     "name": "stdout",
     "output_type": "stream",
     "text": [
      "+---+---------+-------+-----+--------------------+------+-------+-----------+----------+--------+----------+------+--------+\n",
      "| ID|     Date|Country|VehID|         Destination|KmInit|KmFinal| FuelBought|AmountFuel|CashFuel|AmountCash|FuelKm|DriverID|\n",
      "+---+---------+-------+-----+--------------------+------+-------+-----------+----------+--------+----------+------+--------+\n",
      "| 30|1/11/2008|      1|   12|          fill value| 67029|  67429|        0.0|         0|       0|         0|     0|       1|\n",
      "| 31|1/14/2008|      1|   12|          fill value| 67429|  67848|        0.0|         0|       0|         0|     0|       1|\n",
      "| 32|1/14/2008|      1|   12|          fill value| 67848|  67850|        0.0|         0|       0|         0|     0|       1|\n",
      "| 33|1/17/2008|      1|   12|          fill value| 67850|  68072|        0.0|         0|       0|         0|     0|       1|\n",
      "| 34|1/19/2008|      1|   12|          fill value| 68072|  68186|        0.0|         0|       0|         0|     0|       1|\n",
      "| 36|1/22/2008|      1|   12|          fill value| 68186|  68418|110.2200012|      8500|       0|         0| 68190|       1|\n",
      "| 37|1/23/2008|      1|   12|Kakuru - Within Town| 68418|  68501|        0.0|         0|       0|         0|     0|       1|\n",
      "| 38|1/24/2008|      1|   12|Nakuru - Mogotio ...| 68501|  68737|        0.0|         0|       0|         0|     0|       1|\n",
      "| 39|1/26/2008|      1|   12|Nakuru - IDP Camp...| 68737|  69389|        0.0|         0|       0|         0|     0|       1|\n",
      "| 74| 1/6/2008|   null|   35|          fill value| 49180|  49219|34.38000107|      3015|       0|         0| 49200|     202|\n",
      "+---+---------+-------+-----+--------------------+------+-------+-----------+----------+--------+----------+------+--------+\n",
      "\n"
     ]
    }
   ],
   "source": [
    "df.na.fill('fill value', subset = 'Destination').show()"
   ]
  },
  {
   "cell_type": "markdown",
   "metadata": {},
   "source": [
    "# Dates and Timestamps"
   ]
  },
  {
   "cell_type": "code",
   "execution_count": 65,
   "metadata": {
    "ExecuteTime": {
     "end_time": "2020-02-10T22:20:41.382407Z",
     "start_time": "2020-02-10T22:20:41.094340Z"
    }
   },
   "outputs": [],
   "source": [
    "df = spark.read.csv('../datasets/test.csv', inferSchema = True, header=True)"
   ]
  },
  {
   "cell_type": "code",
   "execution_count": 66,
   "metadata": {
    "ExecuteTime": {
     "end_time": "2020-02-10T22:20:43.661372Z",
     "start_time": "2020-02-10T22:20:43.445780Z"
    }
   },
   "outputs": [
    {
     "data": {
      "text/plain": [
       "[Row(ID=30, Date='1/11/2008', Country=1, VehID=12, Destination=None, KmInit=67029, KmFinal=67429, FuelBought=0.0, AmountFuel=0, CashFuel=0, AmountCash=0, FuelKm=0, DriverID=1)]"
      ]
     },
     "execution_count": 66,
     "metadata": {},
     "output_type": "execute_result"
    }
   ],
   "source": [
    "df.take(1)"
   ]
  },
  {
   "cell_type": "code",
   "execution_count": 67,
   "metadata": {
    "ExecuteTime": {
     "end_time": "2020-02-10T22:20:45.555385Z",
     "start_time": "2020-02-10T22:20:45.398628Z"
    }
   },
   "outputs": [
    {
     "name": "stdout",
     "output_type": "stream",
     "text": [
      "+---------+-------+\n",
      "|     Date|KmFinal|\n",
      "+---------+-------+\n",
      "|1/11/2008|  67429|\n",
      "|1/14/2008|  67848|\n",
      "|1/14/2008|  67850|\n",
      "|1/17/2008|  68072|\n",
      "|1/19/2008|  68186|\n",
      "|1/22/2008|  68418|\n",
      "|1/23/2008|  68501|\n",
      "|1/24/2008|  68737|\n",
      "|1/26/2008|  69389|\n",
      "| 1/6/2008|  49219|\n",
      "+---------+-------+\n",
      "\n"
     ]
    }
   ],
   "source": [
    "df.select('Date', 'KmFinal').show()"
   ]
  },
  {
   "cell_type": "code",
   "execution_count": 68,
   "metadata": {
    "ExecuteTime": {
     "end_time": "2020-02-10T22:20:47.789744Z",
     "start_time": "2020-02-10T22:20:47.783211Z"
    }
   },
   "outputs": [],
   "source": [
    "from pyspark.sql.functions import (dayofmonth, hour, dayofyear, month, year, weekofyear, format_number, date_format, to_timestamp)"
   ]
  },
  {
   "cell_type": "code",
   "execution_count": 69,
   "metadata": {
    "ExecuteTime": {
     "end_time": "2020-02-10T22:20:50.118958Z",
     "start_time": "2020-02-10T22:20:50.082254Z"
    }
   },
   "outputs": [],
   "source": [
    "df = df.select(to_timestamp(df.Date, 'M/d/yyyy').alias('dt'), 'KmFinal')"
   ]
  },
  {
   "cell_type": "code",
   "execution_count": 70,
   "metadata": {
    "ExecuteTime": {
     "end_time": "2020-02-10T22:20:53.193539Z",
     "start_time": "2020-02-10T22:20:53.037560Z"
    }
   },
   "outputs": [
    {
     "name": "stdout",
     "output_type": "stream",
     "text": [
      "+--------------+\n",
      "|dayofmonth(dt)|\n",
      "+--------------+\n",
      "|            11|\n",
      "|            14|\n",
      "|            14|\n",
      "|            17|\n",
      "|            19|\n",
      "+--------------+\n",
      "only showing top 5 rows\n",
      "\n"
     ]
    }
   ],
   "source": [
    "df.select(dayofmonth(df['dt'])).show(5)"
   ]
  },
  {
   "cell_type": "code",
   "execution_count": 72,
   "metadata": {
    "ExecuteTime": {
     "end_time": "2020-02-10T22:21:01.931875Z",
     "start_time": "2020-02-10T22:21:01.756000Z"
    }
   },
   "outputs": [
    {
     "name": "stdout",
     "output_type": "stream",
     "text": [
      "+--------+\n",
      "|hour(dt)|\n",
      "+--------+\n",
      "|       0|\n",
      "|       0|\n",
      "|       0|\n",
      "|       0|\n",
      "|       0|\n",
      "+--------+\n",
      "only showing top 5 rows\n",
      "\n"
     ]
    }
   ],
   "source": [
    "df.select(hour(df['dt'])).show(5)"
   ]
  },
  {
   "cell_type": "code",
   "execution_count": 73,
   "metadata": {
    "ExecuteTime": {
     "end_time": "2020-02-10T22:21:07.779830Z",
     "start_time": "2020-02-10T22:21:07.538664Z"
    }
   },
   "outputs": [
    {
     "name": "stdout",
     "output_type": "stream",
     "text": [
      "+---------+\n",
      "|month(dt)|\n",
      "+---------+\n",
      "|        1|\n",
      "|        1|\n",
      "|        1|\n",
      "|        1|\n",
      "|        1|\n",
      "+---------+\n",
      "only showing top 5 rows\n",
      "\n"
     ]
    }
   ],
   "source": [
    "df.select(month(df['dt'])).show(5)"
   ]
  },
  {
   "cell_type": "code",
   "execution_count": 74,
   "metadata": {
    "ExecuteTime": {
     "end_time": "2020-02-10T22:21:13.022394Z",
     "start_time": "2020-02-10T22:21:12.832445Z"
    }
   },
   "outputs": [
    {
     "name": "stdout",
     "output_type": "stream",
     "text": [
      "+--------+\n",
      "|year(dt)|\n",
      "+--------+\n",
      "|    2008|\n",
      "|    2008|\n",
      "|    2008|\n",
      "|    2008|\n",
      "|    2008|\n",
      "+--------+\n",
      "only showing top 5 rows\n",
      "\n"
     ]
    }
   ],
   "source": [
    "df.select(year(df['dt'])).show(5)"
   ]
  },
  {
   "cell_type": "code",
   "execution_count": 75,
   "metadata": {
    "ExecuteTime": {
     "end_time": "2020-02-10T22:21:19.200879Z",
     "start_time": "2020-02-10T22:21:19.167714Z"
    }
   },
   "outputs": [],
   "source": [
    "new_df = df.withColumn('Year', year(df['dt']))"
   ]
  },
  {
   "cell_type": "code",
   "execution_count": 76,
   "metadata": {
    "ExecuteTime": {
     "end_time": "2020-02-10T22:21:38.993562Z",
     "start_time": "2020-02-10T22:21:38.565931Z"
    }
   },
   "outputs": [
    {
     "name": "stdout",
     "output_type": "stream",
     "text": [
      "+----+------------+\n",
      "|Year|avg(KmFinal)|\n",
      "+----+------------+\n",
      "|2008|     66364.9|\n",
      "+----+------------+\n",
      "\n"
     ]
    }
   ],
   "source": [
    "result = new_df.groupBy('Year').mean().select(['Year', 'avg(KmFinal)'])\n",
    "result.show()"
   ]
  },
  {
   "cell_type": "code",
   "execution_count": 77,
   "metadata": {
    "ExecuteTime": {
     "end_time": "2020-02-10T22:21:51.626688Z",
     "start_time": "2020-02-10T22:21:51.430190Z"
    }
   },
   "outputs": [
    {
     "name": "stdout",
     "output_type": "stream",
     "text": [
      "+----+----------------+\n",
      "|Year|Average KM Final|\n",
      "+----+----------------+\n",
      "|2008|         66364.9|\n",
      "+----+----------------+\n",
      "\n"
     ]
    }
   ],
   "source": [
    "new_result = result.withColumnRenamed('avg(KmFinal)', 'Average KM Final')\n",
    "new_result.show()"
   ]
  },
  {
   "cell_type": "code",
   "execution_count": 79,
   "metadata": {
    "ExecuteTime": {
     "end_time": "2020-02-10T22:22:59.727306Z",
     "start_time": "2020-02-10T22:22:59.428995Z"
    },
    "scrolled": true
   },
   "outputs": [
    {
     "name": "stdout",
     "output_type": "stream",
     "text": [
      "+----+----------------+\n",
      "|Year|Average KM Final|\n",
      "+----+----------------+\n",
      "|2008|       66,364.90|\n",
      "+----+----------------+\n",
      "\n"
     ]
    }
   ],
   "source": [
    "new_result.select(['Year', format_number('Average KM Final', 2).alias('Average KM Final')]).show()"
   ]
  },
  {
   "cell_type": "markdown",
   "metadata": {},
   "source": [
    "# Use SQL"
   ]
  },
  {
   "cell_type": "code",
   "execution_count": 83,
   "metadata": {
    "ExecuteTime": {
     "end_time": "2020-02-10T22:26:49.418383Z",
     "start_time": "2020-02-10T22:26:48.954768Z"
    }
   },
   "outputs": [],
   "source": [
    "df = spark.read.csv('../datasets/test.csv', inferSchema = True, header=True)\n",
    "df.createOrReplaceTempView(\"test\")"
   ]
  },
  {
   "cell_type": "code",
   "execution_count": 87,
   "metadata": {
    "ExecuteTime": {
     "end_time": "2020-02-10T22:27:45.835122Z",
     "start_time": "2020-02-10T22:27:45.660254Z"
    }
   },
   "outputs": [
    {
     "name": "stdout",
     "output_type": "stream",
     "text": [
      "+---+---------+-------+-----+--------------------+------+-------+-----------+----------+--------+----------+------+--------+\n",
      "| ID|     Date|Country|VehID|         Destination|KmInit|KmFinal| FuelBought|AmountFuel|CashFuel|AmountCash|FuelKm|DriverID|\n",
      "+---+---------+-------+-----+--------------------+------+-------+-----------+----------+--------+----------+------+--------+\n",
      "| 30|1/11/2008|      1|   12|                null| 67029|  67429|        0.0|         0|       0|         0|     0|       1|\n",
      "| 31|1/14/2008|      1|   12|                null| 67429|  67848|        0.0|         0|       0|         0|     0|       1|\n",
      "| 32|1/14/2008|      1|   12|                null| 67848|  67850|        0.0|         0|       0|         0|     0|       1|\n",
      "| 33|1/17/2008|      1|   12|                null| 67850|  68072|        0.0|         0|       0|         0|     0|       1|\n",
      "| 34|1/19/2008|      1|   12|                null| 68072|  68186|        0.0|         0|       0|         0|     0|       1|\n",
      "| 36|1/22/2008|      1|   12|                null| 68186|  68418|110.2200012|      8500|       0|         0| 68190|       1|\n",
      "| 37|1/23/2008|      1|   12|Kakuru - Within Town| 68418|  68501|        0.0|         0|       0|         0|     0|       1|\n",
      "| 38|1/24/2008|      1|   12|Nakuru - Mogotio ...| 68501|  68737|        0.0|         0|       0|         0|     0|       1|\n",
      "| 39|1/26/2008|      1|   12|Nakuru - IDP Camp...| 68737|  69389|        0.0|         0|       0|         0|     0|       1|\n",
      "| 74| 1/6/2008|   null|   35|                null| 49180|  49219|34.38000107|      3015|       0|         0| 49200|     202|\n",
      "+---+---------+-------+-----+--------------------+------+-------+-----------+----------+--------+----------+------+--------+\n",
      "\n"
     ]
    }
   ],
   "source": [
    "df1 = spark.sql(\"select * from test\")\n",
    "df1.show()"
   ]
  },
  {
   "cell_type": "code",
   "execution_count": 88,
   "metadata": {
    "ExecuteTime": {
     "end_time": "2020-02-10T22:28:43.641178Z",
     "start_time": "2020-02-10T22:28:43.353240Z"
    }
   },
   "outputs": [
    {
     "name": "stdout",
     "output_type": "stream",
     "text": [
      "+-----+-----+\n",
      "|VehID|count|\n",
      "+-----+-----+\n",
      "|   12|    9|\n",
      "|   35|    1|\n",
      "+-----+-----+\n",
      "\n"
     ]
    }
   ],
   "source": [
    "df1 = spark.sql(\"select VehID, count(*) as count from test group by VehID\")\n",
    "df1.show()"
   ]
  },
  {
   "cell_type": "markdown",
   "metadata": {},
   "source": [
    "# Convert to Pandas DataFrame"
   ]
  },
  {
   "cell_type": "code",
   "execution_count": 89,
   "metadata": {
    "ExecuteTime": {
     "end_time": "2020-02-10T22:29:41.706970Z",
     "start_time": "2020-02-10T22:29:39.468168Z"
    }
   },
   "outputs": [
    {
     "data": {
      "text/html": [
       "<div>\n",
       "<style scoped>\n",
       "    .dataframe tbody tr th:only-of-type {\n",
       "        vertical-align: middle;\n",
       "    }\n",
       "\n",
       "    .dataframe tbody tr th {\n",
       "        vertical-align: top;\n",
       "    }\n",
       "\n",
       "    .dataframe thead th {\n",
       "        text-align: right;\n",
       "    }\n",
       "</style>\n",
       "<table border=\"1\" class=\"dataframe\">\n",
       "  <thead>\n",
       "    <tr style=\"text-align: right;\">\n",
       "      <th></th>\n",
       "      <th>ID</th>\n",
       "      <th>Date</th>\n",
       "      <th>Country</th>\n",
       "      <th>VehID</th>\n",
       "      <th>Destination</th>\n",
       "      <th>KmInit</th>\n",
       "      <th>KmFinal</th>\n",
       "      <th>FuelBought</th>\n",
       "      <th>AmountFuel</th>\n",
       "      <th>CashFuel</th>\n",
       "      <th>AmountCash</th>\n",
       "      <th>FuelKm</th>\n",
       "      <th>DriverID</th>\n",
       "    </tr>\n",
       "  </thead>\n",
       "  <tbody>\n",
       "    <tr>\n",
       "      <th>0</th>\n",
       "      <td>30</td>\n",
       "      <td>1/11/2008</td>\n",
       "      <td>1.0</td>\n",
       "      <td>12</td>\n",
       "      <td>None</td>\n",
       "      <td>67029</td>\n",
       "      <td>67429</td>\n",
       "      <td>0.0</td>\n",
       "      <td>0</td>\n",
       "      <td>0</td>\n",
       "      <td>0</td>\n",
       "      <td>0</td>\n",
       "      <td>1</td>\n",
       "    </tr>\n",
       "    <tr>\n",
       "      <th>1</th>\n",
       "      <td>31</td>\n",
       "      <td>1/14/2008</td>\n",
       "      <td>1.0</td>\n",
       "      <td>12</td>\n",
       "      <td>None</td>\n",
       "      <td>67429</td>\n",
       "      <td>67848</td>\n",
       "      <td>0.0</td>\n",
       "      <td>0</td>\n",
       "      <td>0</td>\n",
       "      <td>0</td>\n",
       "      <td>0</td>\n",
       "      <td>1</td>\n",
       "    </tr>\n",
       "    <tr>\n",
       "      <th>2</th>\n",
       "      <td>32</td>\n",
       "      <td>1/14/2008</td>\n",
       "      <td>1.0</td>\n",
       "      <td>12</td>\n",
       "      <td>None</td>\n",
       "      <td>67848</td>\n",
       "      <td>67850</td>\n",
       "      <td>0.0</td>\n",
       "      <td>0</td>\n",
       "      <td>0</td>\n",
       "      <td>0</td>\n",
       "      <td>0</td>\n",
       "      <td>1</td>\n",
       "    </tr>\n",
       "    <tr>\n",
       "      <th>3</th>\n",
       "      <td>33</td>\n",
       "      <td>1/17/2008</td>\n",
       "      <td>1.0</td>\n",
       "      <td>12</td>\n",
       "      <td>None</td>\n",
       "      <td>67850</td>\n",
       "      <td>68072</td>\n",
       "      <td>0.0</td>\n",
       "      <td>0</td>\n",
       "      <td>0</td>\n",
       "      <td>0</td>\n",
       "      <td>0</td>\n",
       "      <td>1</td>\n",
       "    </tr>\n",
       "    <tr>\n",
       "      <th>4</th>\n",
       "      <td>34</td>\n",
       "      <td>1/19/2008</td>\n",
       "      <td>1.0</td>\n",
       "      <td>12</td>\n",
       "      <td>None</td>\n",
       "      <td>68072</td>\n",
       "      <td>68186</td>\n",
       "      <td>0.0</td>\n",
       "      <td>0</td>\n",
       "      <td>0</td>\n",
       "      <td>0</td>\n",
       "      <td>0</td>\n",
       "      <td>1</td>\n",
       "    </tr>\n",
       "  </tbody>\n",
       "</table>\n",
       "</div>"
      ],
      "text/plain": [
       "   ID       Date  Country  VehID Destination  KmInit  KmFinal  FuelBought  \\\n",
       "0  30  1/11/2008      1.0     12        None   67029    67429         0.0   \n",
       "1  31  1/14/2008      1.0     12        None   67429    67848         0.0   \n",
       "2  32  1/14/2008      1.0     12        None   67848    67850         0.0   \n",
       "3  33  1/17/2008      1.0     12        None   67850    68072         0.0   \n",
       "4  34  1/19/2008      1.0     12        None   68072    68186         0.0   \n",
       "\n",
       "   AmountFuel  CashFuel  AmountCash  FuelKm  DriverID  \n",
       "0           0         0           0       0         1  \n",
       "1           0         0           0       0         1  \n",
       "2           0         0           0       0         1  \n",
       "3           0         0           0       0         1  \n",
       "4           0         0           0       0         1  "
      ]
     },
     "execution_count": 89,
     "metadata": {},
     "output_type": "execute_result"
    }
   ],
   "source": [
    "df = spark.read.csv('../datasets/test.csv', inferSchema = True, header=True)\n",
    "df.toPandas().head()"
   ]
  },
  {
   "cell_type": "code",
   "execution_count": 94,
   "metadata": {
    "ExecuteTime": {
     "end_time": "2020-02-10T22:31:18.540394Z",
     "start_time": "2020-02-10T22:31:18.407013Z"
    }
   },
   "outputs": [
    {
     "data": {
      "text/html": [
       "<div>\n",
       "<style scoped>\n",
       "    .dataframe tbody tr th:only-of-type {\n",
       "        vertical-align: middle;\n",
       "    }\n",
       "\n",
       "    .dataframe tbody tr th {\n",
       "        vertical-align: top;\n",
       "    }\n",
       "\n",
       "    .dataframe thead th {\n",
       "        text-align: right;\n",
       "    }\n",
       "</style>\n",
       "<table border=\"1\" class=\"dataframe\">\n",
       "  <thead>\n",
       "    <tr style=\"text-align: right;\">\n",
       "      <th></th>\n",
       "      <th>Date</th>\n",
       "      <th>KmFinal</th>\n",
       "    </tr>\n",
       "  </thead>\n",
       "  <tbody>\n",
       "    <tr>\n",
       "      <th>0</th>\n",
       "      <td>1/11/2008</td>\n",
       "      <td>67429</td>\n",
       "    </tr>\n",
       "    <tr>\n",
       "      <th>1</th>\n",
       "      <td>1/14/2008</td>\n",
       "      <td>67848</td>\n",
       "    </tr>\n",
       "    <tr>\n",
       "      <th>2</th>\n",
       "      <td>1/14/2008</td>\n",
       "      <td>67850</td>\n",
       "    </tr>\n",
       "    <tr>\n",
       "      <th>3</th>\n",
       "      <td>1/17/2008</td>\n",
       "      <td>68072</td>\n",
       "    </tr>\n",
       "    <tr>\n",
       "      <th>4</th>\n",
       "      <td>1/19/2008</td>\n",
       "      <td>68186</td>\n",
       "    </tr>\n",
       "  </tbody>\n",
       "</table>\n",
       "</div>"
      ],
      "text/plain": [
       "        Date  KmFinal\n",
       "0  1/11/2008    67429\n",
       "1  1/14/2008    67848\n",
       "2  1/14/2008    67850\n",
       "3  1/17/2008    68072\n",
       "4  1/19/2008    68186"
      ]
     },
     "execution_count": 94,
     "metadata": {},
     "output_type": "execute_result"
    }
   ],
   "source": [
    "df_pd = df.toPandas()\n",
    "df_pd[['Date','KmFinal']].head()"
   ]
  },
  {
   "cell_type": "markdown",
   "metadata": {},
   "source": [
    "__Please note: the dataset will be collected at the local memory mode from distributed memory mode after toPandas() function called.__"
   ]
  }
 ],
 "metadata": {
  "kernelspec": {
   "display_name": "Python 3",
   "language": "python",
   "name": "python3"
  },
  "language_info": {
   "codemirror_mode": {
    "name": "ipython",
    "version": 3
   },
   "file_extension": ".py",
   "mimetype": "text/x-python",
   "name": "python",
   "nbconvert_exporter": "python",
   "pygments_lexer": "ipython3",
   "version": "3.7.6"
  },
  "toc": {
   "base_numbering": 1,
   "nav_menu": {},
   "number_sections": true,
   "sideBar": true,
   "skip_h1_title": false,
   "title_cell": "Table of Contents",
   "title_sidebar": "Contents",
   "toc_cell": false,
   "toc_position": {},
   "toc_section_display": true,
   "toc_window_display": true
  }
 },
 "nbformat": 4,
 "nbformat_minor": 2
}
