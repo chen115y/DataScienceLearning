{
 "cells": [
  {
   "cell_type": "markdown",
   "metadata": {},
   "source": [
    "This note book will provide very basic information about Python programming for data scientists.\n",
    "\n",
    "For more details on Python programming, recommend to read the book of \"[Python Crash Course](https://nostarch.com/pythoncrashcourse2e)\"\n",
    "\n",
    "Indents in Python programming is very important since python programming syntax is totally based on indents. So, don't change indents without knowing why!"
   ]
  },
  {
   "cell_type": "markdown",
   "metadata": {},
   "source": [
    "# Python Basics"
   ]
  },
  {
   "cell_type": "code",
   "execution_count": 1,
   "metadata": {
    "ExecuteTime": {
     "end_time": "2020-02-16T17:02:22.280688Z",
     "start_time": "2020-02-16T17:02:22.264687Z"
    }
   },
   "outputs": [],
   "source": [
    "# first python hello world program: print!\n",
    "print(\"Hello World\")"
   ]
  },
  {
   "cell_type": "code",
   "execution_count": 2,
   "metadata": {
    "ExecuteTime": {
     "end_time": "2020-02-16T17:02:22.300616Z",
     "start_time": "2020-02-16T17:02:22.286540Z"
    }
   },
   "outputs": [],
   "source": [
    "# assign a variable\n",
    "string = \"Hello World\"\n",
    "print(string)"
   ]
  },
  {
   "cell_type": "markdown",
   "metadata": {
    "ExecuteTime": {
     "end_time": "2020-02-15T16:16:51.031841Z",
     "start_time": "2020-02-15T16:16:50.763415Z"
    }
   },
   "source": [
    "A string is immutable!\n",
    "```python\n",
    "string = \"Hello World\"\n",
    "string[0] = \"h\"\n",
    "```\n",
    "---------------------------------------------------------------------------\n",
    "TypeError                                 Traceback (most recent call last)\n",
    "<ipython-input-39-12b7cfac514c> in <module>\n",
    "      1 string = \"Hello World\"\n",
    "----> 2 string[0] = \"h\"\n",
    "\n",
    "TypeError: 'str' object does not support item assignment"
   ]
  },
  {
   "cell_type": "code",
   "execution_count": 3,
   "metadata": {
    "ExecuteTime": {
     "end_time": "2020-02-16T17:02:22.312619Z",
     "start_time": "2020-02-16T17:02:22.304617Z"
    }
   },
   "outputs": [],
   "source": [
    "# manuplate string (convert to a list)\n",
    "sub_strings = string.split(\" \")\n",
    "print(sub_strings)"
   ]
  },
  {
   "cell_type": "code",
   "execution_count": 4,
   "metadata": {
    "ExecuteTime": {
     "end_time": "2020-02-16T17:02:22.324622Z",
     "start_time": "2020-02-16T17:02:22.316622Z"
    }
   },
   "outputs": [],
   "source": [
    "# Replace every occurrence of the character `\"s\"`with the character `\"x\"`\n",
    "phrase = \"Somebody said something to Samantha.\"\n",
    "phrase = phrase.replace(\"s\", \"x\")\n",
    "print(phrase)"
   ]
  },
  {
   "cell_type": "code",
   "execution_count": 5,
   "metadata": {
    "ExecuteTime": {
     "end_time": "2020-02-16T17:02:27.019573Z",
     "start_time": "2020-02-16T17:02:22.328624Z"
    }
   },
   "outputs": [
    {
     "name": "stdout",
     "output_type": "stream",
     "text": [
      "Type something: this is okay\n",
      "8\n"
     ]
    }
   ],
   "source": [
    "# Try to find an upper-case \"X\" in user input:\n",
    "my_input = input(\"Type something: \")\n",
    "print(my_input.find(\"ok\"))"
   ]
  },
  {
   "cell_type": "code",
   "execution_count": 6,
   "metadata": {
    "ExecuteTime": {
     "end_time": "2020-02-16T17:02:27.035766Z",
     "start_time": "2020-02-16T17:02:27.023573Z"
    }
   },
   "outputs": [
    {
     "name": "stdout",
     "output_type": "stream",
     "text": [
      "2.0\n"
     ]
    }
   ],
   "source": [
    "# handle numbers\n",
    "integer = 2 \n",
    "print(float(integer))"
   ]
  },
  {
   "cell_type": "code",
   "execution_count": 7,
   "metadata": {
    "ExecuteTime": {
     "end_time": "2020-02-16T17:02:27.058864Z",
     "start_time": "2020-02-16T17:02:27.038853Z"
    }
   },
   "outputs": [
    {
     "name": "stdout",
     "output_type": "stream",
     "text": [
      "2\n",
      "Hello\n",
      "World\n",
      "['Hello', 'World', 'Friends']\n"
     ]
    }
   ],
   "source": [
    "# handle lists\n",
    "list_num = len(sub_strings)\n",
    "print(list_num)\n",
    "print(sub_strings[0])\n",
    "print(sub_strings[1])\n",
    "sub_strings.append(\"Friends\")\n",
    "print(sub_strings)"
   ]
  },
  {
   "cell_type": "code",
   "execution_count": 8,
   "metadata": {
    "ExecuteTime": {
     "end_time": "2020-02-16T17:02:27.074866Z",
     "start_time": "2020-02-16T17:02:27.066865Z"
    }
   },
   "outputs": [
    {
     "name": "stdout",
     "output_type": "stream",
     "text": [
      "[0, 1, 2, 3, 4]\n"
     ]
    }
   ],
   "source": [
    "# create a list by using range function\n",
    "list_1 = list(range(5))\n",
    "print(list_1)"
   ]
  },
  {
   "cell_type": "code",
   "execution_count": 9,
   "metadata": {
    "ExecuteTime": {
     "end_time": "2020-02-16T17:02:27.094868Z",
     "start_time": "2020-02-16T17:02:27.082868Z"
    }
   },
   "outputs": [
    {
     "name": "stdout",
     "output_type": "stream",
     "text": [
      "[2, 8, 12]\n"
     ]
    }
   ],
   "source": [
    "# handle list with a powerful expression\n",
    "list_num_1 = [1,2,3,4,5,6]\n",
    "list_num_2 = [2,3,5]\n",
    "print([x*2 for x in list_num_1 if x not in list_num_2])"
   ]
  },
  {
   "cell_type": "code",
   "execution_count": 10,
   "metadata": {
    "ExecuteTime": {
     "end_time": "2020-02-16T17:02:27.110874Z",
     "start_time": "2020-02-16T17:02:27.098871Z"
    }
   },
   "outputs": [
    {
     "name": "stdout",
     "output_type": "stream",
     "text": [
      "[2, 2, 3]\n"
     ]
    }
   ],
   "source": [
    "list_num = [1,2,3]\n",
    "list_num[0] = 2\n",
    "print(list_num)"
   ]
  },
  {
   "cell_type": "code",
   "execution_count": 11,
   "metadata": {
    "ExecuteTime": {
     "end_time": "2020-02-16T17:02:27.122878Z",
     "start_time": "2020-02-16T17:02:27.114876Z"
    }
   },
   "outputs": [
    {
     "name": "stdout",
     "output_type": "stream",
     "text": [
      "hello world\n"
     ]
    }
   ],
   "source": [
    "# handle touples\n",
    "my_tuple = (\"hello\", \"world\")\n",
    "print(my_tuple[0] + \" \" + my_tuple[1])"
   ]
  },
  {
   "cell_type": "code",
   "execution_count": 12,
   "metadata": {
    "ExecuteTime": {
     "end_time": "2020-02-16T17:02:27.134883Z",
     "start_time": "2020-02-16T17:02:27.126878Z"
    }
   },
   "outputs": [
    {
     "name": "stdout",
     "output_type": "stream",
     "text": [
      "A big world\n"
     ]
    }
   ],
   "source": [
    "my_tuple = (\"A big\", \"world\")\n",
    "print(my_tuple[0] + \" \" + my_tuple[1])"
   ]
  },
  {
   "cell_type": "markdown",
   "metadata": {
    "ExecuteTime": {
     "end_time": "2020-02-09T22:02:07.637744Z",
     "start_time": "2020-02-09T22:02:07.626188Z"
    }
   },
   "source": [
    "__tuple is immutable!__\n",
    "```python\n",
    "my_tuple[0] = \"hello 1\"\n",
    "\n",
    "---------------------------------------------------------------------------\n",
    "TypeError                                 Traceback (most recent call last)\n",
    "<ipython-input-23-58b1ae9e38da> in <module>\n",
    "      1 # tuple is immutable!\n",
    "----> 2 my_tuple[0] = \"hello 1\"\n",
    "\n",
    "TypeError: 'tuple' object does not support item assignment\n",
    "```"
   ]
  },
  {
   "cell_type": "code",
   "execution_count": 13,
   "metadata": {
    "ExecuteTime": {
     "end_time": "2020-02-16T17:02:27.146884Z",
     "start_time": "2020-02-16T17:02:27.134883Z"
    }
   },
   "outputs": [
    {
     "name": "stdout",
     "output_type": "stream",
     "text": [
      "hello\n",
      "world\n"
     ]
    }
   ],
   "source": [
    "# handle dictionaries\n",
    "my_dict = {1: \"hello\", 2:\"world\"}\n",
    "print(my_dict[1])\n",
    "print(my_dict[2])"
   ]
  },
  {
   "cell_type": "code",
   "execution_count": 14,
   "metadata": {
    "ExecuteTime": {
     "end_time": "2020-02-16T17:02:27.170886Z",
     "start_time": "2020-02-16T17:02:27.150883Z"
    }
   },
   "outputs": [
    {
     "data": {
      "text/plain": [
       "'hello'"
      ]
     },
     "execution_count": 14,
     "metadata": {},
     "output_type": "execute_result"
    }
   ],
   "source": [
    "my_dict[1]"
   ]
  },
  {
   "cell_type": "code",
   "execution_count": 15,
   "metadata": {
    "ExecuteTime": {
     "end_time": "2020-02-16T17:02:27.182890Z",
     "start_time": "2020-02-16T17:02:27.170886Z"
    }
   },
   "outputs": [
    {
     "data": {
      "text/plain": [
       "[1, 2]"
      ]
     },
     "execution_count": 15,
     "metadata": {},
     "output_type": "execute_result"
    }
   ],
   "source": [
    "[x for x in list(my_dict.keys())]"
   ]
  },
  {
   "cell_type": "code",
   "execution_count": 16,
   "metadata": {
    "ExecuteTime": {
     "end_time": "2020-02-16T17:02:27.190893Z",
     "start_time": "2020-02-16T17:02:27.182890Z"
    }
   },
   "outputs": [
    {
     "data": {
      "text/plain": [
       "[1, 2]"
      ]
     },
     "execution_count": 16,
     "metadata": {},
     "output_type": "execute_result"
    }
   ],
   "source": [
    "list(my_dict)"
   ]
  },
  {
   "cell_type": "code",
   "execution_count": 17,
   "metadata": {
    "ExecuteTime": {
     "end_time": "2020-02-16T17:02:27.202896Z",
     "start_time": "2020-02-16T17:02:27.190893Z"
    }
   },
   "outputs": [
    {
     "data": {
      "text/plain": [
       "['hello', 'world']"
      ]
     },
     "execution_count": 17,
     "metadata": {},
     "output_type": "execute_result"
    }
   ],
   "source": [
    "list(my_dict.values())"
   ]
  },
  {
   "cell_type": "code",
   "execution_count": 18,
   "metadata": {
    "ExecuteTime": {
     "end_time": "2020-02-16T17:02:27.218899Z",
     "start_time": "2020-02-16T17:02:27.206897Z"
    }
   },
   "outputs": [
    {
     "name": "stdout",
     "output_type": "stream",
     "text": [
      "(1, 'ivan')\n",
      "(2, 'Mital')\n",
      "(3, 'Sandeep')\n",
      "{1: 'ivan', 2: 'Mital', 3: 'Sandeep'}\n"
     ]
    }
   ],
   "source": [
    "# convert two lists into dictionary\n",
    "list_1 = [1,2,3]\n",
    "list_2 = [\"ivan\", \"Mital\", \"Sandeep\"]\n",
    "tmp = zip(list_1, list_2)\n",
    "for item in tmp:\n",
    "    print(item)\n",
    "dict_2 = dict(zip(list_1, list_2))\n",
    "print(dict_2)"
   ]
  },
  {
   "cell_type": "code",
   "execution_count": 19,
   "metadata": {
    "ExecuteTime": {
     "end_time": "2020-02-16T17:02:27.234903Z",
     "start_time": "2020-02-16T17:02:27.222903Z"
    }
   },
   "outputs": [
    {
     "data": {
      "text/plain": [
       "{0: 1, 2: 3, 4: 5, 6: 7, 8: 9}"
      ]
     },
     "execution_count": 19,
     "metadata": {},
     "output_type": "execute_result"
    }
   ],
   "source": [
    "# convert a list into dictionary\n",
    "my_list = range(10) # [0,1,2,3,4,5,6,7,8,9]\n",
    "values = my_list[1::2] # [1,3,5,7,9]\n",
    "keys = my_list[0::2] # [0,2,4,6,8]\n",
    "dict(zip(keys,values))"
   ]
  },
  {
   "cell_type": "code",
   "execution_count": 20,
   "metadata": {
    "ExecuteTime": {
     "end_time": "2020-02-16T17:02:27.246905Z",
     "start_time": "2020-02-16T17:02:27.238905Z"
    }
   },
   "outputs": [
    {
     "data": {
      "text/plain": [
       "{1: 'ivan', 2: 'mital', 3: 'sandeep'}"
      ]
     },
     "execution_count": 20,
     "metadata": {},
     "output_type": "execute_result"
    }
   ],
   "source": [
    "# convert two tuples into a dictionary\n",
    "tuple_1 = (1,2,3)\n",
    "tuple_2 = (\"ivan\", \"mital\", \"sandeep\")\n",
    "dict(zip(tuple_1, tuple_2))"
   ]
  },
  {
   "cell_type": "code",
   "execution_count": 21,
   "metadata": {
    "ExecuteTime": {
     "end_time": "2020-02-16T17:02:27.258907Z",
     "start_time": "2020-02-16T17:02:27.250909Z"
    }
   },
   "outputs": [
    {
     "data": {
      "text/plain": [
       "[1, 'ivan']"
      ]
     },
     "execution_count": 21,
     "metadata": {},
     "output_type": "execute_result"
    }
   ],
   "source": [
    "# convert a tuple to a list\n",
    "my_tuple = (1, \"ivan\")\n",
    "list(my_tuple)"
   ]
  },
  {
   "cell_type": "code",
   "execution_count": 22,
   "metadata": {
    "ExecuteTime": {
     "end_time": "2020-02-16T17:02:27.270909Z",
     "start_time": "2020-02-16T17:02:27.262912Z"
    }
   },
   "outputs": [
    {
     "data": {
      "text/plain": [
       "(1, 2, 'ivan', 'chen')"
      ]
     },
     "execution_count": 22,
     "metadata": {},
     "output_type": "execute_result"
    }
   ],
   "source": [
    "# convert a list to a tuple\n",
    "my_list = [1,2,\"ivan\", \"chen\"]\n",
    "tuple(my_list)"
   ]
  },
  {
   "cell_type": "code",
   "execution_count": 23,
   "metadata": {
    "ExecuteTime": {
     "end_time": "2020-02-16T17:02:27.282914Z",
     "start_time": "2020-02-16T17:02:27.274917Z"
    }
   },
   "outputs": [
    {
     "name": "stdout",
     "output_type": "stream",
     "text": [
      "((1, 'ivan'), (2, 'mital'), (3, 'sandeep'))\n"
     ]
    }
   ],
   "source": [
    "# convert a dictionary into a tuple\n",
    "my_dict = {1:\"ivan\",2:\"mital\",3:\"sandeep\"}\n",
    "print(tuple(my_dict.items()))"
   ]
  },
  {
   "cell_type": "code",
   "execution_count": 24,
   "metadata": {
    "ExecuteTime": {
     "end_time": "2020-02-16T17:02:27.294914Z",
     "start_time": "2020-02-16T17:02:27.286915Z"
    }
   },
   "outputs": [
    {
     "name": "stdout",
     "output_type": "stream",
     "text": [
      "[(1, 'ivan'), (2, 'mital'), (3, 'sandeep')]\n"
     ]
    }
   ],
   "source": [
    "# convert a dictionary into a list of tuples\n",
    "my_dict = {1:\"ivan\",2:\"mital\",3:\"sandeep\"}\n",
    "print([x for x in my_dict.items()])"
   ]
  },
  {
   "cell_type": "code",
   "execution_count": 25,
   "metadata": {
    "ExecuteTime": {
     "end_time": "2020-02-16T17:02:27.302926Z",
     "start_time": "2020-02-16T17:02:27.294914Z"
    }
   },
   "outputs": [
    {
     "name": "stdout",
     "output_type": "stream",
     "text": [
      "[1, 'ivan', 2, 'mital', 3, 'sandeep']\n"
     ]
    }
   ],
   "source": [
    "# convert a dictionary into a list\n",
    "my_dict = {1:\"ivan\",2:\"mital\",3:\"sandeep\"}\n",
    "my_list = []\n",
    "for key, value in my_dict.items():\n",
    "    my_list.append(key)\n",
    "    my_list.append(value)\n",
    "    \n",
    "print(my_list)"
   ]
  },
  {
   "cell_type": "code",
   "execution_count": 26,
   "metadata": {
    "ExecuteTime": {
     "end_time": "2020-02-16T17:02:27.314920Z",
     "start_time": "2020-02-16T17:02:27.302926Z"
    }
   },
   "outputs": [
    {
     "name": "stdout",
     "output_type": "stream",
     "text": [
      "{1: 1, 2: 3, 3: 1, 4: 3, 5: 1, 6: 1, 7: 3}\n"
     ]
    }
   ],
   "source": [
    "# counting with dictionary\n",
    "my_list = [1,2,2,2,3,4,4,4,5,6,7,7,7]\n",
    "my_dict = {}\n",
    "for x in my_list:\n",
    "    my_dict[x] = my_dict.get(x, 0) + 1\n",
    "print(my_dict)"
   ]
  },
  {
   "cell_type": "code",
   "execution_count": 27,
   "metadata": {
    "ExecuteTime": {
     "end_time": "2020-02-16T17:02:27.322934Z",
     "start_time": "2020-02-16T17:02:27.314920Z"
    }
   },
   "outputs": [
    {
     "name": "stdout",
     "output_type": "stream",
     "text": [
      "Hello\n",
      "World\n",
      "Friends\n"
     ]
    }
   ],
   "source": [
    "# make a loop\n",
    "for item in sub_strings:\n",
    "    print(item)"
   ]
  },
  {
   "cell_type": "code",
   "execution_count": 28,
   "metadata": {
    "ExecuteTime": {
     "end_time": "2020-02-16T17:02:27.334922Z",
     "start_time": "2020-02-16T17:02:27.326931Z"
    }
   },
   "outputs": [
    {
     "name": "stdout",
     "output_type": "stream",
     "text": [
      "Something Wrong!\n"
     ]
    }
   ],
   "source": [
    "# condition\n",
    "list_num = 1\n",
    "if (list_num == 2):\n",
    "    print(list_num)\n",
    "elif (list_num > 2):\n",
    "    print(\"Nothing\")\n",
    "else:\n",
    "    print(\"Something Wrong!\")"
   ]
  },
  {
   "cell_type": "code",
   "execution_count": 29,
   "metadata": {
    "ExecuteTime": {
     "end_time": "2020-02-16T17:02:27.342939Z",
     "start_time": "2020-02-16T17:02:27.335196Z"
    },
    "scrolled": true
   },
   "outputs": [
    {
     "name": "stdout",
     "output_type": "stream",
     "text": [
      "Hello\n",
      "World\n",
      "Friends\n"
     ]
    }
   ],
   "source": [
    "# define a function\n",
    "def print_list(x=\"default\", y=None):\n",
    "    for item in x:\n",
    "        print(item)\n",
    "    return y\n",
    "\n",
    "print_list(sub_strings)"
   ]
  },
  {
   "cell_type": "code",
   "execution_count": 30,
   "metadata": {
    "ExecuteTime": {
     "end_time": "2020-02-16T17:02:27.354927Z",
     "start_time": "2020-02-16T17:02:27.342939Z"
    }
   },
   "outputs": [
    {
     "data": {
      "text/plain": [
       "function"
      ]
     },
     "execution_count": 30,
     "metadata": {},
     "output_type": "execute_result"
    }
   ],
   "source": [
    "# lambda function\n",
    "add = (lambda x, y: x + y)\n",
    "type(add)"
   ]
  },
  {
   "cell_type": "code",
   "execution_count": 31,
   "metadata": {
    "ExecuteTime": {
     "end_time": "2020-02-16T17:02:27.366930Z",
     "start_time": "2020-02-16T17:02:27.354927Z"
    }
   },
   "outputs": [
    {
     "data": {
      "text/plain": [
       "5"
      ]
     },
     "execution_count": 31,
     "metadata": {},
     "output_type": "execute_result"
    }
   ],
   "source": [
    "add(2, 3)"
   ]
  },
  {
   "cell_type": "code",
   "execution_count": 32,
   "metadata": {
    "ExecuteTime": {
     "end_time": "2020-02-16T17:02:27.374931Z",
     "start_time": "2020-02-16T17:02:27.366930Z"
    }
   },
   "outputs": [
    {
     "name": "stdout",
     "output_type": "stream",
     "text": [
      "[5, 7, 97, 77, 23, 73, 61]\n"
     ]
    }
   ],
   "source": [
    "# filter() with lambda() \n",
    "li = [5, 7, 22, 97, 54, 62, 77, 23, 73, 61] \n",
    "final_list = list(filter(lambda x: (x%2 != 0) , li)) \n",
    "print(final_list) "
   ]
  },
  {
   "cell_type": "code",
   "execution_count": 33,
   "metadata": {
    "ExecuteTime": {
     "end_time": "2020-02-16T17:02:27.386936Z",
     "start_time": "2020-02-16T17:02:27.374931Z"
    }
   },
   "outputs": [
    {
     "name": "stdout",
     "output_type": "stream",
     "text": [
      "[10, 14, 44, 194, 108, 124, 154, 46, 146, 122]\n"
     ]
    }
   ],
   "source": [
    "# to get double of a list. \n",
    "li = [5, 7, 22, 97, 54, 62, 77, 23, 73, 61] \n",
    "final_list = list(map(lambda x: x*2 , li)) \n",
    "print(final_list) "
   ]
  },
  {
   "cell_type": "code",
   "execution_count": 34,
   "metadata": {
    "ExecuteTime": {
     "end_time": "2020-02-16T17:02:27.398954Z",
     "start_time": "2020-02-16T17:02:27.386936Z"
    }
   },
   "outputs": [
    {
     "name": "stdout",
     "output_type": "stream",
     "text": [
      "193\n"
     ]
    }
   ],
   "source": [
    "# reduce() with lambda() \n",
    "# to get sum of a list \n",
    "from functools import reduce\n",
    "li = [5, 8, 10, 20, 50, 100] \n",
    "sum = reduce((lambda x, y: x + y), li) \n",
    "print(sum) "
   ]
  },
  {
   "cell_type": "code",
   "execution_count": 35,
   "metadata": {
    "ExecuteTime": {
     "end_time": "2020-02-16T17:02:28.846937Z",
     "start_time": "2020-02-16T17:02:27.402962Z"
    }
   },
   "outputs": [
    {
     "data": {
      "text/html": [
       "<div>\n",
       "<style scoped>\n",
       "    .dataframe tbody tr th:only-of-type {\n",
       "        vertical-align: middle;\n",
       "    }\n",
       "\n",
       "    .dataframe tbody tr th {\n",
       "        vertical-align: top;\n",
       "    }\n",
       "\n",
       "    .dataframe thead th {\n",
       "        text-align: right;\n",
       "    }\n",
       "</style>\n",
       "<table border=\"1\" class=\"dataframe\">\n",
       "  <thead>\n",
       "    <tr style=\"text-align: right;\">\n",
       "      <th></th>\n",
       "      <th>0</th>\n",
       "      <th>1</th>\n",
       "      <th>2</th>\n",
       "      <th>3</th>\n",
       "      <th>4</th>\n",
       "      <th>5</th>\n",
       "      <th>6</th>\n",
       "    </tr>\n",
       "  </thead>\n",
       "  <tbody>\n",
       "    <tr>\n",
       "      <th>0</th>\n",
       "      <td>1</td>\n",
       "      <td>2</td>\n",
       "      <td>3</td>\n",
       "      <td>4</td>\n",
       "      <td>5</td>\n",
       "      <td>NaN</td>\n",
       "      <td>NaN</td>\n",
       "    </tr>\n",
       "    <tr>\n",
       "      <th>1</th>\n",
       "      <td>6</td>\n",
       "      <td>7</td>\n",
       "      <td>8</td>\n",
       "      <td>9</td>\n",
       "      <td>10</td>\n",
       "      <td>NaN</td>\n",
       "      <td>NaN</td>\n",
       "    </tr>\n",
       "    <tr>\n",
       "      <th>2</th>\n",
       "      <td>11</td>\n",
       "      <td>12</td>\n",
       "      <td>13</td>\n",
       "      <td>14</td>\n",
       "      <td>15</td>\n",
       "      <td>16.0</td>\n",
       "      <td>17.0</td>\n",
       "    </tr>\n",
       "  </tbody>\n",
       "</table>\n",
       "</div>"
      ],
      "text/plain": [
       "    0   1   2   3   4     5     6\n",
       "0   1   2   3   4   5   NaN   NaN\n",
       "1   6   7   8   9  10   NaN   NaN\n",
       "2  11  12  13  14  15  16.0  17.0"
      ]
     },
     "execution_count": 35,
     "metadata": {},
     "output_type": "execute_result"
    }
   ],
   "source": [
    "# import additional python libraries to use more powerful functions and classes\n",
    "import numpy as np\n",
    "import pandas as pd\n",
    "\n",
    "numbers = [\n",
    "    [1, 2, 3, 4, 5],\n",
    "    [6, 7, 8, 9, 10],\n",
    "    [11, 12, 13, 14, 15, 16, 17],\n",
    "]\n",
    "\n",
    "df = pd.DataFrame(numbers)\n",
    "df.head(5)"
   ]
  },
  {
   "cell_type": "code",
   "execution_count": 36,
   "metadata": {
    "ExecuteTime": {
     "end_time": "2020-02-16T17:02:28.862870Z",
     "start_time": "2020-02-16T17:02:28.850932Z"
    }
   },
   "outputs": [
    {
     "name": "stdout",
     "output_type": "stream",
     "text": [
      "The blue car has 20,000 miles\n",
      "The red car has 30,000 miles\n",
      "The blue car has 20,000 miles\n",
      "The red car has 30,000 miles\n"
     ]
    }
   ],
   "source": [
    "# define a class to include all variables and operations all together for object-oriented programming\n",
    "class Car:\n",
    "    def __init__(self, color, mileage):\n",
    "        self.color = color\n",
    "        self.mileage = mileage\n",
    "    def print_info(self):\n",
    "        print(f\"The {self.color} car has {self.mileage:,} miles\")\n",
    "\n",
    "blue_car = Car(\"blue\", 20000)\n",
    "blue_car.print_info()\n",
    "\n",
    "red_car = Car(\"red\", 30000)\n",
    "red_car.print_info()\n",
    "\n",
    "for car in (blue_car, red_car):\n",
    "    print(f\"The {car.color} car has {car.mileage:,} miles\")"
   ]
  },
  {
   "cell_type": "code",
   "execution_count": 37,
   "metadata": {
    "ExecuteTime": {
     "end_time": "2020-02-16T17:02:28.883147Z",
     "start_time": "2020-02-16T17:02:28.866136Z"
    }
   },
   "outputs": [],
   "source": [
    "# handle file - creae a simple text file\n",
    "fhandle = open('test.txt', 'w')\n",
    "content = \"this is a test, please read it now!\\nthis is second line, please ignore it!\"\n",
    "with fhandle as f:\n",
    "    f.write(content)"
   ]
  },
  {
   "cell_type": "code",
   "execution_count": 38,
   "metadata": {
    "ExecuteTime": {
     "end_time": "2020-02-16T17:02:28.903153Z",
     "start_time": "2020-02-16T17:02:28.887149Z"
    }
   },
   "outputs": [
    {
     "name": "stdout",
     "output_type": "stream",
     "text": [
      "this is a test, please read it now!\n",
      "this is second line, please ignore it!\n"
     ]
    }
   ],
   "source": [
    "# handle file - read the simple text file\n",
    "fhandle = open('test.txt','r')\n",
    "print(fhandle.read())"
   ]
  },
  {
   "cell_type": "code",
   "execution_count": 39,
   "metadata": {
    "ExecuteTime": {
     "end_time": "2020-02-16T17:02:28.931159Z",
     "start_time": "2020-02-16T17:02:28.907154Z"
    }
   },
   "outputs": [
    {
     "name": "stdout",
     "output_type": "stream",
     "text": [
      "this is a test, please read it now!\n",
      "this is second line, please ignore it!\n"
     ]
    }
   ],
   "source": [
    "# handle file - read the simple text file line by line\n",
    "fhandle = open('test.txt','r')\n",
    "with fhandle as f:\n",
    "    for line in f:\n",
    "        print(line.strip())"
   ]
  },
  {
   "cell_type": "code",
   "execution_count": 40,
   "metadata": {
    "ExecuteTime": {
     "end_time": "2020-02-16T17:02:28.943162Z",
     "start_time": "2020-02-16T17:02:28.935160Z"
    }
   },
   "outputs": [
    {
     "name": "stdout",
     "output_type": "stream",
     "text": [
      "False\n",
      "my_file.txt\n",
      "my_folder\n"
     ]
    }
   ],
   "source": [
    "# Working With File Paths in Python\n",
    "\n",
    "from pathlib import Path\n",
    "\n",
    "file_path = Path.home() / \"my_folder\" / \"my_file.txt\"\n",
    "\n",
    "print(file_path.exists())\n",
    "\n",
    "print(file_path.name)\n",
    "\n",
    "print(file_path.parent.name)"
   ]
  },
  {
   "cell_type": "code",
   "execution_count": 41,
   "metadata": {
    "ExecuteTime": {
     "end_time": "2020-02-16T17:02:28.971172Z",
     "start_time": "2020-02-16T17:02:28.951164Z"
    }
   },
   "outputs": [
    {
     "name": "stdout",
     "output_type": "stream",
     "text": [
      "[[1, 2, 3, 4, 5], [], [6, 7, 8, 9, 10], [], [11, 12, 13, 14, 15], []]\n"
     ]
    }
   ],
   "source": [
    "# Read and Write CSV Data with more controls\n",
    "import csv\n",
    "from pathlib import Path\n",
    "\n",
    "numbers = [\n",
    "    [1, 2, 3, 4, 5],\n",
    "    [6, 7, 8, 9, 10],\n",
    "    [11, 12, 13, 14, 15],\n",
    "]\n",
    "\n",
    "file_path = Path.home() / \"numbers.csv\"\n",
    "\n",
    "with file_path.open(mode=\"w\", encoding=\"utf-8\") as file:\n",
    "    writer = csv.writer(file)\n",
    "    writer.writerows(numbers)\n",
    "\n",
    "numbers = []\n",
    "\n",
    "with file_path.open(mode=\"r\", encoding=\"utf-8\") as file:\n",
    "    reader = csv.reader(file)\n",
    "    for row in reader:\n",
    "        int_row = [int(num) for num in row]\n",
    "        numbers.append(int_row)\n",
    "\n",
    "print(numbers)"
   ]
  },
  {
   "cell_type": "markdown",
   "metadata": {},
   "source": [
    "# Exercise"
   ]
  },
  {
   "cell_type": "markdown",
   "metadata": {
    "ExecuteTime": {
     "end_time": "2020-02-16T17:06:25.961109Z",
     "start_time": "2020-02-16T17:06:25.932824Z"
    }
   },
   "source": [
    "Exercise\n",
    "The following codes will save a csv file with some sample data\n",
    "```python\n",
    "import csv\n",
    "from pathlib import Path\n",
    "\n",
    "favorite_colors = [\n",
    "    {\"name\": \"Joe\", \"favorite_color\": \"blue\"},\n",
    "    {\"name\": \"Anne\", \"favorite_color\": \"green\"},\n",
    "    {\"name\": \"Bailey\", \"favorite_color\": \"red\"},\n",
    "]\n",
    "\n",
    "file_path = Path.home() / \"favorite_colors.csv\"\n",
    "\n",
    "with file_path.open(mode=\"w\", encoding=\"utf-8\") as file:\n",
    "    writer = csv.DictWriter(file, fieldnames=[\"name\", \"favorite_color\"])\n",
    "    writer.writeheader()\n",
    "    writer.writerows(favorite_colors)\n",
    "```\n",
    "Your task is: read this favorite_colors.csv file and then change the values in name column to your name and show the results\n",
    "\n",
    "To see a solution\n",
    "use the following command\n",
    "```\n",
    "%load exercise_solution.py\n",
    "```"
   ]
  },
  {
   "cell_type": "code",
   "execution_count": null,
   "metadata": {},
   "outputs": [],
   "source": []
  }
 ],
 "metadata": {
  "kernelspec": {
   "display_name": "Python 3",
   "language": "python",
   "name": "python3"
  },
  "language_info": {
   "codemirror_mode": {
    "name": "ipython",
    "version": 3
   },
   "file_extension": ".py",
   "mimetype": "text/x-python",
   "name": "python",
   "nbconvert_exporter": "python",
   "pygments_lexer": "ipython3",
   "version": "3.7.6"
  },
  "toc": {
   "base_numbering": 1,
   "nav_menu": {},
   "number_sections": true,
   "sideBar": true,
   "skip_h1_title": false,
   "title_cell": "Table of Contents",
   "title_sidebar": "Contents",
   "toc_cell": false,
   "toc_position": {},
   "toc_section_display": true,
   "toc_window_display": false
  }
 },
 "nbformat": 4,
 "nbformat_minor": 4
}
