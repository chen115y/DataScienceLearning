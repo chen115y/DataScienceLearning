{
 "cells": [
  {
   "cell_type": "markdown",
   "metadata": {},
   "source": [
    "This note book will provide very basic information about Python programming for data scientists.\n",
    "\n",
    "For more details on Python programming, recommend to read the book of \"[Python Crash Course](https://nostarch.com/pythoncrashcourse2e)\"\n",
    "\n",
    "Indents in Python programming is very important since python programming syntax is totally based on indents. So, don't change indents without knowing why!"
   ]
  },
  {
   "cell_type": "markdown",
   "metadata": {},
   "source": [
    "# Python Basic Data Structure"
   ]
  },
  {
   "cell_type": "code",
   "execution_count": 1,
   "metadata": {
    "ExecuteTime": {
     "end_time": "2020-02-18T18:21:09.203449Z",
     "start_time": "2020-02-18T18:21:09.194463Z"
    }
   },
   "outputs": [
    {
     "name": "stdout",
     "output_type": "stream",
     "text": [
      "The memory_profiler extension is already loaded. To reload it, use:\n",
      "  %reload_ext memory_profiler\n"
     ]
    }
   ],
   "source": [
    "%load_ext memory_profiler"
   ]
  },
  {
   "cell_type": "markdown",
   "metadata": {},
   "source": [
    "## Variable Defining and Unpacking"
   ]
  },
  {
   "cell_type": "code",
   "execution_count": 3,
   "metadata": {
    "ExecuteTime": {
     "end_time": "2020-03-04T20:52:43.592929Z",
     "start_time": "2020-03-04T20:52:43.584929Z"
    }
   },
   "outputs": [
    {
     "name": "stdout",
     "output_type": "stream",
     "text": [
      "1\n",
      "2\n",
      "(1, 2)\n"
     ]
    }
   ],
   "source": [
    "a,b = (1,2)\n",
    "c = (1,2)\n",
    "print(a)\n",
    "print(b)\n",
    "print(c)"
   ]
  },
  {
   "cell_type": "code",
   "execution_count": 4,
   "metadata": {
    "ExecuteTime": {
     "end_time": "2020-03-04T20:52:47.281245Z",
     "start_time": "2020-03-04T20:52:47.273240Z"
    }
   },
   "outputs": [
    {
     "name": "stdout",
     "output_type": "stream",
     "text": [
      "1\n",
      "2\n",
      "[3, 4]\n",
      "5\n"
     ]
    }
   ],
   "source": [
    "a,b,*c,d = [1,2,3,4,5]\n",
    "print(a)\n",
    "print(b)\n",
    "print(c)\n",
    "print(d)"
   ]
  },
  {
   "cell_type": "code",
   "execution_count": 5,
   "metadata": {
    "ExecuteTime": {
     "end_time": "2020-03-04T20:53:39.755978Z",
     "start_time": "2020-03-04T20:53:39.746983Z"
    }
   },
   "outputs": [
    {
     "name": "stdout",
     "output_type": "stream",
     "text": [
      "1\n",
      "2\n",
      "5\n"
     ]
    }
   ],
   "source": [
    "a,b,*_,d = [1,2,3,4,5]\n",
    "print(a)\n",
    "print(b)\n",
    "print(d)"
   ]
  },
  {
   "cell_type": "markdown",
   "metadata": {},
   "source": [
    "## String"
   ]
  },
  {
   "cell_type": "code",
   "execution_count": 2,
   "metadata": {
    "ExecuteTime": {
     "end_time": "2020-02-18T18:21:09.211447Z",
     "start_time": "2020-02-18T18:21:09.205446Z"
    }
   },
   "outputs": [
    {
     "name": "stdout",
     "output_type": "stream",
     "text": [
      "Hello World\n"
     ]
    }
   ],
   "source": [
    "# first python hello world program: print!\n",
    "print(\"Hello World\")"
   ]
  },
  {
   "cell_type": "code",
   "execution_count": 3,
   "metadata": {
    "ExecuteTime": {
     "end_time": "2020-02-18T18:21:09.219447Z",
     "start_time": "2020-02-18T18:21:09.214446Z"
    }
   },
   "outputs": [
    {
     "name": "stdout",
     "output_type": "stream",
     "text": [
      "Hello World\n"
     ]
    }
   ],
   "source": [
    "# assign a variable\n",
    "string = \"Hello World\"\n",
    "print(string)"
   ]
  },
  {
   "cell_type": "markdown",
   "metadata": {
    "ExecuteTime": {
     "end_time": "2020-02-15T16:16:51.031841Z",
     "start_time": "2020-02-15T16:16:50.763415Z"
    }
   },
   "source": [
    "A string is immutable!\n",
    "```python\n",
    "string = \"Hello World\"\n",
    "string[0] = \"h\"\n",
    "```\n",
    "---------------------------------------------------------------------------\n",
    "TypeError                                 Traceback (most recent call last)\n",
    "<ipython-input-39-12b7cfac514c> in <module>\n",
    "      1 string = \"Hello World\"\n",
    "----> 2 string[0] = \"h\"\n",
    "\n",
    "TypeError: 'str' object does not support item assignment"
   ]
  },
  {
   "cell_type": "code",
   "execution_count": 4,
   "metadata": {
    "ExecuteTime": {
     "end_time": "2020-02-18T18:21:09.227447Z",
     "start_time": "2020-02-18T18:21:09.222448Z"
    }
   },
   "outputs": [
    {
     "name": "stdout",
     "output_type": "stream",
     "text": [
      "['Hello', 'World']\n"
     ]
    }
   ],
   "source": [
    "# manuplate string (convert to a list)\n",
    "sub_strings = string.split(\" \")\n",
    "print(sub_strings)"
   ]
  },
  {
   "cell_type": "code",
   "execution_count": 5,
   "metadata": {
    "ExecuteTime": {
     "end_time": "2020-02-18T18:21:09.235448Z",
     "start_time": "2020-02-18T18:21:09.229447Z"
    }
   },
   "outputs": [
    {
     "name": "stdout",
     "output_type": "stream",
     "text": [
      "Somebody xaid xomething to Samantha.\n"
     ]
    }
   ],
   "source": [
    "# Replace every occurrence of the character `\"s\"`with the character `\"x\"`\n",
    "phrase = \"Somebody said something to Samantha.\"\n",
    "phrase = phrase.replace(\"s\", \"x\")\n",
    "print(phrase)"
   ]
  },
  {
   "cell_type": "code",
   "execution_count": 6,
   "metadata": {
    "ExecuteTime": {
     "end_time": "2020-02-18T18:21:13.187040Z",
     "start_time": "2020-02-18T18:21:09.238448Z"
    }
   },
   "outputs": [
    {
     "name": "stdout",
     "output_type": "stream",
     "text": [
      "Type something: this is okay\n",
      "8\n"
     ]
    }
   ],
   "source": [
    "# Try to find an upper-case \"X\" in user input:\n",
    "my_input = input(\"Type something: \")\n",
    "print(my_input.find(\"ok\"))"
   ]
  },
  {
   "cell_type": "code",
   "execution_count": 7,
   "metadata": {
    "ExecuteTime": {
     "end_time": "2020-02-18T18:21:13.204055Z",
     "start_time": "2020-02-18T18:21:13.190042Z"
    }
   },
   "outputs": [
    {
     "data": {
      "text/plain": [
       "['__add__',\n",
       " '__class__',\n",
       " '__contains__',\n",
       " '__delattr__',\n",
       " '__dir__',\n",
       " '__doc__',\n",
       " '__eq__',\n",
       " '__format__',\n",
       " '__ge__',\n",
       " '__getattribute__',\n",
       " '__getitem__',\n",
       " '__getnewargs__',\n",
       " '__gt__',\n",
       " '__hash__',\n",
       " '__init__',\n",
       " '__init_subclass__',\n",
       " '__iter__',\n",
       " '__le__',\n",
       " '__len__',\n",
       " '__lt__',\n",
       " '__mod__',\n",
       " '__mul__',\n",
       " '__ne__',\n",
       " '__new__',\n",
       " '__reduce__',\n",
       " '__reduce_ex__',\n",
       " '__repr__',\n",
       " '__rmod__',\n",
       " '__rmul__',\n",
       " '__setattr__',\n",
       " '__sizeof__',\n",
       " '__str__',\n",
       " '__subclasshook__',\n",
       " 'capitalize',\n",
       " 'casefold',\n",
       " 'center',\n",
       " 'count',\n",
       " 'encode',\n",
       " 'endswith',\n",
       " 'expandtabs',\n",
       " 'find',\n",
       " 'format',\n",
       " 'format_map',\n",
       " 'index',\n",
       " 'isalnum',\n",
       " 'isalpha',\n",
       " 'isascii',\n",
       " 'isdecimal',\n",
       " 'isdigit',\n",
       " 'isidentifier',\n",
       " 'islower',\n",
       " 'isnumeric',\n",
       " 'isprintable',\n",
       " 'isspace',\n",
       " 'istitle',\n",
       " 'isupper',\n",
       " 'join',\n",
       " 'ljust',\n",
       " 'lower',\n",
       " 'lstrip',\n",
       " 'maketrans',\n",
       " 'partition',\n",
       " 'replace',\n",
       " 'rfind',\n",
       " 'rindex',\n",
       " 'rjust',\n",
       " 'rpartition',\n",
       " 'rsplit',\n",
       " 'rstrip',\n",
       " 'split',\n",
       " 'splitlines',\n",
       " 'startswith',\n",
       " 'strip',\n",
       " 'swapcase',\n",
       " 'title',\n",
       " 'translate',\n",
       " 'upper',\n",
       " 'zfill']"
      ]
     },
     "execution_count": 7,
     "metadata": {},
     "output_type": "execute_result"
    }
   ],
   "source": [
    "# all the functions within string class\n",
    "dir(str)"
   ]
  },
  {
   "cell_type": "markdown",
   "metadata": {},
   "source": [
    "## List"
   ]
  },
  {
   "cell_type": "code",
   "execution_count": 8,
   "metadata": {
    "ExecuteTime": {
     "end_time": "2020-02-18T18:21:13.214042Z",
     "start_time": "2020-02-18T18:21:13.207040Z"
    }
   },
   "outputs": [
    {
     "name": "stdout",
     "output_type": "stream",
     "text": [
      "2.0\n"
     ]
    }
   ],
   "source": [
    "# handle numbers\n",
    "integer = 2 \n",
    "print(float(integer))"
   ]
  },
  {
   "cell_type": "code",
   "execution_count": 9,
   "metadata": {
    "ExecuteTime": {
     "end_time": "2020-02-18T18:21:13.223041Z",
     "start_time": "2020-02-18T18:21:13.217043Z"
    }
   },
   "outputs": [
    {
     "name": "stdout",
     "output_type": "stream",
     "text": [
      "2\n",
      "Hello\n",
      "World\n",
      "['Hello', 'World', 'Friends']\n"
     ]
    }
   ],
   "source": [
    "# handle lists\n",
    "list_num = len(sub_strings)\n",
    "print(list_num)\n",
    "print(sub_strings[0])\n",
    "print(sub_strings[1])\n",
    "sub_strings.append(\"Friends\")\n",
    "print(sub_strings)"
   ]
  },
  {
   "cell_type": "code",
   "execution_count": 10,
   "metadata": {
    "ExecuteTime": {
     "end_time": "2020-02-18T18:21:13.229042Z",
     "start_time": "2020-02-18T18:21:13.226042Z"
    }
   },
   "outputs": [
    {
     "name": "stdout",
     "output_type": "stream",
     "text": [
      "[0, 1, 2, 3, 4]\n"
     ]
    }
   ],
   "source": [
    "# create a list by using range function\n",
    "list_1 = list(range(5))\n",
    "print(list_1)"
   ]
  },
  {
   "cell_type": "code",
   "execution_count": 11,
   "metadata": {
    "ExecuteTime": {
     "end_time": "2020-02-18T18:21:13.239042Z",
     "start_time": "2020-02-18T18:21:13.231054Z"
    }
   },
   "outputs": [
    {
     "name": "stdout",
     "output_type": "stream",
     "text": [
      "[2, 8, 12]\n"
     ]
    }
   ],
   "source": [
    "# handle list with a powerful comprehension expression\n",
    "list_num_1 = [1,2,3,4,5,6]\n",
    "list_num_2 = [2,3,5]\n",
    "print([x*2 for x in list_num_1 if x not in list_num_2])"
   ]
  },
  {
   "cell_type": "code",
   "execution_count": 12,
   "metadata": {
    "ExecuteTime": {
     "end_time": "2020-02-18T18:21:13.245043Z",
     "start_time": "2020-02-18T18:21:13.241042Z"
    }
   },
   "outputs": [
    {
     "name": "stdout",
     "output_type": "stream",
     "text": [
      "[2, 2, 3]\n"
     ]
    }
   ],
   "source": [
    "list_num = [1,2,3]\n",
    "list_num[0] = 2\n",
    "print(list_num)"
   ]
  },
  {
   "cell_type": "code",
   "execution_count": 13,
   "metadata": {
    "ExecuteTime": {
     "end_time": "2020-02-18T18:21:13.255043Z",
     "start_time": "2020-02-18T18:21:13.249043Z"
    }
   },
   "outputs": [
    {
     "data": {
      "text/plain": [
       "['__add__',\n",
       " '__class__',\n",
       " '__contains__',\n",
       " '__delattr__',\n",
       " '__delitem__',\n",
       " '__dir__',\n",
       " '__doc__',\n",
       " '__eq__',\n",
       " '__format__',\n",
       " '__ge__',\n",
       " '__getattribute__',\n",
       " '__getitem__',\n",
       " '__gt__',\n",
       " '__hash__',\n",
       " '__iadd__',\n",
       " '__imul__',\n",
       " '__init__',\n",
       " '__init_subclass__',\n",
       " '__iter__',\n",
       " '__le__',\n",
       " '__len__',\n",
       " '__lt__',\n",
       " '__mul__',\n",
       " '__ne__',\n",
       " '__new__',\n",
       " '__reduce__',\n",
       " '__reduce_ex__',\n",
       " '__repr__',\n",
       " '__reversed__',\n",
       " '__rmul__',\n",
       " '__setattr__',\n",
       " '__setitem__',\n",
       " '__sizeof__',\n",
       " '__str__',\n",
       " '__subclasshook__',\n",
       " 'append',\n",
       " 'clear',\n",
       " 'copy',\n",
       " 'count',\n",
       " 'extend',\n",
       " 'index',\n",
       " 'insert',\n",
       " 'pop',\n",
       " 'remove',\n",
       " 'reverse',\n",
       " 'sort']"
      ]
     },
     "execution_count": 13,
     "metadata": {},
     "output_type": "execute_result"
    }
   ],
   "source": [
    "# all the functions within list class\n",
    "dir(list)"
   ]
  },
  {
   "cell_type": "markdown",
   "metadata": {},
   "source": [
    "## Tuple"
   ]
  },
  {
   "cell_type": "code",
   "execution_count": 14,
   "metadata": {
    "ExecuteTime": {
     "end_time": "2020-02-18T18:21:13.263043Z",
     "start_time": "2020-02-18T18:21:13.258044Z"
    }
   },
   "outputs": [
    {
     "name": "stdout",
     "output_type": "stream",
     "text": [
      "hello world\n"
     ]
    }
   ],
   "source": [
    "# handle touples\n",
    "my_tuple = (\"hello\", \"world\")\n",
    "print(my_tuple[0] + \" \" + my_tuple[1])"
   ]
  },
  {
   "cell_type": "code",
   "execution_count": 15,
   "metadata": {
    "ExecuteTime": {
     "end_time": "2020-02-18T18:21:13.270043Z",
     "start_time": "2020-02-18T18:21:13.265046Z"
    }
   },
   "outputs": [
    {
     "name": "stdout",
     "output_type": "stream",
     "text": [
      "A big world\n"
     ]
    }
   ],
   "source": [
    "my_tuple = (\"A big\", \"world\")\n",
    "print(my_tuple[0] + \" \" + my_tuple[1])"
   ]
  },
  {
   "cell_type": "markdown",
   "metadata": {
    "ExecuteTime": {
     "end_time": "2020-02-09T22:02:07.637744Z",
     "start_time": "2020-02-09T22:02:07.626188Z"
    }
   },
   "source": [
    "__tuple is immutable!__\n",
    "```python\n",
    "my_tuple[0] = \"hello 1\"\n",
    "\n",
    "---------------------------------------------------------------------------\n",
    "TypeError                                 Traceback (most recent call last)\n",
    "<ipython-input-23-58b1ae9e38da> in <module>\n",
    "      1 # tuple is immutable!\n",
    "----> 2 my_tuple[0] = \"hello 1\"\n",
    "\n",
    "TypeError: 'tuple' object does not support item assignment\n",
    "```"
   ]
  },
  {
   "cell_type": "code",
   "execution_count": 16,
   "metadata": {
    "ExecuteTime": {
     "end_time": "2020-02-18T18:21:13.278044Z",
     "start_time": "2020-02-18T18:21:13.272045Z"
    }
   },
   "outputs": [
    {
     "data": {
      "text/plain": [
       "['__add__',\n",
       " '__class__',\n",
       " '__contains__',\n",
       " '__delattr__',\n",
       " '__dir__',\n",
       " '__doc__',\n",
       " '__eq__',\n",
       " '__format__',\n",
       " '__ge__',\n",
       " '__getattribute__',\n",
       " '__getitem__',\n",
       " '__getnewargs__',\n",
       " '__gt__',\n",
       " '__hash__',\n",
       " '__init__',\n",
       " '__init_subclass__',\n",
       " '__iter__',\n",
       " '__le__',\n",
       " '__len__',\n",
       " '__lt__',\n",
       " '__mul__',\n",
       " '__ne__',\n",
       " '__new__',\n",
       " '__reduce__',\n",
       " '__reduce_ex__',\n",
       " '__repr__',\n",
       " '__rmul__',\n",
       " '__setattr__',\n",
       " '__sizeof__',\n",
       " '__str__',\n",
       " '__subclasshook__',\n",
       " 'count',\n",
       " 'index']"
      ]
     },
     "execution_count": 16,
     "metadata": {},
     "output_type": "execute_result"
    }
   ],
   "source": [
    "# all the functions within tuple class\n",
    "dir(tuple)"
   ]
  },
  {
   "cell_type": "markdown",
   "metadata": {},
   "source": [
    "## Dictionary"
   ]
  },
  {
   "cell_type": "code",
   "execution_count": 17,
   "metadata": {
    "ExecuteTime": {
     "end_time": "2020-02-18T18:21:13.285047Z",
     "start_time": "2020-02-18T18:21:13.280046Z"
    }
   },
   "outputs": [
    {
     "name": "stdout",
     "output_type": "stream",
     "text": [
      "hello\n",
      "world\n"
     ]
    }
   ],
   "source": [
    "# handle dictionaries\n",
    "my_dict = {1: \"hello\", 2:\"world\"}\n",
    "print(my_dict[1])\n",
    "print(my_dict[2])"
   ]
  },
  {
   "cell_type": "code",
   "execution_count": 18,
   "metadata": {
    "ExecuteTime": {
     "end_time": "2020-02-18T18:21:13.295048Z",
     "start_time": "2020-02-18T18:21:13.287047Z"
    }
   },
   "outputs": [
    {
     "data": {
      "text/plain": [
       "'hello'"
      ]
     },
     "execution_count": 18,
     "metadata": {},
     "output_type": "execute_result"
    }
   ],
   "source": [
    "my_dict[1]"
   ]
  },
  {
   "cell_type": "code",
   "execution_count": 19,
   "metadata": {
    "ExecuteTime": {
     "end_time": "2020-02-18T18:21:13.304047Z",
     "start_time": "2020-02-18T18:21:13.298048Z"
    }
   },
   "outputs": [
    {
     "name": "stdout",
     "output_type": "stream",
     "text": [
      "{1: 1, 2: 3, 3: 1, 4: 3, 5: 1, 6: 1, 7: 3}\n"
     ]
    }
   ],
   "source": [
    "# counting with dictionary\n",
    "my_list = [1,2,2,2,3,4,4,4,5,6,7,7,7]\n",
    "my_dict = {}\n",
    "for x in my_list:\n",
    "    my_dict[x] = my_dict.get(x, 0) + 1\n",
    "print(my_dict)"
   ]
  },
  {
   "cell_type": "code",
   "execution_count": 20,
   "metadata": {
    "ExecuteTime": {
     "end_time": "2020-02-18T18:21:13.312049Z",
     "start_time": "2020-02-18T18:21:13.307050Z"
    }
   },
   "outputs": [
    {
     "data": {
      "text/plain": [
       "[1, 2, 3, 4, 5, 6, 7]"
      ]
     },
     "execution_count": 20,
     "metadata": {},
     "output_type": "execute_result"
    }
   ],
   "source": [
    "[x for x in list(my_dict.keys())]"
   ]
  },
  {
   "cell_type": "code",
   "execution_count": 21,
   "metadata": {
    "ExecuteTime": {
     "end_time": "2020-02-18T18:21:13.320049Z",
     "start_time": "2020-02-18T18:21:13.314048Z"
    }
   },
   "outputs": [
    {
     "name": "stdout",
     "output_type": "stream",
     "text": [
      "{'world', 'hello'}\n"
     ]
    }
   ],
   "source": [
    "# handle a dictionary with comprehension\n",
    "my_dict = {1: \"hello\", 2:\"world\"}\n",
    "print({v for k,v in my_dict.items()})"
   ]
  },
  {
   "cell_type": "code",
   "execution_count": 22,
   "metadata": {
    "ExecuteTime": {
     "end_time": "2020-02-18T18:21:13.329049Z",
     "start_time": "2020-02-18T18:21:13.322048Z"
    }
   },
   "outputs": [
    {
     "data": {
      "text/plain": [
       "['__class__',\n",
       " '__contains__',\n",
       " '__delattr__',\n",
       " '__delitem__',\n",
       " '__dir__',\n",
       " '__doc__',\n",
       " '__eq__',\n",
       " '__format__',\n",
       " '__ge__',\n",
       " '__getattribute__',\n",
       " '__getitem__',\n",
       " '__gt__',\n",
       " '__hash__',\n",
       " '__init__',\n",
       " '__init_subclass__',\n",
       " '__iter__',\n",
       " '__le__',\n",
       " '__len__',\n",
       " '__lt__',\n",
       " '__ne__',\n",
       " '__new__',\n",
       " '__reduce__',\n",
       " '__reduce_ex__',\n",
       " '__repr__',\n",
       " '__setattr__',\n",
       " '__setitem__',\n",
       " '__sizeof__',\n",
       " '__str__',\n",
       " '__subclasshook__',\n",
       " 'clear',\n",
       " 'copy',\n",
       " 'fromkeys',\n",
       " 'get',\n",
       " 'items',\n",
       " 'keys',\n",
       " 'pop',\n",
       " 'popitem',\n",
       " 'setdefault',\n",
       " 'update',\n",
       " 'values']"
      ]
     },
     "execution_count": 22,
     "metadata": {},
     "output_type": "execute_result"
    }
   ],
   "source": [
    "# all the function within dictionary class\n",
    "dir(dict)"
   ]
  },
  {
   "cell_type": "markdown",
   "metadata": {},
   "source": [
    "## Set"
   ]
  },
  {
   "cell_type": "code",
   "execution_count": 23,
   "metadata": {
    "ExecuteTime": {
     "end_time": "2020-02-18T18:21:13.337050Z",
     "start_time": "2020-02-18T18:21:13.331048Z"
    }
   },
   "outputs": [
    {
     "data": {
      "text/plain": [
       "{1, 2, 3, 4}"
      ]
     },
     "execution_count": 23,
     "metadata": {},
     "output_type": "execute_result"
    }
   ],
   "source": [
    "# handle set - mutable & non-ordered collection with unique elements\n",
    "my_set = {1,2,3,4}\n",
    "my_set.add(4)\n",
    "my_set"
   ]
  },
  {
   "cell_type": "markdown",
   "metadata": {
    "ExecuteTime": {
     "end_time": "2020-02-17T03:18:58.429669Z",
     "start_time": "2020-02-17T03:18:58.417657Z"
    }
   },
   "source": [
    "```set``` object is not subscriptable\n",
    "```python\n",
    "my_set[0]\n",
    "```\n",
    "---------------------------------------------------------------------------\n",
    "TypeError                                 Traceback (most recent call last)\n",
    "<ipython-input-22-158c424478a1> in <module>\n",
    "----> 1 my_set[0]\n",
    "\n",
    "TypeError: 'set' object is not subscriptable"
   ]
  },
  {
   "cell_type": "code",
   "execution_count": 24,
   "metadata": {
    "ExecuteTime": {
     "end_time": "2020-02-18T18:21:13.345054Z",
     "start_time": "2020-02-18T18:21:13.339051Z"
    }
   },
   "outputs": [
    {
     "data": {
      "text/plain": [
       "['__and__',\n",
       " '__class__',\n",
       " '__contains__',\n",
       " '__delattr__',\n",
       " '__dir__',\n",
       " '__doc__',\n",
       " '__eq__',\n",
       " '__format__',\n",
       " '__ge__',\n",
       " '__getattribute__',\n",
       " '__gt__',\n",
       " '__hash__',\n",
       " '__iand__',\n",
       " '__init__',\n",
       " '__init_subclass__',\n",
       " '__ior__',\n",
       " '__isub__',\n",
       " '__iter__',\n",
       " '__ixor__',\n",
       " '__le__',\n",
       " '__len__',\n",
       " '__lt__',\n",
       " '__ne__',\n",
       " '__new__',\n",
       " '__or__',\n",
       " '__rand__',\n",
       " '__reduce__',\n",
       " '__reduce_ex__',\n",
       " '__repr__',\n",
       " '__ror__',\n",
       " '__rsub__',\n",
       " '__rxor__',\n",
       " '__setattr__',\n",
       " '__sizeof__',\n",
       " '__str__',\n",
       " '__sub__',\n",
       " '__subclasshook__',\n",
       " '__xor__',\n",
       " 'add',\n",
       " 'clear',\n",
       " 'copy',\n",
       " 'difference',\n",
       " 'difference_update',\n",
       " 'discard',\n",
       " 'intersection',\n",
       " 'intersection_update',\n",
       " 'isdisjoint',\n",
       " 'issubset',\n",
       " 'issuperset',\n",
       " 'pop',\n",
       " 'remove',\n",
       " 'symmetric_difference',\n",
       " 'symmetric_difference_update',\n",
       " 'union',\n",
       " 'update']"
      ]
     },
     "execution_count": 24,
     "metadata": {},
     "output_type": "execute_result"
    }
   ],
   "source": [
    "# all the functions within set class\n",
    "dir(set)"
   ]
  },
  {
   "cell_type": "markdown",
   "metadata": {},
   "source": [
    "## Data Structure Conversion"
   ]
  },
  {
   "cell_type": "code",
   "execution_count": 25,
   "metadata": {
    "ExecuteTime": {
     "end_time": "2020-02-18T18:21:13.353051Z",
     "start_time": "2020-02-18T18:21:13.348053Z"
    }
   },
   "outputs": [
    {
     "data": {
      "text/plain": [
       "[1, 2]"
      ]
     },
     "execution_count": 25,
     "metadata": {},
     "output_type": "execute_result"
    }
   ],
   "source": [
    "list(my_dict)"
   ]
  },
  {
   "cell_type": "code",
   "execution_count": 26,
   "metadata": {
    "ExecuteTime": {
     "end_time": "2020-02-18T18:21:13.361052Z",
     "start_time": "2020-02-18T18:21:13.355051Z"
    }
   },
   "outputs": [
    {
     "data": {
      "text/plain": [
       "['hello', 'world']"
      ]
     },
     "execution_count": 26,
     "metadata": {},
     "output_type": "execute_result"
    }
   ],
   "source": [
    "list(my_dict.values())"
   ]
  },
  {
   "cell_type": "code",
   "execution_count": 27,
   "metadata": {
    "ExecuteTime": {
     "end_time": "2020-02-18T18:21:13.371052Z",
     "start_time": "2020-02-18T18:21:13.364051Z"
    }
   },
   "outputs": [
    {
     "name": "stdout",
     "output_type": "stream",
     "text": [
      "(1, 'ivan')\n",
      "(2, 'Mital')\n",
      "(3, 'Sandeep')\n",
      "{1: 'ivan', 2: 'Mital', 3: 'Sandeep'}\n"
     ]
    }
   ],
   "source": [
    "# convert two lists into dictionary\n",
    "list_1 = [1,2,3]\n",
    "list_2 = [\"ivan\", \"Mital\", \"Sandeep\"]\n",
    "tmp = zip(list_1, list_2)\n",
    "for item in tmp:\n",
    "    print(item)\n",
    "dict_2 = dict(zip(list_1, list_2))\n",
    "print(dict_2)"
   ]
  },
  {
   "cell_type": "code",
   "execution_count": 28,
   "metadata": {
    "ExecuteTime": {
     "end_time": "2020-02-18T18:21:13.380053Z",
     "start_time": "2020-02-18T18:21:13.373054Z"
    }
   },
   "outputs": [
    {
     "data": {
      "text/plain": [
       "{0: 1, 2: 3, 4: 5, 6: 7, 8: 9}"
      ]
     },
     "execution_count": 28,
     "metadata": {},
     "output_type": "execute_result"
    }
   ],
   "source": [
    "# convert a list into dictionary\n",
    "my_list = range(10) # [0,1,2,3,4,5,6,7,8,9]\n",
    "values = my_list[1::2] # [1,3,5,7,9]\n",
    "keys = my_list[0::2] # [0,2,4,6,8]\n",
    "dict(zip(keys,values))"
   ]
  },
  {
   "cell_type": "code",
   "execution_count": 29,
   "metadata": {
    "ExecuteTime": {
     "end_time": "2020-02-18T18:21:13.389056Z",
     "start_time": "2020-02-18T18:21:13.383057Z"
    }
   },
   "outputs": [
    {
     "data": {
      "text/plain": [
       "{1: 'ivan', 2: 'mital', 3: 'sandeep'}"
      ]
     },
     "execution_count": 29,
     "metadata": {},
     "output_type": "execute_result"
    }
   ],
   "source": [
    "# convert two tuples into a dictionary\n",
    "tuple_1 = (1,2,3)\n",
    "tuple_2 = (\"ivan\", \"mital\", \"sandeep\")\n",
    "dict(zip(tuple_1, tuple_2))"
   ]
  },
  {
   "cell_type": "code",
   "execution_count": 30,
   "metadata": {
    "ExecuteTime": {
     "end_time": "2020-02-18T18:21:13.396056Z",
     "start_time": "2020-02-18T18:21:13.391053Z"
    }
   },
   "outputs": [
    {
     "data": {
      "text/plain": [
       "[1, 'ivan']"
      ]
     },
     "execution_count": 30,
     "metadata": {},
     "output_type": "execute_result"
    }
   ],
   "source": [
    "# convert a tuple to a list\n",
    "my_tuple = (1, \"ivan\")\n",
    "list(my_tuple)"
   ]
  },
  {
   "cell_type": "code",
   "execution_count": 31,
   "metadata": {
    "ExecuteTime": {
     "end_time": "2020-02-18T18:21:13.404056Z",
     "start_time": "2020-02-18T18:21:13.398053Z"
    }
   },
   "outputs": [
    {
     "data": {
      "text/plain": [
       "(1, 2, 'ivan', 'chen')"
      ]
     },
     "execution_count": 31,
     "metadata": {},
     "output_type": "execute_result"
    }
   ],
   "source": [
    "# convert a list to a tuple\n",
    "my_list = [1,2,\"ivan\", \"chen\"]\n",
    "tuple(my_list)"
   ]
  },
  {
   "cell_type": "code",
   "execution_count": 32,
   "metadata": {
    "ExecuteTime": {
     "end_time": "2020-02-18T18:21:13.412055Z",
     "start_time": "2020-02-18T18:21:13.406054Z"
    }
   },
   "outputs": [
    {
     "name": "stdout",
     "output_type": "stream",
     "text": [
      "((1, 'ivan'), (2, 'mital'), (3, 'sandeep'))\n"
     ]
    }
   ],
   "source": [
    "# convert a dictionary into a tuple\n",
    "my_dict = {1:\"ivan\",2:\"mital\",3:\"sandeep\"}\n",
    "print(tuple(my_dict.items()))"
   ]
  },
  {
   "cell_type": "code",
   "execution_count": 33,
   "metadata": {
    "ExecuteTime": {
     "end_time": "2020-02-18T18:21:13.424057Z",
     "start_time": "2020-02-18T18:21:13.419055Z"
    }
   },
   "outputs": [
    {
     "name": "stdout",
     "output_type": "stream",
     "text": [
      "[(1, 'ivan'), (2, 'mital'), (3, 'sandeep')]\n"
     ]
    }
   ],
   "source": [
    "# convert a dictionary into a list of tuples\n",
    "my_dict = {1:\"ivan\",2:\"mital\",3:\"sandeep\"}\n",
    "print([x for x in my_dict.items()])"
   ]
  },
  {
   "cell_type": "code",
   "execution_count": 34,
   "metadata": {
    "ExecuteTime": {
     "end_time": "2020-02-18T18:21:13.434056Z",
     "start_time": "2020-02-18T18:21:13.428056Z"
    }
   },
   "outputs": [
    {
     "name": "stdout",
     "output_type": "stream",
     "text": [
      "[1, 'ivan', 2, 'mital', 3, 'sandeep']\n"
     ]
    }
   ],
   "source": [
    "# convert a dictionary into a list\n",
    "my_dict = {1:\"ivan\",2:\"mital\",3:\"sandeep\"}\n",
    "my_list = []\n",
    "for key, value in my_dict.items():\n",
    "    my_list.append(key)\n",
    "    my_list.append(value)\n",
    "    \n",
    "print(my_list)"
   ]
  },
  {
   "cell_type": "markdown",
   "metadata": {},
   "source": [
    "## Sorting"
   ]
  },
  {
   "cell_type": "markdown",
   "metadata": {},
   "source": [
    "Sorted function can sort elements in an iterable object (list, tuple, dictionary, set and collection). Some data structures have build-in sort method also to sort their elements."
   ]
  },
  {
   "cell_type": "markdown",
   "metadata": {},
   "source": [
    "__Sort a List__"
   ]
  },
  {
   "cell_type": "code",
   "execution_count": 35,
   "metadata": {
    "ExecuteTime": {
     "end_time": "2020-02-18T18:21:13.443057Z",
     "start_time": "2020-02-18T18:21:13.436057Z"
    }
   },
   "outputs": [
    {
     "name": "stdout",
     "output_type": "stream",
     "text": [
      "[3, 7, 1, 5, 4]\n",
      "[1, 3, 4, 5, 7]\n",
      "[1, 3, 4, 5, 7]\n",
      "[7, 5, 4, 3, 1]\n"
     ]
    }
   ],
   "source": [
    "numbers = [3,7,1,5,4]\n",
    "numbers_sorted = sorted(numbers)\n",
    "print(numbers)\n",
    "print(numbers_sorted)\n",
    "numbers.sort()\n",
    "print(numbers)\n",
    "numbers_sorted = sorted(numbers, reverse=True)\n",
    "print(numbers_sorted)"
   ]
  },
  {
   "cell_type": "code",
   "execution_count": 36,
   "metadata": {
    "ExecuteTime": {
     "end_time": "2020-02-18T18:21:13.452058Z",
     "start_time": "2020-02-18T18:21:13.445060Z"
    }
   },
   "outputs": [
    {
     "name": "stdout",
     "output_type": "stream",
     "text": [
      "['Rome', 'Paris', 'Munich', 'Barcelona']\n"
     ]
    }
   ],
   "source": [
    "cities = ['Munich', 'Rome', 'Barcelona', 'Paris']\n",
    "cities_sorted = sorted(cities, key=len)\n",
    "print(cities_sorted)"
   ]
  },
  {
   "cell_type": "markdown",
   "metadata": {},
   "source": [
    "__Sort a Tuple__"
   ]
  },
  {
   "cell_type": "code",
   "execution_count": 37,
   "metadata": {
    "ExecuteTime": {
     "end_time": "2020-02-18T18:21:13.460059Z",
     "start_time": "2020-02-18T18:21:13.454059Z"
    }
   },
   "outputs": [
    {
     "name": "stdout",
     "output_type": "stream",
     "text": [
      "[1, 3, 5, 8]\n",
      "[8, 5, 3, 1]\n"
     ]
    }
   ],
   "source": [
    "numbers = (5,1,8,3)\n",
    "numbers_sorted = sorted(numbers)\n",
    "print(numbers_sorted)\n",
    "numbers_sorted_reverse = sorted(numbers, reverse=True)\n",
    "print(numbers_sorted_reverse)"
   ]
  },
  {
   "cell_type": "markdown",
   "metadata": {},
   "source": [
    "__Sort a Set__"
   ]
  },
  {
   "cell_type": "code",
   "execution_count": 38,
   "metadata": {
    "ExecuteTime": {
     "end_time": "2020-02-18T18:21:13.468060Z",
     "start_time": "2020-02-18T18:21:13.462058Z"
    }
   },
   "outputs": [
    {
     "name": "stdout",
     "output_type": "stream",
     "text": [
      "['Rome', 'Paris', 'Munich', 'Barcelona']\n"
     ]
    }
   ],
   "source": [
    "cities = {'Munich', 'Rome', 'Barcelona', 'Paris'}\n",
    "cities_sorted = sorted(cities, reverse=True)\n",
    "print(cities_sorted)"
   ]
  },
  {
   "cell_type": "markdown",
   "metadata": {},
   "source": [
    "__Sort a Dictionary__"
   ]
  },
  {
   "cell_type": "code",
   "execution_count": 39,
   "metadata": {
    "ExecuteTime": {
     "end_time": "2020-02-18T18:21:13.477060Z",
     "start_time": "2020-02-18T18:21:13.471060Z"
    }
   },
   "outputs": [
    {
     "name": "stdout",
     "output_type": "stream",
     "text": [
      "['carbon', 'helium', 'hydrogen']\n"
     ]
    }
   ],
   "source": [
    "elements = {'hydrogen':1, 'helium':2, 'carbon':3}\n",
    "key_sorted = sorted(elements)\n",
    "print(key_sorted)"
   ]
  },
  {
   "cell_type": "code",
   "execution_count": 40,
   "metadata": {
    "ExecuteTime": {
     "end_time": "2020-02-18T18:21:13.485060Z",
     "start_time": "2020-02-18T18:21:13.479059Z"
    }
   },
   "outputs": [
    {
     "name": "stdout",
     "output_type": "stream",
     "text": [
      "['hydrogen', 'carbon', 'helium']\n"
     ]
    }
   ],
   "source": [
    "elements = {'hydrogen':1, 'helium':3, 'carbon':2}\n",
    "value_sorted = sorted(elements, key=elements.get)\n",
    "print(value_sorted)"
   ]
  },
  {
   "cell_type": "code",
   "execution_count": 41,
   "metadata": {
    "ExecuteTime": {
     "end_time": "2020-02-18T18:21:13.495061Z",
     "start_time": "2020-02-18T18:21:13.488063Z"
    }
   },
   "outputs": [
    {
     "name": "stdout",
     "output_type": "stream",
     "text": [
      "{'carbon': 2, 'helium': 3, 'hydrogen': 1}\n",
      "{'hydrogen': 1, 'carbon': 2, 'helium': 3}\n"
     ]
    }
   ],
   "source": [
    "elements = {'hydrogen':1, 'helium':3, 'carbon':2}\n",
    "elements_bykeys = {key:elements[key] for key in sorted(elements)}\n",
    "print(elements_bykeys)\n",
    "elements_byvalues = {key:elements[key] for key in sorted(elements, key=elements.get)}\n",
    "print(elements_byvalues)"
   ]
  },
  {
   "cell_type": "markdown",
   "metadata": {},
   "source": [
    "# Loop"
   ]
  },
  {
   "cell_type": "code",
   "execution_count": 42,
   "metadata": {
    "ExecuteTime": {
     "end_time": "2020-02-18T18:21:13.503062Z",
     "start_time": "2020-02-18T18:21:13.498062Z"
    }
   },
   "outputs": [
    {
     "name": "stdout",
     "output_type": "stream",
     "text": [
      "Hello\n",
      "World\n",
      "Friends\n"
     ]
    }
   ],
   "source": [
    "# create a FOR loop\n",
    "sub_strings = \"Hello World Friends\".split()\n",
    "for item in sub_strings:\n",
    "    print(item)"
   ]
  },
  {
   "cell_type": "code",
   "execution_count": 43,
   "metadata": {
    "ExecuteTime": {
     "end_time": "2020-02-18T18:21:13.511063Z",
     "start_time": "2020-02-18T18:21:13.506063Z"
    }
   },
   "outputs": [
    {
     "name": "stdout",
     "output_type": "stream",
     "text": [
      "Hello\n",
      "World\n",
      "Friends\n"
     ]
    }
   ],
   "source": [
    "# create a WHILE loop\n",
    "sub_strings = \"Hello World Friends\".split()\n",
    "x = 0\n",
    "while x < len(sub_strings):\n",
    "    print(sub_strings[x])\n",
    "    x = x + 1    "
   ]
  },
  {
   "cell_type": "code",
   "execution_count": 44,
   "metadata": {
    "ExecuteTime": {
     "end_time": "2020-02-18T18:21:13.521063Z",
     "start_time": "2020-02-18T18:21:13.513062Z"
    }
   },
   "outputs": [
    {
     "name": "stdout",
     "output_type": "stream",
     "text": [
      "['fizzbuzz', 22, 14, 'buzz', 97, 'fizz']\n"
     ]
    }
   ],
   "source": [
    "# Create a loop with enumerate function to access index and value at the same time\n",
    "numbers = [45, 22, 14, 65, 97, 72]\n",
    "for i, value in enumerate(numbers):\n",
    "    if value % 3 == 0 and value % 5 == 0:\n",
    "        numbers[i] = 'fizzbuzz'\n",
    "    elif value % 3 == 0:\n",
    "        numbers[i] = 'fizz'\n",
    "    elif value % 5 == 0:\n",
    "        numbers[i] = 'buzz'\n",
    "print(numbers)"
   ]
  },
  {
   "cell_type": "markdown",
   "metadata": {},
   "source": [
    "# Condition Statement"
   ]
  },
  {
   "cell_type": "code",
   "execution_count": 45,
   "metadata": {
    "ExecuteTime": {
     "end_time": "2020-02-18T18:21:13.529064Z",
     "start_time": "2020-02-18T18:21:13.523064Z"
    }
   },
   "outputs": [
    {
     "name": "stdout",
     "output_type": "stream",
     "text": [
      "Something Wrong!\n"
     ]
    }
   ],
   "source": [
    "# condition\n",
    "list_num = 1\n",
    "if (list_num == 2):\n",
    "    print(list_num)\n",
    "else:\n",
    "    print(\"Something Wrong!\")"
   ]
  },
  {
   "cell_type": "code",
   "execution_count": 46,
   "metadata": {
    "ExecuteTime": {
     "end_time": "2020-02-18T18:21:13.537064Z",
     "start_time": "2020-02-18T18:21:13.531063Z"
    }
   },
   "outputs": [
    {
     "name": "stdout",
     "output_type": "stream",
     "text": [
      "Something Wrong!\n"
     ]
    }
   ],
   "source": [
    "# condition\n",
    "list_num = 1\n",
    "if (list_num == 2):\n",
    "    print(list_num)\n",
    "elif (list_num > 2):\n",
    "    print(\"Nothing\")\n",
    "else:\n",
    "    print(\"Something Wrong!\")"
   ]
  },
  {
   "cell_type": "code",
   "execution_count": 47,
   "metadata": {
    "ExecuteTime": {
     "end_time": "2020-02-18T18:21:13.549064Z",
     "start_time": "2020-02-18T18:21:13.540064Z"
    }
   },
   "outputs": [
    {
     "data": {
      "text/plain": [
       "'Tuesday'"
      ]
     },
     "execution_count": 47,
     "metadata": {},
     "output_type": "execute_result"
    }
   ],
   "source": [
    "# Python doesn't have native switch statement.\n",
    "# We can implement one, for example, like below\n",
    "def week(i):\n",
    "    switcher={0:'Sunday', 1:'Monday',2:'Tuesday', 3:'Wednesday', 4:'Thursday', 5:'Friday', 6:'Saturday'}\n",
    "    return switcher.get(i,\"Invalid day of week\")\n",
    "    \n",
    "week(2)"
   ]
  },
  {
   "cell_type": "markdown",
   "metadata": {},
   "source": [
    "# Function"
   ]
  },
  {
   "cell_type": "markdown",
   "metadata": {},
   "source": [
    "## Define Function"
   ]
  },
  {
   "cell_type": "code",
   "execution_count": 48,
   "metadata": {
    "ExecuteTime": {
     "end_time": "2020-02-18T18:21:13.558064Z",
     "start_time": "2020-02-18T18:21:13.551066Z"
    },
    "scrolled": true
   },
   "outputs": [
    {
     "name": "stdout",
     "output_type": "stream",
     "text": [
      "Hello\n",
      "World\n",
      "Friends\n"
     ]
    }
   ],
   "source": [
    "# define a simple function\n",
    "def print_list(x=\"default\", y=None):\n",
    "    for item in x:\n",
    "        print(item)\n",
    "    return y\n",
    "\n",
    "print_list(sub_strings)"
   ]
  },
  {
   "cell_type": "code",
   "execution_count": 49,
   "metadata": {
    "ExecuteTime": {
     "end_time": "2020-02-18T18:21:13.565068Z",
     "start_time": "2020-02-18T18:21:13.560066Z"
    }
   },
   "outputs": [
    {
     "name": "stdout",
     "output_type": "stream",
     "text": [
      "My name is Ivan and I'm 18 years old\n"
     ]
    }
   ],
   "source": [
    "# define a function to use f-string fucntion to format string output\n",
    "def get_name_age(name, age):\n",
    "    return f\"My name is {name} and I'm {age} years old\"\n",
    "\n",
    "print(get_name_age(\"Ivan\", 18))"
   ]
  },
  {
   "cell_type": "markdown",
   "metadata": {},
   "source": [
    "## Lambda Function"
   ]
  },
  {
   "cell_type": "code",
   "execution_count": 50,
   "metadata": {
    "ExecuteTime": {
     "end_time": "2020-02-18T18:21:13.574067Z",
     "start_time": "2020-02-18T18:21:13.567066Z"
    }
   },
   "outputs": [
    {
     "data": {
      "text/plain": [
       "function"
      ]
     },
     "execution_count": 50,
     "metadata": {},
     "output_type": "execute_result"
    }
   ],
   "source": [
    "# lambda function\n",
    "add = (lambda x, y: x + y)\n",
    "type(add)"
   ]
  },
  {
   "cell_type": "code",
   "execution_count": 51,
   "metadata": {
    "ExecuteTime": {
     "end_time": "2020-02-18T18:21:13.582066Z",
     "start_time": "2020-02-18T18:21:13.576067Z"
    }
   },
   "outputs": [
    {
     "data": {
      "text/plain": [
       "5"
      ]
     },
     "execution_count": 51,
     "metadata": {},
     "output_type": "execute_result"
    }
   ],
   "source": [
    "add(2, 3)"
   ]
  },
  {
   "cell_type": "code",
   "execution_count": 52,
   "metadata": {
    "ExecuteTime": {
     "end_time": "2020-02-18T18:21:13.591067Z",
     "start_time": "2020-02-18T18:21:13.584069Z"
    }
   },
   "outputs": [
    {
     "name": "stdout",
     "output_type": "stream",
     "text": [
      "[5, 7, 97, 77, 23, 73, 61]\n"
     ]
    }
   ],
   "source": [
    "# filter() with lambda() \n",
    "li = [5, 7, 22, 97, 54, 62, 77, 23, 73, 61] \n",
    "final_list = list(filter(lambda x: (x%2 != 0) , li)) \n",
    "print(final_list) "
   ]
  },
  {
   "cell_type": "code",
   "execution_count": 53,
   "metadata": {
    "ExecuteTime": {
     "end_time": "2020-02-18T18:21:13.598069Z",
     "start_time": "2020-02-18T18:21:13.594069Z"
    }
   },
   "outputs": [
    {
     "name": "stdout",
     "output_type": "stream",
     "text": [
      "[10, 14, 44, 194, 108, 124, 154, 46, 146, 122]\n"
     ]
    }
   ],
   "source": [
    "# to get double of a list. \n",
    "li = [5, 7, 22, 97, 54, 62, 77, 23, 73, 61] \n",
    "final_list = list(map(lambda x: x*2 , li)) \n",
    "print(final_list) "
   ]
  },
  {
   "cell_type": "code",
   "execution_count": 54,
   "metadata": {
    "ExecuteTime": {
     "end_time": "2020-02-18T18:21:13.606069Z",
     "start_time": "2020-02-18T18:21:13.600068Z"
    }
   },
   "outputs": [
    {
     "name": "stdout",
     "output_type": "stream",
     "text": [
      "193\n"
     ]
    }
   ],
   "source": [
    "# reduce() with lambda() \n",
    "# to get sum of a list \n",
    "from functools import reduce\n",
    "li = [5, 8, 10, 20, 50, 100] \n",
    "sum = reduce((lambda x, y: x + y), li) \n",
    "print(sum) "
   ]
  },
  {
   "cell_type": "markdown",
   "metadata": {},
   "source": [
    "# Class"
   ]
  },
  {
   "cell_type": "code",
   "execution_count": 55,
   "metadata": {
    "ExecuteTime": {
     "end_time": "2020-02-18T18:21:13.615070Z",
     "start_time": "2020-02-18T18:21:13.608078Z"
    }
   },
   "outputs": [
    {
     "name": "stdout",
     "output_type": "stream",
     "text": [
      "The blue car has 20,000 miles\n",
      "The red car has 30,000 miles\n",
      "The blue car has 20,000 miles\n",
      "The red car has 30,000 miles\n"
     ]
    }
   ],
   "source": [
    "# define a class to include all variables and operations all together for object-oriented programming\n",
    "class Car:\n",
    "    def __init__(self, color, mileage):\n",
    "        self.color = color\n",
    "        self.mileage = mileage\n",
    "    def print_info(self):\n",
    "        print(f\"The {self.color} car has {self.mileage:,} miles\")\n",
    "\n",
    "blue_car = Car(\"blue\", 20000)\n",
    "blue_car.print_info()\n",
    "\n",
    "red_car = Car(\"red\", 30000)\n",
    "red_car.print_info()\n",
    "\n",
    "for car in (blue_car, red_car):\n",
    "    print(f\"The {car.color} car has {car.mileage:,} miles\")"
   ]
  },
  {
   "cell_type": "markdown",
   "metadata": {},
   "source": [
    "# File"
   ]
  },
  {
   "cell_type": "code",
   "execution_count": 56,
   "metadata": {
    "ExecuteTime": {
     "end_time": "2020-02-18T18:21:13.624070Z",
     "start_time": "2020-02-18T18:21:13.617070Z"
    }
   },
   "outputs": [],
   "source": [
    "# handle file - creae a simple text file\n",
    "fhandle = open('test.txt', 'w')\n",
    "content = \"this is a test, please read it now!\\nthis is second line, please ignore it!\"\n",
    "with fhandle as f:\n",
    "    f.write(content)"
   ]
  },
  {
   "cell_type": "code",
   "execution_count": 57,
   "metadata": {
    "ExecuteTime": {
     "end_time": "2020-02-18T18:21:13.631072Z",
     "start_time": "2020-02-18T18:21:13.626071Z"
    }
   },
   "outputs": [
    {
     "name": "stdout",
     "output_type": "stream",
     "text": [
      "this is a test, please read it now!\n",
      "this is second line, please ignore it!\n"
     ]
    }
   ],
   "source": [
    "# handle file - read the simple text file\n",
    "fhandle = open('test.txt','r')\n",
    "print(fhandle.read())"
   ]
  },
  {
   "cell_type": "code",
   "execution_count": 58,
   "metadata": {
    "ExecuteTime": {
     "end_time": "2020-02-18T18:21:13.640071Z",
     "start_time": "2020-02-18T18:21:13.633070Z"
    }
   },
   "outputs": [
    {
     "name": "stdout",
     "output_type": "stream",
     "text": [
      "this is a test, please read it now!\n",
      "this is second line, please ignore it!\n"
     ]
    }
   ],
   "source": [
    "# handle file - read the simple text file line by line\n",
    "fhandle = open('test.txt','r')\n",
    "with fhandle as f:\n",
    "    for line in f:\n",
    "        print(line.strip())"
   ]
  },
  {
   "cell_type": "code",
   "execution_count": 59,
   "metadata": {
    "ExecuteTime": {
     "end_time": "2020-02-18T18:21:13.648074Z",
     "start_time": "2020-02-18T18:21:13.642071Z"
    }
   },
   "outputs": [
    {
     "name": "stdout",
     "output_type": "stream",
     "text": [
      "False\n",
      "my_file.txt\n",
      "my_folder\n"
     ]
    }
   ],
   "source": [
    "# Working With File Paths in Python\n",
    "\n",
    "from pathlib import Path\n",
    "\n",
    "file_path = Path.home() / \"my_folder\" / \"my_file.txt\"\n",
    "\n",
    "print(file_path.exists())\n",
    "\n",
    "print(file_path.name)\n",
    "\n",
    "print(file_path.parent.name)"
   ]
  },
  {
   "cell_type": "code",
   "execution_count": 60,
   "metadata": {
    "ExecuteTime": {
     "end_time": "2020-02-18T18:21:13.663074Z",
     "start_time": "2020-02-18T18:21:13.650071Z"
    }
   },
   "outputs": [
    {
     "name": "stdout",
     "output_type": "stream",
     "text": [
      "[[1, 2, 3, 4, 5], [], [6, 7, 8, 9, 10], [], [11, 12, 13, 14, 15], []]\n"
     ]
    }
   ],
   "source": [
    "# Read and Write CSV Data with more controls\n",
    "import csv\n",
    "from pathlib import Path\n",
    "\n",
    "numbers = [\n",
    "    [1, 2, 3, 4, 5],\n",
    "    [6, 7, 8, 9, 10],\n",
    "    [11, 12, 13, 14, 15],\n",
    "]\n",
    "\n",
    "file_path = Path.home() / \"numbers.csv\"\n",
    "\n",
    "with file_path.open(mode=\"w\", encoding=\"utf-8\") as file:\n",
    "    writer = csv.writer(file)\n",
    "    writer.writerows(numbers)\n",
    "\n",
    "numbers = []\n",
    "\n",
    "with file_path.open(mode=\"r\", encoding=\"utf-8\") as file:\n",
    "    reader = csv.reader(file)\n",
    "    for row in reader:\n",
    "        int_row = [int(num) for num in row]\n",
    "        numbers.append(int_row)\n",
    "\n",
    "print(numbers)"
   ]
  },
  {
   "cell_type": "markdown",
   "metadata": {},
   "source": [
    "# Context Manager"
   ]
  },
  {
   "cell_type": "code",
   "execution_count": 1,
   "metadata": {
    "ExecuteTime": {
     "end_time": "2020-03-17T14:08:01.989684Z",
     "start_time": "2020-03-17T14:08:01.972598Z"
    }
   },
   "outputs": [
    {
     "name": "stdout",
     "output_type": "stream",
     "text": [
      "True\n"
     ]
    }
   ],
   "source": [
    "# custom defined context manager\n",
    "# Method 1\n",
    "class OpenFile:\n",
    "    def __init__(self, file, mode):\n",
    "        self.file = file\n",
    "        self.mode = mode\n",
    "\n",
    "    def __enter__(self):\n",
    "        self.f = open(self.file, self.mode)\n",
    "        return self.f\n",
    "\n",
    "    def __exit__(self, exc_type, exc_val, exc_tb):\n",
    "        self.f.close()\n",
    "\n",
    "with OpenFile('test.txt', 'w') as f:\n",
    "    f.write('Something to write to mine')\n",
    "print(f.closed)"
   ]
  },
  {
   "cell_type": "code",
   "execution_count": 2,
   "metadata": {
    "ExecuteTime": {
     "end_time": "2020-03-17T14:09:00.951276Z",
     "start_time": "2020-03-17T14:09:00.942230Z"
    }
   },
   "outputs": [
    {
     "name": "stdout",
     "output_type": "stream",
     "text": [
      "True\n"
     ]
    }
   ],
   "source": [
    "# Method 2\n",
    "from contextlib import contextmanager\n",
    "\n",
    "@contextmanager\n",
    "def OpenFile(file, mode):\n",
    "    f = open(file, mode)\n",
    "    yield f\n",
    "    f.close()\n",
    "    \n",
    "with OpenFile('test.txt', 'w') as f:\n",
    "    f.write('Something to write to mine')\n",
    "print(f.closed)"
   ]
  },
  {
   "cell_type": "markdown",
   "metadata": {},
   "source": [
    "# Take Advantage of Additional Python Library"
   ]
  },
  {
   "cell_type": "markdown",
   "metadata": {},
   "source": [
    "## Handle Missing Dictionary Keys"
   ]
  },
  {
   "cell_type": "code",
   "execution_count": 61,
   "metadata": {
    "ExecuteTime": {
     "end_time": "2020-02-18T18:21:13.673072Z",
     "start_time": "2020-02-18T18:21:13.665075Z"
    }
   },
   "outputs": [
    {
     "name": "stdout",
     "output_type": "stream",
     "text": [
      "[('elliot', [91, 88]), ('neelam', [98]), ('bianca', [81])]\n"
     ]
    }
   ],
   "source": [
    "from collections import defaultdict\n",
    "\n",
    "student_grades = defaultdict(list)\n",
    "grades = [('elliot', 91),('neelam', 98),('bianca', 81),('elliot', 88),]\n",
    "for name, grade in grades:\n",
    "    student_grades[name].append(grade)\n",
    "\n",
    "print([(k,v) for k,v in student_grades.items()])"
   ]
  },
  {
   "cell_type": "markdown",
   "metadata": {},
   "source": [
    "## Count Hashable Objects With collections.Counter"
   ]
  },
  {
   "cell_type": "code",
   "execution_count": 62,
   "metadata": {
    "ExecuteTime": {
     "end_time": "2020-02-18T18:21:13.682075Z",
     "start_time": "2020-02-18T18:21:13.675076Z"
    }
   },
   "outputs": [
    {
     "name": "stdout",
     "output_type": "stream",
     "text": [
      "[('if', 2), ('there', 4), ('was', 4), ('but', 1), ('not', 2)]\n"
     ]
    },
    {
     "data": {
      "text/plain": [
       "[('there', 4), ('was', 4)]"
      ]
     },
     "execution_count": 62,
     "metadata": {},
     "output_type": "execute_result"
    }
   ],
   "source": [
    "from collections import Counter\n",
    "\n",
    "words = \"if there was there was but if there was not there was not\".split()\n",
    "counts = Counter(words)\n",
    "print([(k,v) for k,v in counts.items()])\n",
    "counts.most_common(2)"
   ]
  },
  {
   "cell_type": "markdown",
   "metadata": {},
   "source": [
    "## Generate Permutations and Combinations With itertools"
   ]
  },
  {
   "cell_type": "code",
   "execution_count": 63,
   "metadata": {
    "ExecuteTime": {
     "end_time": "2020-02-18T18:21:13.690074Z",
     "start_time": "2020-02-18T18:21:13.684074Z"
    }
   },
   "outputs": [
    {
     "name": "stdout",
     "output_type": "stream",
     "text": [
      "Permutations are:  [('Monique', 'Ashish'), ('Monique', 'Devon'), ('Monique', 'Bernie'), ('Ashish', 'Monique'), ('Ashish', 'Devon'), ('Ashish', 'Bernie'), ('Devon', 'Monique'), ('Devon', 'Ashish'), ('Devon', 'Bernie'), ('Bernie', 'Monique'), ('Bernie', 'Ashish'), ('Bernie', 'Devon')]\n",
      "Combinations are:  [('Monique', 'Ashish'), ('Monique', 'Devon'), ('Monique', 'Bernie'), ('Ashish', 'Devon'), ('Ashish', 'Bernie'), ('Devon', 'Bernie')]\n"
     ]
    }
   ],
   "source": [
    "import itertools\n",
    "\n",
    "friends = ['Monique', 'Ashish', 'Devon', 'Bernie']\n",
    "print(\"Permutations are: \", list(itertools.permutations(friends, r=2)))\n",
    "print(\"Combinations are: \", list(itertools.combinations(friends, r=2)))"
   ]
  },
  {
   "cell_type": "markdown",
   "metadata": {},
   "source": [
    "## Use Less Memory with Generator"
   ]
  },
  {
   "cell_type": "code",
   "execution_count": 2,
   "metadata": {
    "ExecuteTime": {
     "end_time": "2020-02-18T18:22:05.433526Z",
     "start_time": "2020-02-18T18:22:03.499775Z"
    }
   },
   "outputs": [
    {
     "name": "stdout",
     "output_type": "stream",
     "text": [
      "peak memory: 96.59 MiB, increment: 40.27 MiB\n"
     ]
    }
   ],
   "source": [
    "# Build and return a list\n",
    "def firstn(n):\n",
    "    num, nums = 0, []\n",
    "    while num < n:\n",
    "        nums.append(num)\n",
    "        num += 1\n",
    "    return nums\n",
    " \n",
    "%memit sum_of_first_n = sum(firstn(1000000))"
   ]
  },
  {
   "cell_type": "code",
   "execution_count": 3,
   "metadata": {
    "ExecuteTime": {
     "end_time": "2020-02-18T18:22:07.292108Z",
     "start_time": "2020-02-18T18:22:05.437529Z"
    }
   },
   "outputs": [
    {
     "name": "stdout",
     "output_type": "stream",
     "text": [
      "peak memory: 56.38 MiB, increment: 0.02 MiB\n"
     ]
    }
   ],
   "source": [
    "# a generator that yields items instead of returning a list\n",
    "def firstn(n):\n",
    "    num = 0\n",
    "    while num < n:\n",
    "        yield num\n",
    "        num += 1\n",
    "\n",
    "%memit sum_of_first_n = sum(firstn(1000000))"
   ]
  },
  {
   "cell_type": "code",
   "execution_count": 4,
   "metadata": {
    "ExecuteTime": {
     "end_time": "2020-02-18T18:22:32.402579Z",
     "start_time": "2020-02-18T18:22:07.296107Z"
    }
   },
   "outputs": [
    {
     "name": "stdout",
     "output_type": "stream",
     "text": [
      "124 ms ± 3.71 ms per loop (mean ± std. dev. of 7 runs, 10 loops each)\n",
      "peak memory: 96.64 MiB, increment: 40.25 MiB\n",
      "137 ms ± 10.2 ms per loop (mean ± std. dev. of 7 runs, 10 loops each)\n",
      "peak memory: 56.42 MiB, increment: 0.02 MiB\n"
     ]
    }
   ],
   "source": [
    "%timeit sum([i * i for i in range(1,1000001)]) # use list comprehension\n",
    "%memit sum([i * i for i in range(1,1000001)]) # use list comprehension\n",
    "%timeit sum((i * i for i in range(1,1000001))) # use generator expression\n",
    "%memit sum((i * i for i in range(1,1000001))) # use generator expression"
   ]
  },
  {
   "cell_type": "markdown",
   "metadata": {},
   "source": [
    "## More Functions and Classes in Additional Libraries"
   ]
  },
  {
   "cell_type": "code",
   "execution_count": 5,
   "metadata": {
    "ExecuteTime": {
     "end_time": "2020-02-18T18:22:33.233862Z",
     "start_time": "2020-02-18T18:22:32.405279Z"
    },
    "scrolled": true
   },
   "outputs": [
    {
     "data": {
      "text/html": [
       "<div>\n",
       "<style scoped>\n",
       "    .dataframe tbody tr th:only-of-type {\n",
       "        vertical-align: middle;\n",
       "    }\n",
       "\n",
       "    .dataframe tbody tr th {\n",
       "        vertical-align: top;\n",
       "    }\n",
       "\n",
       "    .dataframe thead th {\n",
       "        text-align: right;\n",
       "    }\n",
       "</style>\n",
       "<table border=\"1\" class=\"dataframe\">\n",
       "  <thead>\n",
       "    <tr style=\"text-align: right;\">\n",
       "      <th></th>\n",
       "      <th>0</th>\n",
       "      <th>1</th>\n",
       "      <th>2</th>\n",
       "      <th>3</th>\n",
       "      <th>4</th>\n",
       "      <th>5</th>\n",
       "      <th>6</th>\n",
       "    </tr>\n",
       "  </thead>\n",
       "  <tbody>\n",
       "    <tr>\n",
       "      <th>0</th>\n",
       "      <td>1</td>\n",
       "      <td>2</td>\n",
       "      <td>3</td>\n",
       "      <td>4</td>\n",
       "      <td>5</td>\n",
       "      <td>NaN</td>\n",
       "      <td>NaN</td>\n",
       "    </tr>\n",
       "    <tr>\n",
       "      <th>1</th>\n",
       "      <td>6</td>\n",
       "      <td>7</td>\n",
       "      <td>8</td>\n",
       "      <td>9</td>\n",
       "      <td>10</td>\n",
       "      <td>NaN</td>\n",
       "      <td>NaN</td>\n",
       "    </tr>\n",
       "    <tr>\n",
       "      <th>2</th>\n",
       "      <td>11</td>\n",
       "      <td>12</td>\n",
       "      <td>13</td>\n",
       "      <td>14</td>\n",
       "      <td>15</td>\n",
       "      <td>16.0</td>\n",
       "      <td>17.0</td>\n",
       "    </tr>\n",
       "  </tbody>\n",
       "</table>\n",
       "</div>"
      ],
      "text/plain": [
       "    0   1   2   3   4     5     6\n",
       "0   1   2   3   4   5   NaN   NaN\n",
       "1   6   7   8   9  10   NaN   NaN\n",
       "2  11  12  13  14  15  16.0  17.0"
      ]
     },
     "execution_count": 5,
     "metadata": {},
     "output_type": "execute_result"
    }
   ],
   "source": [
    "# import additional python libraries to use more powerful functions and classes\n",
    "import numpy as np\n",
    "import pandas as pd\n",
    "\n",
    "numbers = [\n",
    "    [1, 2, 3, 4, 5],\n",
    "    [6, 7, 8, 9, 10],\n",
    "    [11, 12, 13, 14, 15, 16, 17],\n",
    "]\n",
    "\n",
    "df = pd.DataFrame(numbers)\n",
    "df.head(5)"
   ]
  },
  {
   "cell_type": "markdown",
   "metadata": {},
   "source": [
    "# Exercise"
   ]
  },
  {
   "cell_type": "markdown",
   "metadata": {
    "ExecuteTime": {
     "end_time": "2020-02-16T17:06:25.961109Z",
     "start_time": "2020-02-16T17:06:25.932824Z"
    }
   },
   "source": [
    "The following codes will save a csv file with some sample data\n",
    "```python\n",
    "import csv\n",
    "from pathlib import Path\n",
    "\n",
    "favorite_colors = [\n",
    "    {\"name\": \"Joe\", \"favorite_color\": \"blue\"},\n",
    "    {\"name\": \"Anne\", \"favorite_color\": \"green\"},\n",
    "    {\"name\": \"Bailey\", \"favorite_color\": \"red\"},\n",
    "]\n",
    "\n",
    "file_path = Path.home() / \"favorite_colors.csv\"\n",
    "\n",
    "with file_path.open(mode=\"w\", encoding=\"utf-8\") as file:\n",
    "    writer = csv.DictWriter(file, fieldnames=[\"name\", \"favorite_color\"])\n",
    "    writer.writeheader()\n",
    "    writer.writerows(favorite_colors)\n",
    "```\n",
    "Your task is: read this favorite_colors.csv file and then change the values in name column to your name and show the results\n",
    "\n",
    "To see a solution\n",
    "use the following command\n",
    "```\n",
    "%load exercise_solution.py\n",
    "```"
   ]
  }
 ],
 "metadata": {
  "kernelspec": {
   "display_name": "Python 3.7.6 64-bit ('tf-gpu': conda)",
   "language": "python",
   "name": "python37664bittfgpucondab07469700f0b4873b44d3807ba5e22af"
  },
  "language_info": {
   "codemirror_mode": {
    "name": "ipython",
    "version": 3
   },
   "file_extension": ".py",
   "mimetype": "text/x-python",
   "name": "python",
   "nbconvert_exporter": "python",
   "pygments_lexer": "ipython3",
   "version": "3.7.6"
  },
  "toc": {
   "base_numbering": 1,
   "nav_menu": {},
   "number_sections": true,
   "sideBar": true,
   "skip_h1_title": false,
   "title_cell": "Table of Contents",
   "title_sidebar": "Contents",
   "toc_cell": false,
   "toc_position": {},
   "toc_section_display": true,
   "toc_window_display": true
  }
 },
 "nbformat": 4,
 "nbformat_minor": 4
}
