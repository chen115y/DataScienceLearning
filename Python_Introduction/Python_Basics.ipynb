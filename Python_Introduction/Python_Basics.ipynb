{
 "cells": [
  {
   "cell_type": "markdown",
   "metadata": {},
   "source": [
    "This note book will provide very basic information about Python programming for data scientists.\n",
    "\n",
    "For more details on Python programming, recommend to read the book of \"[Python Crash Course](https://nostarch.com/pythoncrashcourse2e)\"\n",
    "\n",
    "Indents in Python programming is very important since python programming syntax is totally based on indents. So, don't change indents without knowing why!"
   ]
  },
  {
   "cell_type": "markdown",
   "metadata": {},
   "source": [
    "# Python Basics"
   ]
  },
  {
   "cell_type": "code",
   "execution_count": 1,
   "metadata": {},
   "outputs": [
    {
     "name": "stdout",
     "output_type": "stream",
     "text": "Hello World\n"
    }
   ],
   "source": [
    "# first python hello world program: print!\n",
    "print(\"Hello World\")"
   ]
  },
  {
   "cell_type": "code",
   "execution_count": 2,
   "metadata": {},
   "outputs": [
    {
     "name": "stdout",
     "output_type": "stream",
     "text": "Hello World\n"
    }
   ],
   "source": [
    "# assign a variable\n",
    "string = \"Hello World\"\n",
    "print(string)"
   ]
  },
  {
   "cell_type": "code",
   "execution_count": 3,
   "metadata": {},
   "outputs": [
    {
     "name": "stdout",
     "output_type": "stream",
     "text": "['Hello', 'World']\n"
    }
   ],
   "source": [
    "# manuplate string\n",
    "sub_strings = string.split(\" \")\n",
    "print(sub_strings)"
   ]
  },
  {
   "cell_type": "code",
   "execution_count": 4,
   "metadata": {},
   "outputs": [
    {
     "name": "stdout",
     "output_type": "stream",
     "text": "Somebody xaid xomething to Samantha.\n"
    }
   ],
   "source": [
    "# Replace every occurrence of the character `\"s\"`with the character `\"x\"`\n",
    "phrase = \"Somebody said something to Samantha.\"\n",
    "phrase = phrase.replace(\"s\", \"x\")\n",
    "print(phrase)"
   ]
  },
  {
   "cell_type": "code",
   "execution_count": 5,
   "metadata": {},
   "outputs": [
    {
     "name": "stdout",
     "output_type": "stream",
     "text": "-1\n"
    }
   ],
   "source": [
    "# Try to find an upper-case \"X\" in user input:\n",
    "my_input = input(\"Type something: \")\n",
    "print(my_input.find(\"ok\"))"
   ]
  },
  {
   "cell_type": "code",
   "execution_count": 6,
   "metadata": {},
   "outputs": [
    {
     "name": "stdout",
     "output_type": "stream",
     "text": "2.0\n"
    }
   ],
   "source": [
    "# handle numbers\n",
    "integer = 2 \n",
    "print(float(integer))"
   ]
  },
  {
   "cell_type": "code",
   "execution_count": 7,
   "metadata": {},
   "outputs": [
    {
     "name": "stdout",
     "output_type": "stream",
     "text": "2\nHello\nWorld\n['Hello', 'World', 'Friends']\n"
    }
   ],
   "source": [
    "# handle lists\n",
    "list_num = len(sub_strings)\n",
    "print(list_num)\n",
    "print(sub_strings[0])\n",
    "print(sub_strings[1])\n",
    "sub_strings.append(\"Friends\")\n",
    "print(sub_strings)"
   ]
  },
  {
   "cell_type": "code",
   "execution_count": 8,
   "metadata": {},
   "outputs": [
    {
     "name": "stdout",
     "output_type": "stream",
     "text": "[2, 4, 6, 8]\n"
    }
   ],
   "source": [
    "# handle list with a powerful expression\n",
    "list_num = [1,2,3,4,5,6]\n",
    "print([x*2 for x in list_num if x <5])"
   ]
  },
  {
   "cell_type": "code",
   "execution_count": 9,
   "metadata": {},
   "outputs": [
    {
     "name": "stdout",
     "output_type": "stream",
     "text": "hello world\n"
    }
   ],
   "source": [
    "# handle touples\n",
    "my_tuple = (\"hello\", \"world\")\n",
    "print(my_tuple[0] + \" \" + my_tuple[1])"
   ]
  },
  {
   "cell_type": "markdown",
   "metadata": {
    "ExecuteTime": {
     "end_time": "2020-02-09T22:02:07.637744Z",
     "start_time": "2020-02-09T22:02:07.626188Z"
    }
   },
   "source": [
    "__tuple is immutable!__\n",
    "```python\n",
    "my_tuple[0] = \"hello 1\"\n",
    "\n",
    "---------------------------------------------------------------------------\n",
    "TypeError                                 Traceback (most recent call last)\n",
    "<ipython-input-23-58b1ae9e38da> in <module>\n",
    "      1 # tuple is immutable!\n",
    "----> 2 my_tuple[0] = \"hello 1\"\n",
    "\n",
    "TypeError: 'tuple' object does not support item assignment\n",
    "```"
   ]
  },
  {
   "cell_type": "code",
   "execution_count": 10,
   "metadata": {},
   "outputs": [
    {
     "name": "stdout",
     "output_type": "stream",
     "text": "hello\nworld\n"
    }
   ],
   "source": [
    "# handle dictionaries\n",
    "my_dict = {1: \"hello\", 2:\"world\"}\n",
    "print(my_dict[1])\n",
    "print(my_dict[2])"
   ]
  },
  {
   "cell_type": "code",
   "execution_count": 11,
   "metadata": {},
   "outputs": [
    {
     "name": "stdout",
     "output_type": "stream",
     "text": "Hello\nWorld\nFriends\n"
    }
   ],
   "source": [
    "# make a loop\n",
    "for item in sub_strings:\n",
    "    print(item)"
   ]
  },
  {
   "cell_type": "code",
   "execution_count": 12,
   "metadata": {},
   "outputs": [
    {
     "name": "stdout",
     "output_type": "stream",
     "text": "Something Wrong!\n"
    }
   ],
   "source": [
    "# condition\n",
    "if (list_num == 2):\n",
    "    print(list_num)\n",
    "else:\n",
    "    print(\"Something Wrong!\")"
   ]
  },
  {
   "cell_type": "code",
   "execution_count": 13,
   "metadata": {},
   "outputs": [
    {
     "name": "stdout",
     "output_type": "stream",
     "text": "Hello\nWorld\nFriends\n"
    }
   ],
   "source": [
    "# define a function\n",
    "def print_list(x):\n",
    "    for item in x:\n",
    "        print(item)\n",
    "\n",
    "print_list(sub_strings)"
   ]
  },
  {
   "cell_type": "code",
   "execution_count": 14,
   "metadata": {},
   "outputs": [
    {
     "data": {
      "text/plain": "function"
     },
     "execution_count": 14,
     "metadata": {},
     "output_type": "execute_result"
    }
   ],
   "source": [
    "# lambda function\n",
    "add = (lambda x, y: x + y)\n",
    "type(add)"
   ]
  },
  {
   "cell_type": "code",
   "execution_count": 15,
   "metadata": {},
   "outputs": [
    {
     "data": {
      "text/plain": "5"
     },
     "execution_count": 15,
     "metadata": {},
     "output_type": "execute_result"
    }
   ],
   "source": [
    "add(2, 3)"
   ]
  },
  {
   "cell_type": "code",
   "execution_count": 16,
   "metadata": {},
   "outputs": [
    {
     "name": "stdout",
     "output_type": "stream",
     "text": "[5, 7, 97, 77, 23, 73, 61]\n"
    }
   ],
   "source": [
    "# filter() with lambda() \n",
    "li = [5, 7, 22, 97, 54, 62, 77, 23, 73, 61] \n",
    "final_list = list(filter(lambda x: (x%2 != 0) , li)) \n",
    "print(final_list) "
   ]
  },
  {
   "cell_type": "code",
   "execution_count": 17,
   "metadata": {},
   "outputs": [
    {
     "name": "stdout",
     "output_type": "stream",
     "text": "[10, 14, 44, 194, 108, 124, 154, 46, 146, 122]\n"
    }
   ],
   "source": [
    "# to get double of a list. \n",
    "li = [5, 7, 22, 97, 54, 62, 77, 23, 73, 61] \n",
    "final_list = list(map(lambda x: x*2 , li)) \n",
    "print(final_list) "
   ]
  },
  {
   "cell_type": "code",
   "execution_count": 18,
   "metadata": {},
   "outputs": [
    {
     "name": "stdout",
     "output_type": "stream",
     "text": "193\n"
    }
   ],
   "source": [
    "# reduce() with lambda() \n",
    "# to get sum of a list \n",
    "from functools import reduce\n",
    "li = [5, 8, 10, 20, 50, 100] \n",
    "sum = reduce((lambda x, y: x + y), li) \n",
    "print(sum) "
   ]
  },
  {
   "cell_type": "code",
   "execution_count": 19,
   "metadata": {},
   "outputs": [
    {
     "data": {
      "text/html": "<div>\n<style scoped>\n    .dataframe tbody tr th:only-of-type {\n        vertical-align: middle;\n    }\n\n    .dataframe tbody tr th {\n        vertical-align: top;\n    }\n\n    .dataframe thead th {\n        text-align: right;\n    }\n</style>\n<table border=\"1\" class=\"dataframe\">\n  <thead>\n    <tr style=\"text-align: right;\">\n      <th></th>\n      <th>0</th>\n      <th>1</th>\n      <th>2</th>\n      <th>3</th>\n      <th>4</th>\n    </tr>\n  </thead>\n  <tbody>\n    <tr>\n      <th>0</th>\n      <td>1</td>\n      <td>2</td>\n      <td>3</td>\n      <td>4</td>\n      <td>5</td>\n    </tr>\n    <tr>\n      <th>1</th>\n      <td>6</td>\n      <td>7</td>\n      <td>8</td>\n      <td>9</td>\n      <td>10</td>\n    </tr>\n    <tr>\n      <th>2</th>\n      <td>11</td>\n      <td>12</td>\n      <td>13</td>\n      <td>14</td>\n      <td>15</td>\n    </tr>\n  </tbody>\n</table>\n</div>",
      "text/plain": "    0   1   2   3   4\n0   1   2   3   4   5\n1   6   7   8   9  10\n2  11  12  13  14  15"
     },
     "execution_count": 19,
     "metadata": {},
     "output_type": "execute_result"
    }
   ],
   "source": [
    "# import additional python libraries to use more powerful functions and classes\n",
    "import numpy as np\n",
    "import pandas as pd\n",
    "\n",
    "numbers = [\n",
    "    [1, 2, 3, 4, 5],\n",
    "    [6, 7, 8, 9, 10],\n",
    "    [11, 12, 13, 14, 15],\n",
    "]\n",
    "\n",
    "df = pd.DataFrame(numbers)\n",
    "df.head()"
   ]
  },
  {
   "cell_type": "code",
   "execution_count": 20,
   "metadata": {},
   "outputs": [
    {
     "name": "stdout",
     "output_type": "stream",
     "text": "The blue car has 20,000 miles\nThe red car has 30,000 miles\nThe blue car has 20,000 miles\nThe red car has 30,000 miles\n"
    }
   ],
   "source": [
    "# define a class to include all variables and operations all together for object-oriented programming\n",
    "class Car:\n",
    "    def __init__(self, color, mileage):\n",
    "        self.color = color\n",
    "        self.mileage = mileage\n",
    "    def print_info(self):\n",
    "        print(f\"The {self.color} car has {self.mileage:,} miles\")\n",
    "\n",
    "blue_car = Car(\"blue\", 20000)\n",
    "blue_car.print_info()\n",
    "\n",
    "red_car = Car(\"red\", 30000)\n",
    "red_car.print_info()\n",
    "\n",
    "for car in (blue_car, red_car):\n",
    "    print(f\"The {car.color} car has {car.mileage:,} miles\")"
   ]
  },
  {
   "cell_type": "code",
   "execution_count": 21,
   "metadata": {},
   "outputs": [
    {
     "name": "stdout",
     "output_type": "stream",
     "text": "False\nmy_file.txt\nmy_folder\n"
    }
   ],
   "source": [
    "# Working With File Paths in Python\n",
    "\n",
    "from pathlib import Path\n",
    "\n",
    "file_path = Path.home() / \"my_folder\" / \"my_file.txt\"\n",
    "\n",
    "print(file_path.exists())\n",
    "\n",
    "print(file_path.name)\n",
    "\n",
    "print(file_path.parent.name)"
   ]
  },
  {
   "cell_type": "code",
   "execution_count": 22,
   "metadata": {},
   "outputs": [
    {
     "name": "stdout",
     "output_type": "stream",
     "text": "[[1, 2, 3, 4, 5], [], [6, 7, 8, 9, 10], [], [11, 12, 13, 14, 15], []]\n"
    }
   ],
   "source": [
    "# Read and Write CSV Data\n",
    "import csv\n",
    "from pathlib import Path\n",
    "\n",
    "numbers = [\n",
    "    [1, 2, 3, 4, 5],\n",
    "    [6, 7, 8, 9, 10],\n",
    "    [11, 12, 13, 14, 15],\n",
    "]\n",
    "\n",
    "file_path = Path.home() / \"numbers.csv\"\n",
    "\n",
    "with file_path.open(mode=\"w\", encoding=\"utf-8\") as file:\n",
    "    writer = csv.writer(file)\n",
    "    writer.writerows(numbers)\n",
    "\n",
    "numbers = []\n",
    "\n",
    "with file_path.open(mode=\"r\", encoding=\"utf-8\") as file:\n",
    "    reader = csv.reader(file)\n",
    "    for row in reader:\n",
    "        int_row = [int(num) for num in row]\n",
    "        numbers.append(int_row)\n",
    "\n",
    "print(numbers)"
   ]
  },
  {
   "cell_type": "markdown",
   "metadata": {},
   "source": [
    "# Exercise"
   ]
  },
  {
   "cell_type": "code",
   "execution_count": 23,
   "metadata": {},
   "outputs": [],
   "source": [
    "# Exercise\n",
    "# The following codes will save a csv file with some sample data\n",
    "import csv\n",
    "from pathlib import Path\n",
    "\n",
    "favorite_colors = [\n",
    "    {\"name\": \"Joe\", \"favorite_color\": \"blue\"},\n",
    "    {\"name\": \"Anne\", \"favorite_color\": \"green\"},\n",
    "    {\"name\": \"Bailey\", \"favorite_color\": \"red\"},\n",
    "]\n",
    "\n",
    "file_path = Path.home() / \"favorite_colors.csv\"\n",
    "\n",
    "with file_path.open(mode=\"w\", encoding=\"utf-8\") as file:\n",
    "    writer = csv.DictWriter(file, fieldnames=[\"name\", \"favorite_color\"])\n",
    "    writer.writeheader()\n",
    "    writer.writerows(favorite_colors)\n",
    "\n",
    "# Your task is: read this favorite_colors.csv file and then \n",
    "# change the values in name column to your name and show the results\n",
    "\n"
   ]
  }
 ],
 "metadata": {
  "kernelspec": {
   "display_name": "Python 3",
   "language": "python",
   "name": "python3"
  },
  "language_info": {
   "codemirror_mode": {
    "name": "ipython",
    "version": 3
   },
   "file_extension": ".py",
   "mimetype": "text/x-python",
   "name": "python",
   "nbconvert_exporter": "python",
   "pygments_lexer": "ipython3",
   "version": "3.7.6-final"
  },
  "toc": {
   "base_numbering": 1,
   "nav_menu": {},
   "number_sections": true,
   "sideBar": true,
   "skip_h1_title": false,
   "title_cell": "Table of Contents",
   "title_sidebar": "Contents",
   "toc_cell": false,
   "toc_position": {},
   "toc_section_display": true,
   "toc_window_display": false
  }
 },
 "nbformat": 4,
 "nbformat_minor": 4
}