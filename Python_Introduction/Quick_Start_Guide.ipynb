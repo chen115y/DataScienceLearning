{
 "cells": [
  {
   "cell_type": "markdown",
   "metadata": {},
   "source": [
    "# Quick Introduction"
   ]
  },
  {
   "cell_type": "markdown",
   "metadata": {},
   "source": [
    "After all, Jupyter is essentially just an advanced word processor. There are two fairly prominent terms that you should notice, which are probably new to you: __cells__ and __kernels__ are key both to understanding Jupyter and to what makes it more than just a word processor. Fortunately, these concepts are not difficult to understand.\n",
    "\n",
    "A kernel is a “computational engine” that executes the code contained in a notebook document. A cell is a container for text to be displayed in the notebook or code to be executed by the notebook’s kernel. Cells form the body of a notebook. In the screenshot of a new notebook in the section above, that box with the green outline is an empty cell. There are two main cell types that we will cover:\n",
    "\n",
    "* A code cell contains code to be executed in the kernel and displays its output below.\n",
    "* A Markdown cell contains text formatted using Markdown and displays its output in-place when it is run.\n",
    "\n",
    "__Keyboard shortcuts__\n",
    "* Run a cell with __Ctrl + Enter__\n",
    "* Save the notebook with __Ctrl + s__\n",
    "* Scroll up and down your cells with your Up and Down keys.\n",
    "* Press __A__ or __B__ to insert a new cell above or below the active cell.\n",
    "* __M__ will transform the active cell to a Markdown cell.\n",
    "* __Y__ will set the active cell to a code cell.\n",
    "* __D + D (D twice)__ will delete the active cell.\n",
    "* __Z__ will undo cell deletion.\n",
    "* __Ctrl + Z__ will undo cell edition.\n",
    "* __Shift + Up or Down__ to select multiple cells at once.\n",
    "* With multple cells selected, __Shift + M__ will merge your selection.\n",
    "* __Ctrl + Shift + -__, in edit mode, will split the active cell at the cursor.\n",
    "* Shortcuts __C__, __V__ and __X__ work only for copying and pasting inside one notebook. \n",
    "* __Ctrl + C__ and __Ctrl + V__ to copy and paste multiple cells cross notebooks.\n",
    "* __Ctrl + /__ to convert lines of codes into comments (adding # at the beginning of lines) or convert it back\n",
    "\n",
    "For more info, please refer to __[Jupyter Notebook for Beginners](https://www.dataquest.io/blog/jupyter-notebook-tutorial/)__"
   ]
  },
  {
   "cell_type": "markdown",
   "metadata": {},
   "source": [
    "# Markdown Text"
   ]
  },
  {
   "cell_type": "markdown",
   "metadata": {},
   "source": [
    "## Texts and Comments"
   ]
  },
  {
   "cell_type": "markdown",
   "metadata": {},
   "source": [
    "Markdown is a lightweight markup language with plain text formatting syntax. Its design allows it to be converted to many output formats. Markdown is often used to format <span class=\"mark\">readme</span> files, for writing messages in <span class=\"burk\">online</span> discussion forums, and to create rich text using a plain text editor."
   ]
  },
  {
   "cell_type": "markdown",
   "metadata": {},
   "source": [
    "Jupyter notebook uses markdown for text or comment addition. For basic markdown language usage, please refer to [Jupyter Notebook Documentation website](https://jupyter-notebook.readthedocs.io/en/stable/examples/Notebook/Working%20With%20Markdown%20Cells.html)"
   ]
  },
  {
   "cell_type": "markdown",
   "metadata": {},
   "source": [
    "__Heading__"
   ]
  },
  {
   "cell_type": "raw",
   "metadata": {},
   "source": [
    "# Heading 1\n",
    "# Heading 2\n",
    "## Heading 2.1\n",
    "## Heading 2.2\n",
    "### Heading 3.1\n",
    "### Heading 3.2"
   ]
  },
  {
   "cell_type": "markdown",
   "metadata": {},
   "source": [
    "# Heading 1\n",
    "# Heading 2\n",
    "## Heading 2.1\n",
    "## Heading 2.2\n",
    "### Heading 3.1\n",
    "### Heading 3.2"
   ]
  },
  {
   "cell_type": "markdown",
   "metadata": {},
   "source": [
    "__Itemize__"
   ]
  },
  {
   "cell_type": "raw",
   "metadata": {},
   "source": [
    "* One\n",
    "* Two\n",
    "* Three"
   ]
  },
  {
   "cell_type": "markdown",
   "metadata": {},
   "source": [
    "* One\n",
    "* Two\n",
    "* Three"
   ]
  },
  {
   "cell_type": "raw",
   "metadata": {},
   "source": [
    "1. one\n",
    "1. two\n",
    "1. three"
   ]
  },
  {
   "cell_type": "markdown",
   "metadata": {},
   "source": [
    "1. one\n",
    "1. two\n",
    "1. three"
   ]
  },
  {
   "cell_type": "markdown",
   "metadata": {},
   "source": [
    "__Embedded Codes__"
   ]
  },
  {
   "cell_type": "raw",
   "metadata": {},
   "source": [
    "```python\n",
    "print \"Hello World\"\n",
    "```"
   ]
  },
  {
   "cell_type": "markdown",
   "metadata": {},
   "source": [
    "```python\n",
    "print \"Hello World\"\n",
    "```"
   ]
  },
  {
   "cell_type": "markdown",
   "metadata": {},
   "source": [
    "__Table__"
   ]
  },
  {
   "cell_type": "raw",
   "metadata": {},
   "source": [
    "| This | is   |\n",
    "|------|------|\n",
    "|   a  | table|"
   ]
  },
  {
   "cell_type": "markdown",
   "metadata": {},
   "source": [
    "| This | is   |\n",
    "|------|------|\n",
    "|   a  | table|"
   ]
  },
  {
   "cell_type": "markdown",
   "metadata": {},
   "source": [
    "## Math Equations\n",
    "Jupyter notebook uses MathJax to render LaTeX inside html/markdown. Just put your LaTeX math inside \\$$ \\$$. For example,"
   ]
  },
  {
   "cell_type": "raw",
   "metadata": {
    "ExecuteTime": {
     "end_time": "2020-02-08T23:45:25.133019Z",
     "start_time": "2020-02-08T23:45:25.126481Z"
    }
   },
   "source": [
    "$$c = \\sqrt{a^2 + b^2}$$"
   ]
  },
  {
   "cell_type": "markdown",
   "metadata": {},
   "source": [
    "$$c = \\sqrt{a^2 + b^2}$$"
   ]
  },
  {
   "cell_type": "markdown",
   "metadata": {},
   "source": [
    "Or use begin{} end{}"
   ]
  },
  {
   "cell_type": "raw",
   "metadata": {
    "ExecuteTime": {
     "end_time": "2020-02-08T23:45:25.242041Z",
     "start_time": "2020-02-08T23:45:25.228976Z"
    }
   },
   "source": [
    "\\begin{align}\n",
    "\\dot{x} & = \\sigma(y-x) \\\\\n",
    "\\dot{y} & = \\rho x - y - xz \\\\\n",
    "\\dot{z} & = -\\beta z + xy\n",
    "\\end{align}\n",
    "\n",
    "\\begin{equation*}\n",
    "\\left( \\sum_{k=1}^n a_k b_k \\right)^2 \\leq \\left( \\sum_{k=1}^n a_k^2 \\right) \\left( \\sum_{k=1}^n b_k^2 \\right)\n",
    "\\end{equation*}"
   ]
  },
  {
   "cell_type": "markdown",
   "metadata": {},
   "source": [
    "\\begin{align}\n",
    "\\dot{x} & = \\sigma(y-x) \\\\\n",
    "\\dot{y} & = \\rho x - y - xz \\\\\n",
    "\\dot{z} & = -\\beta z + xy\n",
    "\\end{align}\n",
    "\n",
    "\\begin{equation*}\n",
    "\\left( \\sum_{k=1}^n a_k b_k \\right)^2 \\leq \\left( \\sum_{k=1}^n a_k^2 \\right) \\left( \\sum_{k=1}^n b_k^2 \\right)\n",
    "\\end{equation*}"
   ]
  },
  {
   "cell_type": "markdown",
   "metadata": {},
   "source": [
    "Or you can display LaTeX / Math output from Python"
   ]
  },
  {
   "cell_type": "code",
   "execution_count": 1,
   "metadata": {
    "ExecuteTime": {
     "end_time": "2020-02-10T03:27:41.156966Z",
     "start_time": "2020-02-10T03:27:41.143902Z"
    }
   },
   "outputs": [
    {
     "data": {
      "text/latex": [
       "$\\displaystyle F(k) = \\int_{-\\infty}^{\\infty} f(x) e^{2\\pi i k} dx$"
      ],
      "text/plain": [
       "<IPython.core.display.Math object>"
      ]
     },
     "metadata": {},
     "output_type": "display_data"
    }
   ],
   "source": [
    "from IPython.display import display, Math, Latex\n",
    "display(Math(r'F(k) = \\int_{-\\infty}^{\\infty} f(x) e^{2\\pi i k} dx'))"
   ]
  },
  {
   "cell_type": "markdown",
   "metadata": {},
   "source": [
    "## Add Image or Picture"
   ]
  },
  {
   "cell_type": "raw",
   "metadata": {
    "ExecuteTime": {
     "end_time": "2020-02-08T23:47:43.242167Z",
     "start_time": "2020-02-08T23:47:43.228078Z"
    }
   },
   "source": [
    "You can use Markdown cell to display it by using the way of ![title](image location), like below"
   ]
  },
  {
   "cell_type": "markdown",
   "metadata": {
    "ExecuteTime": {
     "end_time": "2019-07-25T17:03:46.472993Z",
     "start_time": "2019-07-25T17:03:46.349895Z"
    }
   },
   "source": [
    "![Title 1](./250px-Jupyter_logo.svg.png)"
   ]
  },
  {
   "cell_type": "markdown",
   "metadata": {},
   "source": [
    "# Windows Commands"
   ]
  },
  {
   "cell_type": "code",
   "execution_count": 2,
   "metadata": {
    "ExecuteTime": {
     "end_time": "2020-02-10T03:27:41.252945Z",
     "start_time": "2020-02-10T03:27:41.164504Z"
    }
   },
   "outputs": [
    {
     "name": "stdout",
     "output_type": "stream",
     "text": [
      " Volume in drive C is Windows\n",
      " Volume Serial Number is 2659-7D48\n",
      "\n",
      " Directory of C:\\Users\\ychen\\Desktop\\GitHub\\DataScienceTraining\\Python_Introduction\n",
      "\n",
      "02/09/2020  10:27 PM    <DIR>          .\n",
      "02/09/2020  10:27 PM    <DIR>          ..\n",
      "02/09/2020  03:54 PM    <DIR>          .ipynb_checkpoints\n",
      "07/25/2019  11:59 AM            13,846 250px-Jupyter_logo.svg.png\n",
      "07/26/2019  12:08 AM           210,067 Capture_1.png\n",
      "07/23/2019  10:41 PM            68,581 data.json\n",
      "07/25/2019  01:37 PM           296,851 input_hot_skills.csv\n",
      "02/09/2020  04:05 PM       192,363,326 PythonCrashCourse.pdf\n",
      "02/09/2020  10:00 PM            14,211 Python_Basics.ipynb\n",
      "02/09/2020  10:27 PM            73,156 Quick_Start_Guide.ipynb\n",
      "07/26/2019  01:06 AM           430,716 snippets-demo.gif\n",
      "02/09/2020  05:24 PM               366 solution.py\n",
      "07/26/2019  01:01 AM           446,464 tmp.db\n",
      "              10 File(s)    193,917,584 bytes\n",
      "               3 Dir(s)  359,758,643,200 bytes free\n"
     ]
    }
   ],
   "source": [
    "!dir"
   ]
  },
  {
   "cell_type": "code",
   "execution_count": 3,
   "metadata": {
    "ExecuteTime": {
     "end_time": "2020-02-10T03:27:41.345908Z",
     "start_time": "2020-02-10T03:27:41.255458Z"
    }
   },
   "outputs": [
    {
     "name": "stdout",
     "output_type": "stream",
     "text": [
      "C:\\Users\\ychen\\Desktop\\GitHub\\DataScienceTraining\n",
      " Volume in drive C is Windows\n",
      " Volume Serial Number is 2659-7D48\n",
      "\n",
      " Directory of C:\\Users\\ychen\\Desktop\\GitHub\\DataScienceTraining\n",
      "\n",
      "02/09/2020  10:26 PM    <DIR>          .\n",
      "02/09/2020  10:26 PM    <DIR>          ..\n",
      "02/08/2020  05:14 PM    <DIR>          .ipynb_checkpoints\n",
      "02/09/2020  02:32 PM    <DIR>          ConventionalMachineLearning\n",
      "02/08/2020  06:51 PM    <DIR>          datasets\n",
      "02/09/2020  10:25 PM    <DIR>          DataWrangling\n",
      "02/09/2020  02:21 PM         2,650,022 Data_Science_Introduction.pdf\n",
      "02/09/2020  02:21 PM         5,815,056 Data_Science_Introduction.pptx\n",
      "02/09/2020  02:33 PM    <DIR>          DeepLearning\n",
      "02/09/2020  11:55 AM    <DIR>          figures\n",
      "02/09/2020  10:27 PM    <DIR>          Python_Introduction\n",
      "02/09/2020  09:32 PM             2,891 README.md\n",
      "02/09/2020  10:26 PM            20,480 tmp.db\n",
      "02/09/2020  10:12 PM    <DIR>          Visualization\n",
      "               4 File(s)      8,488,449 bytes\n",
      "              10 Dir(s)  359,758,643,200 bytes free\n"
     ]
    }
   ],
   "source": [
    "%cd ..\n",
    "!dir"
   ]
  },
  {
   "cell_type": "code",
   "execution_count": 4,
   "metadata": {
    "ExecuteTime": {
     "end_time": "2020-02-10T03:27:41.353950Z",
     "start_time": "2020-02-10T03:27:41.349426Z"
    }
   },
   "outputs": [
    {
     "name": "stdout",
     "output_type": "stream",
     "text": [
      "C:\\Users\\ychen\\Desktop\\GitHub\\DataScienceTraining\n"
     ]
    }
   ],
   "source": [
    "%cd C:\\Users\\ychen\\Desktop\\GitHub\\DataScienceTraining"
   ]
  },
  {
   "cell_type": "markdown",
   "metadata": {},
   "source": [
    "# Linux Commands\n",
    "\n",
    "Any command that works at the command-line can be used in IPython by prefixing it with the ! character. For example,"
   ]
  },
  {
   "cell_type": "raw",
   "metadata": {
    "ExecuteTime": {
     "end_time": "2020-02-10T02:50:20.857661Z",
     "start_time": "2020-02-10T02:50:20.762687Z"
    },
    "scrolled": true
   },
   "source": [
    "!ls ../"
   ]
  },
  {
   "cell_type": "raw",
   "metadata": {
    "ExecuteTime": {
     "end_time": "2020-02-10T02:50:20.959169Z",
     "start_time": "2020-02-10T02:50:20.860676Z"
    }
   },
   "source": [
    "!pwd"
   ]
  },
  {
   "cell_type": "raw",
   "metadata": {
    "ExecuteTime": {
     "end_time": "2020-02-10T02:50:21.072738Z",
     "start_time": "2020-02-10T02:50:20.963189Z"
    }
   },
   "source": [
    "# mix Linux Commands and Python Codes\n",
    "directory = !pwd\n",
    "print(directory)"
   ]
  },
  {
   "cell_type": "markdown",
   "metadata": {},
   "source": [
    "__if you play with IPython's shell commands for a while, you might notice that you cannot use !cd to navigate the filesystem:__"
   ]
  },
  {
   "cell_type": "raw",
   "metadata": {
    "ExecuteTime": {
     "end_time": "2020-02-10T02:50:21.328904Z",
     "start_time": "2020-02-10T02:50:21.075253Z"
    }
   },
   "source": [
    "!pwd\n",
    "!cd ..\n",
    "!pwd"
   ]
  },
  {
   "cell_type": "markdown",
   "metadata": {},
   "source": [
    "The reason is that shell commands in the notebook are executed in a temporary subshell. \n",
    "If you'd like to change the working directory in a more enduring way, you can use the %cd magic command:"
   ]
  },
  {
   "cell_type": "raw",
   "metadata": {
    "ExecuteTime": {
     "end_time": "2020-02-10T02:50:21.500763Z",
     "start_time": "2020-02-10T02:50:21.331919Z"
    }
   },
   "source": [
    "!pwd\n",
    "%cd ..\n",
    "!pwd"
   ]
  },
  {
   "cell_type": "markdown",
   "metadata": {},
   "source": [
    "This is known as an automagic function, and this behavior can be toggled with the %automagic magic function.\n",
    "\n",
    "Besides %cd, other available shell-like magic functions are %cat, %cp, %env, %ls, %man, %mkdir, %more, %mv, %pwd, %rm, \n",
    "and %rmdir, any of which can be used without the % sign if automagic is on. This makes it so that you can almost treat \n",
    "the IPython prompt as if it's a normal shell:"
   ]
  },
  {
   "cell_type": "markdown",
   "metadata": {},
   "source": [
    "# Snippets as Templates"
   ]
  },
  {
   "cell_type": "markdown",
   "metadata": {},
   "source": [
    "__Snippets allow me to save time typing and keep things consistent.__"
   ]
  },
  {
   "cell_type": "markdown",
   "metadata": {},
   "source": [
    "For example:"
   ]
  },
  {
   "cell_type": "markdown",
   "metadata": {
    "ExecuteTime": {
     "end_time": "2019-07-26T05:04:32.812536Z",
     "start_time": "2019-07-26T05:04:32.672780Z"
    }
   },
   "source": [
    "![Title 1](./snippets-demo.gif)"
   ]
  },
  {
   "cell_type": "markdown",
   "metadata": {},
   "source": [
    "With Snippets manu, you can fill a cell with a lot of pre-defined snippets. For example"
   ]
  },
  {
   "cell_type": "markdown",
   "metadata": {},
   "source": [
    "![Title 1](./Capture_1.png)"
   ]
  },
  {
   "cell_type": "markdown",
   "metadata": {},
   "source": [
    "Then you can get the new cell added with pre-filled snippet for \"Read from CSV\" like below:"
   ]
  },
  {
   "cell_type": "markdown",
   "metadata": {
    "ExecuteTime": {
     "end_time": "2020-02-08T23:45:25.867651Z",
     "start_time": "2020-02-08T23:45:25.701323Z"
    }
   },
   "source": [
    "```python\n",
    "bp_data = pd.read_csv(\"path/to/file.csv\", header=1, delim_whitespace=True)\n",
    "```"
   ]
  },
  {
   "cell_type": "markdown",
   "metadata": {
    "slideshow": {
     "slide_type": "slide"
    }
   },
   "source": [
    "# Python Codes"
   ]
  },
  {
   "cell_type": "markdown",
   "metadata": {},
   "source": [
    "The most common used python codes for data science projects are data frame functions, including data reading/loading, data writing, data selection, etc."
   ]
  },
  {
   "cell_type": "markdown",
   "metadata": {},
   "source": [
    "## Read/Load Data"
   ]
  },
  {
   "cell_type": "code",
   "execution_count": 5,
   "metadata": {
    "ExecuteTime": {
     "end_time": "2020-02-10T03:27:41.361486Z",
     "start_time": "2020-02-10T03:27:41.356964Z"
    }
   },
   "outputs": [
    {
     "name": "stdout",
     "output_type": "stream",
     "text": [
      "C:\\Users\\ychen\n"
     ]
    }
   ],
   "source": [
    "from pathlib import Path\n",
    "home = Path.home()\n",
    "print(home)"
   ]
  },
  {
   "cell_type": "code",
   "execution_count": 6,
   "metadata": {
    "ExecuteTime": {
     "end_time": "2020-02-10T03:27:41.904695Z",
     "start_time": "2020-02-10T03:27:41.364001Z"
    },
    "scrolled": false,
    "slideshow": {
     "slide_type": "slide"
    }
   },
   "outputs": [
    {
     "name": "stdout",
     "output_type": "stream",
     "text": [
      "1.18.1\n",
      "1.0.0\n"
     ]
    }
   ],
   "source": [
    "import numpy as np\n",
    "import pandas as pd\n",
    "\n",
    "print(np.__version__)\n",
    "print(pd.__version__)"
   ]
  },
  {
   "cell_type": "markdown",
   "metadata": {},
   "source": [
    "## Visualization"
   ]
  },
  {
   "cell_type": "markdown",
   "metadata": {},
   "source": [
    "### Load Matplotlib and Basic Setup"
   ]
  },
  {
   "cell_type": "code",
   "execution_count": 7,
   "metadata": {
    "ExecuteTime": {
     "end_time": "2020-02-10T03:27:42.187105Z",
     "start_time": "2020-02-10T03:27:41.907210Z"
    }
   },
   "outputs": [],
   "source": [
    "# Matplotlib and seaborn for visualization\n",
    "import matplotlib.pyplot as plt\n",
    "import matplotlib as mpl\n",
    "\n",
    "# Set up matplotlib environment\n",
    "%matplotlib inline\n",
    "mpl.rcParams['font.size'] = 10\n",
    "mpl.rcParams['figure.figsize'] = (5, 5)\n",
    "\n",
    "from IPython.core.pylabtools import figsize"
   ]
  },
  {
   "cell_type": "markdown",
   "metadata": {},
   "source": [
    "### Plot Drawing"
   ]
  },
  {
   "cell_type": "code",
   "execution_count": 8,
   "metadata": {
    "ExecuteTime": {
     "end_time": "2020-02-10T03:27:42.342884Z",
     "start_time": "2020-02-10T03:27:42.188612Z"
    }
   },
   "outputs": [
    {
     "data": {
      "image/png": "[encoded data removed]",
      "text/plain": [
       "<Figure size 360x360 with 1 Axes>"
      ]
     },
     "metadata": {
      "needs_background": "light"
     },
     "output_type": "display_data"
    }
   ],
   "source": [
    "x = np.linspace(0, 10, 100)\n",
    "plt.plot(x, np.sin(x), '-')\n",
    "plt.show()"
   ]
  },
  {
   "cell_type": "markdown",
   "metadata": {},
   "source": [
    "Another way to plot"
   ]
  },
  {
   "cell_type": "code",
   "execution_count": 9,
   "metadata": {
    "ExecuteTime": {
     "end_time": "2020-02-10T03:27:42.568507Z",
     "start_time": "2020-02-10T03:27:42.345900Z"
    }
   },
   "outputs": [
    {
     "data": {
      "image/png": "[encoded data removed]",
      "text/plain": [
       "<Figure size 360x360 with 2 Axes>"
      ]
     },
     "metadata": {
      "needs_background": "light"
     },
     "output_type": "display_data"
    }
   ],
   "source": [
    "plt.figure()  # create a plot figure\n",
    "\n",
    "# create the first of two panels and set current axis\n",
    "plt.subplot(2, 1, 1) # (rows, columns, panel number)\n",
    "plt.plot(x, np.sin(x))\n",
    "\n",
    "# create the second panel and set current axis\n",
    "plt.subplot(2, 1, 2)\n",
    "plt.plot(x, np.cos(x));"
   ]
  },
  {
   "cell_type": "markdown",
   "metadata": {},
   "source": [
    "# SQL Codes\n",
    "\n",
    "Jupyter magic functions alow you to replace a boilerplate code snippets with more concise one.\n",
    "Magic functions are pre-defined functions(“magics”) in Jupyter kernel that executes supplied commands.\n",
    "There are two kinds of magics line-oriented and cell-oriented prefaced with % and %% respectively.\n",
    "To enable the magic we need an ipython-sql library."
   ]
  },
  {
   "cell_type": "markdown",
   "metadata": {},
   "source": [
    "Load sql magic functions"
   ]
  },
  {
   "cell_type": "code",
   "execution_count": 10,
   "metadata": {
    "ExecuteTime": {
     "end_time": "2020-02-10T03:27:42.768003Z",
     "start_time": "2020-02-10T03:27:42.572025Z"
    }
   },
   "outputs": [],
   "source": [
    "%load_ext sql\n",
    "%config SqlMagic.autocommit=False # for engines that do not support autommit"
   ]
  },
  {
   "cell_type": "markdown",
   "metadata": {},
   "source": [
    "## Create Temp Database"
   ]
  },
  {
   "cell_type": "code",
   "execution_count": 11,
   "metadata": {
    "ExecuteTime": {
     "end_time": "2020-02-10T03:27:42.784081Z",
     "start_time": "2020-02-10T03:27:42.770010Z"
    }
   },
   "outputs": [
    {
     "data": {
      "text/html": [
       "<div>\n",
       "<style scoped>\n",
       "    .dataframe tbody tr th:only-of-type {\n",
       "        vertical-align: middle;\n",
       "    }\n",
       "\n",
       "    .dataframe tbody tr th {\n",
       "        vertical-align: top;\n",
       "    }\n",
       "\n",
       "    .dataframe thead th {\n",
       "        text-align: right;\n",
       "    }\n",
       "</style>\n",
       "<table border=\"1\" class=\"dataframe\">\n",
       "  <thead>\n",
       "    <tr style=\"text-align: right;\">\n",
       "      <th></th>\n",
       "      <th>a</th>\n",
       "      <th>b</th>\n",
       "    </tr>\n",
       "  </thead>\n",
       "  <tbody>\n",
       "    <tr>\n",
       "      <th>0</th>\n",
       "      <td>0</td>\n",
       "      <td>0</td>\n",
       "    </tr>\n",
       "    <tr>\n",
       "      <th>1</th>\n",
       "      <td>1</td>\n",
       "      <td>2</td>\n",
       "    </tr>\n",
       "    <tr>\n",
       "      <th>2</th>\n",
       "      <td>2</td>\n",
       "      <td>4</td>\n",
       "    </tr>\n",
       "  </tbody>\n",
       "</table>\n",
       "</div>"
      ],
      "text/plain": [
       "   a  b\n",
       "0  0  0\n",
       "1  1  2\n",
       "2  2  4"
      ]
     },
     "execution_count": 11,
     "metadata": {},
     "output_type": "execute_result"
    }
   ],
   "source": [
    "from sqlalchemy import create_engine\n",
    "import numpy as np\n",
    "import pandas as pd\n",
    "\n",
    "data = [{'a': i, 'b': 2 * i} for i in range(3)]\n",
    "df = pd.DataFrame(data)\n",
    "df.head()"
   ]
  },
  {
   "cell_type": "code",
   "execution_count": 12,
   "metadata": {
    "ExecuteTime": {
     "end_time": "2020-02-10T03:27:42.847236Z",
     "start_time": "2020-02-10T03:27:42.787599Z"
    }
   },
   "outputs": [],
   "source": [
    "engine = create_engine('sqlite:///tmp.db')\n",
    "df.to_sql(con=engine, name='test', if_exists='replace')"
   ]
  },
  {
   "cell_type": "markdown",
   "metadata": {},
   "source": [
    "## Read Data with SQL"
   ]
  },
  {
   "cell_type": "code",
   "execution_count": 13,
   "metadata": {
    "ExecuteTime": {
     "end_time": "2020-02-10T03:27:42.859800Z",
     "start_time": "2020-02-10T03:27:42.849751Z"
    }
   },
   "outputs": [
    {
     "name": "stdout",
     "output_type": "stream",
     "text": [
      "Done.\n"
     ]
    },
    {
     "data": {
      "text/html": [
       "<table>\n",
       "    <tr>\n",
       "        <th>a</th>\n",
       "        <th>b</th>\n",
       "    </tr>\n",
       "    <tr>\n",
       "        <td>0</td>\n",
       "        <td>0</td>\n",
       "    </tr>\n",
       "    <tr>\n",
       "        <td>1</td>\n",
       "        <td>2</td>\n",
       "    </tr>\n",
       "    <tr>\n",
       "        <td>2</td>\n",
       "        <td>4</td>\n",
       "    </tr>\n",
       "</table>"
      ],
      "text/plain": [
       "[(0, 0), (1, 2), (2, 4)]"
      ]
     },
     "execution_count": 13,
     "metadata": {},
     "output_type": "execute_result"
    }
   ],
   "source": [
    "%%sql sqlite:///tmp.db\n",
    "\n",
    "select a,b from test limit 10"
   ]
  },
  {
   "cell_type": "markdown",
   "metadata": {},
   "source": [
    "## Transfer between SQL and Pandas Data Frame"
   ]
  },
  {
   "cell_type": "code",
   "execution_count": 14,
   "metadata": {
    "ExecuteTime": {
     "end_time": "2020-02-10T03:27:42.879398Z",
     "start_time": "2020-02-10T03:27:42.861812Z"
    }
   },
   "outputs": [
    {
     "name": "stdout",
     "output_type": "stream",
     "text": [
      " * sqlite:///tmp.db\n",
      "Done.\n",
      "Totla records:  3\n"
     ]
    },
    {
     "data": {
      "text/html": [
       "<div>\n",
       "<style scoped>\n",
       "    .dataframe tbody tr th:only-of-type {\n",
       "        vertical-align: middle;\n",
       "    }\n",
       "\n",
       "    .dataframe tbody tr th {\n",
       "        vertical-align: top;\n",
       "    }\n",
       "\n",
       "    .dataframe thead th {\n",
       "        text-align: right;\n",
       "    }\n",
       "</style>\n",
       "<table border=\"1\" class=\"dataframe\">\n",
       "  <thead>\n",
       "    <tr style=\"text-align: right;\">\n",
       "      <th></th>\n",
       "      <th>a</th>\n",
       "      <th>b</th>\n",
       "    </tr>\n",
       "  </thead>\n",
       "  <tbody>\n",
       "    <tr>\n",
       "      <th>0</th>\n",
       "      <td>0</td>\n",
       "      <td>0</td>\n",
       "    </tr>\n",
       "    <tr>\n",
       "      <th>1</th>\n",
       "      <td>1</td>\n",
       "      <td>2</td>\n",
       "    </tr>\n",
       "    <tr>\n",
       "      <th>2</th>\n",
       "      <td>2</td>\n",
       "      <td>4</td>\n",
       "    </tr>\n",
       "  </tbody>\n",
       "</table>\n",
       "</div>"
      ],
      "text/plain": [
       "   a  b\n",
       "0  0  0\n",
       "1  1  2\n",
       "2  2  4"
      ]
     },
     "execution_count": 14,
     "metadata": {},
     "output_type": "execute_result"
    }
   ],
   "source": [
    "result = %sql select * from test\n",
    "tmp = result.DataFrame()\n",
    "df2 = tmp[['a','b']]\n",
    "print(\"Totla records: \", df2.shape[0])\n",
    "df2.head()"
   ]
  },
  {
   "cell_type": "code",
   "execution_count": 17,
   "metadata": {
    "ExecuteTime": {
     "end_time": "2020-02-10T03:29:20.931296Z",
     "start_time": "2020-02-10T03:29:20.924258Z"
    }
   },
   "outputs": [
    {
     "name": "stdout",
     "output_type": "stream",
     "text": [
      " * sqlite:///tmp.db\n",
      "Done.\n"
     ]
    },
    {
     "data": {
      "text/html": [
       "<table>\n",
       "    <tr>\n",
       "        <th>a</th>\n",
       "        <th>b</th>\n",
       "    </tr>\n",
       "    <tr>\n",
       "        <td>0</td>\n",
       "        <td>0</td>\n",
       "    </tr>\n",
       "    <tr>\n",
       "        <td>1</td>\n",
       "        <td>2</td>\n",
       "    </tr>\n",
       "    <tr>\n",
       "        <td>2</td>\n",
       "        <td>4</td>\n",
       "    </tr>\n",
       "</table>"
      ],
      "text/plain": [
       "[(0, 0), (1, 2), (2, 4)]"
      ]
     },
     "execution_count": 17,
     "metadata": {},
     "output_type": "execute_result"
    }
   ],
   "source": [
    "%sql select a,b from df2 limit 10;"
   ]
  },
  {
   "cell_type": "markdown",
   "metadata": {},
   "source": [
    "**Note: to store a large volume dataset, recommend to use other relational database, such as mysql, postgres, mssql, etc., rather than sqlite**"
   ]
  }
 ],
 "metadata": {
  "hide_input": false,
  "kernelspec": {
   "display_name": "Python 3",
   "language": "python",
   "name": "python3"
  },
  "language_info": {
   "codemirror_mode": {
    "name": "ipython",
    "version": 3
   },
   "file_extension": ".py",
   "mimetype": "text/x-python",
   "name": "python",
   "nbconvert_exporter": "python",
   "pygments_lexer": "ipython3",
   "version": "3.7.6"
  },
  "toc": {
   "base_numbering": 1,
   "nav_menu": {},
   "number_sections": true,
   "sideBar": true,
   "skip_h1_title": false,
   "title_cell": "Table of Contents",
   "title_sidebar": "Contents",
   "toc_cell": false,
   "toc_position": {
    "height": "calc(100% - 180px)",
    "left": "10px",
    "top": "150px",
    "width": "320px"
   },
   "toc_section_display": true,
   "toc_window_display": true
  },
  "varInspector": {
   "cols": {
    "lenName": 16,
    "lenType": 16,
    "lenVar": 40
   },
   "kernels_config": {
    "python": {
     "delete_cmd_postfix": "",
     "delete_cmd_prefix": "del ",
     "library": "var_list.py",
     "varRefreshCmd": "print(var_dic_list())"
    },
    "r": {
     "delete_cmd_postfix": ") ",
     "delete_cmd_prefix": "rm(",
     "library": "var_list.r",
     "varRefreshCmd": "cat(var_dic_list()) "
    }
   },
   "types_to_exclude": [
    "module",
    "function",
    "builtin_function_or_method",
    "instance",
    "_Feature"
   ],
   "window_display": false
  }
 },
 "nbformat": 4,
 "nbformat_minor": 2
}
